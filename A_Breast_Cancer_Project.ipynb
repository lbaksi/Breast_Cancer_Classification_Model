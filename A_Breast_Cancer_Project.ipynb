{
 "cells": [
  {
   "cell_type": "code",
   "execution_count": 171,
   "metadata": {},
   "outputs": [],
   "source": [
    "## import libraries\n",
    "import pandas as pd \n",
    "import numpy as np \n",
    "import seaborn as sns\n",
    "import cv2\n",
    "import PIL\n",
    "from PIL import Image\n",
    "import matplotlib.pyplot as plt \n",
    "import plotly.express as px\n",
    "import plotly.io as pio\n",
    "import plotly.graph_objects as go\n",
    "import kaleido.scopes as kaleido_scopes\n",
    "from kaleido.scopes.plotly import PlotlyScope\n",
    "import seaborn as sns\n",
    "import glob\n",
    "import random\n",
    "import os\n",
    "from os import listdir\n",
    "random.seed(100)\n",
    "np.random.seed(100)\n"
   ]
  },
  {
   "cell_type": "code",
   "execution_count": 5,
   "metadata": {},
   "outputs": [],
   "source": [
    "from sklearn import preprocessing\n",
    "from sklearn.preprocessing import StandardScaler\n",
    "from sklearn.linear_model import LogisticRegression\n",
    "from sklearn.naive_bayes import GaussianNB \n",
    "from sklearn.neighbors import KNeighborsClassifier\n",
    "from sklearn.ensemble import RandomForestClassifier\n",
    "from sklearn import svm\n",
    "from sklearn.model_selection import train_test_split\n",
    "from sklearn import metrics\n",
    "from sklearn.metrics import precision_score, recall_score, confusion_matrix, classification_report, accuracy_score, f1_score, roc_curve, roc_auc_score, auc, log_loss\n",
    "\n",
    "from mlxtend.plotting import plot_confusion_matrix"
   ]
  },
  {
   "cell_type": "code",
   "execution_count": 6,
   "metadata": {},
   "outputs": [],
   "source": [
    "import tensorflow as tf\n",
    "from tensorflow.keras.layers import Dense\n",
    "from tensorflow.keras.layers import BatchNormalization\n",
    "from tensorflow.keras.layers import Dropout\n",
    "from tensorflow.keras.layers import LSTM\n",
    "from tensorflow.keras.models import Sequential\n",
    "from tensorflow.keras.layers import Conv2D, MaxPooling2D, Flatten\n",
    "from tensorflow.keras import callbacks"
   ]
  },
  {
   "cell_type": "code",
   "execution_count": 7,
   "metadata": {},
   "outputs": [
    {
     "name": "stdout",
     "output_type": "stream",
     "text": [
      "/Users/lalebaksi/Desktop/DS_3rd_Phase\n"
     ]
    }
   ],
   "source": [
    "print(os.getcwd())"
   ]
  },
  {
   "cell_type": "code",
   "execution_count": 8,
   "metadata": {},
   "outputs": [],
   "source": [
    "## directory_path = '../jpeg'\n",
    "## print(os.path.exists(directory_path))"
   ]
  },
  {
   "cell_type": "code",
   "execution_count": 9,
   "metadata": {},
   "outputs": [],
   "source": [
    "## parent_directory = '../jpeg'\n",
    "## contents = os.listdir(parent_directory)\n",
    "## print(contents)"
   ]
  },
  {
   "cell_type": "code",
   "execution_count": 10,
   "metadata": {},
   "outputs": [
    {
     "name": "stdout",
     "output_type": "stream",
     "text": [
      "File not found.\n"
     ]
    }
   ],
   "source": [
    "def search_file(directory, filename):\n",
    "    for root, dirs, files in os.walk(directory):\n",
    "        if filename in files:\n",
    "            return os.path.join(root, filename)\n",
    "    return None\n",
    "\n",
    "parent_directory = '../jpeg'\n",
    "filename = '1-172.jpg'\n",
    "file_path = search_file(parent_directory, filename)\n",
    "\n",
    "if file_path:\n",
    "    print(\"File found:\", file_path)\n",
    "else:\n",
    "    print(\"File not found.\")"
   ]
  },
  {
   "cell_type": "code",
   "execution_count": 11,
   "metadata": {},
   "outputs": [],
   "source": [
    "## in order to view all the mammogram jpeg images from the jpeg directory\n",
    "## set a variable for the jpeg directory ''image_mam_pathway''\n",
    "## os.listdir= obtains a list of all files and directories within the specified directory, checks with each file with jpeg, jpg.\n",
    "## os.path.join= constructs the complete image path and proceeds to load and process each image individually\n",
    "\n",
    "## use Pillow library for images\n",
    "\n",
    "from PIL import Image\n",
    "import os\n",
    "\n",
    "## load the data for jpeg files for mammogram images\n",
    "image_mam_pathway = \"/Users/lalebaksi/Desktop/DS_3rd_Phase/archive (2)/jpeg\"\n",
    "\n",
    "for file_name in os.listdir(image_mam_pathway):\n",
    "    if file_name.endswith(\".jpg\") or file_name.endswith(\".jpeg\"):\n",
    "        image_mam_pathway = os.path.join(image_mam_pathway, file_name)\n",
    "        image = Image.open(image_mam_pathway)\n",
    "        # Perform operations with each loaded image\n",
    "        # ..."
   ]
  },
  {
   "cell_type": "code",
   "execution_count": 12,
   "metadata": {},
   "outputs": [],
   "source": [
    "## load the dicom dataset\n",
    "patient_dicom_data= pd.read_csv('/Users/lalebaksi/Desktop/DS_3rd_Phase/archive (2)/csv/dicom_info.csv')"
   ]
  },
  {
   "cell_type": "code",
   "execution_count": 13,
   "metadata": {},
   "outputs": [
    {
     "data": {
      "text/html": [
       "<div>\n",
       "<style scoped>\n",
       "    .dataframe tbody tr th:only-of-type {\n",
       "        vertical-align: middle;\n",
       "    }\n",
       "\n",
       "    .dataframe tbody tr th {\n",
       "        vertical-align: top;\n",
       "    }\n",
       "\n",
       "    .dataframe thead th {\n",
       "        text-align: right;\n",
       "    }\n",
       "</style>\n",
       "<table border=\"1\" class=\"dataframe\">\n",
       "  <thead>\n",
       "    <tr style=\"text-align: right;\">\n",
       "      <th></th>\n",
       "      <th>file_path</th>\n",
       "      <th>image_path</th>\n",
       "      <th>AccessionNumber</th>\n",
       "      <th>BitsAllocated</th>\n",
       "      <th>BitsStored</th>\n",
       "      <th>BodyPartExamined</th>\n",
       "      <th>Columns</th>\n",
       "      <th>ContentDate</th>\n",
       "      <th>ContentTime</th>\n",
       "      <th>ConversionType</th>\n",
       "      <th>...</th>\n",
       "      <th>SecondaryCaptureDeviceManufacturerModelName</th>\n",
       "      <th>SeriesDescription</th>\n",
       "      <th>SeriesInstanceUID</th>\n",
       "      <th>SeriesNumber</th>\n",
       "      <th>SmallestImagePixelValue</th>\n",
       "      <th>SpecificCharacterSet</th>\n",
       "      <th>StudyDate</th>\n",
       "      <th>StudyID</th>\n",
       "      <th>StudyInstanceUID</th>\n",
       "      <th>StudyTime</th>\n",
       "    </tr>\n",
       "  </thead>\n",
       "  <tbody>\n",
       "    <tr>\n",
       "      <th>0</th>\n",
       "      <td>CBIS-DDSM/dicom/1.3.6.1.4.1.9590.100.1.2.12930...</td>\n",
       "      <td>CBIS-DDSM/jpeg/1.3.6.1.4.1.9590.100.1.2.129308...</td>\n",
       "      <td>NaN</td>\n",
       "      <td>16</td>\n",
       "      <td>16</td>\n",
       "      <td>BREAST</td>\n",
       "      <td>351</td>\n",
       "      <td>20160426</td>\n",
       "      <td>131732.685</td>\n",
       "      <td>WSD</td>\n",
       "      <td>...</td>\n",
       "      <td>MATLAB</td>\n",
       "      <td>cropped images</td>\n",
       "      <td>1.3.6.1.4.1.9590.100.1.2.129308726812851964007...</td>\n",
       "      <td>1</td>\n",
       "      <td>23078</td>\n",
       "      <td>ISO_IR 100</td>\n",
       "      <td>20160720.0</td>\n",
       "      <td>DDSM</td>\n",
       "      <td>1.3.6.1.4.1.9590.100.1.2.271867287611061855725...</td>\n",
       "      <td>214951.0</td>\n",
       "    </tr>\n",
       "    <tr>\n",
       "      <th>1</th>\n",
       "      <td>CBIS-DDSM/dicom/1.3.6.1.4.1.9590.100.1.2.24838...</td>\n",
       "      <td>CBIS-DDSM/jpeg/1.3.6.1.4.1.9590.100.1.2.248386...</td>\n",
       "      <td>NaN</td>\n",
       "      <td>16</td>\n",
       "      <td>16</td>\n",
       "      <td>BREAST</td>\n",
       "      <td>3526</td>\n",
       "      <td>20160426</td>\n",
       "      <td>143829.101</td>\n",
       "      <td>WSD</td>\n",
       "      <td>...</td>\n",
       "      <td>MATLAB</td>\n",
       "      <td>full mammogram images</td>\n",
       "      <td>1.3.6.1.4.1.9590.100.1.2.248386742010678582309...</td>\n",
       "      <td>1</td>\n",
       "      <td>0</td>\n",
       "      <td>ISO_IR 100</td>\n",
       "      <td>20160720.0</td>\n",
       "      <td>DDSM</td>\n",
       "      <td>1.3.6.1.4.1.9590.100.1.2.161516517311681906612...</td>\n",
       "      <td>193426.0</td>\n",
       "    </tr>\n",
       "    <tr>\n",
       "      <th>2</th>\n",
       "      <td>CBIS-DDSM/dicom/1.3.6.1.4.1.9590.100.1.2.26721...</td>\n",
       "      <td>CBIS-DDSM/jpeg/1.3.6.1.4.1.9590.100.1.2.267213...</td>\n",
       "      <td>NaN</td>\n",
       "      <td>16</td>\n",
       "      <td>16</td>\n",
       "      <td>BREAST</td>\n",
       "      <td>1546</td>\n",
       "      <td>20160503</td>\n",
       "      <td>111956.298</td>\n",
       "      <td>WSD</td>\n",
       "      <td>...</td>\n",
       "      <td>MATLAB</td>\n",
       "      <td>full mammogram images</td>\n",
       "      <td>1.3.6.1.4.1.9590.100.1.2.267213171011171858918...</td>\n",
       "      <td>1</td>\n",
       "      <td>0</td>\n",
       "      <td>ISO_IR 100</td>\n",
       "      <td>20160807.0</td>\n",
       "      <td>DDSM</td>\n",
       "      <td>1.3.6.1.4.1.9590.100.1.2.291043622711253836701...</td>\n",
       "      <td>161814.0</td>\n",
       "    </tr>\n",
       "    <tr>\n",
       "      <th>3</th>\n",
       "      <td>CBIS-DDSM/dicom/1.3.6.1.4.1.9590.100.1.2.38118...</td>\n",
       "      <td>CBIS-DDSM/jpeg/1.3.6.1.4.1.9590.100.1.2.381187...</td>\n",
       "      <td>NaN</td>\n",
       "      <td>16</td>\n",
       "      <td>16</td>\n",
       "      <td>BREAST</td>\n",
       "      <td>97</td>\n",
       "      <td>20160503</td>\n",
       "      <td>115347.770</td>\n",
       "      <td>WSD</td>\n",
       "      <td>...</td>\n",
       "      <td>MATLAB</td>\n",
       "      <td>cropped images</td>\n",
       "      <td>1.3.6.1.4.1.9590.100.1.2.381187369611524586537...</td>\n",
       "      <td>1</td>\n",
       "      <td>32298</td>\n",
       "      <td>ISO_IR 100</td>\n",
       "      <td>20170829.0</td>\n",
       "      <td>DDSM</td>\n",
       "      <td>1.3.6.1.4.1.9590.100.1.2.335006093711888937440...</td>\n",
       "      <td>180109.0</td>\n",
       "    </tr>\n",
       "    <tr>\n",
       "      <th>4</th>\n",
       "      <td>CBIS-DDSM/dicom/1.3.6.1.4.1.9590.100.1.2.38118...</td>\n",
       "      <td>CBIS-DDSM/jpeg/1.3.6.1.4.1.9590.100.1.2.381187...</td>\n",
       "      <td>NaN</td>\n",
       "      <td>8</td>\n",
       "      <td>8</td>\n",
       "      <td>Left Breast</td>\n",
       "      <td>3104</td>\n",
       "      <td>20160503</td>\n",
       "      <td>115347.770</td>\n",
       "      <td>WSD</td>\n",
       "      <td>...</td>\n",
       "      <td>MATLAB</td>\n",
       "      <td>NaN</td>\n",
       "      <td>1.3.6.1.4.1.9590.100.1.2.381187369611524586537...</td>\n",
       "      <td>1</td>\n",
       "      <td>0</td>\n",
       "      <td>ISO_IR 100</td>\n",
       "      <td>NaN</td>\n",
       "      <td>DDSM</td>\n",
       "      <td>1.3.6.1.4.1.9590.100.1.2.335006093711888937440...</td>\n",
       "      <td>NaN</td>\n",
       "    </tr>\n",
       "  </tbody>\n",
       "</table>\n",
       "<p>5 rows × 38 columns</p>\n",
       "</div>"
      ],
      "text/plain": [
       "                                           file_path  \\\n",
       "0  CBIS-DDSM/dicom/1.3.6.1.4.1.9590.100.1.2.12930...   \n",
       "1  CBIS-DDSM/dicom/1.3.6.1.4.1.9590.100.1.2.24838...   \n",
       "2  CBIS-DDSM/dicom/1.3.6.1.4.1.9590.100.1.2.26721...   \n",
       "3  CBIS-DDSM/dicom/1.3.6.1.4.1.9590.100.1.2.38118...   \n",
       "4  CBIS-DDSM/dicom/1.3.6.1.4.1.9590.100.1.2.38118...   \n",
       "\n",
       "                                          image_path  AccessionNumber  \\\n",
       "0  CBIS-DDSM/jpeg/1.3.6.1.4.1.9590.100.1.2.129308...              NaN   \n",
       "1  CBIS-DDSM/jpeg/1.3.6.1.4.1.9590.100.1.2.248386...              NaN   \n",
       "2  CBIS-DDSM/jpeg/1.3.6.1.4.1.9590.100.1.2.267213...              NaN   \n",
       "3  CBIS-DDSM/jpeg/1.3.6.1.4.1.9590.100.1.2.381187...              NaN   \n",
       "4  CBIS-DDSM/jpeg/1.3.6.1.4.1.9590.100.1.2.381187...              NaN   \n",
       "\n",
       "   BitsAllocated  BitsStored BodyPartExamined  Columns  ContentDate  \\\n",
       "0             16          16           BREAST      351     20160426   \n",
       "1             16          16           BREAST     3526     20160426   \n",
       "2             16          16           BREAST     1546     20160503   \n",
       "3             16          16           BREAST       97     20160503   \n",
       "4              8           8      Left Breast     3104     20160503   \n",
       "\n",
       "   ContentTime ConversionType  ...  \\\n",
       "0   131732.685            WSD  ...   \n",
       "1   143829.101            WSD  ...   \n",
       "2   111956.298            WSD  ...   \n",
       "3   115347.770            WSD  ...   \n",
       "4   115347.770            WSD  ...   \n",
       "\n",
       "   SecondaryCaptureDeviceManufacturerModelName      SeriesDescription  \\\n",
       "0                                       MATLAB         cropped images   \n",
       "1                                       MATLAB  full mammogram images   \n",
       "2                                       MATLAB  full mammogram images   \n",
       "3                                       MATLAB         cropped images   \n",
       "4                                       MATLAB                    NaN   \n",
       "\n",
       "                                   SeriesInstanceUID SeriesNumber  \\\n",
       "0  1.3.6.1.4.1.9590.100.1.2.129308726812851964007...            1   \n",
       "1  1.3.6.1.4.1.9590.100.1.2.248386742010678582309...            1   \n",
       "2  1.3.6.1.4.1.9590.100.1.2.267213171011171858918...            1   \n",
       "3  1.3.6.1.4.1.9590.100.1.2.381187369611524586537...            1   \n",
       "4  1.3.6.1.4.1.9590.100.1.2.381187369611524586537...            1   \n",
       "\n",
       "  SmallestImagePixelValue  SpecificCharacterSet   StudyDate StudyID  \\\n",
       "0                   23078            ISO_IR 100  20160720.0    DDSM   \n",
       "1                       0            ISO_IR 100  20160720.0    DDSM   \n",
       "2                       0            ISO_IR 100  20160807.0    DDSM   \n",
       "3                   32298            ISO_IR 100  20170829.0    DDSM   \n",
       "4                       0            ISO_IR 100         NaN    DDSM   \n",
       "\n",
       "                                    StudyInstanceUID  StudyTime  \n",
       "0  1.3.6.1.4.1.9590.100.1.2.271867287611061855725...   214951.0  \n",
       "1  1.3.6.1.4.1.9590.100.1.2.161516517311681906612...   193426.0  \n",
       "2  1.3.6.1.4.1.9590.100.1.2.291043622711253836701...   161814.0  \n",
       "3  1.3.6.1.4.1.9590.100.1.2.335006093711888937440...   180109.0  \n",
       "4  1.3.6.1.4.1.9590.100.1.2.335006093711888937440...        NaN  \n",
       "\n",
       "[5 rows x 38 columns]"
      ]
     },
     "execution_count": 13,
     "metadata": {},
     "output_type": "execute_result"
    }
   ],
   "source": [
    "patient_dicom_data.head()"
   ]
  },
  {
   "cell_type": "code",
   "execution_count": 14,
   "metadata": {},
   "outputs": [
    {
     "name": "stdout",
     "output_type": "stream",
     "text": [
      "<class 'pandas.core.frame.DataFrame'>\n",
      "RangeIndex: 10237 entries, 0 to 10236\n",
      "Data columns (total 38 columns):\n",
      " #   Column                                       Non-Null Count  Dtype  \n",
      "---  ------                                       --------------  -----  \n",
      " 0   file_path                                    10237 non-null  object \n",
      " 1   image_path                                   10237 non-null  object \n",
      " 2   AccessionNumber                              0 non-null      float64\n",
      " 3   BitsAllocated                                10237 non-null  int64  \n",
      " 4   BitsStored                                   10237 non-null  int64  \n",
      " 5   BodyPartExamined                             10237 non-null  object \n",
      " 6   Columns                                      10237 non-null  int64  \n",
      " 7   ContentDate                                  10237 non-null  int64  \n",
      " 8   ContentTime                                  10237 non-null  float64\n",
      " 9   ConversionType                               10237 non-null  object \n",
      " 10  HighBit                                      10237 non-null  int64  \n",
      " 11  InstanceNumber                               10237 non-null  int64  \n",
      " 12  LargestImagePixelValue                       10237 non-null  int64  \n",
      " 13  Laterality                                   9671 non-null   object \n",
      " 14  Modality                                     10237 non-null  object \n",
      " 15  PatientBirthDate                             0 non-null      float64\n",
      " 16  PatientID                                    10237 non-null  object \n",
      " 17  PatientName                                  10237 non-null  object \n",
      " 18  PatientOrientation                           10237 non-null  object \n",
      " 19  PatientSex                                   0 non-null      float64\n",
      " 20  PhotometricInterpretation                    10237 non-null  object \n",
      " 21  PixelRepresentation                          10237 non-null  int64  \n",
      " 22  ReferringPhysicianName                       0 non-null      float64\n",
      " 23  Rows                                         10237 non-null  int64  \n",
      " 24  SOPClassUID                                  10237 non-null  object \n",
      " 25  SOPInstanceUID                               10237 non-null  object \n",
      " 26  SamplesPerPixel                              10237 non-null  int64  \n",
      " 27  SecondaryCaptureDeviceManufacturer           10237 non-null  object \n",
      " 28  SecondaryCaptureDeviceManufacturerModelName  10237 non-null  object \n",
      " 29  SeriesDescription                            9671 non-null   object \n",
      " 30  SeriesInstanceUID                            10237 non-null  object \n",
      " 31  SeriesNumber                                 10237 non-null  int64  \n",
      " 32  SmallestImagePixelValue                      10237 non-null  int64  \n",
      " 33  SpecificCharacterSet                         10237 non-null  object \n",
      " 34  StudyDate                                    9671 non-null   float64\n",
      " 35  StudyID                                      10237 non-null  object \n",
      " 36  StudyInstanceUID                             10237 non-null  object \n",
      " 37  StudyTime                                    9671 non-null   float64\n",
      "dtypes: float64(7), int64(12), object(19)\n",
      "memory usage: 3.0+ MB\n"
     ]
    }
   ],
   "source": [
    "patient_dicom_data.info()"
   ]
  },
  {
   "cell_type": "code",
   "execution_count": 15,
   "metadata": {},
   "outputs": [
    {
     "data": {
      "text/plain": [
       "0     CBIS-DDSM/jpeg/1.3.6.1.4.1.9590.100.1.2.129308...\n",
       "3     CBIS-DDSM/jpeg/1.3.6.1.4.1.9590.100.1.2.381187...\n",
       "6     CBIS-DDSM/jpeg/1.3.6.1.4.1.9590.100.1.2.153339...\n",
       "7     CBIS-DDSM/jpeg/1.3.6.1.4.1.9590.100.1.2.178994...\n",
       "10    CBIS-DDSM/jpeg/1.3.6.1.4.1.9590.100.1.2.411833...\n",
       "Name: image_path, dtype: object"
      ]
     },
     "execution_count": 15,
     "metadata": {},
     "output_type": "execute_result"
    }
   ],
   "source": [
    "## link the images to the dicom path\n",
    "## select the rows from the dataframe where Series Description column has 'cropped images'\n",
    "\n",
    "patient_cropped_images= patient_dicom_data[patient_dicom_data.SeriesDescription == 'cropped images'].image_path\n",
    "patient_cropped_images.head()"
   ]
  },
  {
   "cell_type": "code",
   "execution_count": 16,
   "metadata": {},
   "outputs": [
    {
     "data": {
      "text/plain": [
       "0     /Users/lalebaksi/Desktop/DS_3rd_Phase/archive ...\n",
       "3     /Users/lalebaksi/Desktop/DS_3rd_Phase/archive ...\n",
       "6     /Users/lalebaksi/Desktop/DS_3rd_Phase/archive ...\n",
       "7     /Users/lalebaksi/Desktop/DS_3rd_Phase/archive ...\n",
       "10    /Users/lalebaksi/Desktop/DS_3rd_Phase/archive ...\n",
       "Name: image_path, dtype: object"
      ]
     },
     "execution_count": 16,
     "metadata": {},
     "output_type": "execute_result"
    }
   ],
   "source": [
    "## use lambda function to replace it in dataframe as cropped images with the pathway and create a new series\n",
    "\n",
    "patient_cropped_images = patient_cropped_images.apply(lambda x: x.replace('CBIS-DDSM/jpeg', image_mam_pathway))\n",
    "patient_cropped_images.head()"
   ]
  },
  {
   "cell_type": "code",
   "execution_count": 17,
   "metadata": {},
   "outputs": [
    {
     "data": {
      "image/png": "[encoded data removed]",
      "text/plain": [
       "<Figure size 640x480 with 1 Axes>"
      ]
     },
     "metadata": {},
     "output_type": "display_data"
    }
   ],
   "source": [
    "## load the images from the newly created list of patient_cropped_images\n",
    "## convert them to grayscale for display\n",
    "\n",
    "for file  in patient_cropped_images[0:5]:\n",
    "  patient_cropped_images_show = PIL.Image.open(file)\n",
    "  gray_img= patient_cropped_images_show.convert(\"L\")\n",
    "  plt.imshow(gray_img, cmap='gray')"
   ]
  },
  {
   "cell_type": "code",
   "execution_count": 18,
   "metadata": {},
   "outputs": [
    {
     "data": {
      "text/plain": [
       "1     CBIS-DDSM/jpeg/1.3.6.1.4.1.9590.100.1.2.248386...\n",
       "2     CBIS-DDSM/jpeg/1.3.6.1.4.1.9590.100.1.2.267213...\n",
       "11    CBIS-DDSM/jpeg/1.3.6.1.4.1.9590.100.1.2.210396...\n",
       "12    CBIS-DDSM/jpeg/1.3.6.1.4.1.9590.100.1.2.749566...\n",
       "15    CBIS-DDSM/jpeg/1.3.6.1.4.1.9590.100.1.2.987658...\n",
       "Name: image_path, dtype: object"
      ]
     },
     "execution_count": 18,
     "metadata": {},
     "output_type": "execute_result"
    }
   ],
   "source": [
    "## link the images to the dicom path\n",
    "## select the rows from the dataframe where Series Description column has 'full mammogram images'\n",
    "\n",
    "patient_full_mammogram_images=patient_dicom_data[patient_dicom_data.SeriesDescription == 'full mammogram images'].image_path\n",
    "patient_full_mammogram_images.head()"
   ]
  },
  {
   "cell_type": "code",
   "execution_count": 19,
   "metadata": {},
   "outputs": [
    {
     "data": {
      "text/plain": [
       "1     /Users/lalebaksi/Desktop/DS_3rd_Phase/archive ...\n",
       "2     /Users/lalebaksi/Desktop/DS_3rd_Phase/archive ...\n",
       "11    /Users/lalebaksi/Desktop/DS_3rd_Phase/archive ...\n",
       "12    /Users/lalebaksi/Desktop/DS_3rd_Phase/archive ...\n",
       "15    /Users/lalebaksi/Desktop/DS_3rd_Phase/archive ...\n",
       "Name: image_path, dtype: object"
      ]
     },
     "execution_count": 19,
     "metadata": {},
     "output_type": "execute_result"
    }
   ],
   "source": [
    "## use lambda function to replace it in dataframe as full mammogram images with the pathway and create a new series\n",
    "\n",
    "patient_full_mammogram_images = patient_full_mammogram_images.apply(lambda x: x.replace('CBIS-DDSM/jpeg', image_mam_pathway))\n",
    "patient_full_mammogram_images.head()"
   ]
  },
  {
   "cell_type": "code",
   "execution_count": 20,
   "metadata": {},
   "outputs": [
    {
     "data": {
      "image/png": "[encoded data removed]",
      "text/plain": [
       "<Figure size 640x480 with 1 Axes>"
      ]
     },
     "metadata": {},
     "output_type": "display_data"
    }
   ],
   "source": [
    "## load the images from the newly created list of patient_full_mammogram_images\n",
    "## convert them to grayscale for display\n",
    "\n",
    "for file  in patient_full_mammogram_images[0:5]:\n",
    "  patient_full_mammogram_images_show = PIL.Image.open(file)\n",
    "  gray_img= patient_full_mammogram_images_show.convert(\"L\")\n",
    "  plt.imshow(gray_img, cmap='gray')"
   ]
  },
  {
   "cell_type": "code",
   "execution_count": 21,
   "metadata": {},
   "outputs": [
    {
     "data": {
      "text/plain": [
       "5     CBIS-DDSM/jpeg/1.3.6.1.4.1.9590.100.1.2.153339...\n",
       "8     CBIS-DDSM/jpeg/1.3.6.1.4.1.9590.100.1.2.178994...\n",
       "9     CBIS-DDSM/jpeg/1.3.6.1.4.1.9590.100.1.2.411833...\n",
       "14    CBIS-DDSM/jpeg/1.3.6.1.4.1.9590.100.1.2.236373...\n",
       "20    CBIS-DDSM/jpeg/1.3.6.1.4.1.9590.100.1.2.357008...\n",
       "Name: image_path, dtype: object"
      ]
     },
     "execution_count": 21,
     "metadata": {},
     "output_type": "execute_result"
    }
   ],
   "source": [
    "## link the images to the dicom path\n",
    "## select the rows from the dataframe where Series Description column has 'ROI mask images'(region of interest)\n",
    "\n",
    "patient_ROI_mask_images=patient_dicom_data[patient_dicom_data.SeriesDescription == 'ROI mask images'].image_path\n",
    "patient_ROI_mask_images.head()"
   ]
  },
  {
   "cell_type": "code",
   "execution_count": 22,
   "metadata": {},
   "outputs": [
    {
     "data": {
      "text/plain": [
       "5     /Users/lalebaksi/Desktop/DS_3rd_Phase/archive ...\n",
       "8     /Users/lalebaksi/Desktop/DS_3rd_Phase/archive ...\n",
       "9     /Users/lalebaksi/Desktop/DS_3rd_Phase/archive ...\n",
       "14    /Users/lalebaksi/Desktop/DS_3rd_Phase/archive ...\n",
       "20    /Users/lalebaksi/Desktop/DS_3rd_Phase/archive ...\n",
       "Name: image_path, dtype: object"
      ]
     },
     "execution_count": 22,
     "metadata": {},
     "output_type": "execute_result"
    }
   ],
   "source": [
    "## use lambda function to replace it in dataframe as ROI mask images with the pathway and create a new series\n",
    "\n",
    "patient_ROI_mask_images = patient_ROI_mask_images.apply(lambda x: x.replace('CBIS-DDSM/jpeg', image_mam_pathway))\n",
    "patient_ROI_mask_images.head()"
   ]
  },
  {
   "cell_type": "code",
   "execution_count": 23,
   "metadata": {},
   "outputs": [
    {
     "data": {
      "image/png": "[encoded data removed]",
      "text/plain": [
       "<Figure size 640x480 with 1 Axes>"
      ]
     },
     "metadata": {},
     "output_type": "display_data"
    }
   ],
   "source": [
    "## load the images from the newly created list of ROI_mask_images\n",
    "## convert them to grayscale for display\n",
    "\n",
    "for file  in patient_ROI_mask_images[0:5]:\n",
    "  patient_ROI_mask_images_show = PIL.Image.open(file)\n",
    "  gray_img= patient_ROI_mask_images_show.convert(\"L\")\n",
    "  plt.imshow(gray_img, cmap='gray')"
   ]
  },
  {
   "cell_type": "code",
   "execution_count": 24,
   "metadata": {},
   "outputs": [],
   "source": [
    "## load the calc_train dataset\n",
    "patient_calc_train_data= pd.read_csv('/Users/lalebaksi/Desktop/DS_3rd_Phase/archive (2)/csv/calc_case_description_train_set.csv')"
   ]
  },
  {
   "cell_type": "code",
   "execution_count": 25,
   "metadata": {},
   "outputs": [
    {
     "data": {
      "text/html": [
       "<div>\n",
       "<style scoped>\n",
       "    .dataframe tbody tr th:only-of-type {\n",
       "        vertical-align: middle;\n",
       "    }\n",
       "\n",
       "    .dataframe tbody tr th {\n",
       "        vertical-align: top;\n",
       "    }\n",
       "\n",
       "    .dataframe thead th {\n",
       "        text-align: right;\n",
       "    }\n",
       "</style>\n",
       "<table border=\"1\" class=\"dataframe\">\n",
       "  <thead>\n",
       "    <tr style=\"text-align: right;\">\n",
       "      <th></th>\n",
       "      <th>patient_id</th>\n",
       "      <th>breast density</th>\n",
       "      <th>left or right breast</th>\n",
       "      <th>image view</th>\n",
       "      <th>abnormality id</th>\n",
       "      <th>abnormality type</th>\n",
       "      <th>calc type</th>\n",
       "      <th>calc distribution</th>\n",
       "      <th>assessment</th>\n",
       "      <th>pathology</th>\n",
       "      <th>subtlety</th>\n",
       "      <th>image file path</th>\n",
       "      <th>cropped image file path</th>\n",
       "      <th>ROI mask file path</th>\n",
       "      <th>Unnamed: 14</th>\n",
       "    </tr>\n",
       "  </thead>\n",
       "  <tbody>\n",
       "    <tr>\n",
       "      <th>0</th>\n",
       "      <td>P_00005</td>\n",
       "      <td>3</td>\n",
       "      <td>RIGHT</td>\n",
       "      <td>CC</td>\n",
       "      <td>1</td>\n",
       "      <td>calcification</td>\n",
       "      <td>AMORPHOUS</td>\n",
       "      <td>CLUSTERED</td>\n",
       "      <td>3</td>\n",
       "      <td>MALIGNANT</td>\n",
       "      <td>3</td>\n",
       "      <td>Calc-Training_P_00005_RIGHT_CC/1.3.6.1.4.1.959...</td>\n",
       "      <td>Calc-Training_P_00005_RIGHT_CC_1/1.3.6.1.4.1.9...</td>\n",
       "      <td>Calc-Training_P_00005_RIGHT_CC_1/1.3.6.1.4.1.9...</td>\n",
       "      <td>NaN</td>\n",
       "    </tr>\n",
       "    <tr>\n",
       "      <th>1</th>\n",
       "      <td>P_00005</td>\n",
       "      <td>3</td>\n",
       "      <td>RIGHT</td>\n",
       "      <td>MLO</td>\n",
       "      <td>1</td>\n",
       "      <td>calcification</td>\n",
       "      <td>AMORPHOUS</td>\n",
       "      <td>CLUSTERED</td>\n",
       "      <td>3</td>\n",
       "      <td>MALIGNANT</td>\n",
       "      <td>3</td>\n",
       "      <td>Calc-Training_P_00005_RIGHT_MLO/1.3.6.1.4.1.95...</td>\n",
       "      <td>Calc-Training_P_00005_RIGHT_MLO_1/1.3.6.1.4.1....</td>\n",
       "      <td>Calc-Training_P_00005_RIGHT_MLO_1/1.3.6.1.4.1....</td>\n",
       "      <td>NaN</td>\n",
       "    </tr>\n",
       "    <tr>\n",
       "      <th>2</th>\n",
       "      <td>P_00007</td>\n",
       "      <td>4</td>\n",
       "      <td>LEFT</td>\n",
       "      <td>CC</td>\n",
       "      <td>1</td>\n",
       "      <td>calcification</td>\n",
       "      <td>PLEOMORPHIC</td>\n",
       "      <td>LINEAR</td>\n",
       "      <td>4</td>\n",
       "      <td>BENIGN</td>\n",
       "      <td>4</td>\n",
       "      <td>Calc-Training_P_00007_LEFT_CC/1.3.6.1.4.1.9590...</td>\n",
       "      <td>Calc-Training_P_00007_LEFT_CC_1/1.3.6.1.4.1.95...</td>\n",
       "      <td>Calc-Training_P_00007_LEFT_CC_1/1.3.6.1.4.1.95...</td>\n",
       "      <td>NaN</td>\n",
       "    </tr>\n",
       "    <tr>\n",
       "      <th>3</th>\n",
       "      <td>P_00007</td>\n",
       "      <td>4</td>\n",
       "      <td>LEFT</td>\n",
       "      <td>MLO</td>\n",
       "      <td>1</td>\n",
       "      <td>calcification</td>\n",
       "      <td>PLEOMORPHIC</td>\n",
       "      <td>LINEAR</td>\n",
       "      <td>4</td>\n",
       "      <td>BENIGN</td>\n",
       "      <td>4</td>\n",
       "      <td>Calc-Training_P_00007_LEFT_MLO/1.3.6.1.4.1.959...</td>\n",
       "      <td>Calc-Training_P_00007_LEFT_MLO_1/1.3.6.1.4.1.9...</td>\n",
       "      <td>Calc-Training_P_00007_LEFT_MLO_1/1.3.6.1.4.1.9...</td>\n",
       "      <td>NaN</td>\n",
       "    </tr>\n",
       "    <tr>\n",
       "      <th>4</th>\n",
       "      <td>P_00008</td>\n",
       "      <td>1</td>\n",
       "      <td>LEFT</td>\n",
       "      <td>CC</td>\n",
       "      <td>1</td>\n",
       "      <td>calcification</td>\n",
       "      <td>NaN</td>\n",
       "      <td>REGIONAL</td>\n",
       "      <td>2</td>\n",
       "      <td>BENIGN_WITHOUT_CALLBACK</td>\n",
       "      <td>3</td>\n",
       "      <td>Calc-Training_P_00008_LEFT_CC/1.3.6.1.4.1.9590...</td>\n",
       "      <td>Calc-Training_P_00008_LEFT_CC_1/1.3.6.1.4.1.95...</td>\n",
       "      <td>Calc-Training_P_00008_LEFT_CC_1/1.3.6.1.4.1.95...</td>\n",
       "      <td>NaN</td>\n",
       "    </tr>\n",
       "  </tbody>\n",
       "</table>\n",
       "</div>"
      ],
      "text/plain": [
       "  patient_id  breast density left or right breast image view  abnormality id  \\\n",
       "0    P_00005               3                RIGHT         CC               1   \n",
       "1    P_00005               3                RIGHT        MLO               1   \n",
       "2    P_00007               4                 LEFT         CC               1   \n",
       "3    P_00007               4                 LEFT        MLO               1   \n",
       "4    P_00008               1                 LEFT         CC               1   \n",
       "\n",
       "  abnormality type    calc type calc distribution  assessment  \\\n",
       "0    calcification    AMORPHOUS         CLUSTERED           3   \n",
       "1    calcification    AMORPHOUS         CLUSTERED           3   \n",
       "2    calcification  PLEOMORPHIC            LINEAR           4   \n",
       "3    calcification  PLEOMORPHIC            LINEAR           4   \n",
       "4    calcification          NaN          REGIONAL           2   \n",
       "\n",
       "                 pathology  subtlety  \\\n",
       "0                MALIGNANT         3   \n",
       "1                MALIGNANT         3   \n",
       "2                   BENIGN         4   \n",
       "3                   BENIGN         4   \n",
       "4  BENIGN_WITHOUT_CALLBACK         3   \n",
       "\n",
       "                                     image file path  \\\n",
       "0  Calc-Training_P_00005_RIGHT_CC/1.3.6.1.4.1.959...   \n",
       "1  Calc-Training_P_00005_RIGHT_MLO/1.3.6.1.4.1.95...   \n",
       "2  Calc-Training_P_00007_LEFT_CC/1.3.6.1.4.1.9590...   \n",
       "3  Calc-Training_P_00007_LEFT_MLO/1.3.6.1.4.1.959...   \n",
       "4  Calc-Training_P_00008_LEFT_CC/1.3.6.1.4.1.9590...   \n",
       "\n",
       "                             cropped image file path  \\\n",
       "0  Calc-Training_P_00005_RIGHT_CC_1/1.3.6.1.4.1.9...   \n",
       "1  Calc-Training_P_00005_RIGHT_MLO_1/1.3.6.1.4.1....   \n",
       "2  Calc-Training_P_00007_LEFT_CC_1/1.3.6.1.4.1.95...   \n",
       "3  Calc-Training_P_00007_LEFT_MLO_1/1.3.6.1.4.1.9...   \n",
       "4  Calc-Training_P_00008_LEFT_CC_1/1.3.6.1.4.1.95...   \n",
       "\n",
       "                                  ROI mask file path  Unnamed: 14  \n",
       "0  Calc-Training_P_00005_RIGHT_CC_1/1.3.6.1.4.1.9...          NaN  \n",
       "1  Calc-Training_P_00005_RIGHT_MLO_1/1.3.6.1.4.1....          NaN  \n",
       "2  Calc-Training_P_00007_LEFT_CC_1/1.3.6.1.4.1.95...          NaN  \n",
       "3  Calc-Training_P_00007_LEFT_MLO_1/1.3.6.1.4.1.9...          NaN  \n",
       "4  Calc-Training_P_00008_LEFT_CC_1/1.3.6.1.4.1.95...          NaN  "
      ]
     },
     "execution_count": 25,
     "metadata": {},
     "output_type": "execute_result"
    }
   ],
   "source": [
    "patient_calc_train_data.head()"
   ]
  },
  {
   "attachments": {},
   "cell_type": "markdown",
   "metadata": {},
   "source": [
    "DEFINITIONS;\n",
    "\n",
    "BREAST DENSITY= refers to the proportion of different types of tissues present in the breast, primarily glandular tissue and fatty tissue.\n",
    "    Breast Density is categorized into four main types;\n",
    "    1-Fatty: The breast is composed mostly of fatty tissue, with little glandular tissue. Fatty breast density appears as a mostly dark area on a mammogram.\n",
    "    2-Scattered Fibroglandular: The breast has a mix of fatty and glandular tissue, with scattered areas of dense tissue. Scattered fibroglandular breast density appears as a mixture of lighter and darker areas on a mammogram.\n",
    "    3-Heterogeneously Dense: The breast has a significant amount of glandular tissue, resulting in a dense appearance on the mammogram. Heterogeneously dense breast density appears as mostly lighter areas on the mammogram.\n",
    "    4-Extremely Dense: The breast has a high proportion of glandular tissue, making it extremely dense. Extremely dense breast density appears as mostly white areas on the mammogram.\n",
    "\n",
    "IMAGE VIEW= MLO and CC refer to projections used to capture image of the breast during a mammogram.\n",
    "    1-CC: Cranio-caudal view is an X-ray image taken with the breast compressed between two plates in a top to bottom direction, two dimensional image of the breast from a side view perspective.\n",
    "    2-MLO: Medio lateral Oblique view is an X-ray image taken with the breast compressed between two plates in an angled direction, two dimensional image of the breast from an oblique view perspective.\n",
    "\n",
    "ABNORMALITY TYPE= refers to the classification of abnormalities observed in diagnostic imaging studies such as mammograms, CT scans, MRI scans, X-rays. Abnormality type can vary depending on the specific imaging modality and the area of the body being examined.\n",
    "    1-Mass or Tumor: refers to an abnormal growth or accumulation of cells that can be either benign(non-cancerous) or malignant(cancerous).  They could appear as solid or fluid-filled structures.\n",
    "    2-Calcifications: are tiny deposits of calcium that can appear as white spots or speks on an imaging study.  These can be indicative of various conditions such as benign changes, precancerous lesions or early stage breast cancer.\n",
    "    \n",
    "\n",
    "CALC TYPE= calcium deposits in the breast can be categorized into different types based on their appearance. they are generally split into two types, microcalcifications and macrocalcifications.  Both types are usually benign, but occasionally microcalcifications can be an early sign of breast cancer.  The main types are as follows.\n",
    "    1-Amorphous: These are defined as without a clearly defined shape or form and are usually very small or hazy in appearance and are considered immediate concern\n",
    "    2-Coarse: calcifications that are generally largen than 0.5mm and are considered to be of immediate concern.\n",
    "    3-Pleomorphic: They exhibit marked variability in their nuclear size, shape, and staining patterns, significant genetic alterations and abnormal cell growth. They are more conspicuous than the amorphic calcifications.  There is a 25-40% risk of malignancy.\n",
    "    4-Punctate: They are usually very small in size, measuring a few millimeters or less. Factors such as the number, size, shape, and clustering of punctate calcifications, as well as the presence of associated features like architectural distortion or suspicious patterns, help guide the diagnostic process.\n",
    "    5-Lucent: These are round or oval calcifications that range from under 1 mm to over a centimeter. They are the result of fat necrosis, calcified debris in ducts, and occasional fibroadenomas.\n",
    "    6-Fine Linear: These are thin, linear or curvilinear irregular calcifications. Their appearance suggests filling of the lumen of a duct\n",
    "    There are several more types of calcifications but the above are most found in breast imaging. \n",
    "\n",
    "\n",
    "CALC DISTRIBUTION= can provide information about the calcifications underlying causes and their significance for breast health.\n",
    "    1-Clustered: refers to the presence of calcifications grouped closely together in a concentrated area. They form clusters or clusters of microcalcifications, often appearing as dense spots or clusters on the mammogram.\n",
    "    2-Linear: refers to the presence of calcifications arranged in a linear or branching pattern. They may form lines or branches across the breast tissue.\n",
    "    3-Segmental: refers to the presence of calcifications in a well-defined segment or section of the breast. They are localized to a specific region and may indicate changes or abnormalities within that segment.\n",
    "    4-Regional: refers to the presence of calcifications in a specific region or quadrant of the breast. They are limited to a particular area and may indicate localized changes or conditions.\n",
    "    5-Diffuse: refers to the presence of calcifications scattered throughout the breast tissue. They are evenly distributed and can be seen across multiple areas of the breast.\n",
    "\n",
    "MASS DISTRIBUTION= refers to the pattern or location of masses or tumors within the breast tissue. It describes how the cancerous mass or tumor is distributed or spread throughout the breast. \n",
    "    1-Focal or Localized: refers to the presence of a single dominant mass or tumor in a specified area of the breast and does not extent beyond that specific area, generally seen in early-stage breast cancer.\n",
    "    2-Regional: refers to the presence of muliple masses or tumors within a specified region of the breast, they are limited to a defined area and may be next to each other within that region. This type of distribution may indicate more advanced stage of breast cancer.\n",
    "    3-Multifocal: refers to the presence of multiple masses or tumors in different parts of the same breast. They are very distinct and seperate from each other, they may occur in different regions of the breast.  This type is associated with multicentric disease where there are multiple independent primary tumors within the breast.\n",
    "    4-Diffuse or Disseminated: refers to the presence of multiple masses or tumors scattered throughout the breast tissue without a clear pattern or a defined area. This is often seen in more advanced or metastatic breast cancer.\n",
    "\n",
    "MASS SHAPE= refers to the different geometric appearances of masses or tumors detected in breast imagings. The sahpe of the mass provides info about the charateristics and potential malignancy.\n",
    "    1-Oval: the mass has a rounded or elongated shape with smooth and well-defined borders.  It is either benign or early-stage cancerous mass.\n",
    "    2-Round: round or circular mass has a symmetrical round and evenly shaped with smooth borders. Generally defined as a benign mass but very rarely cancerous masses may have this shape as well.\n",
    "    3-Irregular: lacks a well defined shape or clear borders, has an irregular contour with jagged or spiculated edges.  This shape is a concern for cancer.\n",
    "    4-Lobulated: it has multiple lobes or smaller components with the larger mass. It could appear as if the mass is composed of distinct lobes.  This shape could be benign or malignant.\n",
    "    5-Focal asymmetric density: An area of increased density in one of your breasts compared with the same part in the other breast.\n",
    "    6-Architectural Distortion: Disruption or distortion of the normal linear or spiculated patterns of breast tissue.The distortion can be seen in focal areas of retraction, pulling or the distortion of the surrounding tissue.\n",
    "    7-Asymmetric breast tissue: Two breasts have noticibly different size, shape or appearance. There is asymmetry between the left and right breasts in terms of the overall size, volume or distribution of glandular and fibrous tissue.\n",
    "    8-Lymph Node: Small, bean shaped structures that are part of the lymphatic system that helps the body fighting infections and filtering out any harmful substances. These should be checked to prevent breast cancer spreading through the lympahatic system to nearby lymph nodes.  Detecting cancer cells in the lymph nodes help determine the satge of breast cancer.\n",
    "\n",
    "\n",
    "MASS MARGINS: refers to the appearance and characteristics of the edges or borders of a breast mass or tumor.  Evaluation of mass margin enables to determine the difference between benign and malignant cells.\n",
    "    1-Circumscribed (well defined): it has a clear and distinct borders that are easily distinguishable from the surrounding breast tissue.Generally associated with benign masses.\n",
    "    2-Microbulated: it has very subtle or tiny lobes or irregularities within its borders.  It may be an early-stage breast cancer sign. \n",
    "    3-Obscured: it indicates that there is limited visibility or clarity in defining the exact boundaries of the mass.  This can occur when there is overlapping dense breast tissue. More commonly associated with malignant masses in aggressive breast cancer.\n",
    "    4-Ill-defined (indistinct): lack of clear and well defined borders. The edges of the mass may be blurry or merged with surrounding breast tissue. This is often indicates malignant cells.\n",
    "    5-Spiculated (irregular): presence of radiating lines or spikes extending from the edges of the mass. The margin appears jagged or rough, indicating potential invasive behavior and often a sign of aggressive breast cancer.\n",
    "    \n",
    "ASSESSMENT= grades for mammograms are a standardized way to categorize and communicate the findings of a mammogram examination such as any levels of suspicion or concern regarding any abnormalities or potential breast health issues detected.  BI-RADS system is widely used for mammogram reporting and categorizes findings into six categories;\n",
    "    0- incomplete assessment, further imaging is needed.\n",
    "    1- negative or normal findings.\n",
    "    2- benign(non-cancerous) finding, no significant concern.\n",
    "    3- probably beningn findings, follow-up recommendeded.\n",
    "    4- suspicious findings, further diagnostic evaluation is warranted.\n",
    "    5- highly suspicious of malignancy, further evaluation and biopsy are recommended.\n",
    "    6- known biopsy proven malignancy, already diagnosed as cancer.\n",
    "\n",
    "PATHOLOGY= it involves the examination of breast tissue samples to identify and diagnose various breast conditions, including benign changes, precancerous lesions, and breast cancer. When a mammogram detects an abnormality, such as a suspicious mass or calcifications, further diagnostic evaluation may be required to determine the nature of the abnormality. This typically involves additional imaging studies, such as diagnostic mammograms, ultrasound, or magnetic resonance imaging (MRI). If the imaging findings raise concerns, a biopsy may be recommended to obtain a sample of breast tissue for pathological analysis.  During a biopsy, a small tissue sample is collected from the area of interest, such as the suspicious mass or calcifications, and sent to a pathology laboratory for examination. Pathologists study the tissue samples under a microscope and perform various tests to determine the presence or absence of cancer, evaluate the characteristics of the abnormality, and provide a diagnosis. The pathology reports the following results;\n",
    "    1-Benign: examined tissue sample does not show any signs of malignancy or cancer.  It confirms that the abnormality is non-cancerous.\n",
    "    2-Atypical: examined tissue sample exhibits certain architectural features that are not entirely normal but fall short of a definitive diagnosis of malignancy.  This result may require monitoring or further evaluation to assess the risk of progression to cancer.\n",
    "    3-In stu carcinoma: presence of abnormal cells confined within the milk ducts or lobules of the breast without invading the surrounding tissue.  Ductal carcinoma in stu or lobular carcinoma in stu are the examples for this type.\n",
    "    4-Invasive carcinoma: presence of cancerous cells that have penetrated the basement membrane of the ducts or lobules and invaded the surrounding breast tissue. Invasive breast cancer may include various subtypes such as invasive ductal carcinoma or invasive lobular carcinoma.\n",
    "    5-Metastic carcinoma: presence of cancerous cells that have spread to other parts of the body from the breast such as lymph nodes or distant organs. \n",
    "\n",
    "SUBTLETY= refers to the degree or level of difficulty in detecting or characterizing abnormalities or findings in a mammogram or other breast imaging studies. It describes how challenging it may be for radiologists or healthcare professionals to identify and interpret certain features or changes in the breast tissue.  Breast imaging can present various levels of subtlety, depending on factors such as the size, location, shape, density, and appearance of the abnormalities. Some findings may be more conspicuous or obvious, while others can be more subtle and require careful scrutiny or additional imaging techniques for accurate detection and interpretation.  There isn't a universally standardized subtlety grading system.\n",
    "    Grade 1: obvious or easily recognized findings. These are typically large, distinct and easily identified.\n",
    "    Grade 2: moderately subtle findings, they may be less obvious and require closer attention and analysis to detect and interpret accurately.\n",
    "    Grade 3: subtle findings, they are more challenging to detect and may require additional imaging views or expert interpretation\n",
    "    Grade 4: very subtle findings, they are significantly challenging to detect and may require specialized expertise, advanced imaging techniques.\n",
    "    Grade 5: exceptionally elusive and challenging to identify even for experienced radiologists or medical experts.\n"
   ]
  },
  {
   "cell_type": "code",
   "execution_count": 26,
   "metadata": {},
   "outputs": [
    {
     "name": "stdout",
     "output_type": "stream",
     "text": [
      "<class 'pandas.core.frame.DataFrame'>\n",
      "RangeIndex: 1546 entries, 0 to 1545\n",
      "Data columns (total 15 columns):\n",
      " #   Column                   Non-Null Count  Dtype  \n",
      "---  ------                   --------------  -----  \n",
      " 0   patient_id               1546 non-null   object \n",
      " 1   breast density           1546 non-null   int64  \n",
      " 2   left or right breast     1546 non-null   object \n",
      " 3   image view               1546 non-null   object \n",
      " 4   abnormality id           1546 non-null   int64  \n",
      " 5   abnormality type         1546 non-null   object \n",
      " 6   calc type                1526 non-null   object \n",
      " 7   calc distribution        1170 non-null   object \n",
      " 8   assessment               1546 non-null   int64  \n",
      " 9   pathology                1546 non-null   object \n",
      " 10  subtlety                 1546 non-null   int64  \n",
      " 11  image file path          1546 non-null   object \n",
      " 12  cropped image file path  1546 non-null   object \n",
      " 13  ROI mask file path       1546 non-null   object \n",
      " 14  Unnamed: 14              0 non-null      float64\n",
      "dtypes: float64(1), int64(4), object(10)\n",
      "memory usage: 181.3+ KB\n"
     ]
    }
   ],
   "source": [
    "patient_calc_train_data.info()"
   ]
  },
  {
   "cell_type": "code",
   "execution_count": 27,
   "metadata": {},
   "outputs": [
    {
     "data": {
      "text/html": [
       "<div>\n",
       "<style scoped>\n",
       "    .dataframe tbody tr th:only-of-type {\n",
       "        vertical-align: middle;\n",
       "    }\n",
       "\n",
       "    .dataframe tbody tr th {\n",
       "        vertical-align: top;\n",
       "    }\n",
       "\n",
       "    .dataframe thead th {\n",
       "        text-align: right;\n",
       "    }\n",
       "</style>\n",
       "<table border=\"1\" class=\"dataframe\">\n",
       "  <thead>\n",
       "    <tr style=\"text-align: right;\">\n",
       "      <th></th>\n",
       "      <th>breast density</th>\n",
       "      <th>abnormality id</th>\n",
       "      <th>assessment</th>\n",
       "      <th>subtlety</th>\n",
       "      <th>Unnamed: 14</th>\n",
       "    </tr>\n",
       "  </thead>\n",
       "  <tbody>\n",
       "    <tr>\n",
       "      <th>count</th>\n",
       "      <td>1546.000000</td>\n",
       "      <td>1546.000000</td>\n",
       "      <td>1546.000000</td>\n",
       "      <td>1546.000000</td>\n",
       "      <td>0.0</td>\n",
       "    </tr>\n",
       "    <tr>\n",
       "      <th>mean</th>\n",
       "      <td>2.663648</td>\n",
       "      <td>1.415265</td>\n",
       "      <td>3.258732</td>\n",
       "      <td>3.411384</td>\n",
       "      <td>NaN</td>\n",
       "    </tr>\n",
       "    <tr>\n",
       "      <th>std</th>\n",
       "      <td>0.937219</td>\n",
       "      <td>0.903571</td>\n",
       "      <td>1.229231</td>\n",
       "      <td>1.179754</td>\n",
       "      <td>NaN</td>\n",
       "    </tr>\n",
       "    <tr>\n",
       "      <th>min</th>\n",
       "      <td>1.000000</td>\n",
       "      <td>1.000000</td>\n",
       "      <td>0.000000</td>\n",
       "      <td>1.000000</td>\n",
       "      <td>NaN</td>\n",
       "    </tr>\n",
       "    <tr>\n",
       "      <th>25%</th>\n",
       "      <td>2.000000</td>\n",
       "      <td>1.000000</td>\n",
       "      <td>2.000000</td>\n",
       "      <td>3.000000</td>\n",
       "      <td>NaN</td>\n",
       "    </tr>\n",
       "    <tr>\n",
       "      <th>50%</th>\n",
       "      <td>3.000000</td>\n",
       "      <td>1.000000</td>\n",
       "      <td>4.000000</td>\n",
       "      <td>3.000000</td>\n",
       "      <td>NaN</td>\n",
       "    </tr>\n",
       "    <tr>\n",
       "      <th>75%</th>\n",
       "      <td>3.000000</td>\n",
       "      <td>1.000000</td>\n",
       "      <td>4.000000</td>\n",
       "      <td>4.000000</td>\n",
       "      <td>NaN</td>\n",
       "    </tr>\n",
       "    <tr>\n",
       "      <th>max</th>\n",
       "      <td>4.000000</td>\n",
       "      <td>7.000000</td>\n",
       "      <td>5.000000</td>\n",
       "      <td>5.000000</td>\n",
       "      <td>NaN</td>\n",
       "    </tr>\n",
       "  </tbody>\n",
       "</table>\n",
       "</div>"
      ],
      "text/plain": [
       "       breast density  abnormality id   assessment     subtlety  Unnamed: 14\n",
       "count     1546.000000     1546.000000  1546.000000  1546.000000          0.0\n",
       "mean         2.663648        1.415265     3.258732     3.411384          NaN\n",
       "std          0.937219        0.903571     1.229231     1.179754          NaN\n",
       "min          1.000000        1.000000     0.000000     1.000000          NaN\n",
       "25%          2.000000        1.000000     2.000000     3.000000          NaN\n",
       "50%          3.000000        1.000000     4.000000     3.000000          NaN\n",
       "75%          3.000000        1.000000     4.000000     4.000000          NaN\n",
       "max          4.000000        7.000000     5.000000     5.000000          NaN"
      ]
     },
     "execution_count": 27,
     "metadata": {},
     "output_type": "execute_result"
    }
   ],
   "source": [
    "patient_calc_train_data.describe()"
   ]
  },
  {
   "cell_type": "code",
   "execution_count": 28,
   "metadata": {},
   "outputs": [],
   "source": [
    "## load the mass_train dataset\n",
    "patient_mass_train_data= pd.read_csv('/Users/lalebaksi/Desktop/DS_3rd_Phase/archive (2)/csv/mass_case_description_train_set.csv')"
   ]
  },
  {
   "cell_type": "code",
   "execution_count": 29,
   "metadata": {},
   "outputs": [
    {
     "data": {
      "text/html": [
       "<div>\n",
       "<style scoped>\n",
       "    .dataframe tbody tr th:only-of-type {\n",
       "        vertical-align: middle;\n",
       "    }\n",
       "\n",
       "    .dataframe tbody tr th {\n",
       "        vertical-align: top;\n",
       "    }\n",
       "\n",
       "    .dataframe thead th {\n",
       "        text-align: right;\n",
       "    }\n",
       "</style>\n",
       "<table border=\"1\" class=\"dataframe\">\n",
       "  <thead>\n",
       "    <tr style=\"text-align: right;\">\n",
       "      <th></th>\n",
       "      <th>patient_id</th>\n",
       "      <th>breast_density</th>\n",
       "      <th>left or right breast</th>\n",
       "      <th>image view</th>\n",
       "      <th>abnormality id</th>\n",
       "      <th>abnormality type</th>\n",
       "      <th>mass shape</th>\n",
       "      <th>mass margins</th>\n",
       "      <th>assessment</th>\n",
       "      <th>pathology</th>\n",
       "      <th>subtlety</th>\n",
       "      <th>image file path</th>\n",
       "      <th>cropped image file path</th>\n",
       "      <th>ROI mask file path</th>\n",
       "    </tr>\n",
       "  </thead>\n",
       "  <tbody>\n",
       "    <tr>\n",
       "      <th>0</th>\n",
       "      <td>P_00001</td>\n",
       "      <td>3</td>\n",
       "      <td>LEFT</td>\n",
       "      <td>CC</td>\n",
       "      <td>1</td>\n",
       "      <td>mass</td>\n",
       "      <td>IRREGULAR-ARCHITECTURAL_DISTORTION</td>\n",
       "      <td>SPICULATED</td>\n",
       "      <td>4</td>\n",
       "      <td>MALIGNANT</td>\n",
       "      <td>4</td>\n",
       "      <td>Mass-Training_P_00001_LEFT_CC/1.3.6.1.4.1.9590...</td>\n",
       "      <td>Mass-Training_P_00001_LEFT_CC_1/1.3.6.1.4.1.95...</td>\n",
       "      <td>Mass-Training_P_00001_LEFT_CC_1/1.3.6.1.4.1.95...</td>\n",
       "    </tr>\n",
       "    <tr>\n",
       "      <th>1</th>\n",
       "      <td>P_00001</td>\n",
       "      <td>3</td>\n",
       "      <td>LEFT</td>\n",
       "      <td>MLO</td>\n",
       "      <td>1</td>\n",
       "      <td>mass</td>\n",
       "      <td>IRREGULAR-ARCHITECTURAL_DISTORTION</td>\n",
       "      <td>SPICULATED</td>\n",
       "      <td>4</td>\n",
       "      <td>MALIGNANT</td>\n",
       "      <td>4</td>\n",
       "      <td>Mass-Training_P_00001_LEFT_MLO/1.3.6.1.4.1.959...</td>\n",
       "      <td>Mass-Training_P_00001_LEFT_MLO_1/1.3.6.1.4.1.9...</td>\n",
       "      <td>Mass-Training_P_00001_LEFT_MLO_1/1.3.6.1.4.1.9...</td>\n",
       "    </tr>\n",
       "    <tr>\n",
       "      <th>2</th>\n",
       "      <td>P_00004</td>\n",
       "      <td>3</td>\n",
       "      <td>LEFT</td>\n",
       "      <td>CC</td>\n",
       "      <td>1</td>\n",
       "      <td>mass</td>\n",
       "      <td>ARCHITECTURAL_DISTORTION</td>\n",
       "      <td>ILL_DEFINED</td>\n",
       "      <td>4</td>\n",
       "      <td>BENIGN</td>\n",
       "      <td>3</td>\n",
       "      <td>Mass-Training_P_00004_LEFT_CC/1.3.6.1.4.1.9590...</td>\n",
       "      <td>Mass-Training_P_00004_LEFT_CC_1/1.3.6.1.4.1.95...</td>\n",
       "      <td>Mass-Training_P_00004_LEFT_CC_1/1.3.6.1.4.1.95...</td>\n",
       "    </tr>\n",
       "    <tr>\n",
       "      <th>3</th>\n",
       "      <td>P_00004</td>\n",
       "      <td>3</td>\n",
       "      <td>LEFT</td>\n",
       "      <td>MLO</td>\n",
       "      <td>1</td>\n",
       "      <td>mass</td>\n",
       "      <td>ARCHITECTURAL_DISTORTION</td>\n",
       "      <td>ILL_DEFINED</td>\n",
       "      <td>4</td>\n",
       "      <td>BENIGN</td>\n",
       "      <td>3</td>\n",
       "      <td>Mass-Training_P_00004_LEFT_MLO/1.3.6.1.4.1.959...</td>\n",
       "      <td>Mass-Training_P_00004_LEFT_MLO_1/1.3.6.1.4.1.9...</td>\n",
       "      <td>Mass-Training_P_00004_LEFT_MLO_1/1.3.6.1.4.1.9...</td>\n",
       "    </tr>\n",
       "    <tr>\n",
       "      <th>4</th>\n",
       "      <td>P_00004</td>\n",
       "      <td>3</td>\n",
       "      <td>RIGHT</td>\n",
       "      <td>MLO</td>\n",
       "      <td>1</td>\n",
       "      <td>mass</td>\n",
       "      <td>OVAL</td>\n",
       "      <td>CIRCUMSCRIBED</td>\n",
       "      <td>4</td>\n",
       "      <td>BENIGN</td>\n",
       "      <td>5</td>\n",
       "      <td>Mass-Training_P_00004_RIGHT_MLO/1.3.6.1.4.1.95...</td>\n",
       "      <td>Mass-Training_P_00004_RIGHT_MLO_1/1.3.6.1.4.1....</td>\n",
       "      <td>Mass-Training_P_00004_RIGHT_MLO_1/1.3.6.1.4.1....</td>\n",
       "    </tr>\n",
       "  </tbody>\n",
       "</table>\n",
       "</div>"
      ],
      "text/plain": [
       "  patient_id  breast_density left or right breast image view  abnormality id  \\\n",
       "0    P_00001               3                 LEFT         CC               1   \n",
       "1    P_00001               3                 LEFT        MLO               1   \n",
       "2    P_00004               3                 LEFT         CC               1   \n",
       "3    P_00004               3                 LEFT        MLO               1   \n",
       "4    P_00004               3                RIGHT        MLO               1   \n",
       "\n",
       "  abnormality type                          mass shape   mass margins  \\\n",
       "0             mass  IRREGULAR-ARCHITECTURAL_DISTORTION     SPICULATED   \n",
       "1             mass  IRREGULAR-ARCHITECTURAL_DISTORTION     SPICULATED   \n",
       "2             mass            ARCHITECTURAL_DISTORTION    ILL_DEFINED   \n",
       "3             mass            ARCHITECTURAL_DISTORTION    ILL_DEFINED   \n",
       "4             mass                                OVAL  CIRCUMSCRIBED   \n",
       "\n",
       "   assessment  pathology  subtlety  \\\n",
       "0           4  MALIGNANT         4   \n",
       "1           4  MALIGNANT         4   \n",
       "2           4     BENIGN         3   \n",
       "3           4     BENIGN         3   \n",
       "4           4     BENIGN         5   \n",
       "\n",
       "                                     image file path  \\\n",
       "0  Mass-Training_P_00001_LEFT_CC/1.3.6.1.4.1.9590...   \n",
       "1  Mass-Training_P_00001_LEFT_MLO/1.3.6.1.4.1.959...   \n",
       "2  Mass-Training_P_00004_LEFT_CC/1.3.6.1.4.1.9590...   \n",
       "3  Mass-Training_P_00004_LEFT_MLO/1.3.6.1.4.1.959...   \n",
       "4  Mass-Training_P_00004_RIGHT_MLO/1.3.6.1.4.1.95...   \n",
       "\n",
       "                             cropped image file path  \\\n",
       "0  Mass-Training_P_00001_LEFT_CC_1/1.3.6.1.4.1.95...   \n",
       "1  Mass-Training_P_00001_LEFT_MLO_1/1.3.6.1.4.1.9...   \n",
       "2  Mass-Training_P_00004_LEFT_CC_1/1.3.6.1.4.1.95...   \n",
       "3  Mass-Training_P_00004_LEFT_MLO_1/1.3.6.1.4.1.9...   \n",
       "4  Mass-Training_P_00004_RIGHT_MLO_1/1.3.6.1.4.1....   \n",
       "\n",
       "                                  ROI mask file path  \n",
       "0  Mass-Training_P_00001_LEFT_CC_1/1.3.6.1.4.1.95...  \n",
       "1  Mass-Training_P_00001_LEFT_MLO_1/1.3.6.1.4.1.9...  \n",
       "2  Mass-Training_P_00004_LEFT_CC_1/1.3.6.1.4.1.95...  \n",
       "3  Mass-Training_P_00004_LEFT_MLO_1/1.3.6.1.4.1.9...  \n",
       "4  Mass-Training_P_00004_RIGHT_MLO_1/1.3.6.1.4.1....  "
      ]
     },
     "execution_count": 29,
     "metadata": {},
     "output_type": "execute_result"
    }
   ],
   "source": [
    "patient_mass_train_data.head()"
   ]
  },
  {
   "cell_type": "code",
   "execution_count": 30,
   "metadata": {},
   "outputs": [
    {
     "name": "stdout",
     "output_type": "stream",
     "text": [
      "<class 'pandas.core.frame.DataFrame'>\n",
      "RangeIndex: 1318 entries, 0 to 1317\n",
      "Data columns (total 14 columns):\n",
      " #   Column                   Non-Null Count  Dtype \n",
      "---  ------                   --------------  ----- \n",
      " 0   patient_id               1318 non-null   object\n",
      " 1   breast_density           1318 non-null   int64 \n",
      " 2   left or right breast     1318 non-null   object\n",
      " 3   image view               1318 non-null   object\n",
      " 4   abnormality id           1318 non-null   int64 \n",
      " 5   abnormality type         1318 non-null   object\n",
      " 6   mass shape               1314 non-null   object\n",
      " 7   mass margins             1275 non-null   object\n",
      " 8   assessment               1318 non-null   int64 \n",
      " 9   pathology                1318 non-null   object\n",
      " 10  subtlety                 1318 non-null   int64 \n",
      " 11  image file path          1318 non-null   object\n",
      " 12  cropped image file path  1318 non-null   object\n",
      " 13  ROI mask file path       1318 non-null   object\n",
      "dtypes: int64(4), object(10)\n",
      "memory usage: 144.3+ KB\n"
     ]
    }
   ],
   "source": [
    "patient_mass_train_data.info()"
   ]
  },
  {
   "cell_type": "code",
   "execution_count": 31,
   "metadata": {},
   "outputs": [
    {
     "data": {
      "text/html": [
       "<div>\n",
       "<style scoped>\n",
       "    .dataframe tbody tr th:only-of-type {\n",
       "        vertical-align: middle;\n",
       "    }\n",
       "\n",
       "    .dataframe tbody tr th {\n",
       "        vertical-align: top;\n",
       "    }\n",
       "\n",
       "    .dataframe thead th {\n",
       "        text-align: right;\n",
       "    }\n",
       "</style>\n",
       "<table border=\"1\" class=\"dataframe\">\n",
       "  <thead>\n",
       "    <tr style=\"text-align: right;\">\n",
       "      <th></th>\n",
       "      <th>breast_density</th>\n",
       "      <th>abnormality id</th>\n",
       "      <th>assessment</th>\n",
       "      <th>subtlety</th>\n",
       "    </tr>\n",
       "  </thead>\n",
       "  <tbody>\n",
       "    <tr>\n",
       "      <th>count</th>\n",
       "      <td>1318.000000</td>\n",
       "      <td>1318.000000</td>\n",
       "      <td>1318.000000</td>\n",
       "      <td>1318.000000</td>\n",
       "    </tr>\n",
       "    <tr>\n",
       "      <th>mean</th>\n",
       "      <td>2.203338</td>\n",
       "      <td>1.116085</td>\n",
       "      <td>3.504552</td>\n",
       "      <td>3.965857</td>\n",
       "    </tr>\n",
       "    <tr>\n",
       "      <th>std</th>\n",
       "      <td>0.873774</td>\n",
       "      <td>0.467013</td>\n",
       "      <td>1.414609</td>\n",
       "      <td>1.102032</td>\n",
       "    </tr>\n",
       "    <tr>\n",
       "      <th>min</th>\n",
       "      <td>1.000000</td>\n",
       "      <td>1.000000</td>\n",
       "      <td>0.000000</td>\n",
       "      <td>0.000000</td>\n",
       "    </tr>\n",
       "    <tr>\n",
       "      <th>25%</th>\n",
       "      <td>2.000000</td>\n",
       "      <td>1.000000</td>\n",
       "      <td>3.000000</td>\n",
       "      <td>3.000000</td>\n",
       "    </tr>\n",
       "    <tr>\n",
       "      <th>50%</th>\n",
       "      <td>2.000000</td>\n",
       "      <td>1.000000</td>\n",
       "      <td>4.000000</td>\n",
       "      <td>4.000000</td>\n",
       "    </tr>\n",
       "    <tr>\n",
       "      <th>75%</th>\n",
       "      <td>3.000000</td>\n",
       "      <td>1.000000</td>\n",
       "      <td>4.000000</td>\n",
       "      <td>5.000000</td>\n",
       "    </tr>\n",
       "    <tr>\n",
       "      <th>max</th>\n",
       "      <td>4.000000</td>\n",
       "      <td>6.000000</td>\n",
       "      <td>5.000000</td>\n",
       "      <td>5.000000</td>\n",
       "    </tr>\n",
       "  </tbody>\n",
       "</table>\n",
       "</div>"
      ],
      "text/plain": [
       "       breast_density  abnormality id   assessment     subtlety\n",
       "count     1318.000000     1318.000000  1318.000000  1318.000000\n",
       "mean         2.203338        1.116085     3.504552     3.965857\n",
       "std          0.873774        0.467013     1.414609     1.102032\n",
       "min          1.000000        1.000000     0.000000     0.000000\n",
       "25%          2.000000        1.000000     3.000000     3.000000\n",
       "50%          2.000000        1.000000     4.000000     4.000000\n",
       "75%          3.000000        1.000000     4.000000     5.000000\n",
       "max          4.000000        6.000000     5.000000     5.000000"
      ]
     },
     "execution_count": 31,
     "metadata": {},
     "output_type": "execute_result"
    }
   ],
   "source": [
    "patient_mass_train_data.describe()"
   ]
  },
  {
   "cell_type": "code",
   "execution_count": 32,
   "metadata": {},
   "outputs": [
    {
     "name": "stdout",
     "output_type": "stream",
     "text": [
      "<class 'pandas.core.frame.DataFrame'>\n",
      "RangeIndex: 10237 entries, 0 to 10236\n",
      "Data columns (total 38 columns):\n",
      " #   Column                                       Non-Null Count  Dtype  \n",
      "---  ------                                       --------------  -----  \n",
      " 0   file_path                                    10237 non-null  object \n",
      " 1   image_path                                   10237 non-null  object \n",
      " 2   AccessionNumber                              0 non-null      float64\n",
      " 3   BitsAllocated                                10237 non-null  int64  \n",
      " 4   BitsStored                                   10237 non-null  int64  \n",
      " 5   BodyPartExamined                             10237 non-null  object \n",
      " 6   Columns                                      10237 non-null  int64  \n",
      " 7   ContentDate                                  10237 non-null  int64  \n",
      " 8   ContentTime                                  10237 non-null  float64\n",
      " 9   ConversionType                               10237 non-null  object \n",
      " 10  HighBit                                      10237 non-null  int64  \n",
      " 11  InstanceNumber                               10237 non-null  int64  \n",
      " 12  LargestImagePixelValue                       10237 non-null  int64  \n",
      " 13  Laterality                                   9671 non-null   object \n",
      " 14  Modality                                     10237 non-null  object \n",
      " 15  PatientBirthDate                             0 non-null      float64\n",
      " 16  PatientID                                    10237 non-null  object \n",
      " 17  PatientName                                  10237 non-null  object \n",
      " 18  PatientOrientation                           10237 non-null  object \n",
      " 19  PatientSex                                   0 non-null      float64\n",
      " 20  PhotometricInterpretation                    10237 non-null  object \n",
      " 21  PixelRepresentation                          10237 non-null  int64  \n",
      " 22  ReferringPhysicianName                       0 non-null      float64\n",
      " 23  Rows                                         10237 non-null  int64  \n",
      " 24  SOPClassUID                                  10237 non-null  object \n",
      " 25  SOPInstanceUID                               10237 non-null  object \n",
      " 26  SamplesPerPixel                              10237 non-null  int64  \n",
      " 27  SecondaryCaptureDeviceManufacturer           10237 non-null  object \n",
      " 28  SecondaryCaptureDeviceManufacturerModelName  10237 non-null  object \n",
      " 29  SeriesDescription                            9671 non-null   object \n",
      " 30  SeriesInstanceUID                            10237 non-null  object \n",
      " 31  SeriesNumber                                 10237 non-null  int64  \n",
      " 32  SmallestImagePixelValue                      10237 non-null  int64  \n",
      " 33  SpecificCharacterSet                         10237 non-null  object \n",
      " 34  StudyDate                                    9671 non-null   float64\n",
      " 35  StudyID                                      10237 non-null  object \n",
      " 36  StudyInstanceUID                             10237 non-null  object \n",
      " 37  StudyTime                                    9671 non-null   float64\n",
      "dtypes: float64(7), int64(12), object(19)\n",
      "memory usage: 3.0+ MB\n"
     ]
    }
   ],
   "source": [
    "patient_dicom_data.info()"
   ]
  },
  {
   "cell_type": "code",
   "execution_count": 33,
   "metadata": {},
   "outputs": [],
   "source": [
    "## drop columns in patient_dicom_data that have no data - no need to fill in as they are completely empty\n",
    "patient_dicom_data.drop(['AccessionNumber', 'PatientBirthDate', 'PatientSex', 'ReferringPhysicianName'], axis=1, inplace=True)"
   ]
  },
  {
   "cell_type": "code",
   "execution_count": 34,
   "metadata": {},
   "outputs": [
    {
     "name": "stdout",
     "output_type": "stream",
     "text": [
      "<class 'pandas.core.frame.DataFrame'>\n",
      "RangeIndex: 10237 entries, 0 to 10236\n",
      "Data columns (total 34 columns):\n",
      " #   Column                                       Non-Null Count  Dtype  \n",
      "---  ------                                       --------------  -----  \n",
      " 0   file_path                                    10237 non-null  object \n",
      " 1   image_path                                   10237 non-null  object \n",
      " 2   BitsAllocated                                10237 non-null  int64  \n",
      " 3   BitsStored                                   10237 non-null  int64  \n",
      " 4   BodyPartExamined                             10237 non-null  object \n",
      " 5   Columns                                      10237 non-null  int64  \n",
      " 6   ContentDate                                  10237 non-null  int64  \n",
      " 7   ContentTime                                  10237 non-null  float64\n",
      " 8   ConversionType                               10237 non-null  object \n",
      " 9   HighBit                                      10237 non-null  int64  \n",
      " 10  InstanceNumber                               10237 non-null  int64  \n",
      " 11  LargestImagePixelValue                       10237 non-null  int64  \n",
      " 12  Laterality                                   9671 non-null   object \n",
      " 13  Modality                                     10237 non-null  object \n",
      " 14  PatientID                                    10237 non-null  object \n",
      " 15  PatientName                                  10237 non-null  object \n",
      " 16  PatientOrientation                           10237 non-null  object \n",
      " 17  PhotometricInterpretation                    10237 non-null  object \n",
      " 18  PixelRepresentation                          10237 non-null  int64  \n",
      " 19  Rows                                         10237 non-null  int64  \n",
      " 20  SOPClassUID                                  10237 non-null  object \n",
      " 21  SOPInstanceUID                               10237 non-null  object \n",
      " 22  SamplesPerPixel                              10237 non-null  int64  \n",
      " 23  SecondaryCaptureDeviceManufacturer           10237 non-null  object \n",
      " 24  SecondaryCaptureDeviceManufacturerModelName  10237 non-null  object \n",
      " 25  SeriesDescription                            9671 non-null   object \n",
      " 26  SeriesInstanceUID                            10237 non-null  object \n",
      " 27  SeriesNumber                                 10237 non-null  int64  \n",
      " 28  SmallestImagePixelValue                      10237 non-null  int64  \n",
      " 29  SpecificCharacterSet                         10237 non-null  object \n",
      " 30  StudyDate                                    9671 non-null   float64\n",
      " 31  StudyID                                      10237 non-null  object \n",
      " 32  StudyInstanceUID                             10237 non-null  object \n",
      " 33  StudyTime                                    9671 non-null   float64\n",
      "dtypes: float64(3), int64(12), object(19)\n",
      "memory usage: 2.7+ MB\n"
     ]
    }
   ],
   "source": [
    "patient_dicom_data.info()"
   ]
  },
  {
   "cell_type": "code",
   "execution_count": 35,
   "metadata": {},
   "outputs": [],
   "source": [
    "## drop the columns that we dont need \n",
    "## do I need Study Date/Time/Instance/ID - drop them\n",
    "patient_dicom_data.drop(['StudyDate', 'StudyTime', 'StudyInstanceUID', 'StudyID'], axis=1, inplace=True)\n",
    "patient_dicom_data.drop(['Columns', 'ContentDate', 'ContentTime', 'InstanceNumber', 'Rows', 'SOPClassUID', 'SOPInstanceUID', 'SeriesInstanceUID', 'SeriesNumber'], axis=1, inplace=True)"
   ]
  },
  {
   "cell_type": "code",
   "execution_count": 36,
   "metadata": {},
   "outputs": [
    {
     "data": {
      "text/plain": [
       "file_path                                        0\n",
       "image_path                                       0\n",
       "BitsAllocated                                    0\n",
       "BitsStored                                       0\n",
       "BodyPartExamined                                 0\n",
       "ConversionType                                   0\n",
       "HighBit                                          0\n",
       "LargestImagePixelValue                           0\n",
       "Laterality                                     566\n",
       "Modality                                         0\n",
       "PatientID                                        0\n",
       "PatientName                                      0\n",
       "PatientOrientation                               0\n",
       "PhotometricInterpretation                        0\n",
       "PixelRepresentation                              0\n",
       "SamplesPerPixel                                  0\n",
       "SecondaryCaptureDeviceManufacturer               0\n",
       "SecondaryCaptureDeviceManufacturerModelName      0\n",
       "SeriesDescription                              566\n",
       "SmallestImagePixelValue                          0\n",
       "SpecificCharacterSet                             0\n",
       "dtype: int64"
      ]
     },
     "execution_count": 36,
     "metadata": {},
     "output_type": "execute_result"
    }
   ],
   "source": [
    "## are there any missing data in the dataset?\n",
    "patient_dicom_data.isna().sum()"
   ]
  },
  {
   "cell_type": "code",
   "execution_count": 37,
   "metadata": {},
   "outputs": [],
   "source": [
    "## fill in the missing data for Laterality and Series Description\n",
    "## use the 'bfill' method=  replaces missing values with the next available non-null value from the subsequent row.\n",
    "\n",
    "patient_dicom_data['Laterality'].fillna(method='bfill', axis=0, inplace=True)\n",
    "patient_dicom_data['SeriesDescription'].fillna(method='bfill', axis=0, inplace=True)"
   ]
  },
  {
   "cell_type": "code",
   "execution_count": 38,
   "metadata": {},
   "outputs": [
    {
     "data": {
      "text/plain": [
       "file_path                                      0\n",
       "image_path                                     0\n",
       "BitsAllocated                                  0\n",
       "BitsStored                                     0\n",
       "BodyPartExamined                               0\n",
       "ConversionType                                 0\n",
       "HighBit                                        0\n",
       "LargestImagePixelValue                         0\n",
       "Laterality                                     0\n",
       "Modality                                       0\n",
       "PatientID                                      0\n",
       "PatientName                                    0\n",
       "PatientOrientation                             0\n",
       "PhotometricInterpretation                      0\n",
       "PixelRepresentation                            0\n",
       "SamplesPerPixel                                0\n",
       "SecondaryCaptureDeviceManufacturer             0\n",
       "SecondaryCaptureDeviceManufacturerModelName    0\n",
       "SeriesDescription                              0\n",
       "SmallestImagePixelValue                        0\n",
       "SpecificCharacterSet                           0\n",
       "dtype: int64"
      ]
     },
     "execution_count": 38,
     "metadata": {},
     "output_type": "execute_result"
    }
   ],
   "source": [
    "patient_dicom_data.isnull().sum()"
   ]
  },
  {
   "cell_type": "code",
   "execution_count": 39,
   "metadata": {},
   "outputs": [
    {
     "data": {
      "text/plain": [
       "patient_id                    0\n",
       "breast density                0\n",
       "left or right breast          0\n",
       "image view                    0\n",
       "abnormality id                0\n",
       "abnormality type              0\n",
       "calc type                    20\n",
       "calc distribution           376\n",
       "assessment                    0\n",
       "pathology                     0\n",
       "subtlety                      0\n",
       "image file path               0\n",
       "cropped image file path       0\n",
       "ROI mask file path            0\n",
       "Unnamed: 14                1546\n",
       "dtype: int64"
      ]
     },
     "execution_count": 39,
     "metadata": {},
     "output_type": "execute_result"
    }
   ],
   "source": [
    "## check if there are any missing values in patient_calc_train_data\n",
    "patient_calc_train_data.isnull().sum()"
   ]
  },
  {
   "cell_type": "code",
   "execution_count": 40,
   "metadata": {},
   "outputs": [],
   "source": [
    "## fill the missing values with 'bfill' again as previously used\n",
    "## fill missing values for calc type and calc distribution\n",
    "\n",
    "patient_calc_train_data['calc type'].fillna(method='bfill', axis=0, inplace=True)\n",
    "patient_calc_train_data['calc distribution'].fillna(method='bfill', axis=0, inplace=True)"
   ]
  },
  {
   "cell_type": "code",
   "execution_count": 41,
   "metadata": {},
   "outputs": [
    {
     "data": {
      "text/plain": [
       "patient_id                    0\n",
       "breast density                0\n",
       "left or right breast          0\n",
       "image view                    0\n",
       "abnormality id                0\n",
       "abnormality type              0\n",
       "calc type                     0\n",
       "calc distribution             0\n",
       "assessment                    0\n",
       "pathology                     0\n",
       "subtlety                      0\n",
       "image file path               0\n",
       "cropped image file path       0\n",
       "ROI mask file path            0\n",
       "Unnamed: 14                1546\n",
       "dtype: int64"
      ]
     },
     "execution_count": 41,
     "metadata": {},
     "output_type": "execute_result"
    }
   ],
   "source": [
    "## check again\n",
    "patient_calc_train_data.isnull().sum()"
   ]
  },
  {
   "cell_type": "code",
   "execution_count": 42,
   "metadata": {},
   "outputs": [],
   "source": [
    "## drop unnamed column as it appeared from nowhere??\n",
    "\n",
    "patient_calc_train_data.drop(['Unnamed: 14'], axis=1, inplace=True)"
   ]
  },
  {
   "cell_type": "code",
   "execution_count": 43,
   "metadata": {},
   "outputs": [
    {
     "name": "stdout",
     "output_type": "stream",
     "text": [
      "<class 'pandas.core.frame.DataFrame'>\n",
      "RangeIndex: 1546 entries, 0 to 1545\n",
      "Data columns (total 14 columns):\n",
      " #   Column                   Non-Null Count  Dtype \n",
      "---  ------                   --------------  ----- \n",
      " 0   patient_id               1546 non-null   object\n",
      " 1   breast density           1546 non-null   int64 \n",
      " 2   left or right breast     1546 non-null   object\n",
      " 3   image view               1546 non-null   object\n",
      " 4   abnormality id           1546 non-null   int64 \n",
      " 5   abnormality type         1546 non-null   object\n",
      " 6   calc type                1546 non-null   object\n",
      " 7   calc distribution        1546 non-null   object\n",
      " 8   assessment               1546 non-null   int64 \n",
      " 9   pathology                1546 non-null   object\n",
      " 10  subtlety                 1546 non-null   int64 \n",
      " 11  image file path          1546 non-null   object\n",
      " 12  cropped image file path  1546 non-null   object\n",
      " 13  ROI mask file path       1546 non-null   object\n",
      "dtypes: int64(4), object(10)\n",
      "memory usage: 169.2+ KB\n"
     ]
    }
   ],
   "source": [
    "## check the data types\n",
    "patient_calc_train_data.info()"
   ]
  },
  {
   "cell_type": "code",
   "execution_count": 44,
   "metadata": {},
   "outputs": [],
   "source": [
    "## change object types to category type to enable encoding\n",
    "patient_calc_train_data['left or right breast']= patient_calc_train_data['left or right breast'].astype('category')\n",
    "patient_calc_train_data['image view']= patient_calc_train_data['image view'].astype('category')\n",
    "patient_calc_train_data['abnormality type']= patient_calc_train_data['abnormality type'].astype('category')\n",
    "patient_calc_train_data['calc type']= patient_calc_train_data['calc type'].astype('category')\n",
    "patient_calc_train_data['calc distribution']= patient_calc_train_data['calc distribution'].astype('category')\n",
    "patient_calc_train_data['pathology']= patient_calc_train_data['pathology'].astype('category')\n"
   ]
  },
  {
   "cell_type": "code",
   "execution_count": 45,
   "metadata": {},
   "outputs": [
    {
     "name": "stdout",
     "output_type": "stream",
     "text": [
      "<class 'pandas.core.frame.DataFrame'>\n",
      "RangeIndex: 1546 entries, 0 to 1545\n",
      "Data columns (total 14 columns):\n",
      " #   Column                   Non-Null Count  Dtype   \n",
      "---  ------                   --------------  -----   \n",
      " 0   patient_id               1546 non-null   object  \n",
      " 1   breast density           1546 non-null   int64   \n",
      " 2   left or right breast     1546 non-null   category\n",
      " 3   image view               1546 non-null   category\n",
      " 4   abnormality id           1546 non-null   int64   \n",
      " 5   abnormality type         1546 non-null   category\n",
      " 6   calc type                1546 non-null   category\n",
      " 7   calc distribution        1546 non-null   category\n",
      " 8   assessment               1546 non-null   int64   \n",
      " 9   pathology                1546 non-null   category\n",
      " 10  subtlety                 1546 non-null   int64   \n",
      " 11  image file path          1546 non-null   object  \n",
      " 12  cropped image file path  1546 non-null   object  \n",
      " 13  ROI mask file path       1546 non-null   object  \n",
      "dtypes: category(6), int64(4), object(4)\n",
      "memory usage: 108.1+ KB\n"
     ]
    }
   ],
   "source": [
    "## check that chosen data types have changed to category\n",
    "patient_calc_train_data.info()"
   ]
  },
  {
   "cell_type": "code",
   "execution_count": 46,
   "metadata": {},
   "outputs": [
    {
     "data": {
      "text/plain": [
       "patient_id                  0\n",
       "breast_density              0\n",
       "left or right breast        0\n",
       "image view                  0\n",
       "abnormality id              0\n",
       "abnormality type            0\n",
       "mass shape                  4\n",
       "mass margins               43\n",
       "assessment                  0\n",
       "pathology                   0\n",
       "subtlety                    0\n",
       "image file path             0\n",
       "cropped image file path     0\n",
       "ROI mask file path          0\n",
       "dtype: int64"
      ]
     },
     "execution_count": 46,
     "metadata": {},
     "output_type": "execute_result"
    }
   ],
   "source": [
    "## check the missing values for patient_mass_train data\n",
    "patient_mass_train_data.isnull().sum()"
   ]
  },
  {
   "cell_type": "code",
   "execution_count": 47,
   "metadata": {},
   "outputs": [],
   "source": [
    "## fill the data for mass shape and mass margins\n",
    "patient_mass_train_data['mass shape'].fillna(method='bfill', axis=0, inplace=True)\n",
    "patient_mass_train_data['mass margins'].fillna(method='bfill', axis=0, inplace=True)\n"
   ]
  },
  {
   "cell_type": "code",
   "execution_count": 48,
   "metadata": {},
   "outputs": [
    {
     "data": {
      "text/plain": [
       "patient_id                 0\n",
       "breast_density             0\n",
       "left or right breast       0\n",
       "image view                 0\n",
       "abnormality id             0\n",
       "abnormality type           0\n",
       "mass shape                 0\n",
       "mass margins               0\n",
       "assessment                 0\n",
       "pathology                  0\n",
       "subtlety                   0\n",
       "image file path            0\n",
       "cropped image file path    0\n",
       "ROI mask file path         0\n",
       "dtype: int64"
      ]
     },
     "execution_count": 48,
     "metadata": {},
     "output_type": "execute_result"
    }
   ],
   "source": [
    "## check if missing values are filled\n",
    "patient_mass_train_data.isnull().sum()"
   ]
  },
  {
   "cell_type": "code",
   "execution_count": 49,
   "metadata": {},
   "outputs": [
    {
     "name": "stdout",
     "output_type": "stream",
     "text": [
      "<class 'pandas.core.frame.DataFrame'>\n",
      "RangeIndex: 1318 entries, 0 to 1317\n",
      "Data columns (total 14 columns):\n",
      " #   Column                   Non-Null Count  Dtype \n",
      "---  ------                   --------------  ----- \n",
      " 0   patient_id               1318 non-null   object\n",
      " 1   breast_density           1318 non-null   int64 \n",
      " 2   left or right breast     1318 non-null   object\n",
      " 3   image view               1318 non-null   object\n",
      " 4   abnormality id           1318 non-null   int64 \n",
      " 5   abnormality type         1318 non-null   object\n",
      " 6   mass shape               1318 non-null   object\n",
      " 7   mass margins             1318 non-null   object\n",
      " 8   assessment               1318 non-null   int64 \n",
      " 9   pathology                1318 non-null   object\n",
      " 10  subtlety                 1318 non-null   int64 \n",
      " 11  image file path          1318 non-null   object\n",
      " 12  cropped image file path  1318 non-null   object\n",
      " 13  ROI mask file path       1318 non-null   object\n",
      "dtypes: int64(4), object(10)\n",
      "memory usage: 144.3+ KB\n"
     ]
    }
   ],
   "source": [
    "## check the data types\n",
    "patient_mass_train_data.info()"
   ]
  },
  {
   "cell_type": "code",
   "execution_count": 50,
   "metadata": {},
   "outputs": [],
   "source": [
    "## convert the data types of object to category, as same as calc_train data for encoding\n",
    "patient_mass_train_data['left or right breast']= patient_mass_train_data['left or right breast'].astype('category')\n",
    "patient_mass_train_data['image view']= patient_mass_train_data['image view'].astype('category')\n",
    "patient_mass_train_data['abnormality type']= patient_mass_train_data['abnormality type'].astype('category')\n",
    "patient_mass_train_data['mass shape']= patient_mass_train_data['mass shape'].astype('category')\n",
    "patient_mass_train_data['mass margins']= patient_mass_train_data['mass margins'].astype('category')\n",
    "patient_mass_train_data['pathology']= patient_mass_train_data['pathology'].astype('category')\n"
   ]
  },
  {
   "cell_type": "code",
   "execution_count": 51,
   "metadata": {},
   "outputs": [
    {
     "name": "stdout",
     "output_type": "stream",
     "text": [
      "<class 'pandas.core.frame.DataFrame'>\n",
      "RangeIndex: 1318 entries, 0 to 1317\n",
      "Data columns (total 14 columns):\n",
      " #   Column                   Non-Null Count  Dtype   \n",
      "---  ------                   --------------  -----   \n",
      " 0   patient_id               1318 non-null   object  \n",
      " 1   breast_density           1318 non-null   int64   \n",
      " 2   left or right breast     1318 non-null   category\n",
      " 3   image view               1318 non-null   category\n",
      " 4   abnormality id           1318 non-null   int64   \n",
      " 5   abnormality type         1318 non-null   category\n",
      " 6   mass shape               1318 non-null   category\n",
      " 7   mass margins             1318 non-null   category\n",
      " 8   assessment               1318 non-null   int64   \n",
      " 9   pathology                1318 non-null   category\n",
      " 10  subtlety                 1318 non-null   int64   \n",
      " 11  image file path          1318 non-null   object  \n",
      " 12  cropped image file path  1318 non-null   object  \n",
      " 13  ROI mask file path       1318 non-null   object  \n",
      "dtypes: category(6), int64(4), object(4)\n",
      "memory usage: 92.1+ KB\n"
     ]
    }
   ],
   "source": [
    "## check again for data types\n",
    "patient_mass_train_data.info()"
   ]
  },
  {
   "attachments": {},
   "cell_type": "markdown",
   "metadata": {},
   "source": [
    "DATA VISUALISATIONS"
   ]
  },
  {
   "cell_type": "code",
   "execution_count": 145,
   "metadata": {},
   "outputs": [
    {
     "data": {
      "text/html": [
       "<div>\n",
       "<style scoped>\n",
       "    .dataframe tbody tr th:only-of-type {\n",
       "        vertical-align: middle;\n",
       "    }\n",
       "\n",
       "    .dataframe tbody tr th {\n",
       "        vertical-align: top;\n",
       "    }\n",
       "\n",
       "    .dataframe thead th {\n",
       "        text-align: right;\n",
       "    }\n",
       "</style>\n",
       "<table border=\"1\" class=\"dataframe\">\n",
       "  <thead>\n",
       "    <tr style=\"text-align: right;\">\n",
       "      <th></th>\n",
       "      <th>SeriesDescription</th>\n",
       "      <th>No_SeriesDescription</th>\n",
       "    </tr>\n",
       "  </thead>\n",
       "  <tbody>\n",
       "    <tr>\n",
       "      <th>0</th>\n",
       "      <td>cropped images</td>\n",
       "      <td>3859</td>\n",
       "    </tr>\n",
       "    <tr>\n",
       "      <th>1</th>\n",
       "      <td>ROI mask images</td>\n",
       "      <td>3340</td>\n",
       "    </tr>\n",
       "    <tr>\n",
       "      <th>2</th>\n",
       "      <td>full mammogram images</td>\n",
       "      <td>3038</td>\n",
       "    </tr>\n",
       "  </tbody>\n",
       "</table>\n",
       "</div>"
      ],
      "text/plain": [
       "       SeriesDescription  No_SeriesDescription\n",
       "0         cropped images                  3859\n",
       "1        ROI mask images                  3340\n",
       "2  full mammogram images                  3038"
      ]
     },
     "execution_count": 145,
     "metadata": {},
     "output_type": "execute_result"
    }
   ],
   "source": [
    "## check how many different types of images in dicom_data\n",
    "series_dicom= pd.DataFrame(patient_dicom_data['SeriesDescription'].value_counts())\n",
    "series_dicom= series_dicom.reset_index()\n",
    "series_dicom= series_dicom.rename(columns= {'SeriesDescription': 'No_SeriesDescription', 'index': 'SeriesDescription'})\n",
    "series_dicom"
   ]
  },
  {
   "cell_type": "code",
   "execution_count": 146,
   "metadata": {},
   "outputs": [
    {
     "data": {
      "application/vnd.plotly.v1+json": {
       "config": {
        "plotlyServerURL": "https://plot.ly"
       },
       "data": [
        {
         "alignmentgroup": "True",
         "hovertemplate": "SeriesDescription=%{x}<br>No_SeriesDescription=%{y}<extra></extra>",
         "legendgroup": "cropped images",
         "marker": {
          "color": "#636efa",
          "pattern": {
           "shape": ""
          }
         },
         "name": "cropped images",
         "offsetgroup": "cropped images",
         "orientation": "v",
         "showlegend": true,
         "textposition": "auto",
         "type": "bar",
         "x": [
          "cropped images"
         ],
         "xaxis": "x",
         "y": [
          3859
         ],
         "yaxis": "y"
        },
        {
         "alignmentgroup": "True",
         "hovertemplate": "SeriesDescription=%{x}<br>No_SeriesDescription=%{y}<extra></extra>",
         "legendgroup": "ROI mask images",
         "marker": {
          "color": "#EF553B",
          "pattern": {
           "shape": ""
          }
         },
         "name": "ROI mask images",
         "offsetgroup": "ROI mask images",
         "orientation": "v",
         "showlegend": true,
         "textposition": "auto",
         "type": "bar",
         "x": [
          "ROI mask images"
         ],
         "xaxis": "x",
         "y": [
          3340
         ],
         "yaxis": "y"
        },
        {
         "alignmentgroup": "True",
         "hovertemplate": "SeriesDescription=%{x}<br>No_SeriesDescription=%{y}<extra></extra>",
         "legendgroup": "full mammogram images",
         "marker": {
          "color": "#00cc96",
          "pattern": {
           "shape": ""
          }
         },
         "name": "full mammogram images",
         "offsetgroup": "full mammogram images",
         "orientation": "v",
         "showlegend": true,
         "textposition": "auto",
         "type": "bar",
         "x": [
          "full mammogram images"
         ],
         "xaxis": "x",
         "y": [
          3038
         ],
         "yaxis": "y"
        }
       ],
       "layout": {
        "barmode": "relative",
        "legend": {
         "title": {
          "text": "SeriesDescription"
         },
         "tracegroupgap": 0
        },
        "margin": {
         "t": 60
        },
        "template": {
         "data": {
          "bar": [
           {
            "error_x": {
             "color": "#2a3f5f"
            },
            "error_y": {
             "color": "#2a3f5f"
            },
            "marker": {
             "line": {
              "color": "#E5ECF6",
              "width": 0.5
             },
             "pattern": {
              "fillmode": "overlay",
              "size": 10,
              "solidity": 0.2
             }
            },
            "type": "bar"
           }
          ],
          "barpolar": [
           {
            "marker": {
             "line": {
              "color": "#E5ECF6",
              "width": 0.5
             },
             "pattern": {
              "fillmode": "overlay",
              "size": 10,
              "solidity": 0.2
             }
            },
            "type": "barpolar"
           }
          ],
          "carpet": [
           {
            "aaxis": {
             "endlinecolor": "#2a3f5f",
             "gridcolor": "white",
             "linecolor": "white",
             "minorgridcolor": "white",
             "startlinecolor": "#2a3f5f"
            },
            "baxis": {
             "endlinecolor": "#2a3f5f",
             "gridcolor": "white",
             "linecolor": "white",
             "minorgridcolor": "white",
             "startlinecolor": "#2a3f5f"
            },
            "type": "carpet"
           }
          ],
          "choropleth": [
           {
            "colorbar": {
             "outlinewidth": 0,
             "ticks": ""
            },
            "type": "choropleth"
           }
          ],
          "contour": [
           {
            "colorbar": {
             "outlinewidth": 0,
             "ticks": ""
            },
            "colorscale": [
             [
              0,
              "#0d0887"
             ],
             [
              0.1111111111111111,
              "#46039f"
             ],
             [
              0.2222222222222222,
              "#7201a8"
             ],
             [
              0.3333333333333333,
              "#9c179e"
             ],
             [
              0.4444444444444444,
              "#bd3786"
             ],
             [
              0.5555555555555556,
              "#d8576b"
             ],
             [
              0.6666666666666666,
              "#ed7953"
             ],
             [
              0.7777777777777778,
              "#fb9f3a"
             ],
             [
              0.8888888888888888,
              "#fdca26"
             ],
             [
              1,
              "#f0f921"
             ]
            ],
            "type": "contour"
           }
          ],
          "contourcarpet": [
           {
            "colorbar": {
             "outlinewidth": 0,
             "ticks": ""
            },
            "type": "contourcarpet"
           }
          ],
          "heatmap": [
           {
            "colorbar": {
             "outlinewidth": 0,
             "ticks": ""
            },
            "colorscale": [
             [
              0,
              "#0d0887"
             ],
             [
              0.1111111111111111,
              "#46039f"
             ],
             [
              0.2222222222222222,
              "#7201a8"
             ],
             [
              0.3333333333333333,
              "#9c179e"
             ],
             [
              0.4444444444444444,
              "#bd3786"
             ],
             [
              0.5555555555555556,
              "#d8576b"
             ],
             [
              0.6666666666666666,
              "#ed7953"
             ],
             [
              0.7777777777777778,
              "#fb9f3a"
             ],
             [
              0.8888888888888888,
              "#fdca26"
             ],
             [
              1,
              "#f0f921"
             ]
            ],
            "type": "heatmap"
           }
          ],
          "heatmapgl": [
           {
            "colorbar": {
             "outlinewidth": 0,
             "ticks": ""
            },
            "colorscale": [
             [
              0,
              "#0d0887"
             ],
             [
              0.1111111111111111,
              "#46039f"
             ],
             [
              0.2222222222222222,
              "#7201a8"
             ],
             [
              0.3333333333333333,
              "#9c179e"
             ],
             [
              0.4444444444444444,
              "#bd3786"
             ],
             [
              0.5555555555555556,
              "#d8576b"
             ],
             [
              0.6666666666666666,
              "#ed7953"
             ],
             [
              0.7777777777777778,
              "#fb9f3a"
             ],
             [
              0.8888888888888888,
              "#fdca26"
             ],
             [
              1,
              "#f0f921"
             ]
            ],
            "type": "heatmapgl"
           }
          ],
          "histogram": [
           {
            "marker": {
             "pattern": {
              "fillmode": "overlay",
              "size": 10,
              "solidity": 0.2
             }
            },
            "type": "histogram"
           }
          ],
          "histogram2d": [
           {
            "colorbar": {
             "outlinewidth": 0,
             "ticks": ""
            },
            "colorscale": [
             [
              0,
              "#0d0887"
             ],
             [
              0.1111111111111111,
              "#46039f"
             ],
             [
              0.2222222222222222,
              "#7201a8"
             ],
             [
              0.3333333333333333,
              "#9c179e"
             ],
             [
              0.4444444444444444,
              "#bd3786"
             ],
             [
              0.5555555555555556,
              "#d8576b"
             ],
             [
              0.6666666666666666,
              "#ed7953"
             ],
             [
              0.7777777777777778,
              "#fb9f3a"
             ],
             [
              0.8888888888888888,
              "#fdca26"
             ],
             [
              1,
              "#f0f921"
             ]
            ],
            "type": "histogram2d"
           }
          ],
          "histogram2dcontour": [
           {
            "colorbar": {
             "outlinewidth": 0,
             "ticks": ""
            },
            "colorscale": [
             [
              0,
              "#0d0887"
             ],
             [
              0.1111111111111111,
              "#46039f"
             ],
             [
              0.2222222222222222,
              "#7201a8"
             ],
             [
              0.3333333333333333,
              "#9c179e"
             ],
             [
              0.4444444444444444,
              "#bd3786"
             ],
             [
              0.5555555555555556,
              "#d8576b"
             ],
             [
              0.6666666666666666,
              "#ed7953"
             ],
             [
              0.7777777777777778,
              "#fb9f3a"
             ],
             [
              0.8888888888888888,
              "#fdca26"
             ],
             [
              1,
              "#f0f921"
             ]
            ],
            "type": "histogram2dcontour"
           }
          ],
          "mesh3d": [
           {
            "colorbar": {
             "outlinewidth": 0,
             "ticks": ""
            },
            "type": "mesh3d"
           }
          ],
          "parcoords": [
           {
            "line": {
             "colorbar": {
              "outlinewidth": 0,
              "ticks": ""
             }
            },
            "type": "parcoords"
           }
          ],
          "pie": [
           {
            "automargin": true,
            "type": "pie"
           }
          ],
          "scatter": [
           {
            "fillpattern": {
             "fillmode": "overlay",
             "size": 10,
             "solidity": 0.2
            },
            "type": "scatter"
           }
          ],
          "scatter3d": [
           {
            "line": {
             "colorbar": {
              "outlinewidth": 0,
              "ticks": ""
             }
            },
            "marker": {
             "colorbar": {
              "outlinewidth": 0,
              "ticks": ""
             }
            },
            "type": "scatter3d"
           }
          ],
          "scattercarpet": [
           {
            "marker": {
             "colorbar": {
              "outlinewidth": 0,
              "ticks": ""
             }
            },
            "type": "scattercarpet"
           }
          ],
          "scattergeo": [
           {
            "marker": {
             "colorbar": {
              "outlinewidth": 0,
              "ticks": ""
             }
            },
            "type": "scattergeo"
           }
          ],
          "scattergl": [
           {
            "marker": {
             "colorbar": {
              "outlinewidth": 0,
              "ticks": ""
             }
            },
            "type": "scattergl"
           }
          ],
          "scattermapbox": [
           {
            "marker": {
             "colorbar": {
              "outlinewidth": 0,
              "ticks": ""
             }
            },
            "type": "scattermapbox"
           }
          ],
          "scatterpolar": [
           {
            "marker": {
             "colorbar": {
              "outlinewidth": 0,
              "ticks": ""
             }
            },
            "type": "scatterpolar"
           }
          ],
          "scatterpolargl": [
           {
            "marker": {
             "colorbar": {
              "outlinewidth": 0,
              "ticks": ""
             }
            },
            "type": "scatterpolargl"
           }
          ],
          "scatterternary": [
           {
            "marker": {
             "colorbar": {
              "outlinewidth": 0,
              "ticks": ""
             }
            },
            "type": "scatterternary"
           }
          ],
          "surface": [
           {
            "colorbar": {
             "outlinewidth": 0,
             "ticks": ""
            },
            "colorscale": [
             [
              0,
              "#0d0887"
             ],
             [
              0.1111111111111111,
              "#46039f"
             ],
             [
              0.2222222222222222,
              "#7201a8"
             ],
             [
              0.3333333333333333,
              "#9c179e"
             ],
             [
              0.4444444444444444,
              "#bd3786"
             ],
             [
              0.5555555555555556,
              "#d8576b"
             ],
             [
              0.6666666666666666,
              "#ed7953"
             ],
             [
              0.7777777777777778,
              "#fb9f3a"
             ],
             [
              0.8888888888888888,
              "#fdca26"
             ],
             [
              1,
              "#f0f921"
             ]
            ],
            "type": "surface"
           }
          ],
          "table": [
           {
            "cells": {
             "fill": {
              "color": "#EBF0F8"
             },
             "line": {
              "color": "white"
             }
            },
            "header": {
             "fill": {
              "color": "#C8D4E3"
             },
             "line": {
              "color": "white"
             }
            },
            "type": "table"
           }
          ]
         },
         "layout": {
          "annotationdefaults": {
           "arrowcolor": "#2a3f5f",
           "arrowhead": 0,
           "arrowwidth": 1
          },
          "autotypenumbers": "strict",
          "coloraxis": {
           "colorbar": {
            "outlinewidth": 0,
            "ticks": ""
           }
          },
          "colorscale": {
           "diverging": [
            [
             0,
             "#8e0152"
            ],
            [
             0.1,
             "#c51b7d"
            ],
            [
             0.2,
             "#de77ae"
            ],
            [
             0.3,
             "#f1b6da"
            ],
            [
             0.4,
             "#fde0ef"
            ],
            [
             0.5,
             "#f7f7f7"
            ],
            [
             0.6,
             "#e6f5d0"
            ],
            [
             0.7,
             "#b8e186"
            ],
            [
             0.8,
             "#7fbc41"
            ],
            [
             0.9,
             "#4d9221"
            ],
            [
             1,
             "#276419"
            ]
           ],
           "sequential": [
            [
             0,
             "#0d0887"
            ],
            [
             0.1111111111111111,
             "#46039f"
            ],
            [
             0.2222222222222222,
             "#7201a8"
            ],
            [
             0.3333333333333333,
             "#9c179e"
            ],
            [
             0.4444444444444444,
             "#bd3786"
            ],
            [
             0.5555555555555556,
             "#d8576b"
            ],
            [
             0.6666666666666666,
             "#ed7953"
            ],
            [
             0.7777777777777778,
             "#fb9f3a"
            ],
            [
             0.8888888888888888,
             "#fdca26"
            ],
            [
             1,
             "#f0f921"
            ]
           ],
           "sequentialminus": [
            [
             0,
             "#0d0887"
            ],
            [
             0.1111111111111111,
             "#46039f"
            ],
            [
             0.2222222222222222,
             "#7201a8"
            ],
            [
             0.3333333333333333,
             "#9c179e"
            ],
            [
             0.4444444444444444,
             "#bd3786"
            ],
            [
             0.5555555555555556,
             "#d8576b"
            ],
            [
             0.6666666666666666,
             "#ed7953"
            ],
            [
             0.7777777777777778,
             "#fb9f3a"
            ],
            [
             0.8888888888888888,
             "#fdca26"
            ],
            [
             1,
             "#f0f921"
            ]
           ]
          },
          "colorway": [
           "#636efa",
           "#EF553B",
           "#00cc96",
           "#ab63fa",
           "#FFA15A",
           "#19d3f3",
           "#FF6692",
           "#B6E880",
           "#FF97FF",
           "#FECB52"
          ],
          "font": {
           "color": "#2a3f5f"
          },
          "geo": {
           "bgcolor": "white",
           "lakecolor": "white",
           "landcolor": "#E5ECF6",
           "showlakes": true,
           "showland": true,
           "subunitcolor": "white"
          },
          "hoverlabel": {
           "align": "left"
          },
          "hovermode": "closest",
          "mapbox": {
           "style": "light"
          },
          "paper_bgcolor": "white",
          "plot_bgcolor": "#E5ECF6",
          "polar": {
           "angularaxis": {
            "gridcolor": "white",
            "linecolor": "white",
            "ticks": ""
           },
           "bgcolor": "#E5ECF6",
           "radialaxis": {
            "gridcolor": "white",
            "linecolor": "white",
            "ticks": ""
           }
          },
          "scene": {
           "xaxis": {
            "backgroundcolor": "#E5ECF6",
            "gridcolor": "white",
            "gridwidth": 2,
            "linecolor": "white",
            "showbackground": true,
            "ticks": "",
            "zerolinecolor": "white"
           },
           "yaxis": {
            "backgroundcolor": "#E5ECF6",
            "gridcolor": "white",
            "gridwidth": 2,
            "linecolor": "white",
            "showbackground": true,
            "ticks": "",
            "zerolinecolor": "white"
           },
           "zaxis": {
            "backgroundcolor": "#E5ECF6",
            "gridcolor": "white",
            "gridwidth": 2,
            "linecolor": "white",
            "showbackground": true,
            "ticks": "",
            "zerolinecolor": "white"
           }
          },
          "shapedefaults": {
           "line": {
            "color": "#2a3f5f"
           }
          },
          "ternary": {
           "aaxis": {
            "gridcolor": "white",
            "linecolor": "white",
            "ticks": ""
           },
           "baxis": {
            "gridcolor": "white",
            "linecolor": "white",
            "ticks": ""
           },
           "bgcolor": "#E5ECF6",
           "caxis": {
            "gridcolor": "white",
            "linecolor": "white",
            "ticks": ""
           }
          },
          "title": {
           "x": 0.05
          },
          "xaxis": {
           "automargin": true,
           "gridcolor": "white",
           "linecolor": "white",
           "ticks": "",
           "title": {
            "standoff": 15
           },
           "zerolinecolor": "white",
           "zerolinewidth": 2
          },
          "yaxis": {
           "automargin": true,
           "gridcolor": "white",
           "linecolor": "white",
           "ticks": "",
           "title": {
            "standoff": 15
           },
           "zerolinecolor": "white",
           "zerolinewidth": 2
          }
         }
        },
        "xaxis": {
         "anchor": "y",
         "categoryarray": [
          "cropped images",
          "ROI mask images",
          "full mammogram images"
         ],
         "categoryorder": "array",
         "domain": [
          0,
          1
         ],
         "title": {
          "text": "SeriesDescription"
         }
        },
        "yaxis": {
         "anchor": "x",
         "domain": [
          0,
          1
         ],
         "title": {
          "text": "No_SeriesDescription"
         }
        }
       }
      }
     },
     "metadata": {},
     "output_type": "display_data"
    }
   ],
   "source": [
    "## plot the series\n",
    "series_dicom_graph=px.bar(data_frame=series_dicom, x='SeriesDescription', y='No_SeriesDescription', color='SeriesDescription')\n",
    "series_dicom_graph\n"
   ]
  },
  {
   "cell_type": "code",
   "execution_count": 124,
   "metadata": {},
   "outputs": [],
   "source": [
    "#pio.write_html(series_dicom_graph, file='plotly_graph1.html', auto_open=True)"
   ]
  },
  {
   "cell_type": "code",
   "execution_count": 172,
   "metadata": {},
   "outputs": [],
   "source": [
    "##scope= PlotlyScope(plotlyjs=\"https://cdn.plot.ly/plotly-latest.min.js\")\n",
    "##graph1= scope.transform(series_dicom_graph, format='png')\n",
    "##with open('series_dicom_graph.png', 'wb') as f:\n",
    "##    f.write(graph1)"
   ]
  },
  {
   "cell_type": "code",
   "execution_count": 173,
   "metadata": {},
   "outputs": [],
   "source": [
    "## save plotly to png file to view in github\n",
    "scope= PlotlyScope()\n",
    "graph1= scope.transform(series_dicom_graph, format='png')\n",
    "with open('series_dicom_graph.png', 'wb') as f:\n",
    "    f.write(graph1)"
   ]
  },
  {
   "cell_type": "markdown",
   "metadata": {},
   "source": [
    "Please click [here to view the interactive plot](/Users/lalebaksi/Desktop/DS_3rd_Phase/series_dicom_graph.png)"
   ]
  },
  {
   "cell_type": "code",
   "execution_count": 55,
   "metadata": {},
   "outputs": [
    {
     "data": {
      "text/html": [
       "<div>\n",
       "<style scoped>\n",
       "    .dataframe tbody tr th:only-of-type {\n",
       "        vertical-align: middle;\n",
       "    }\n",
       "\n",
       "    .dataframe tbody tr th {\n",
       "        vertical-align: top;\n",
       "    }\n",
       "\n",
       "    .dataframe thead th {\n",
       "        text-align: right;\n",
       "    }\n",
       "</style>\n",
       "<table border=\"1\" class=\"dataframe\">\n",
       "  <thead>\n",
       "    <tr style=\"text-align: right;\">\n",
       "      <th></th>\n",
       "      <th>Which BodyPart Examined</th>\n",
       "      <th>No_BodyPartExamined</th>\n",
       "    </tr>\n",
       "  </thead>\n",
       "  <tbody>\n",
       "    <tr>\n",
       "      <th>0</th>\n",
       "      <td>BREAST</td>\n",
       "      <td>9671</td>\n",
       "    </tr>\n",
       "    <tr>\n",
       "      <th>1</th>\n",
       "      <td>Left Breast</td>\n",
       "      <td>318</td>\n",
       "    </tr>\n",
       "    <tr>\n",
       "      <th>2</th>\n",
       "      <td>Right Breast</td>\n",
       "      <td>248</td>\n",
       "    </tr>\n",
       "  </tbody>\n",
       "</table>\n",
       "</div>"
      ],
      "text/plain": [
       "  Which BodyPart Examined  No_BodyPartExamined\n",
       "0                  BREAST                 9671\n",
       "1             Left Breast                  318\n",
       "2            Right Breast                  248"
      ]
     },
     "execution_count": 55,
     "metadata": {},
     "output_type": "execute_result"
    }
   ],
   "source": [
    "## check which side of breast most examined\n",
    "bodypart_dicom= pd.DataFrame(patient_dicom_data['BodyPartExamined'].value_counts())\n",
    "bodypart_dicom= bodypart_dicom.reset_index()\n",
    "bodypart_dicom= bodypart_dicom.rename(columns= {'BodyPartExamined': 'No_BodyPartExamined', 'index': 'Which BodyPart Examined'})\n",
    "bodypart_dicom"
   ]
  },
  {
   "cell_type": "code",
   "execution_count": 56,
   "metadata": {},
   "outputs": [
    {
     "data": {
      "application/vnd.plotly.v1+json": {
       "config": {
        "plotlyServerURL": "https://plot.ly"
       },
       "data": [
        {
         "alignmentgroup": "True",
         "hovertemplate": "Which BodyPart Examined=%{x}<br>No_BodyPartExamined=%{y}<extra></extra>",
         "legendgroup": "BREAST",
         "marker": {
          "color": "#636efa",
          "pattern": {
           "shape": ""
          }
         },
         "name": "BREAST",
         "offsetgroup": "BREAST",
         "orientation": "v",
         "showlegend": true,
         "textposition": "auto",
         "type": "bar",
         "x": [
          "BREAST"
         ],
         "xaxis": "x",
         "y": [
          9671
         ],
         "yaxis": "y"
        },
        {
         "alignmentgroup": "True",
         "hovertemplate": "Which BodyPart Examined=%{x}<br>No_BodyPartExamined=%{y}<extra></extra>",
         "legendgroup": "Left Breast",
         "marker": {
          "color": "#EF553B",
          "pattern": {
           "shape": ""
          }
         },
         "name": "Left Breast",
         "offsetgroup": "Left Breast",
         "orientation": "v",
         "showlegend": true,
         "textposition": "auto",
         "type": "bar",
         "x": [
          "Left Breast"
         ],
         "xaxis": "x",
         "y": [
          318
         ],
         "yaxis": "y"
        },
        {
         "alignmentgroup": "True",
         "hovertemplate": "Which BodyPart Examined=%{x}<br>No_BodyPartExamined=%{y}<extra></extra>",
         "legendgroup": "Right Breast",
         "marker": {
          "color": "#00cc96",
          "pattern": {
           "shape": ""
          }
         },
         "name": "Right Breast",
         "offsetgroup": "Right Breast",
         "orientation": "v",
         "showlegend": true,
         "textposition": "auto",
         "type": "bar",
         "x": [
          "Right Breast"
         ],
         "xaxis": "x",
         "y": [
          248
         ],
         "yaxis": "y"
        }
       ],
       "layout": {
        "barmode": "relative",
        "legend": {
         "title": {
          "text": "Which BodyPart Examined"
         },
         "tracegroupgap": 0
        },
        "margin": {
         "t": 60
        },
        "template": {
         "data": {
          "bar": [
           {
            "error_x": {
             "color": "#2a3f5f"
            },
            "error_y": {
             "color": "#2a3f5f"
            },
            "marker": {
             "line": {
              "color": "#E5ECF6",
              "width": 0.5
             },
             "pattern": {
              "fillmode": "overlay",
              "size": 10,
              "solidity": 0.2
             }
            },
            "type": "bar"
           }
          ],
          "barpolar": [
           {
            "marker": {
             "line": {
              "color": "#E5ECF6",
              "width": 0.5
             },
             "pattern": {
              "fillmode": "overlay",
              "size": 10,
              "solidity": 0.2
             }
            },
            "type": "barpolar"
           }
          ],
          "carpet": [
           {
            "aaxis": {
             "endlinecolor": "#2a3f5f",
             "gridcolor": "white",
             "linecolor": "white",
             "minorgridcolor": "white",
             "startlinecolor": "#2a3f5f"
            },
            "baxis": {
             "endlinecolor": "#2a3f5f",
             "gridcolor": "white",
             "linecolor": "white",
             "minorgridcolor": "white",
             "startlinecolor": "#2a3f5f"
            },
            "type": "carpet"
           }
          ],
          "choropleth": [
           {
            "colorbar": {
             "outlinewidth": 0,
             "ticks": ""
            },
            "type": "choropleth"
           }
          ],
          "contour": [
           {
            "colorbar": {
             "outlinewidth": 0,
             "ticks": ""
            },
            "colorscale": [
             [
              0,
              "#0d0887"
             ],
             [
              0.1111111111111111,
              "#46039f"
             ],
             [
              0.2222222222222222,
              "#7201a8"
             ],
             [
              0.3333333333333333,
              "#9c179e"
             ],
             [
              0.4444444444444444,
              "#bd3786"
             ],
             [
              0.5555555555555556,
              "#d8576b"
             ],
             [
              0.6666666666666666,
              "#ed7953"
             ],
             [
              0.7777777777777778,
              "#fb9f3a"
             ],
             [
              0.8888888888888888,
              "#fdca26"
             ],
             [
              1,
              "#f0f921"
             ]
            ],
            "type": "contour"
           }
          ],
          "contourcarpet": [
           {
            "colorbar": {
             "outlinewidth": 0,
             "ticks": ""
            },
            "type": "contourcarpet"
           }
          ],
          "heatmap": [
           {
            "colorbar": {
             "outlinewidth": 0,
             "ticks": ""
            },
            "colorscale": [
             [
              0,
              "#0d0887"
             ],
             [
              0.1111111111111111,
              "#46039f"
             ],
             [
              0.2222222222222222,
              "#7201a8"
             ],
             [
              0.3333333333333333,
              "#9c179e"
             ],
             [
              0.4444444444444444,
              "#bd3786"
             ],
             [
              0.5555555555555556,
              "#d8576b"
             ],
             [
              0.6666666666666666,
              "#ed7953"
             ],
             [
              0.7777777777777778,
              "#fb9f3a"
             ],
             [
              0.8888888888888888,
              "#fdca26"
             ],
             [
              1,
              "#f0f921"
             ]
            ],
            "type": "heatmap"
           }
          ],
          "heatmapgl": [
           {
            "colorbar": {
             "outlinewidth": 0,
             "ticks": ""
            },
            "colorscale": [
             [
              0,
              "#0d0887"
             ],
             [
              0.1111111111111111,
              "#46039f"
             ],
             [
              0.2222222222222222,
              "#7201a8"
             ],
             [
              0.3333333333333333,
              "#9c179e"
             ],
             [
              0.4444444444444444,
              "#bd3786"
             ],
             [
              0.5555555555555556,
              "#d8576b"
             ],
             [
              0.6666666666666666,
              "#ed7953"
             ],
             [
              0.7777777777777778,
              "#fb9f3a"
             ],
             [
              0.8888888888888888,
              "#fdca26"
             ],
             [
              1,
              "#f0f921"
             ]
            ],
            "type": "heatmapgl"
           }
          ],
          "histogram": [
           {
            "marker": {
             "pattern": {
              "fillmode": "overlay",
              "size": 10,
              "solidity": 0.2
             }
            },
            "type": "histogram"
           }
          ],
          "histogram2d": [
           {
            "colorbar": {
             "outlinewidth": 0,
             "ticks": ""
            },
            "colorscale": [
             [
              0,
              "#0d0887"
             ],
             [
              0.1111111111111111,
              "#46039f"
             ],
             [
              0.2222222222222222,
              "#7201a8"
             ],
             [
              0.3333333333333333,
              "#9c179e"
             ],
             [
              0.4444444444444444,
              "#bd3786"
             ],
             [
              0.5555555555555556,
              "#d8576b"
             ],
             [
              0.6666666666666666,
              "#ed7953"
             ],
             [
              0.7777777777777778,
              "#fb9f3a"
             ],
             [
              0.8888888888888888,
              "#fdca26"
             ],
             [
              1,
              "#f0f921"
             ]
            ],
            "type": "histogram2d"
           }
          ],
          "histogram2dcontour": [
           {
            "colorbar": {
             "outlinewidth": 0,
             "ticks": ""
            },
            "colorscale": [
             [
              0,
              "#0d0887"
             ],
             [
              0.1111111111111111,
              "#46039f"
             ],
             [
              0.2222222222222222,
              "#7201a8"
             ],
             [
              0.3333333333333333,
              "#9c179e"
             ],
             [
              0.4444444444444444,
              "#bd3786"
             ],
             [
              0.5555555555555556,
              "#d8576b"
             ],
             [
              0.6666666666666666,
              "#ed7953"
             ],
             [
              0.7777777777777778,
              "#fb9f3a"
             ],
             [
              0.8888888888888888,
              "#fdca26"
             ],
             [
              1,
              "#f0f921"
             ]
            ],
            "type": "histogram2dcontour"
           }
          ],
          "mesh3d": [
           {
            "colorbar": {
             "outlinewidth": 0,
             "ticks": ""
            },
            "type": "mesh3d"
           }
          ],
          "parcoords": [
           {
            "line": {
             "colorbar": {
              "outlinewidth": 0,
              "ticks": ""
             }
            },
            "type": "parcoords"
           }
          ],
          "pie": [
           {
            "automargin": true,
            "type": "pie"
           }
          ],
          "scatter": [
           {
            "fillpattern": {
             "fillmode": "overlay",
             "size": 10,
             "solidity": 0.2
            },
            "type": "scatter"
           }
          ],
          "scatter3d": [
           {
            "line": {
             "colorbar": {
              "outlinewidth": 0,
              "ticks": ""
             }
            },
            "marker": {
             "colorbar": {
              "outlinewidth": 0,
              "ticks": ""
             }
            },
            "type": "scatter3d"
           }
          ],
          "scattercarpet": [
           {
            "marker": {
             "colorbar": {
              "outlinewidth": 0,
              "ticks": ""
             }
            },
            "type": "scattercarpet"
           }
          ],
          "scattergeo": [
           {
            "marker": {
             "colorbar": {
              "outlinewidth": 0,
              "ticks": ""
             }
            },
            "type": "scattergeo"
           }
          ],
          "scattergl": [
           {
            "marker": {
             "colorbar": {
              "outlinewidth": 0,
              "ticks": ""
             }
            },
            "type": "scattergl"
           }
          ],
          "scattermapbox": [
           {
            "marker": {
             "colorbar": {
              "outlinewidth": 0,
              "ticks": ""
             }
            },
            "type": "scattermapbox"
           }
          ],
          "scatterpolar": [
           {
            "marker": {
             "colorbar": {
              "outlinewidth": 0,
              "ticks": ""
             }
            },
            "type": "scatterpolar"
           }
          ],
          "scatterpolargl": [
           {
            "marker": {
             "colorbar": {
              "outlinewidth": 0,
              "ticks": ""
             }
            },
            "type": "scatterpolargl"
           }
          ],
          "scatterternary": [
           {
            "marker": {
             "colorbar": {
              "outlinewidth": 0,
              "ticks": ""
             }
            },
            "type": "scatterternary"
           }
          ],
          "surface": [
           {
            "colorbar": {
             "outlinewidth": 0,
             "ticks": ""
            },
            "colorscale": [
             [
              0,
              "#0d0887"
             ],
             [
              0.1111111111111111,
              "#46039f"
             ],
             [
              0.2222222222222222,
              "#7201a8"
             ],
             [
              0.3333333333333333,
              "#9c179e"
             ],
             [
              0.4444444444444444,
              "#bd3786"
             ],
             [
              0.5555555555555556,
              "#d8576b"
             ],
             [
              0.6666666666666666,
              "#ed7953"
             ],
             [
              0.7777777777777778,
              "#fb9f3a"
             ],
             [
              0.8888888888888888,
              "#fdca26"
             ],
             [
              1,
              "#f0f921"
             ]
            ],
            "type": "surface"
           }
          ],
          "table": [
           {
            "cells": {
             "fill": {
              "color": "#EBF0F8"
             },
             "line": {
              "color": "white"
             }
            },
            "header": {
             "fill": {
              "color": "#C8D4E3"
             },
             "line": {
              "color": "white"
             }
            },
            "type": "table"
           }
          ]
         },
         "layout": {
          "annotationdefaults": {
           "arrowcolor": "#2a3f5f",
           "arrowhead": 0,
           "arrowwidth": 1
          },
          "autotypenumbers": "strict",
          "coloraxis": {
           "colorbar": {
            "outlinewidth": 0,
            "ticks": ""
           }
          },
          "colorscale": {
           "diverging": [
            [
             0,
             "#8e0152"
            ],
            [
             0.1,
             "#c51b7d"
            ],
            [
             0.2,
             "#de77ae"
            ],
            [
             0.3,
             "#f1b6da"
            ],
            [
             0.4,
             "#fde0ef"
            ],
            [
             0.5,
             "#f7f7f7"
            ],
            [
             0.6,
             "#e6f5d0"
            ],
            [
             0.7,
             "#b8e186"
            ],
            [
             0.8,
             "#7fbc41"
            ],
            [
             0.9,
             "#4d9221"
            ],
            [
             1,
             "#276419"
            ]
           ],
           "sequential": [
            [
             0,
             "#0d0887"
            ],
            [
             0.1111111111111111,
             "#46039f"
            ],
            [
             0.2222222222222222,
             "#7201a8"
            ],
            [
             0.3333333333333333,
             "#9c179e"
            ],
            [
             0.4444444444444444,
             "#bd3786"
            ],
            [
             0.5555555555555556,
             "#d8576b"
            ],
            [
             0.6666666666666666,
             "#ed7953"
            ],
            [
             0.7777777777777778,
             "#fb9f3a"
            ],
            [
             0.8888888888888888,
             "#fdca26"
            ],
            [
             1,
             "#f0f921"
            ]
           ],
           "sequentialminus": [
            [
             0,
             "#0d0887"
            ],
            [
             0.1111111111111111,
             "#46039f"
            ],
            [
             0.2222222222222222,
             "#7201a8"
            ],
            [
             0.3333333333333333,
             "#9c179e"
            ],
            [
             0.4444444444444444,
             "#bd3786"
            ],
            [
             0.5555555555555556,
             "#d8576b"
            ],
            [
             0.6666666666666666,
             "#ed7953"
            ],
            [
             0.7777777777777778,
             "#fb9f3a"
            ],
            [
             0.8888888888888888,
             "#fdca26"
            ],
            [
             1,
             "#f0f921"
            ]
           ]
          },
          "colorway": [
           "#636efa",
           "#EF553B",
           "#00cc96",
           "#ab63fa",
           "#FFA15A",
           "#19d3f3",
           "#FF6692",
           "#B6E880",
           "#FF97FF",
           "#FECB52"
          ],
          "font": {
           "color": "#2a3f5f"
          },
          "geo": {
           "bgcolor": "white",
           "lakecolor": "white",
           "landcolor": "#E5ECF6",
           "showlakes": true,
           "showland": true,
           "subunitcolor": "white"
          },
          "hoverlabel": {
           "align": "left"
          },
          "hovermode": "closest",
          "mapbox": {
           "style": "light"
          },
          "paper_bgcolor": "white",
          "plot_bgcolor": "#E5ECF6",
          "polar": {
           "angularaxis": {
            "gridcolor": "white",
            "linecolor": "white",
            "ticks": ""
           },
           "bgcolor": "#E5ECF6",
           "radialaxis": {
            "gridcolor": "white",
            "linecolor": "white",
            "ticks": ""
           }
          },
          "scene": {
           "xaxis": {
            "backgroundcolor": "#E5ECF6",
            "gridcolor": "white",
            "gridwidth": 2,
            "linecolor": "white",
            "showbackground": true,
            "ticks": "",
            "zerolinecolor": "white"
           },
           "yaxis": {
            "backgroundcolor": "#E5ECF6",
            "gridcolor": "white",
            "gridwidth": 2,
            "linecolor": "white",
            "showbackground": true,
            "ticks": "",
            "zerolinecolor": "white"
           },
           "zaxis": {
            "backgroundcolor": "#E5ECF6",
            "gridcolor": "white",
            "gridwidth": 2,
            "linecolor": "white",
            "showbackground": true,
            "ticks": "",
            "zerolinecolor": "white"
           }
          },
          "shapedefaults": {
           "line": {
            "color": "#2a3f5f"
           }
          },
          "ternary": {
           "aaxis": {
            "gridcolor": "white",
            "linecolor": "white",
            "ticks": ""
           },
           "baxis": {
            "gridcolor": "white",
            "linecolor": "white",
            "ticks": ""
           },
           "bgcolor": "#E5ECF6",
           "caxis": {
            "gridcolor": "white",
            "linecolor": "white",
            "ticks": ""
           }
          },
          "title": {
           "x": 0.05
          },
          "xaxis": {
           "automargin": true,
           "gridcolor": "white",
           "linecolor": "white",
           "ticks": "",
           "title": {
            "standoff": 15
           },
           "zerolinecolor": "white",
           "zerolinewidth": 2
          },
          "yaxis": {
           "automargin": true,
           "gridcolor": "white",
           "linecolor": "white",
           "ticks": "",
           "title": {
            "standoff": 15
           },
           "zerolinecolor": "white",
           "zerolinewidth": 2
          }
         }
        },
        "xaxis": {
         "anchor": "y",
         "categoryarray": [
          "BREAST",
          "Left Breast",
          "Right Breast"
         ],
         "categoryorder": "array",
         "domain": [
          0,
          1
         ],
         "title": {
          "text": "Which BodyPart Examined"
         }
        },
        "yaxis": {
         "anchor": "x",
         "domain": [
          0,
          1
         ],
         "title": {
          "text": "No_BodyPartExamined"
         }
        }
       }
      }
     },
     "metadata": {},
     "output_type": "display_data"
    }
   ],
   "source": [
    "## plot the data with plotly\n",
    "bodypart_dicom_graph=px.bar(data_frame=bodypart_dicom, x='Which BodyPart Examined', y='No_BodyPartExamined', color='Which BodyPart Examined')\n",
    "bodypart_dicom_graph"
   ]
  },
  {
   "cell_type": "code",
   "execution_count": 57,
   "metadata": {},
   "outputs": [],
   "source": [
    "#pio.write_html(bodypart_dicom_graph, file='plotly_graph2.html', auto_open=True)"
   ]
  },
  {
   "cell_type": "code",
   "execution_count": 174,
   "metadata": {},
   "outputs": [],
   "source": [
    "scope= PlotlyScope()\n",
    "graph2= scope.transform(bodypart_dicom_graph, format='png')\n",
    "with open('bodypart_dicom_graph.png', 'wb') as f:\n",
    "    f.write(graph2)"
   ]
  },
  {
   "cell_type": "markdown",
   "metadata": {},
   "source": [
    "Please click [here to view the interactive plot](bodypart_dicom_graph.png)"
   ]
  },
  {
   "cell_type": "code",
   "execution_count": null,
   "metadata": {},
   "outputs": [],
   "source": []
  },
  {
   "cell_type": "code",
   "execution_count": 58,
   "metadata": {},
   "outputs": [
    {
     "data": {
      "text/html": [
       "<div>\n",
       "<style scoped>\n",
       "    .dataframe tbody tr th:only-of-type {\n",
       "        vertical-align: middle;\n",
       "    }\n",
       "\n",
       "    .dataframe tbody tr th {\n",
       "        vertical-align: top;\n",
       "    }\n",
       "\n",
       "    .dataframe thead th {\n",
       "        text-align: right;\n",
       "    }\n",
       "</style>\n",
       "<table border=\"1\" class=\"dataframe\">\n",
       "  <thead>\n",
       "    <tr style=\"text-align: right;\">\n",
       "      <th></th>\n",
       "      <th>PatientOrientation</th>\n",
       "      <th>No_PatientOrientation</th>\n",
       "    </tr>\n",
       "  </thead>\n",
       "  <tbody>\n",
       "    <tr>\n",
       "      <th>0</th>\n",
       "      <td>MLO</td>\n",
       "      <td>5434</td>\n",
       "    </tr>\n",
       "    <tr>\n",
       "      <th>1</th>\n",
       "      <td>CC</td>\n",
       "      <td>4803</td>\n",
       "    </tr>\n",
       "  </tbody>\n",
       "</table>\n",
       "</div>"
      ],
      "text/plain": [
       "  PatientOrientation  No_PatientOrientation\n",
       "0                MLO                   5434\n",
       "1                 CC                   4803"
      ]
     },
     "execution_count": 58,
     "metadata": {},
     "output_type": "execute_result"
    }
   ],
   "source": [
    "## check patient  - image type\n",
    "orient_dicom= pd.DataFrame(patient_dicom_data['PatientOrientation'].value_counts())\n",
    "orient_dicom= orient_dicom.reset_index()\n",
    "orient_dicom= orient_dicom.rename(columns= {'PatientOrientation': 'No_PatientOrientation', 'index': 'PatientOrientation'})\n",
    "orient_dicom"
   ]
  },
  {
   "cell_type": "code",
   "execution_count": 59,
   "metadata": {},
   "outputs": [
    {
     "data": {
      "application/vnd.plotly.v1+json": {
       "config": {
        "plotlyServerURL": "https://plot.ly"
       },
       "data": [
        {
         "alignmentgroup": "True",
         "hovertemplate": "PatientOrientation=%{x}<br>No_PatientOrientation=%{y}<extra></extra>",
         "legendgroup": "MLO",
         "marker": {
          "color": "#636efa",
          "pattern": {
           "shape": ""
          }
         },
         "name": "MLO",
         "offsetgroup": "MLO",
         "orientation": "v",
         "showlegend": true,
         "textposition": "auto",
         "type": "bar",
         "x": [
          "MLO"
         ],
         "xaxis": "x",
         "y": [
          5434
         ],
         "yaxis": "y"
        },
        {
         "alignmentgroup": "True",
         "hovertemplate": "PatientOrientation=%{x}<br>No_PatientOrientation=%{y}<extra></extra>",
         "legendgroup": "CC",
         "marker": {
          "color": "#EF553B",
          "pattern": {
           "shape": ""
          }
         },
         "name": "CC",
         "offsetgroup": "CC",
         "orientation": "v",
         "showlegend": true,
         "textposition": "auto",
         "type": "bar",
         "x": [
          "CC"
         ],
         "xaxis": "x",
         "y": [
          4803
         ],
         "yaxis": "y"
        }
       ],
       "layout": {
        "barmode": "relative",
        "legend": {
         "title": {
          "text": "PatientOrientation"
         },
         "tracegroupgap": 0
        },
        "margin": {
         "t": 60
        },
        "template": {
         "data": {
          "bar": [
           {
            "error_x": {
             "color": "#2a3f5f"
            },
            "error_y": {
             "color": "#2a3f5f"
            },
            "marker": {
             "line": {
              "color": "#E5ECF6",
              "width": 0.5
             },
             "pattern": {
              "fillmode": "overlay",
              "size": 10,
              "solidity": 0.2
             }
            },
            "type": "bar"
           }
          ],
          "barpolar": [
           {
            "marker": {
             "line": {
              "color": "#E5ECF6",
              "width": 0.5
             },
             "pattern": {
              "fillmode": "overlay",
              "size": 10,
              "solidity": 0.2
             }
            },
            "type": "barpolar"
           }
          ],
          "carpet": [
           {
            "aaxis": {
             "endlinecolor": "#2a3f5f",
             "gridcolor": "white",
             "linecolor": "white",
             "minorgridcolor": "white",
             "startlinecolor": "#2a3f5f"
            },
            "baxis": {
             "endlinecolor": "#2a3f5f",
             "gridcolor": "white",
             "linecolor": "white",
             "minorgridcolor": "white",
             "startlinecolor": "#2a3f5f"
            },
            "type": "carpet"
           }
          ],
          "choropleth": [
           {
            "colorbar": {
             "outlinewidth": 0,
             "ticks": ""
            },
            "type": "choropleth"
           }
          ],
          "contour": [
           {
            "colorbar": {
             "outlinewidth": 0,
             "ticks": ""
            },
            "colorscale": [
             [
              0,
              "#0d0887"
             ],
             [
              0.1111111111111111,
              "#46039f"
             ],
             [
              0.2222222222222222,
              "#7201a8"
             ],
             [
              0.3333333333333333,
              "#9c179e"
             ],
             [
              0.4444444444444444,
              "#bd3786"
             ],
             [
              0.5555555555555556,
              "#d8576b"
             ],
             [
              0.6666666666666666,
              "#ed7953"
             ],
             [
              0.7777777777777778,
              "#fb9f3a"
             ],
             [
              0.8888888888888888,
              "#fdca26"
             ],
             [
              1,
              "#f0f921"
             ]
            ],
            "type": "contour"
           }
          ],
          "contourcarpet": [
           {
            "colorbar": {
             "outlinewidth": 0,
             "ticks": ""
            },
            "type": "contourcarpet"
           }
          ],
          "heatmap": [
           {
            "colorbar": {
             "outlinewidth": 0,
             "ticks": ""
            },
            "colorscale": [
             [
              0,
              "#0d0887"
             ],
             [
              0.1111111111111111,
              "#46039f"
             ],
             [
              0.2222222222222222,
              "#7201a8"
             ],
             [
              0.3333333333333333,
              "#9c179e"
             ],
             [
              0.4444444444444444,
              "#bd3786"
             ],
             [
              0.5555555555555556,
              "#d8576b"
             ],
             [
              0.6666666666666666,
              "#ed7953"
             ],
             [
              0.7777777777777778,
              "#fb9f3a"
             ],
             [
              0.8888888888888888,
              "#fdca26"
             ],
             [
              1,
              "#f0f921"
             ]
            ],
            "type": "heatmap"
           }
          ],
          "heatmapgl": [
           {
            "colorbar": {
             "outlinewidth": 0,
             "ticks": ""
            },
            "colorscale": [
             [
              0,
              "#0d0887"
             ],
             [
              0.1111111111111111,
              "#46039f"
             ],
             [
              0.2222222222222222,
              "#7201a8"
             ],
             [
              0.3333333333333333,
              "#9c179e"
             ],
             [
              0.4444444444444444,
              "#bd3786"
             ],
             [
              0.5555555555555556,
              "#d8576b"
             ],
             [
              0.6666666666666666,
              "#ed7953"
             ],
             [
              0.7777777777777778,
              "#fb9f3a"
             ],
             [
              0.8888888888888888,
              "#fdca26"
             ],
             [
              1,
              "#f0f921"
             ]
            ],
            "type": "heatmapgl"
           }
          ],
          "histogram": [
           {
            "marker": {
             "pattern": {
              "fillmode": "overlay",
              "size": 10,
              "solidity": 0.2
             }
            },
            "type": "histogram"
           }
          ],
          "histogram2d": [
           {
            "colorbar": {
             "outlinewidth": 0,
             "ticks": ""
            },
            "colorscale": [
             [
              0,
              "#0d0887"
             ],
             [
              0.1111111111111111,
              "#46039f"
             ],
             [
              0.2222222222222222,
              "#7201a8"
             ],
             [
              0.3333333333333333,
              "#9c179e"
             ],
             [
              0.4444444444444444,
              "#bd3786"
             ],
             [
              0.5555555555555556,
              "#d8576b"
             ],
             [
              0.6666666666666666,
              "#ed7953"
             ],
             [
              0.7777777777777778,
              "#fb9f3a"
             ],
             [
              0.8888888888888888,
              "#fdca26"
             ],
             [
              1,
              "#f0f921"
             ]
            ],
            "type": "histogram2d"
           }
          ],
          "histogram2dcontour": [
           {
            "colorbar": {
             "outlinewidth": 0,
             "ticks": ""
            },
            "colorscale": [
             [
              0,
              "#0d0887"
             ],
             [
              0.1111111111111111,
              "#46039f"
             ],
             [
              0.2222222222222222,
              "#7201a8"
             ],
             [
              0.3333333333333333,
              "#9c179e"
             ],
             [
              0.4444444444444444,
              "#bd3786"
             ],
             [
              0.5555555555555556,
              "#d8576b"
             ],
             [
              0.6666666666666666,
              "#ed7953"
             ],
             [
              0.7777777777777778,
              "#fb9f3a"
             ],
             [
              0.8888888888888888,
              "#fdca26"
             ],
             [
              1,
              "#f0f921"
             ]
            ],
            "type": "histogram2dcontour"
           }
          ],
          "mesh3d": [
           {
            "colorbar": {
             "outlinewidth": 0,
             "ticks": ""
            },
            "type": "mesh3d"
           }
          ],
          "parcoords": [
           {
            "line": {
             "colorbar": {
              "outlinewidth": 0,
              "ticks": ""
             }
            },
            "type": "parcoords"
           }
          ],
          "pie": [
           {
            "automargin": true,
            "type": "pie"
           }
          ],
          "scatter": [
           {
            "fillpattern": {
             "fillmode": "overlay",
             "size": 10,
             "solidity": 0.2
            },
            "type": "scatter"
           }
          ],
          "scatter3d": [
           {
            "line": {
             "colorbar": {
              "outlinewidth": 0,
              "ticks": ""
             }
            },
            "marker": {
             "colorbar": {
              "outlinewidth": 0,
              "ticks": ""
             }
            },
            "type": "scatter3d"
           }
          ],
          "scattercarpet": [
           {
            "marker": {
             "colorbar": {
              "outlinewidth": 0,
              "ticks": ""
             }
            },
            "type": "scattercarpet"
           }
          ],
          "scattergeo": [
           {
            "marker": {
             "colorbar": {
              "outlinewidth": 0,
              "ticks": ""
             }
            },
            "type": "scattergeo"
           }
          ],
          "scattergl": [
           {
            "marker": {
             "colorbar": {
              "outlinewidth": 0,
              "ticks": ""
             }
            },
            "type": "scattergl"
           }
          ],
          "scattermapbox": [
           {
            "marker": {
             "colorbar": {
              "outlinewidth": 0,
              "ticks": ""
             }
            },
            "type": "scattermapbox"
           }
          ],
          "scatterpolar": [
           {
            "marker": {
             "colorbar": {
              "outlinewidth": 0,
              "ticks": ""
             }
            },
            "type": "scatterpolar"
           }
          ],
          "scatterpolargl": [
           {
            "marker": {
             "colorbar": {
              "outlinewidth": 0,
              "ticks": ""
             }
            },
            "type": "scatterpolargl"
           }
          ],
          "scatterternary": [
           {
            "marker": {
             "colorbar": {
              "outlinewidth": 0,
              "ticks": ""
             }
            },
            "type": "scatterternary"
           }
          ],
          "surface": [
           {
            "colorbar": {
             "outlinewidth": 0,
             "ticks": ""
            },
            "colorscale": [
             [
              0,
              "#0d0887"
             ],
             [
              0.1111111111111111,
              "#46039f"
             ],
             [
              0.2222222222222222,
              "#7201a8"
             ],
             [
              0.3333333333333333,
              "#9c179e"
             ],
             [
              0.4444444444444444,
              "#bd3786"
             ],
             [
              0.5555555555555556,
              "#d8576b"
             ],
             [
              0.6666666666666666,
              "#ed7953"
             ],
             [
              0.7777777777777778,
              "#fb9f3a"
             ],
             [
              0.8888888888888888,
              "#fdca26"
             ],
             [
              1,
              "#f0f921"
             ]
            ],
            "type": "surface"
           }
          ],
          "table": [
           {
            "cells": {
             "fill": {
              "color": "#EBF0F8"
             },
             "line": {
              "color": "white"
             }
            },
            "header": {
             "fill": {
              "color": "#C8D4E3"
             },
             "line": {
              "color": "white"
             }
            },
            "type": "table"
           }
          ]
         },
         "layout": {
          "annotationdefaults": {
           "arrowcolor": "#2a3f5f",
           "arrowhead": 0,
           "arrowwidth": 1
          },
          "autotypenumbers": "strict",
          "coloraxis": {
           "colorbar": {
            "outlinewidth": 0,
            "ticks": ""
           }
          },
          "colorscale": {
           "diverging": [
            [
             0,
             "#8e0152"
            ],
            [
             0.1,
             "#c51b7d"
            ],
            [
             0.2,
             "#de77ae"
            ],
            [
             0.3,
             "#f1b6da"
            ],
            [
             0.4,
             "#fde0ef"
            ],
            [
             0.5,
             "#f7f7f7"
            ],
            [
             0.6,
             "#e6f5d0"
            ],
            [
             0.7,
             "#b8e186"
            ],
            [
             0.8,
             "#7fbc41"
            ],
            [
             0.9,
             "#4d9221"
            ],
            [
             1,
             "#276419"
            ]
           ],
           "sequential": [
            [
             0,
             "#0d0887"
            ],
            [
             0.1111111111111111,
             "#46039f"
            ],
            [
             0.2222222222222222,
             "#7201a8"
            ],
            [
             0.3333333333333333,
             "#9c179e"
            ],
            [
             0.4444444444444444,
             "#bd3786"
            ],
            [
             0.5555555555555556,
             "#d8576b"
            ],
            [
             0.6666666666666666,
             "#ed7953"
            ],
            [
             0.7777777777777778,
             "#fb9f3a"
            ],
            [
             0.8888888888888888,
             "#fdca26"
            ],
            [
             1,
             "#f0f921"
            ]
           ],
           "sequentialminus": [
            [
             0,
             "#0d0887"
            ],
            [
             0.1111111111111111,
             "#46039f"
            ],
            [
             0.2222222222222222,
             "#7201a8"
            ],
            [
             0.3333333333333333,
             "#9c179e"
            ],
            [
             0.4444444444444444,
             "#bd3786"
            ],
            [
             0.5555555555555556,
             "#d8576b"
            ],
            [
             0.6666666666666666,
             "#ed7953"
            ],
            [
             0.7777777777777778,
             "#fb9f3a"
            ],
            [
             0.8888888888888888,
             "#fdca26"
            ],
            [
             1,
             "#f0f921"
            ]
           ]
          },
          "colorway": [
           "#636efa",
           "#EF553B",
           "#00cc96",
           "#ab63fa",
           "#FFA15A",
           "#19d3f3",
           "#FF6692",
           "#B6E880",
           "#FF97FF",
           "#FECB52"
          ],
          "font": {
           "color": "#2a3f5f"
          },
          "geo": {
           "bgcolor": "white",
           "lakecolor": "white",
           "landcolor": "#E5ECF6",
           "showlakes": true,
           "showland": true,
           "subunitcolor": "white"
          },
          "hoverlabel": {
           "align": "left"
          },
          "hovermode": "closest",
          "mapbox": {
           "style": "light"
          },
          "paper_bgcolor": "white",
          "plot_bgcolor": "#E5ECF6",
          "polar": {
           "angularaxis": {
            "gridcolor": "white",
            "linecolor": "white",
            "ticks": ""
           },
           "bgcolor": "#E5ECF6",
           "radialaxis": {
            "gridcolor": "white",
            "linecolor": "white",
            "ticks": ""
           }
          },
          "scene": {
           "xaxis": {
            "backgroundcolor": "#E5ECF6",
            "gridcolor": "white",
            "gridwidth": 2,
            "linecolor": "white",
            "showbackground": true,
            "ticks": "",
            "zerolinecolor": "white"
           },
           "yaxis": {
            "backgroundcolor": "#E5ECF6",
            "gridcolor": "white",
            "gridwidth": 2,
            "linecolor": "white",
            "showbackground": true,
            "ticks": "",
            "zerolinecolor": "white"
           },
           "zaxis": {
            "backgroundcolor": "#E5ECF6",
            "gridcolor": "white",
            "gridwidth": 2,
            "linecolor": "white",
            "showbackground": true,
            "ticks": "",
            "zerolinecolor": "white"
           }
          },
          "shapedefaults": {
           "line": {
            "color": "#2a3f5f"
           }
          },
          "ternary": {
           "aaxis": {
            "gridcolor": "white",
            "linecolor": "white",
            "ticks": ""
           },
           "baxis": {
            "gridcolor": "white",
            "linecolor": "white",
            "ticks": ""
           },
           "bgcolor": "#E5ECF6",
           "caxis": {
            "gridcolor": "white",
            "linecolor": "white",
            "ticks": ""
           }
          },
          "title": {
           "x": 0.05
          },
          "xaxis": {
           "automargin": true,
           "gridcolor": "white",
           "linecolor": "white",
           "ticks": "",
           "title": {
            "standoff": 15
           },
           "zerolinecolor": "white",
           "zerolinewidth": 2
          },
          "yaxis": {
           "automargin": true,
           "gridcolor": "white",
           "linecolor": "white",
           "ticks": "",
           "title": {
            "standoff": 15
           },
           "zerolinecolor": "white",
           "zerolinewidth": 2
          }
         }
        },
        "xaxis": {
         "anchor": "y",
         "categoryarray": [
          "MLO",
          "CC"
         ],
         "categoryorder": "array",
         "domain": [
          0,
          1
         ],
         "title": {
          "text": "PatientOrientation"
         }
        },
        "yaxis": {
         "anchor": "x",
         "domain": [
          0,
          1
         ],
         "title": {
          "text": "No_PatientOrientation"
         }
        }
       }
      }
     },
     "metadata": {},
     "output_type": "display_data"
    }
   ],
   "source": [
    "## plot the image types\n",
    "orient_dicom_graph=px.bar(data_frame=orient_dicom, x='PatientOrientation', y='No_PatientOrientation', color='PatientOrientation')\n",
    "orient_dicom_graph"
   ]
  },
  {
   "cell_type": "code",
   "execution_count": 125,
   "metadata": {},
   "outputs": [],
   "source": [
    "pio.write_html(orient_dicom_graph, file='plotly_graph2.html', auto_open=True)"
   ]
  },
  {
   "cell_type": "markdown",
   "metadata": {},
   "source": [
    "[Pls click here to view the interactive plot](path/to/plotly_graph2.html)"
   ]
  },
  {
   "cell_type": "code",
   "execution_count": 61,
   "metadata": {},
   "outputs": [
    {
     "data": {
      "text/html": [
       "<div>\n",
       "<style scoped>\n",
       "    .dataframe tbody tr th:only-of-type {\n",
       "        vertical-align: middle;\n",
       "    }\n",
       "\n",
       "    .dataframe tbody tr th {\n",
       "        vertical-align: top;\n",
       "    }\n",
       "\n",
       "    .dataframe thead th {\n",
       "        text-align: right;\n",
       "    }\n",
       "</style>\n",
       "<table border=\"1\" class=\"dataframe\">\n",
       "  <thead>\n",
       "    <tr style=\"text-align: right;\">\n",
       "      <th></th>\n",
       "      <th>index</th>\n",
       "      <th>No_Calc Types</th>\n",
       "    </tr>\n",
       "  </thead>\n",
       "  <tbody>\n",
       "    <tr>\n",
       "      <th>0</th>\n",
       "      <td>PLEOMORPHIC</td>\n",
       "      <td>664</td>\n",
       "    </tr>\n",
       "    <tr>\n",
       "      <th>1</th>\n",
       "      <td>AMORPHOUS</td>\n",
       "      <td>139</td>\n",
       "    </tr>\n",
       "    <tr>\n",
       "      <th>2</th>\n",
       "      <td>PUNCTATE</td>\n",
       "      <td>106</td>\n",
       "    </tr>\n",
       "    <tr>\n",
       "      <th>3</th>\n",
       "      <td>LUCENT_CENTER</td>\n",
       "      <td>93</td>\n",
       "    </tr>\n",
       "    <tr>\n",
       "      <th>4</th>\n",
       "      <td>VASCULAR</td>\n",
       "      <td>82</td>\n",
       "    </tr>\n",
       "    <tr>\n",
       "      <th>5</th>\n",
       "      <td>FINE_LINEAR_BRANCHING</td>\n",
       "      <td>77</td>\n",
       "    </tr>\n",
       "    <tr>\n",
       "      <th>6</th>\n",
       "      <td>COARSE</td>\n",
       "      <td>35</td>\n",
       "    </tr>\n",
       "    <tr>\n",
       "      <th>7</th>\n",
       "      <td>ROUND_AND_REGULAR-LUCENT_CENTER</td>\n",
       "      <td>33</td>\n",
       "    </tr>\n",
       "    <tr>\n",
       "      <th>8</th>\n",
       "      <td>PLEOMORPHIC-FINE_LINEAR_BRANCHING</td>\n",
       "      <td>28</td>\n",
       "    </tr>\n",
       "    <tr>\n",
       "      <th>9</th>\n",
       "      <td>ROUND_AND_REGULAR-LUCENT_CENTER-PUNCTATE</td>\n",
       "      <td>24</td>\n",
       "    </tr>\n",
       "    <tr>\n",
       "      <th>10</th>\n",
       "      <td>ROUND_AND_REGULAR-EGGSHELL</td>\n",
       "      <td>23</td>\n",
       "    </tr>\n",
       "    <tr>\n",
       "      <th>11</th>\n",
       "      <td>PUNCTATE-PLEOMORPHIC</td>\n",
       "      <td>21</td>\n",
       "    </tr>\n",
       "    <tr>\n",
       "      <th>12</th>\n",
       "      <td>DYSTROPHIC</td>\n",
       "      <td>20</td>\n",
       "    </tr>\n",
       "    <tr>\n",
       "      <th>13</th>\n",
       "      <td>LUCENT_CENTERED</td>\n",
       "      <td>19</td>\n",
       "    </tr>\n",
       "    <tr>\n",
       "      <th>14</th>\n",
       "      <td>ROUND_AND_REGULAR-LUCENT_CENTER-DYSTROPHIC</td>\n",
       "      <td>18</td>\n",
       "    </tr>\n",
       "    <tr>\n",
       "      <th>15</th>\n",
       "      <td>ROUND_AND_REGULAR</td>\n",
       "      <td>17</td>\n",
       "    </tr>\n",
       "    <tr>\n",
       "      <th>16</th>\n",
       "      <td>ROUND_AND_REGULAR-LUCENT_CENTERED</td>\n",
       "      <td>14</td>\n",
       "    </tr>\n",
       "    <tr>\n",
       "      <th>17</th>\n",
       "      <td>AMORPHOUS-PLEOMORPHIC</td>\n",
       "      <td>12</td>\n",
       "    </tr>\n",
       "    <tr>\n",
       "      <th>18</th>\n",
       "      <td>LARGE_RODLIKE-ROUND_AND_REGULAR</td>\n",
       "      <td>11</td>\n",
       "    </tr>\n",
       "    <tr>\n",
       "      <th>19</th>\n",
       "      <td>PUNCTATE-AMORPHOUS</td>\n",
       "      <td>10</td>\n",
       "    </tr>\n",
       "    <tr>\n",
       "      <th>20</th>\n",
       "      <td>COARSE-ROUND_AND_REGULAR-LUCENT_CENTER</td>\n",
       "      <td>10</td>\n",
       "    </tr>\n",
       "    <tr>\n",
       "      <th>21</th>\n",
       "      <td>VASCULAR-COARSE-LUCENT_CENTERED</td>\n",
       "      <td>8</td>\n",
       "    </tr>\n",
       "    <tr>\n",
       "      <th>22</th>\n",
       "      <td>LUCENT_CENTER-PUNCTATE</td>\n",
       "      <td>8</td>\n",
       "    </tr>\n",
       "    <tr>\n",
       "      <th>23</th>\n",
       "      <td>ROUND_AND_REGULAR-PLEOMORPHIC</td>\n",
       "      <td>7</td>\n",
       "    </tr>\n",
       "    <tr>\n",
       "      <th>24</th>\n",
       "      <td>EGGSHELL</td>\n",
       "      <td>7</td>\n",
       "    </tr>\n",
       "    <tr>\n",
       "      <th>25</th>\n",
       "      <td>PUNCTATE-FINE_LINEAR_BRANCHING</td>\n",
       "      <td>6</td>\n",
       "    </tr>\n",
       "    <tr>\n",
       "      <th>26</th>\n",
       "      <td>VASCULAR-COARSE</td>\n",
       "      <td>6</td>\n",
       "    </tr>\n",
       "    <tr>\n",
       "      <th>27</th>\n",
       "      <td>ROUND_AND_REGULAR-PUNCTATE</td>\n",
       "      <td>5</td>\n",
       "    </tr>\n",
       "    <tr>\n",
       "      <th>28</th>\n",
       "      <td>SKIN-PUNCTATE-ROUND_AND_REGULAR</td>\n",
       "      <td>4</td>\n",
       "    </tr>\n",
       "    <tr>\n",
       "      <th>29</th>\n",
       "      <td>SKIN-PUNCTATE</td>\n",
       "      <td>4</td>\n",
       "    </tr>\n",
       "    <tr>\n",
       "      <th>30</th>\n",
       "      <td>COARSE-ROUND_AND_REGULAR-LUCENT_CENTERED</td>\n",
       "      <td>4</td>\n",
       "    </tr>\n",
       "    <tr>\n",
       "      <th>31</th>\n",
       "      <td>PUNCTATE-ROUND_AND_REGULAR</td>\n",
       "      <td>4</td>\n",
       "    </tr>\n",
       "    <tr>\n",
       "      <th>32</th>\n",
       "      <td>LARGE_RODLIKE</td>\n",
       "      <td>4</td>\n",
       "    </tr>\n",
       "    <tr>\n",
       "      <th>33</th>\n",
       "      <td>AMORPHOUS-ROUND_AND_REGULAR</td>\n",
       "      <td>3</td>\n",
       "    </tr>\n",
       "    <tr>\n",
       "      <th>34</th>\n",
       "      <td>PUNCTATE-LUCENT_CENTER</td>\n",
       "      <td>3</td>\n",
       "    </tr>\n",
       "    <tr>\n",
       "      <th>35</th>\n",
       "      <td>SKIN</td>\n",
       "      <td>2</td>\n",
       "    </tr>\n",
       "    <tr>\n",
       "      <th>36</th>\n",
       "      <td>VASCULAR-COARSE-LUCENT_CENTER-ROUND_AND_REGULA...</td>\n",
       "      <td>2</td>\n",
       "    </tr>\n",
       "    <tr>\n",
       "      <th>37</th>\n",
       "      <td>COARSE-PLEOMORPHIC</td>\n",
       "      <td>2</td>\n",
       "    </tr>\n",
       "    <tr>\n",
       "      <th>38</th>\n",
       "      <td>ROUND_AND_REGULAR-PUNCTATE-AMORPHOUS</td>\n",
       "      <td>2</td>\n",
       "    </tr>\n",
       "    <tr>\n",
       "      <th>39</th>\n",
       "      <td>COARSE-LUCENT_CENTER</td>\n",
       "      <td>2</td>\n",
       "    </tr>\n",
       "    <tr>\n",
       "      <th>40</th>\n",
       "      <td>MILK_OF_CALCIUM</td>\n",
       "      <td>2</td>\n",
       "    </tr>\n",
       "    <tr>\n",
       "      <th>41</th>\n",
       "      <td>COARSE-ROUND_AND_REGULAR</td>\n",
       "      <td>2</td>\n",
       "    </tr>\n",
       "    <tr>\n",
       "      <th>42</th>\n",
       "      <td>SKIN-COARSE-ROUND_AND_REGULAR</td>\n",
       "      <td>1</td>\n",
       "    </tr>\n",
       "    <tr>\n",
       "      <th>43</th>\n",
       "      <td>ROUND_AND_REGULAR-AMORPHOUS</td>\n",
       "      <td>1</td>\n",
       "    </tr>\n",
       "    <tr>\n",
       "      <th>44</th>\n",
       "      <td>PLEOMORPHIC-PLEOMORPHIC</td>\n",
       "      <td>1</td>\n",
       "    </tr>\n",
       "  </tbody>\n",
       "</table>\n",
       "</div>"
      ],
      "text/plain": [
       "                                                index  No_Calc Types\n",
       "0                                         PLEOMORPHIC            664\n",
       "1                                           AMORPHOUS            139\n",
       "2                                            PUNCTATE            106\n",
       "3                                       LUCENT_CENTER             93\n",
       "4                                            VASCULAR             82\n",
       "5                               FINE_LINEAR_BRANCHING             77\n",
       "6                                              COARSE             35\n",
       "7                     ROUND_AND_REGULAR-LUCENT_CENTER             33\n",
       "8                   PLEOMORPHIC-FINE_LINEAR_BRANCHING             28\n",
       "9            ROUND_AND_REGULAR-LUCENT_CENTER-PUNCTATE             24\n",
       "10                         ROUND_AND_REGULAR-EGGSHELL             23\n",
       "11                               PUNCTATE-PLEOMORPHIC             21\n",
       "12                                         DYSTROPHIC             20\n",
       "13                                    LUCENT_CENTERED             19\n",
       "14         ROUND_AND_REGULAR-LUCENT_CENTER-DYSTROPHIC             18\n",
       "15                                  ROUND_AND_REGULAR             17\n",
       "16                  ROUND_AND_REGULAR-LUCENT_CENTERED             14\n",
       "17                              AMORPHOUS-PLEOMORPHIC             12\n",
       "18                    LARGE_RODLIKE-ROUND_AND_REGULAR             11\n",
       "19                                 PUNCTATE-AMORPHOUS             10\n",
       "20             COARSE-ROUND_AND_REGULAR-LUCENT_CENTER             10\n",
       "21                    VASCULAR-COARSE-LUCENT_CENTERED              8\n",
       "22                             LUCENT_CENTER-PUNCTATE              8\n",
       "23                      ROUND_AND_REGULAR-PLEOMORPHIC              7\n",
       "24                                           EGGSHELL              7\n",
       "25                     PUNCTATE-FINE_LINEAR_BRANCHING              6\n",
       "26                                    VASCULAR-COARSE              6\n",
       "27                         ROUND_AND_REGULAR-PUNCTATE              5\n",
       "28                    SKIN-PUNCTATE-ROUND_AND_REGULAR              4\n",
       "29                                      SKIN-PUNCTATE              4\n",
       "30           COARSE-ROUND_AND_REGULAR-LUCENT_CENTERED              4\n",
       "31                         PUNCTATE-ROUND_AND_REGULAR              4\n",
       "32                                      LARGE_RODLIKE              4\n",
       "33                        AMORPHOUS-ROUND_AND_REGULAR              3\n",
       "34                             PUNCTATE-LUCENT_CENTER              3\n",
       "35                                               SKIN              2\n",
       "36  VASCULAR-COARSE-LUCENT_CENTER-ROUND_AND_REGULA...              2\n",
       "37                                 COARSE-PLEOMORPHIC              2\n",
       "38               ROUND_AND_REGULAR-PUNCTATE-AMORPHOUS              2\n",
       "39                               COARSE-LUCENT_CENTER              2\n",
       "40                                    MILK_OF_CALCIUM              2\n",
       "41                           COARSE-ROUND_AND_REGULAR              2\n",
       "42                      SKIN-COARSE-ROUND_AND_REGULAR              1\n",
       "43                        ROUND_AND_REGULAR-AMORPHOUS              1\n",
       "44                            PLEOMORPHIC-PLEOMORPHIC              1"
      ]
     },
     "execution_count": 61,
     "metadata": {},
     "output_type": "execute_result"
    }
   ],
   "source": [
    "## check the calc_types in patient_calc dataset\n",
    "## how many types are in that and what is the biggest?\n",
    "\n",
    "calctype_calc_train_data= pd.DataFrame(patient_calc_train_data['calc type'].value_counts())\n",
    "calctype_calc_train_data= calctype_calc_train_data.reset_index()\n",
    "calctype_calc_train_data= calctype_calc_train_data.rename(columns={'calc type': 'No_Calc Types'})\n",
    "calctype_calc_train_data"
   ]
  },
  {
   "cell_type": "code",
   "execution_count": 62,
   "metadata": {},
   "outputs": [
    {
     "data": {
      "application/vnd.plotly.v1+json": {
       "config": {
        "plotlyServerURL": "https://plot.ly"
       },
       "data": [
        {
         "alignmentgroup": "True",
         "hovertemplate": "index=%{y}<br>No_Calc Types=%{x}<extra></extra>",
         "legendgroup": "PLEOMORPHIC",
         "marker": {
          "color": "#636efa",
          "pattern": {
           "shape": ""
          }
         },
         "name": "PLEOMORPHIC",
         "offsetgroup": "PLEOMORPHIC",
         "orientation": "h",
         "showlegend": true,
         "textposition": "auto",
         "type": "bar",
         "x": [
          664
         ],
         "xaxis": "x",
         "y": [
          "PLEOMORPHIC"
         ],
         "yaxis": "y"
        },
        {
         "alignmentgroup": "True",
         "hovertemplate": "index=%{y}<br>No_Calc Types=%{x}<extra></extra>",
         "legendgroup": "AMORPHOUS",
         "marker": {
          "color": "#EF553B",
          "pattern": {
           "shape": ""
          }
         },
         "name": "AMORPHOUS",
         "offsetgroup": "AMORPHOUS",
         "orientation": "h",
         "showlegend": true,
         "textposition": "auto",
         "type": "bar",
         "x": [
          139
         ],
         "xaxis": "x",
         "y": [
          "AMORPHOUS"
         ],
         "yaxis": "y"
        },
        {
         "alignmentgroup": "True",
         "hovertemplate": "index=%{y}<br>No_Calc Types=%{x}<extra></extra>",
         "legendgroup": "PUNCTATE",
         "marker": {
          "color": "#00cc96",
          "pattern": {
           "shape": ""
          }
         },
         "name": "PUNCTATE",
         "offsetgroup": "PUNCTATE",
         "orientation": "h",
         "showlegend": true,
         "textposition": "auto",
         "type": "bar",
         "x": [
          106
         ],
         "xaxis": "x",
         "y": [
          "PUNCTATE"
         ],
         "yaxis": "y"
        },
        {
         "alignmentgroup": "True",
         "hovertemplate": "index=%{y}<br>No_Calc Types=%{x}<extra></extra>",
         "legendgroup": "LUCENT_CENTER",
         "marker": {
          "color": "#ab63fa",
          "pattern": {
           "shape": ""
          }
         },
         "name": "LUCENT_CENTER",
         "offsetgroup": "LUCENT_CENTER",
         "orientation": "h",
         "showlegend": true,
         "textposition": "auto",
         "type": "bar",
         "x": [
          93
         ],
         "xaxis": "x",
         "y": [
          "LUCENT_CENTER"
         ],
         "yaxis": "y"
        },
        {
         "alignmentgroup": "True",
         "hovertemplate": "index=%{y}<br>No_Calc Types=%{x}<extra></extra>",
         "legendgroup": "VASCULAR",
         "marker": {
          "color": "#FFA15A",
          "pattern": {
           "shape": ""
          }
         },
         "name": "VASCULAR",
         "offsetgroup": "VASCULAR",
         "orientation": "h",
         "showlegend": true,
         "textposition": "auto",
         "type": "bar",
         "x": [
          82
         ],
         "xaxis": "x",
         "y": [
          "VASCULAR"
         ],
         "yaxis": "y"
        },
        {
         "alignmentgroup": "True",
         "hovertemplate": "index=%{y}<br>No_Calc Types=%{x}<extra></extra>",
         "legendgroup": "FINE_LINEAR_BRANCHING",
         "marker": {
          "color": "#19d3f3",
          "pattern": {
           "shape": ""
          }
         },
         "name": "FINE_LINEAR_BRANCHING",
         "offsetgroup": "FINE_LINEAR_BRANCHING",
         "orientation": "h",
         "showlegend": true,
         "textposition": "auto",
         "type": "bar",
         "x": [
          77
         ],
         "xaxis": "x",
         "y": [
          "FINE_LINEAR_BRANCHING"
         ],
         "yaxis": "y"
        },
        {
         "alignmentgroup": "True",
         "hovertemplate": "index=%{y}<br>No_Calc Types=%{x}<extra></extra>",
         "legendgroup": "COARSE",
         "marker": {
          "color": "#FF6692",
          "pattern": {
           "shape": ""
          }
         },
         "name": "COARSE",
         "offsetgroup": "COARSE",
         "orientation": "h",
         "showlegend": true,
         "textposition": "auto",
         "type": "bar",
         "x": [
          35
         ],
         "xaxis": "x",
         "y": [
          "COARSE"
         ],
         "yaxis": "y"
        },
        {
         "alignmentgroup": "True",
         "hovertemplate": "index=%{y}<br>No_Calc Types=%{x}<extra></extra>",
         "legendgroup": "ROUND_AND_REGULAR-LUCENT_CENTER",
         "marker": {
          "color": "#B6E880",
          "pattern": {
           "shape": ""
          }
         },
         "name": "ROUND_AND_REGULAR-LUCENT_CENTER",
         "offsetgroup": "ROUND_AND_REGULAR-LUCENT_CENTER",
         "orientation": "h",
         "showlegend": true,
         "textposition": "auto",
         "type": "bar",
         "x": [
          33
         ],
         "xaxis": "x",
         "y": [
          "ROUND_AND_REGULAR-LUCENT_CENTER"
         ],
         "yaxis": "y"
        },
        {
         "alignmentgroup": "True",
         "hovertemplate": "index=%{y}<br>No_Calc Types=%{x}<extra></extra>",
         "legendgroup": "PLEOMORPHIC-FINE_LINEAR_BRANCHING",
         "marker": {
          "color": "#FF97FF",
          "pattern": {
           "shape": ""
          }
         },
         "name": "PLEOMORPHIC-FINE_LINEAR_BRANCHING",
         "offsetgroup": "PLEOMORPHIC-FINE_LINEAR_BRANCHING",
         "orientation": "h",
         "showlegend": true,
         "textposition": "auto",
         "type": "bar",
         "x": [
          28
         ],
         "xaxis": "x",
         "y": [
          "PLEOMORPHIC-FINE_LINEAR_BRANCHING"
         ],
         "yaxis": "y"
        },
        {
         "alignmentgroup": "True",
         "hovertemplate": "index=%{y}<br>No_Calc Types=%{x}<extra></extra>",
         "legendgroup": "ROUND_AND_REGULAR-LUCENT_CENTER-PUNCTATE",
         "marker": {
          "color": "#FECB52",
          "pattern": {
           "shape": ""
          }
         },
         "name": "ROUND_AND_REGULAR-LUCENT_CENTER-PUNCTATE",
         "offsetgroup": "ROUND_AND_REGULAR-LUCENT_CENTER-PUNCTATE",
         "orientation": "h",
         "showlegend": true,
         "textposition": "auto",
         "type": "bar",
         "x": [
          24
         ],
         "xaxis": "x",
         "y": [
          "ROUND_AND_REGULAR-LUCENT_CENTER-PUNCTATE"
         ],
         "yaxis": "y"
        },
        {
         "alignmentgroup": "True",
         "hovertemplate": "index=%{y}<br>No_Calc Types=%{x}<extra></extra>",
         "legendgroup": "ROUND_AND_REGULAR-EGGSHELL",
         "marker": {
          "color": "#636efa",
          "pattern": {
           "shape": ""
          }
         },
         "name": "ROUND_AND_REGULAR-EGGSHELL",
         "offsetgroup": "ROUND_AND_REGULAR-EGGSHELL",
         "orientation": "h",
         "showlegend": true,
         "textposition": "auto",
         "type": "bar",
         "x": [
          23
         ],
         "xaxis": "x",
         "y": [
          "ROUND_AND_REGULAR-EGGSHELL"
         ],
         "yaxis": "y"
        },
        {
         "alignmentgroup": "True",
         "hovertemplate": "index=%{y}<br>No_Calc Types=%{x}<extra></extra>",
         "legendgroup": "PUNCTATE-PLEOMORPHIC",
         "marker": {
          "color": "#EF553B",
          "pattern": {
           "shape": ""
          }
         },
         "name": "PUNCTATE-PLEOMORPHIC",
         "offsetgroup": "PUNCTATE-PLEOMORPHIC",
         "orientation": "h",
         "showlegend": true,
         "textposition": "auto",
         "type": "bar",
         "x": [
          21
         ],
         "xaxis": "x",
         "y": [
          "PUNCTATE-PLEOMORPHIC"
         ],
         "yaxis": "y"
        },
        {
         "alignmentgroup": "True",
         "hovertemplate": "index=%{y}<br>No_Calc Types=%{x}<extra></extra>",
         "legendgroup": "DYSTROPHIC",
         "marker": {
          "color": "#00cc96",
          "pattern": {
           "shape": ""
          }
         },
         "name": "DYSTROPHIC",
         "offsetgroup": "DYSTROPHIC",
         "orientation": "h",
         "showlegend": true,
         "textposition": "auto",
         "type": "bar",
         "x": [
          20
         ],
         "xaxis": "x",
         "y": [
          "DYSTROPHIC"
         ],
         "yaxis": "y"
        },
        {
         "alignmentgroup": "True",
         "hovertemplate": "index=%{y}<br>No_Calc Types=%{x}<extra></extra>",
         "legendgroup": "LUCENT_CENTERED",
         "marker": {
          "color": "#ab63fa",
          "pattern": {
           "shape": ""
          }
         },
         "name": "LUCENT_CENTERED",
         "offsetgroup": "LUCENT_CENTERED",
         "orientation": "h",
         "showlegend": true,
         "textposition": "auto",
         "type": "bar",
         "x": [
          19
         ],
         "xaxis": "x",
         "y": [
          "LUCENT_CENTERED"
         ],
         "yaxis": "y"
        },
        {
         "alignmentgroup": "True",
         "hovertemplate": "index=%{y}<br>No_Calc Types=%{x}<extra></extra>",
         "legendgroup": "ROUND_AND_REGULAR-LUCENT_CENTER-DYSTROPHIC",
         "marker": {
          "color": "#FFA15A",
          "pattern": {
           "shape": ""
          }
         },
         "name": "ROUND_AND_REGULAR-LUCENT_CENTER-DYSTROPHIC",
         "offsetgroup": "ROUND_AND_REGULAR-LUCENT_CENTER-DYSTROPHIC",
         "orientation": "h",
         "showlegend": true,
         "textposition": "auto",
         "type": "bar",
         "x": [
          18
         ],
         "xaxis": "x",
         "y": [
          "ROUND_AND_REGULAR-LUCENT_CENTER-DYSTROPHIC"
         ],
         "yaxis": "y"
        },
        {
         "alignmentgroup": "True",
         "hovertemplate": "index=%{y}<br>No_Calc Types=%{x}<extra></extra>",
         "legendgroup": "ROUND_AND_REGULAR",
         "marker": {
          "color": "#19d3f3",
          "pattern": {
           "shape": ""
          }
         },
         "name": "ROUND_AND_REGULAR",
         "offsetgroup": "ROUND_AND_REGULAR",
         "orientation": "h",
         "showlegend": true,
         "textposition": "auto",
         "type": "bar",
         "x": [
          17
         ],
         "xaxis": "x",
         "y": [
          "ROUND_AND_REGULAR"
         ],
         "yaxis": "y"
        },
        {
         "alignmentgroup": "True",
         "hovertemplate": "index=%{y}<br>No_Calc Types=%{x}<extra></extra>",
         "legendgroup": "ROUND_AND_REGULAR-LUCENT_CENTERED",
         "marker": {
          "color": "#FF6692",
          "pattern": {
           "shape": ""
          }
         },
         "name": "ROUND_AND_REGULAR-LUCENT_CENTERED",
         "offsetgroup": "ROUND_AND_REGULAR-LUCENT_CENTERED",
         "orientation": "h",
         "showlegend": true,
         "textposition": "auto",
         "type": "bar",
         "x": [
          14
         ],
         "xaxis": "x",
         "y": [
          "ROUND_AND_REGULAR-LUCENT_CENTERED"
         ],
         "yaxis": "y"
        },
        {
         "alignmentgroup": "True",
         "hovertemplate": "index=%{y}<br>No_Calc Types=%{x}<extra></extra>",
         "legendgroup": "AMORPHOUS-PLEOMORPHIC",
         "marker": {
          "color": "#B6E880",
          "pattern": {
           "shape": ""
          }
         },
         "name": "AMORPHOUS-PLEOMORPHIC",
         "offsetgroup": "AMORPHOUS-PLEOMORPHIC",
         "orientation": "h",
         "showlegend": true,
         "textposition": "auto",
         "type": "bar",
         "x": [
          12
         ],
         "xaxis": "x",
         "y": [
          "AMORPHOUS-PLEOMORPHIC"
         ],
         "yaxis": "y"
        },
        {
         "alignmentgroup": "True",
         "hovertemplate": "index=%{y}<br>No_Calc Types=%{x}<extra></extra>",
         "legendgroup": "LARGE_RODLIKE-ROUND_AND_REGULAR",
         "marker": {
          "color": "#FF97FF",
          "pattern": {
           "shape": ""
          }
         },
         "name": "LARGE_RODLIKE-ROUND_AND_REGULAR",
         "offsetgroup": "LARGE_RODLIKE-ROUND_AND_REGULAR",
         "orientation": "h",
         "showlegend": true,
         "textposition": "auto",
         "type": "bar",
         "x": [
          11
         ],
         "xaxis": "x",
         "y": [
          "LARGE_RODLIKE-ROUND_AND_REGULAR"
         ],
         "yaxis": "y"
        },
        {
         "alignmentgroup": "True",
         "hovertemplate": "index=%{y}<br>No_Calc Types=%{x}<extra></extra>",
         "legendgroup": "PUNCTATE-AMORPHOUS",
         "marker": {
          "color": "#FECB52",
          "pattern": {
           "shape": ""
          }
         },
         "name": "PUNCTATE-AMORPHOUS",
         "offsetgroup": "PUNCTATE-AMORPHOUS",
         "orientation": "h",
         "showlegend": true,
         "textposition": "auto",
         "type": "bar",
         "x": [
          10
         ],
         "xaxis": "x",
         "y": [
          "PUNCTATE-AMORPHOUS"
         ],
         "yaxis": "y"
        },
        {
         "alignmentgroup": "True",
         "hovertemplate": "index=%{y}<br>No_Calc Types=%{x}<extra></extra>",
         "legendgroup": "COARSE-ROUND_AND_REGULAR-LUCENT_CENTER",
         "marker": {
          "color": "#636efa",
          "pattern": {
           "shape": ""
          }
         },
         "name": "COARSE-ROUND_AND_REGULAR-LUCENT_CENTER",
         "offsetgroup": "COARSE-ROUND_AND_REGULAR-LUCENT_CENTER",
         "orientation": "h",
         "showlegend": true,
         "textposition": "auto",
         "type": "bar",
         "x": [
          10
         ],
         "xaxis": "x",
         "y": [
          "COARSE-ROUND_AND_REGULAR-LUCENT_CENTER"
         ],
         "yaxis": "y"
        },
        {
         "alignmentgroup": "True",
         "hovertemplate": "index=%{y}<br>No_Calc Types=%{x}<extra></extra>",
         "legendgroup": "VASCULAR-COARSE-LUCENT_CENTERED",
         "marker": {
          "color": "#EF553B",
          "pattern": {
           "shape": ""
          }
         },
         "name": "VASCULAR-COARSE-LUCENT_CENTERED",
         "offsetgroup": "VASCULAR-COARSE-LUCENT_CENTERED",
         "orientation": "h",
         "showlegend": true,
         "textposition": "auto",
         "type": "bar",
         "x": [
          8
         ],
         "xaxis": "x",
         "y": [
          "VASCULAR-COARSE-LUCENT_CENTERED"
         ],
         "yaxis": "y"
        },
        {
         "alignmentgroup": "True",
         "hovertemplate": "index=%{y}<br>No_Calc Types=%{x}<extra></extra>",
         "legendgroup": "LUCENT_CENTER-PUNCTATE",
         "marker": {
          "color": "#00cc96",
          "pattern": {
           "shape": ""
          }
         },
         "name": "LUCENT_CENTER-PUNCTATE",
         "offsetgroup": "LUCENT_CENTER-PUNCTATE",
         "orientation": "h",
         "showlegend": true,
         "textposition": "auto",
         "type": "bar",
         "x": [
          8
         ],
         "xaxis": "x",
         "y": [
          "LUCENT_CENTER-PUNCTATE"
         ],
         "yaxis": "y"
        },
        {
         "alignmentgroup": "True",
         "hovertemplate": "index=%{y}<br>No_Calc Types=%{x}<extra></extra>",
         "legendgroup": "ROUND_AND_REGULAR-PLEOMORPHIC",
         "marker": {
          "color": "#ab63fa",
          "pattern": {
           "shape": ""
          }
         },
         "name": "ROUND_AND_REGULAR-PLEOMORPHIC",
         "offsetgroup": "ROUND_AND_REGULAR-PLEOMORPHIC",
         "orientation": "h",
         "showlegend": true,
         "textposition": "auto",
         "type": "bar",
         "x": [
          7
         ],
         "xaxis": "x",
         "y": [
          "ROUND_AND_REGULAR-PLEOMORPHIC"
         ],
         "yaxis": "y"
        },
        {
         "alignmentgroup": "True",
         "hovertemplate": "index=%{y}<br>No_Calc Types=%{x}<extra></extra>",
         "legendgroup": "EGGSHELL",
         "marker": {
          "color": "#FFA15A",
          "pattern": {
           "shape": ""
          }
         },
         "name": "EGGSHELL",
         "offsetgroup": "EGGSHELL",
         "orientation": "h",
         "showlegend": true,
         "textposition": "auto",
         "type": "bar",
         "x": [
          7
         ],
         "xaxis": "x",
         "y": [
          "EGGSHELL"
         ],
         "yaxis": "y"
        },
        {
         "alignmentgroup": "True",
         "hovertemplate": "index=%{y}<br>No_Calc Types=%{x}<extra></extra>",
         "legendgroup": "PUNCTATE-FINE_LINEAR_BRANCHING",
         "marker": {
          "color": "#19d3f3",
          "pattern": {
           "shape": ""
          }
         },
         "name": "PUNCTATE-FINE_LINEAR_BRANCHING",
         "offsetgroup": "PUNCTATE-FINE_LINEAR_BRANCHING",
         "orientation": "h",
         "showlegend": true,
         "textposition": "auto",
         "type": "bar",
         "x": [
          6
         ],
         "xaxis": "x",
         "y": [
          "PUNCTATE-FINE_LINEAR_BRANCHING"
         ],
         "yaxis": "y"
        },
        {
         "alignmentgroup": "True",
         "hovertemplate": "index=%{y}<br>No_Calc Types=%{x}<extra></extra>",
         "legendgroup": "VASCULAR-COARSE",
         "marker": {
          "color": "#FF6692",
          "pattern": {
           "shape": ""
          }
         },
         "name": "VASCULAR-COARSE",
         "offsetgroup": "VASCULAR-COARSE",
         "orientation": "h",
         "showlegend": true,
         "textposition": "auto",
         "type": "bar",
         "x": [
          6
         ],
         "xaxis": "x",
         "y": [
          "VASCULAR-COARSE"
         ],
         "yaxis": "y"
        },
        {
         "alignmentgroup": "True",
         "hovertemplate": "index=%{y}<br>No_Calc Types=%{x}<extra></extra>",
         "legendgroup": "ROUND_AND_REGULAR-PUNCTATE",
         "marker": {
          "color": "#B6E880",
          "pattern": {
           "shape": ""
          }
         },
         "name": "ROUND_AND_REGULAR-PUNCTATE",
         "offsetgroup": "ROUND_AND_REGULAR-PUNCTATE",
         "orientation": "h",
         "showlegend": true,
         "textposition": "auto",
         "type": "bar",
         "x": [
          5
         ],
         "xaxis": "x",
         "y": [
          "ROUND_AND_REGULAR-PUNCTATE"
         ],
         "yaxis": "y"
        },
        {
         "alignmentgroup": "True",
         "hovertemplate": "index=%{y}<br>No_Calc Types=%{x}<extra></extra>",
         "legendgroup": "SKIN-PUNCTATE-ROUND_AND_REGULAR",
         "marker": {
          "color": "#FF97FF",
          "pattern": {
           "shape": ""
          }
         },
         "name": "SKIN-PUNCTATE-ROUND_AND_REGULAR",
         "offsetgroup": "SKIN-PUNCTATE-ROUND_AND_REGULAR",
         "orientation": "h",
         "showlegend": true,
         "textposition": "auto",
         "type": "bar",
         "x": [
          4
         ],
         "xaxis": "x",
         "y": [
          "SKIN-PUNCTATE-ROUND_AND_REGULAR"
         ],
         "yaxis": "y"
        },
        {
         "alignmentgroup": "True",
         "hovertemplate": "index=%{y}<br>No_Calc Types=%{x}<extra></extra>",
         "legendgroup": "SKIN-PUNCTATE",
         "marker": {
          "color": "#FECB52",
          "pattern": {
           "shape": ""
          }
         },
         "name": "SKIN-PUNCTATE",
         "offsetgroup": "SKIN-PUNCTATE",
         "orientation": "h",
         "showlegend": true,
         "textposition": "auto",
         "type": "bar",
         "x": [
          4
         ],
         "xaxis": "x",
         "y": [
          "SKIN-PUNCTATE"
         ],
         "yaxis": "y"
        },
        {
         "alignmentgroup": "True",
         "hovertemplate": "index=%{y}<br>No_Calc Types=%{x}<extra></extra>",
         "legendgroup": "COARSE-ROUND_AND_REGULAR-LUCENT_CENTERED",
         "marker": {
          "color": "#636efa",
          "pattern": {
           "shape": ""
          }
         },
         "name": "COARSE-ROUND_AND_REGULAR-LUCENT_CENTERED",
         "offsetgroup": "COARSE-ROUND_AND_REGULAR-LUCENT_CENTERED",
         "orientation": "h",
         "showlegend": true,
         "textposition": "auto",
         "type": "bar",
         "x": [
          4
         ],
         "xaxis": "x",
         "y": [
          "COARSE-ROUND_AND_REGULAR-LUCENT_CENTERED"
         ],
         "yaxis": "y"
        },
        {
         "alignmentgroup": "True",
         "hovertemplate": "index=%{y}<br>No_Calc Types=%{x}<extra></extra>",
         "legendgroup": "PUNCTATE-ROUND_AND_REGULAR",
         "marker": {
          "color": "#EF553B",
          "pattern": {
           "shape": ""
          }
         },
         "name": "PUNCTATE-ROUND_AND_REGULAR",
         "offsetgroup": "PUNCTATE-ROUND_AND_REGULAR",
         "orientation": "h",
         "showlegend": true,
         "textposition": "auto",
         "type": "bar",
         "x": [
          4
         ],
         "xaxis": "x",
         "y": [
          "PUNCTATE-ROUND_AND_REGULAR"
         ],
         "yaxis": "y"
        },
        {
         "alignmentgroup": "True",
         "hovertemplate": "index=%{y}<br>No_Calc Types=%{x}<extra></extra>",
         "legendgroup": "LARGE_RODLIKE",
         "marker": {
          "color": "#00cc96",
          "pattern": {
           "shape": ""
          }
         },
         "name": "LARGE_RODLIKE",
         "offsetgroup": "LARGE_RODLIKE",
         "orientation": "h",
         "showlegend": true,
         "textposition": "auto",
         "type": "bar",
         "x": [
          4
         ],
         "xaxis": "x",
         "y": [
          "LARGE_RODLIKE"
         ],
         "yaxis": "y"
        },
        {
         "alignmentgroup": "True",
         "hovertemplate": "index=%{y}<br>No_Calc Types=%{x}<extra></extra>",
         "legendgroup": "AMORPHOUS-ROUND_AND_REGULAR",
         "marker": {
          "color": "#ab63fa",
          "pattern": {
           "shape": ""
          }
         },
         "name": "AMORPHOUS-ROUND_AND_REGULAR",
         "offsetgroup": "AMORPHOUS-ROUND_AND_REGULAR",
         "orientation": "h",
         "showlegend": true,
         "textposition": "auto",
         "type": "bar",
         "x": [
          3
         ],
         "xaxis": "x",
         "y": [
          "AMORPHOUS-ROUND_AND_REGULAR"
         ],
         "yaxis": "y"
        },
        {
         "alignmentgroup": "True",
         "hovertemplate": "index=%{y}<br>No_Calc Types=%{x}<extra></extra>",
         "legendgroup": "PUNCTATE-LUCENT_CENTER",
         "marker": {
          "color": "#FFA15A",
          "pattern": {
           "shape": ""
          }
         },
         "name": "PUNCTATE-LUCENT_CENTER",
         "offsetgroup": "PUNCTATE-LUCENT_CENTER",
         "orientation": "h",
         "showlegend": true,
         "textposition": "auto",
         "type": "bar",
         "x": [
          3
         ],
         "xaxis": "x",
         "y": [
          "PUNCTATE-LUCENT_CENTER"
         ],
         "yaxis": "y"
        },
        {
         "alignmentgroup": "True",
         "hovertemplate": "index=%{y}<br>No_Calc Types=%{x}<extra></extra>",
         "legendgroup": "SKIN",
         "marker": {
          "color": "#19d3f3",
          "pattern": {
           "shape": ""
          }
         },
         "name": "SKIN",
         "offsetgroup": "SKIN",
         "orientation": "h",
         "showlegend": true,
         "textposition": "auto",
         "type": "bar",
         "x": [
          2
         ],
         "xaxis": "x",
         "y": [
          "SKIN"
         ],
         "yaxis": "y"
        },
        {
         "alignmentgroup": "True",
         "hovertemplate": "index=%{y}<br>No_Calc Types=%{x}<extra></extra>",
         "legendgroup": "VASCULAR-COARSE-LUCENT_CENTER-ROUND_AND_REGULAR-PUNCTATE",
         "marker": {
          "color": "#FF6692",
          "pattern": {
           "shape": ""
          }
         },
         "name": "VASCULAR-COARSE-LUCENT_CENTER-ROUND_AND_REGULAR-PUNCTATE",
         "offsetgroup": "VASCULAR-COARSE-LUCENT_CENTER-ROUND_AND_REGULAR-PUNCTATE",
         "orientation": "h",
         "showlegend": true,
         "textposition": "auto",
         "type": "bar",
         "x": [
          2
         ],
         "xaxis": "x",
         "y": [
          "VASCULAR-COARSE-LUCENT_CENTER-ROUND_AND_REGULAR-PUNCTATE"
         ],
         "yaxis": "y"
        },
        {
         "alignmentgroup": "True",
         "hovertemplate": "index=%{y}<br>No_Calc Types=%{x}<extra></extra>",
         "legendgroup": "COARSE-PLEOMORPHIC",
         "marker": {
          "color": "#B6E880",
          "pattern": {
           "shape": ""
          }
         },
         "name": "COARSE-PLEOMORPHIC",
         "offsetgroup": "COARSE-PLEOMORPHIC",
         "orientation": "h",
         "showlegend": true,
         "textposition": "auto",
         "type": "bar",
         "x": [
          2
         ],
         "xaxis": "x",
         "y": [
          "COARSE-PLEOMORPHIC"
         ],
         "yaxis": "y"
        },
        {
         "alignmentgroup": "True",
         "hovertemplate": "index=%{y}<br>No_Calc Types=%{x}<extra></extra>",
         "legendgroup": "ROUND_AND_REGULAR-PUNCTATE-AMORPHOUS",
         "marker": {
          "color": "#FF97FF",
          "pattern": {
           "shape": ""
          }
         },
         "name": "ROUND_AND_REGULAR-PUNCTATE-AMORPHOUS",
         "offsetgroup": "ROUND_AND_REGULAR-PUNCTATE-AMORPHOUS",
         "orientation": "h",
         "showlegend": true,
         "textposition": "auto",
         "type": "bar",
         "x": [
          2
         ],
         "xaxis": "x",
         "y": [
          "ROUND_AND_REGULAR-PUNCTATE-AMORPHOUS"
         ],
         "yaxis": "y"
        },
        {
         "alignmentgroup": "True",
         "hovertemplate": "index=%{y}<br>No_Calc Types=%{x}<extra></extra>",
         "legendgroup": "COARSE-LUCENT_CENTER",
         "marker": {
          "color": "#FECB52",
          "pattern": {
           "shape": ""
          }
         },
         "name": "COARSE-LUCENT_CENTER",
         "offsetgroup": "COARSE-LUCENT_CENTER",
         "orientation": "h",
         "showlegend": true,
         "textposition": "auto",
         "type": "bar",
         "x": [
          2
         ],
         "xaxis": "x",
         "y": [
          "COARSE-LUCENT_CENTER"
         ],
         "yaxis": "y"
        },
        {
         "alignmentgroup": "True",
         "hovertemplate": "index=%{y}<br>No_Calc Types=%{x}<extra></extra>",
         "legendgroup": "MILK_OF_CALCIUM",
         "marker": {
          "color": "#636efa",
          "pattern": {
           "shape": ""
          }
         },
         "name": "MILK_OF_CALCIUM",
         "offsetgroup": "MILK_OF_CALCIUM",
         "orientation": "h",
         "showlegend": true,
         "textposition": "auto",
         "type": "bar",
         "x": [
          2
         ],
         "xaxis": "x",
         "y": [
          "MILK_OF_CALCIUM"
         ],
         "yaxis": "y"
        },
        {
         "alignmentgroup": "True",
         "hovertemplate": "index=%{y}<br>No_Calc Types=%{x}<extra></extra>",
         "legendgroup": "COARSE-ROUND_AND_REGULAR",
         "marker": {
          "color": "#EF553B",
          "pattern": {
           "shape": ""
          }
         },
         "name": "COARSE-ROUND_AND_REGULAR",
         "offsetgroup": "COARSE-ROUND_AND_REGULAR",
         "orientation": "h",
         "showlegend": true,
         "textposition": "auto",
         "type": "bar",
         "x": [
          2
         ],
         "xaxis": "x",
         "y": [
          "COARSE-ROUND_AND_REGULAR"
         ],
         "yaxis": "y"
        },
        {
         "alignmentgroup": "True",
         "hovertemplate": "index=%{y}<br>No_Calc Types=%{x}<extra></extra>",
         "legendgroup": "SKIN-COARSE-ROUND_AND_REGULAR",
         "marker": {
          "color": "#00cc96",
          "pattern": {
           "shape": ""
          }
         },
         "name": "SKIN-COARSE-ROUND_AND_REGULAR",
         "offsetgroup": "SKIN-COARSE-ROUND_AND_REGULAR",
         "orientation": "h",
         "showlegend": true,
         "textposition": "auto",
         "type": "bar",
         "x": [
          1
         ],
         "xaxis": "x",
         "y": [
          "SKIN-COARSE-ROUND_AND_REGULAR"
         ],
         "yaxis": "y"
        },
        {
         "alignmentgroup": "True",
         "hovertemplate": "index=%{y}<br>No_Calc Types=%{x}<extra></extra>",
         "legendgroup": "ROUND_AND_REGULAR-AMORPHOUS",
         "marker": {
          "color": "#ab63fa",
          "pattern": {
           "shape": ""
          }
         },
         "name": "ROUND_AND_REGULAR-AMORPHOUS",
         "offsetgroup": "ROUND_AND_REGULAR-AMORPHOUS",
         "orientation": "h",
         "showlegend": true,
         "textposition": "auto",
         "type": "bar",
         "x": [
          1
         ],
         "xaxis": "x",
         "y": [
          "ROUND_AND_REGULAR-AMORPHOUS"
         ],
         "yaxis": "y"
        },
        {
         "alignmentgroup": "True",
         "hovertemplate": "index=%{y}<br>No_Calc Types=%{x}<extra></extra>",
         "legendgroup": "PLEOMORPHIC-PLEOMORPHIC",
         "marker": {
          "color": "#FFA15A",
          "pattern": {
           "shape": ""
          }
         },
         "name": "PLEOMORPHIC-PLEOMORPHIC",
         "offsetgroup": "PLEOMORPHIC-PLEOMORPHIC",
         "orientation": "h",
         "showlegend": true,
         "textposition": "auto",
         "type": "bar",
         "x": [
          1
         ],
         "xaxis": "x",
         "y": [
          "PLEOMORPHIC-PLEOMORPHIC"
         ],
         "yaxis": "y"
        }
       ],
       "layout": {
        "barmode": "relative",
        "legend": {
         "title": {
          "text": "index"
         },
         "tracegroupgap": 0
        },
        "margin": {
         "t": 60
        },
        "template": {
         "data": {
          "bar": [
           {
            "error_x": {
             "color": "#2a3f5f"
            },
            "error_y": {
             "color": "#2a3f5f"
            },
            "marker": {
             "line": {
              "color": "#E5ECF6",
              "width": 0.5
             },
             "pattern": {
              "fillmode": "overlay",
              "size": 10,
              "solidity": 0.2
             }
            },
            "type": "bar"
           }
          ],
          "barpolar": [
           {
            "marker": {
             "line": {
              "color": "#E5ECF6",
              "width": 0.5
             },
             "pattern": {
              "fillmode": "overlay",
              "size": 10,
              "solidity": 0.2
             }
            },
            "type": "barpolar"
           }
          ],
          "carpet": [
           {
            "aaxis": {
             "endlinecolor": "#2a3f5f",
             "gridcolor": "white",
             "linecolor": "white",
             "minorgridcolor": "white",
             "startlinecolor": "#2a3f5f"
            },
            "baxis": {
             "endlinecolor": "#2a3f5f",
             "gridcolor": "white",
             "linecolor": "white",
             "minorgridcolor": "white",
             "startlinecolor": "#2a3f5f"
            },
            "type": "carpet"
           }
          ],
          "choropleth": [
           {
            "colorbar": {
             "outlinewidth": 0,
             "ticks": ""
            },
            "type": "choropleth"
           }
          ],
          "contour": [
           {
            "colorbar": {
             "outlinewidth": 0,
             "ticks": ""
            },
            "colorscale": [
             [
              0,
              "#0d0887"
             ],
             [
              0.1111111111111111,
              "#46039f"
             ],
             [
              0.2222222222222222,
              "#7201a8"
             ],
             [
              0.3333333333333333,
              "#9c179e"
             ],
             [
              0.4444444444444444,
              "#bd3786"
             ],
             [
              0.5555555555555556,
              "#d8576b"
             ],
             [
              0.6666666666666666,
              "#ed7953"
             ],
             [
              0.7777777777777778,
              "#fb9f3a"
             ],
             [
              0.8888888888888888,
              "#fdca26"
             ],
             [
              1,
              "#f0f921"
             ]
            ],
            "type": "contour"
           }
          ],
          "contourcarpet": [
           {
            "colorbar": {
             "outlinewidth": 0,
             "ticks": ""
            },
            "type": "contourcarpet"
           }
          ],
          "heatmap": [
           {
            "colorbar": {
             "outlinewidth": 0,
             "ticks": ""
            },
            "colorscale": [
             [
              0,
              "#0d0887"
             ],
             [
              0.1111111111111111,
              "#46039f"
             ],
             [
              0.2222222222222222,
              "#7201a8"
             ],
             [
              0.3333333333333333,
              "#9c179e"
             ],
             [
              0.4444444444444444,
              "#bd3786"
             ],
             [
              0.5555555555555556,
              "#d8576b"
             ],
             [
              0.6666666666666666,
              "#ed7953"
             ],
             [
              0.7777777777777778,
              "#fb9f3a"
             ],
             [
              0.8888888888888888,
              "#fdca26"
             ],
             [
              1,
              "#f0f921"
             ]
            ],
            "type": "heatmap"
           }
          ],
          "heatmapgl": [
           {
            "colorbar": {
             "outlinewidth": 0,
             "ticks": ""
            },
            "colorscale": [
             [
              0,
              "#0d0887"
             ],
             [
              0.1111111111111111,
              "#46039f"
             ],
             [
              0.2222222222222222,
              "#7201a8"
             ],
             [
              0.3333333333333333,
              "#9c179e"
             ],
             [
              0.4444444444444444,
              "#bd3786"
             ],
             [
              0.5555555555555556,
              "#d8576b"
             ],
             [
              0.6666666666666666,
              "#ed7953"
             ],
             [
              0.7777777777777778,
              "#fb9f3a"
             ],
             [
              0.8888888888888888,
              "#fdca26"
             ],
             [
              1,
              "#f0f921"
             ]
            ],
            "type": "heatmapgl"
           }
          ],
          "histogram": [
           {
            "marker": {
             "pattern": {
              "fillmode": "overlay",
              "size": 10,
              "solidity": 0.2
             }
            },
            "type": "histogram"
           }
          ],
          "histogram2d": [
           {
            "colorbar": {
             "outlinewidth": 0,
             "ticks": ""
            },
            "colorscale": [
             [
              0,
              "#0d0887"
             ],
             [
              0.1111111111111111,
              "#46039f"
             ],
             [
              0.2222222222222222,
              "#7201a8"
             ],
             [
              0.3333333333333333,
              "#9c179e"
             ],
             [
              0.4444444444444444,
              "#bd3786"
             ],
             [
              0.5555555555555556,
              "#d8576b"
             ],
             [
              0.6666666666666666,
              "#ed7953"
             ],
             [
              0.7777777777777778,
              "#fb9f3a"
             ],
             [
              0.8888888888888888,
              "#fdca26"
             ],
             [
              1,
              "#f0f921"
             ]
            ],
            "type": "histogram2d"
           }
          ],
          "histogram2dcontour": [
           {
            "colorbar": {
             "outlinewidth": 0,
             "ticks": ""
            },
            "colorscale": [
             [
              0,
              "#0d0887"
             ],
             [
              0.1111111111111111,
              "#46039f"
             ],
             [
              0.2222222222222222,
              "#7201a8"
             ],
             [
              0.3333333333333333,
              "#9c179e"
             ],
             [
              0.4444444444444444,
              "#bd3786"
             ],
             [
              0.5555555555555556,
              "#d8576b"
             ],
             [
              0.6666666666666666,
              "#ed7953"
             ],
             [
              0.7777777777777778,
              "#fb9f3a"
             ],
             [
              0.8888888888888888,
              "#fdca26"
             ],
             [
              1,
              "#f0f921"
             ]
            ],
            "type": "histogram2dcontour"
           }
          ],
          "mesh3d": [
           {
            "colorbar": {
             "outlinewidth": 0,
             "ticks": ""
            },
            "type": "mesh3d"
           }
          ],
          "parcoords": [
           {
            "line": {
             "colorbar": {
              "outlinewidth": 0,
              "ticks": ""
             }
            },
            "type": "parcoords"
           }
          ],
          "pie": [
           {
            "automargin": true,
            "type": "pie"
           }
          ],
          "scatter": [
           {
            "fillpattern": {
             "fillmode": "overlay",
             "size": 10,
             "solidity": 0.2
            },
            "type": "scatter"
           }
          ],
          "scatter3d": [
           {
            "line": {
             "colorbar": {
              "outlinewidth": 0,
              "ticks": ""
             }
            },
            "marker": {
             "colorbar": {
              "outlinewidth": 0,
              "ticks": ""
             }
            },
            "type": "scatter3d"
           }
          ],
          "scattercarpet": [
           {
            "marker": {
             "colorbar": {
              "outlinewidth": 0,
              "ticks": ""
             }
            },
            "type": "scattercarpet"
           }
          ],
          "scattergeo": [
           {
            "marker": {
             "colorbar": {
              "outlinewidth": 0,
              "ticks": ""
             }
            },
            "type": "scattergeo"
           }
          ],
          "scattergl": [
           {
            "marker": {
             "colorbar": {
              "outlinewidth": 0,
              "ticks": ""
             }
            },
            "type": "scattergl"
           }
          ],
          "scattermapbox": [
           {
            "marker": {
             "colorbar": {
              "outlinewidth": 0,
              "ticks": ""
             }
            },
            "type": "scattermapbox"
           }
          ],
          "scatterpolar": [
           {
            "marker": {
             "colorbar": {
              "outlinewidth": 0,
              "ticks": ""
             }
            },
            "type": "scatterpolar"
           }
          ],
          "scatterpolargl": [
           {
            "marker": {
             "colorbar": {
              "outlinewidth": 0,
              "ticks": ""
             }
            },
            "type": "scatterpolargl"
           }
          ],
          "scatterternary": [
           {
            "marker": {
             "colorbar": {
              "outlinewidth": 0,
              "ticks": ""
             }
            },
            "type": "scatterternary"
           }
          ],
          "surface": [
           {
            "colorbar": {
             "outlinewidth": 0,
             "ticks": ""
            },
            "colorscale": [
             [
              0,
              "#0d0887"
             ],
             [
              0.1111111111111111,
              "#46039f"
             ],
             [
              0.2222222222222222,
              "#7201a8"
             ],
             [
              0.3333333333333333,
              "#9c179e"
             ],
             [
              0.4444444444444444,
              "#bd3786"
             ],
             [
              0.5555555555555556,
              "#d8576b"
             ],
             [
              0.6666666666666666,
              "#ed7953"
             ],
             [
              0.7777777777777778,
              "#fb9f3a"
             ],
             [
              0.8888888888888888,
              "#fdca26"
             ],
             [
              1,
              "#f0f921"
             ]
            ],
            "type": "surface"
           }
          ],
          "table": [
           {
            "cells": {
             "fill": {
              "color": "#EBF0F8"
             },
             "line": {
              "color": "white"
             }
            },
            "header": {
             "fill": {
              "color": "#C8D4E3"
             },
             "line": {
              "color": "white"
             }
            },
            "type": "table"
           }
          ]
         },
         "layout": {
          "annotationdefaults": {
           "arrowcolor": "#2a3f5f",
           "arrowhead": 0,
           "arrowwidth": 1
          },
          "autotypenumbers": "strict",
          "coloraxis": {
           "colorbar": {
            "outlinewidth": 0,
            "ticks": ""
           }
          },
          "colorscale": {
           "diverging": [
            [
             0,
             "#8e0152"
            ],
            [
             0.1,
             "#c51b7d"
            ],
            [
             0.2,
             "#de77ae"
            ],
            [
             0.3,
             "#f1b6da"
            ],
            [
             0.4,
             "#fde0ef"
            ],
            [
             0.5,
             "#f7f7f7"
            ],
            [
             0.6,
             "#e6f5d0"
            ],
            [
             0.7,
             "#b8e186"
            ],
            [
             0.8,
             "#7fbc41"
            ],
            [
             0.9,
             "#4d9221"
            ],
            [
             1,
             "#276419"
            ]
           ],
           "sequential": [
            [
             0,
             "#0d0887"
            ],
            [
             0.1111111111111111,
             "#46039f"
            ],
            [
             0.2222222222222222,
             "#7201a8"
            ],
            [
             0.3333333333333333,
             "#9c179e"
            ],
            [
             0.4444444444444444,
             "#bd3786"
            ],
            [
             0.5555555555555556,
             "#d8576b"
            ],
            [
             0.6666666666666666,
             "#ed7953"
            ],
            [
             0.7777777777777778,
             "#fb9f3a"
            ],
            [
             0.8888888888888888,
             "#fdca26"
            ],
            [
             1,
             "#f0f921"
            ]
           ],
           "sequentialminus": [
            [
             0,
             "#0d0887"
            ],
            [
             0.1111111111111111,
             "#46039f"
            ],
            [
             0.2222222222222222,
             "#7201a8"
            ],
            [
             0.3333333333333333,
             "#9c179e"
            ],
            [
             0.4444444444444444,
             "#bd3786"
            ],
            [
             0.5555555555555556,
             "#d8576b"
            ],
            [
             0.6666666666666666,
             "#ed7953"
            ],
            [
             0.7777777777777778,
             "#fb9f3a"
            ],
            [
             0.8888888888888888,
             "#fdca26"
            ],
            [
             1,
             "#f0f921"
            ]
           ]
          },
          "colorway": [
           "#636efa",
           "#EF553B",
           "#00cc96",
           "#ab63fa",
           "#FFA15A",
           "#19d3f3",
           "#FF6692",
           "#B6E880",
           "#FF97FF",
           "#FECB52"
          ],
          "font": {
           "color": "#2a3f5f"
          },
          "geo": {
           "bgcolor": "white",
           "lakecolor": "white",
           "landcolor": "#E5ECF6",
           "showlakes": true,
           "showland": true,
           "subunitcolor": "white"
          },
          "hoverlabel": {
           "align": "left"
          },
          "hovermode": "closest",
          "mapbox": {
           "style": "light"
          },
          "paper_bgcolor": "white",
          "plot_bgcolor": "#E5ECF6",
          "polar": {
           "angularaxis": {
            "gridcolor": "white",
            "linecolor": "white",
            "ticks": ""
           },
           "bgcolor": "#E5ECF6",
           "radialaxis": {
            "gridcolor": "white",
            "linecolor": "white",
            "ticks": ""
           }
          },
          "scene": {
           "xaxis": {
            "backgroundcolor": "#E5ECF6",
            "gridcolor": "white",
            "gridwidth": 2,
            "linecolor": "white",
            "showbackground": true,
            "ticks": "",
            "zerolinecolor": "white"
           },
           "yaxis": {
            "backgroundcolor": "#E5ECF6",
            "gridcolor": "white",
            "gridwidth": 2,
            "linecolor": "white",
            "showbackground": true,
            "ticks": "",
            "zerolinecolor": "white"
           },
           "zaxis": {
            "backgroundcolor": "#E5ECF6",
            "gridcolor": "white",
            "gridwidth": 2,
            "linecolor": "white",
            "showbackground": true,
            "ticks": "",
            "zerolinecolor": "white"
           }
          },
          "shapedefaults": {
           "line": {
            "color": "#2a3f5f"
           }
          },
          "ternary": {
           "aaxis": {
            "gridcolor": "white",
            "linecolor": "white",
            "ticks": ""
           },
           "baxis": {
            "gridcolor": "white",
            "linecolor": "white",
            "ticks": ""
           },
           "bgcolor": "#E5ECF6",
           "caxis": {
            "gridcolor": "white",
            "linecolor": "white",
            "ticks": ""
           }
          },
          "title": {
           "x": 0.05
          },
          "xaxis": {
           "automargin": true,
           "gridcolor": "white",
           "linecolor": "white",
           "ticks": "",
           "title": {
            "standoff": 15
           },
           "zerolinecolor": "white",
           "zerolinewidth": 2
          },
          "yaxis": {
           "automargin": true,
           "gridcolor": "white",
           "linecolor": "white",
           "ticks": "",
           "title": {
            "standoff": 15
           },
           "zerolinecolor": "white",
           "zerolinewidth": 2
          }
         }
        },
        "xaxis": {
         "anchor": "y",
         "domain": [
          0,
          1
         ],
         "title": {
          "text": "No_Calc Types"
         }
        },
        "yaxis": {
         "anchor": "x",
         "categoryarray": [
          "PLEOMORPHIC-PLEOMORPHIC",
          "ROUND_AND_REGULAR-AMORPHOUS",
          "SKIN-COARSE-ROUND_AND_REGULAR",
          "COARSE-ROUND_AND_REGULAR",
          "MILK_OF_CALCIUM",
          "COARSE-LUCENT_CENTER",
          "ROUND_AND_REGULAR-PUNCTATE-AMORPHOUS",
          "COARSE-PLEOMORPHIC",
          "VASCULAR-COARSE-LUCENT_CENTER-ROUND_AND_REGULAR-PUNCTATE",
          "SKIN",
          "PUNCTATE-LUCENT_CENTER",
          "AMORPHOUS-ROUND_AND_REGULAR",
          "LARGE_RODLIKE",
          "PUNCTATE-ROUND_AND_REGULAR",
          "COARSE-ROUND_AND_REGULAR-LUCENT_CENTERED",
          "SKIN-PUNCTATE",
          "SKIN-PUNCTATE-ROUND_AND_REGULAR",
          "ROUND_AND_REGULAR-PUNCTATE",
          "VASCULAR-COARSE",
          "PUNCTATE-FINE_LINEAR_BRANCHING",
          "EGGSHELL",
          "ROUND_AND_REGULAR-PLEOMORPHIC",
          "LUCENT_CENTER-PUNCTATE",
          "VASCULAR-COARSE-LUCENT_CENTERED",
          "COARSE-ROUND_AND_REGULAR-LUCENT_CENTER",
          "PUNCTATE-AMORPHOUS",
          "LARGE_RODLIKE-ROUND_AND_REGULAR",
          "AMORPHOUS-PLEOMORPHIC",
          "ROUND_AND_REGULAR-LUCENT_CENTERED",
          "ROUND_AND_REGULAR",
          "ROUND_AND_REGULAR-LUCENT_CENTER-DYSTROPHIC",
          "LUCENT_CENTERED",
          "DYSTROPHIC",
          "PUNCTATE-PLEOMORPHIC",
          "ROUND_AND_REGULAR-EGGSHELL",
          "ROUND_AND_REGULAR-LUCENT_CENTER-PUNCTATE",
          "PLEOMORPHIC-FINE_LINEAR_BRANCHING",
          "ROUND_AND_REGULAR-LUCENT_CENTER",
          "COARSE",
          "FINE_LINEAR_BRANCHING",
          "VASCULAR",
          "LUCENT_CENTER",
          "PUNCTATE",
          "AMORPHOUS",
          "PLEOMORPHIC"
         ],
         "categoryorder": "array",
         "domain": [
          0,
          1
         ],
         "title": {
          "text": "index"
         }
        }
       }
      }
     },
     "metadata": {},
     "output_type": "display_data"
    }
   ],
   "source": [
    "## plot the calc types\n",
    "calctype_calc_graph= px.bar(data_frame=calctype_calc_train_data, x='No_Calc Types', y='index', color='index')\n",
    "calctype_calc_graph"
   ]
  },
  {
   "cell_type": "code",
   "execution_count": 63,
   "metadata": {},
   "outputs": [],
   "source": [
    "pio.write_html(calctype_calc_graph, file='plotly_graph3.html', auto_open=True)"
   ]
  },
  {
   "cell_type": "code",
   "execution_count": 64,
   "metadata": {},
   "outputs": [
    {
     "data": {
      "text/html": [
       "<div>\n",
       "<style scoped>\n",
       "    .dataframe tbody tr th:only-of-type {\n",
       "        vertical-align: middle;\n",
       "    }\n",
       "\n",
       "    .dataframe tbody tr th {\n",
       "        vertical-align: top;\n",
       "    }\n",
       "\n",
       "    .dataframe thead th {\n",
       "        text-align: right;\n",
       "    }\n",
       "</style>\n",
       "<table border=\"1\" class=\"dataframe\">\n",
       "  <thead>\n",
       "    <tr style=\"text-align: right;\">\n",
       "      <th></th>\n",
       "      <th>index</th>\n",
       "      <th>No_Calc Distribution</th>\n",
       "    </tr>\n",
       "  </thead>\n",
       "  <tbody>\n",
       "    <tr>\n",
       "      <th>0</th>\n",
       "      <td>CLUSTERED</td>\n",
       "      <td>1000</td>\n",
       "    </tr>\n",
       "    <tr>\n",
       "      <th>1</th>\n",
       "      <td>SEGMENTAL</td>\n",
       "      <td>214</td>\n",
       "    </tr>\n",
       "    <tr>\n",
       "      <th>2</th>\n",
       "      <td>REGIONAL</td>\n",
       "      <td>118</td>\n",
       "    </tr>\n",
       "    <tr>\n",
       "      <th>3</th>\n",
       "      <td>LINEAR</td>\n",
       "      <td>111</td>\n",
       "    </tr>\n",
       "    <tr>\n",
       "      <th>4</th>\n",
       "      <td>CLUSTERED-LINEAR</td>\n",
       "      <td>49</td>\n",
       "    </tr>\n",
       "    <tr>\n",
       "      <th>5</th>\n",
       "      <td>DIFFUSELY_SCATTERED</td>\n",
       "      <td>43</td>\n",
       "    </tr>\n",
       "    <tr>\n",
       "      <th>6</th>\n",
       "      <td>CLUSTERED-SEGMENTAL</td>\n",
       "      <td>5</td>\n",
       "    </tr>\n",
       "    <tr>\n",
       "      <th>7</th>\n",
       "      <td>LINEAR-SEGMENTAL</td>\n",
       "      <td>5</td>\n",
       "    </tr>\n",
       "    <tr>\n",
       "      <th>8</th>\n",
       "      <td>REGIONAL-REGIONAL</td>\n",
       "      <td>1</td>\n",
       "    </tr>\n",
       "  </tbody>\n",
       "</table>\n",
       "</div>"
      ],
      "text/plain": [
       "                 index  No_Calc Distribution\n",
       "0            CLUSTERED                  1000\n",
       "1            SEGMENTAL                   214\n",
       "2             REGIONAL                   118\n",
       "3               LINEAR                   111\n",
       "4     CLUSTERED-LINEAR                    49\n",
       "5  DIFFUSELY_SCATTERED                    43\n",
       "6  CLUSTERED-SEGMENTAL                     5\n",
       "7     LINEAR-SEGMENTAL                     5\n",
       "8    REGIONAL-REGIONAL                     1"
      ]
     },
     "execution_count": 64,
     "metadata": {},
     "output_type": "execute_result"
    }
   ],
   "source": [
    "## what about the calc_distribution? how many different types in this?\n",
    "calcdistr_calc= pd.DataFrame(patient_calc_train_data['calc distribution'].value_counts())\n",
    "calcdistr_calc= calcdistr_calc.reset_index()\n",
    "calcdistr_calc= calcdistr_calc.rename(columns={'calc distribution': 'No_Calc Distribution'})\n",
    "calcdistr_calc"
   ]
  },
  {
   "cell_type": "code",
   "execution_count": 65,
   "metadata": {},
   "outputs": [
    {
     "data": {
      "application/vnd.plotly.v1+json": {
       "config": {
        "plotlyServerURL": "https://plot.ly"
       },
       "data": [
        {
         "alignmentgroup": "True",
         "hovertemplate": "index=%{x}<br>No_Calc Distribution=%{y}<extra></extra>",
         "legendgroup": "CLUSTERED",
         "marker": {
          "color": "#636efa",
          "pattern": {
           "shape": ""
          }
         },
         "name": "CLUSTERED",
         "offsetgroup": "CLUSTERED",
         "orientation": "v",
         "showlegend": true,
         "textposition": "auto",
         "type": "bar",
         "x": [
          "CLUSTERED"
         ],
         "xaxis": "x",
         "y": [
          1000
         ],
         "yaxis": "y"
        },
        {
         "alignmentgroup": "True",
         "hovertemplate": "index=%{x}<br>No_Calc Distribution=%{y}<extra></extra>",
         "legendgroup": "SEGMENTAL",
         "marker": {
          "color": "#EF553B",
          "pattern": {
           "shape": ""
          }
         },
         "name": "SEGMENTAL",
         "offsetgroup": "SEGMENTAL",
         "orientation": "v",
         "showlegend": true,
         "textposition": "auto",
         "type": "bar",
         "x": [
          "SEGMENTAL"
         ],
         "xaxis": "x",
         "y": [
          214
         ],
         "yaxis": "y"
        },
        {
         "alignmentgroup": "True",
         "hovertemplate": "index=%{x}<br>No_Calc Distribution=%{y}<extra></extra>",
         "legendgroup": "REGIONAL",
         "marker": {
          "color": "#00cc96",
          "pattern": {
           "shape": ""
          }
         },
         "name": "REGIONAL",
         "offsetgroup": "REGIONAL",
         "orientation": "v",
         "showlegend": true,
         "textposition": "auto",
         "type": "bar",
         "x": [
          "REGIONAL"
         ],
         "xaxis": "x",
         "y": [
          118
         ],
         "yaxis": "y"
        },
        {
         "alignmentgroup": "True",
         "hovertemplate": "index=%{x}<br>No_Calc Distribution=%{y}<extra></extra>",
         "legendgroup": "LINEAR",
         "marker": {
          "color": "#ab63fa",
          "pattern": {
           "shape": ""
          }
         },
         "name": "LINEAR",
         "offsetgroup": "LINEAR",
         "orientation": "v",
         "showlegend": true,
         "textposition": "auto",
         "type": "bar",
         "x": [
          "LINEAR"
         ],
         "xaxis": "x",
         "y": [
          111
         ],
         "yaxis": "y"
        },
        {
         "alignmentgroup": "True",
         "hovertemplate": "index=%{x}<br>No_Calc Distribution=%{y}<extra></extra>",
         "legendgroup": "CLUSTERED-LINEAR",
         "marker": {
          "color": "#FFA15A",
          "pattern": {
           "shape": ""
          }
         },
         "name": "CLUSTERED-LINEAR",
         "offsetgroup": "CLUSTERED-LINEAR",
         "orientation": "v",
         "showlegend": true,
         "textposition": "auto",
         "type": "bar",
         "x": [
          "CLUSTERED-LINEAR"
         ],
         "xaxis": "x",
         "y": [
          49
         ],
         "yaxis": "y"
        },
        {
         "alignmentgroup": "True",
         "hovertemplate": "index=%{x}<br>No_Calc Distribution=%{y}<extra></extra>",
         "legendgroup": "DIFFUSELY_SCATTERED",
         "marker": {
          "color": "#19d3f3",
          "pattern": {
           "shape": ""
          }
         },
         "name": "DIFFUSELY_SCATTERED",
         "offsetgroup": "DIFFUSELY_SCATTERED",
         "orientation": "v",
         "showlegend": true,
         "textposition": "auto",
         "type": "bar",
         "x": [
          "DIFFUSELY_SCATTERED"
         ],
         "xaxis": "x",
         "y": [
          43
         ],
         "yaxis": "y"
        },
        {
         "alignmentgroup": "True",
         "hovertemplate": "index=%{x}<br>No_Calc Distribution=%{y}<extra></extra>",
         "legendgroup": "CLUSTERED-SEGMENTAL",
         "marker": {
          "color": "#FF6692",
          "pattern": {
           "shape": ""
          }
         },
         "name": "CLUSTERED-SEGMENTAL",
         "offsetgroup": "CLUSTERED-SEGMENTAL",
         "orientation": "v",
         "showlegend": true,
         "textposition": "auto",
         "type": "bar",
         "x": [
          "CLUSTERED-SEGMENTAL"
         ],
         "xaxis": "x",
         "y": [
          5
         ],
         "yaxis": "y"
        },
        {
         "alignmentgroup": "True",
         "hovertemplate": "index=%{x}<br>No_Calc Distribution=%{y}<extra></extra>",
         "legendgroup": "LINEAR-SEGMENTAL",
         "marker": {
          "color": "#B6E880",
          "pattern": {
           "shape": ""
          }
         },
         "name": "LINEAR-SEGMENTAL",
         "offsetgroup": "LINEAR-SEGMENTAL",
         "orientation": "v",
         "showlegend": true,
         "textposition": "auto",
         "type": "bar",
         "x": [
          "LINEAR-SEGMENTAL"
         ],
         "xaxis": "x",
         "y": [
          5
         ],
         "yaxis": "y"
        },
        {
         "alignmentgroup": "True",
         "hovertemplate": "index=%{x}<br>No_Calc Distribution=%{y}<extra></extra>",
         "legendgroup": "REGIONAL-REGIONAL",
         "marker": {
          "color": "#FF97FF",
          "pattern": {
           "shape": ""
          }
         },
         "name": "REGIONAL-REGIONAL",
         "offsetgroup": "REGIONAL-REGIONAL",
         "orientation": "v",
         "showlegend": true,
         "textposition": "auto",
         "type": "bar",
         "x": [
          "REGIONAL-REGIONAL"
         ],
         "xaxis": "x",
         "y": [
          1
         ],
         "yaxis": "y"
        }
       ],
       "layout": {
        "barmode": "relative",
        "legend": {
         "title": {
          "text": "index"
         },
         "tracegroupgap": 0
        },
        "margin": {
         "t": 60
        },
        "template": {
         "data": {
          "bar": [
           {
            "error_x": {
             "color": "#2a3f5f"
            },
            "error_y": {
             "color": "#2a3f5f"
            },
            "marker": {
             "line": {
              "color": "#E5ECF6",
              "width": 0.5
             },
             "pattern": {
              "fillmode": "overlay",
              "size": 10,
              "solidity": 0.2
             }
            },
            "type": "bar"
           }
          ],
          "barpolar": [
           {
            "marker": {
             "line": {
              "color": "#E5ECF6",
              "width": 0.5
             },
             "pattern": {
              "fillmode": "overlay",
              "size": 10,
              "solidity": 0.2
             }
            },
            "type": "barpolar"
           }
          ],
          "carpet": [
           {
            "aaxis": {
             "endlinecolor": "#2a3f5f",
             "gridcolor": "white",
             "linecolor": "white",
             "minorgridcolor": "white",
             "startlinecolor": "#2a3f5f"
            },
            "baxis": {
             "endlinecolor": "#2a3f5f",
             "gridcolor": "white",
             "linecolor": "white",
             "minorgridcolor": "white",
             "startlinecolor": "#2a3f5f"
            },
            "type": "carpet"
           }
          ],
          "choropleth": [
           {
            "colorbar": {
             "outlinewidth": 0,
             "ticks": ""
            },
            "type": "choropleth"
           }
          ],
          "contour": [
           {
            "colorbar": {
             "outlinewidth": 0,
             "ticks": ""
            },
            "colorscale": [
             [
              0,
              "#0d0887"
             ],
             [
              0.1111111111111111,
              "#46039f"
             ],
             [
              0.2222222222222222,
              "#7201a8"
             ],
             [
              0.3333333333333333,
              "#9c179e"
             ],
             [
              0.4444444444444444,
              "#bd3786"
             ],
             [
              0.5555555555555556,
              "#d8576b"
             ],
             [
              0.6666666666666666,
              "#ed7953"
             ],
             [
              0.7777777777777778,
              "#fb9f3a"
             ],
             [
              0.8888888888888888,
              "#fdca26"
             ],
             [
              1,
              "#f0f921"
             ]
            ],
            "type": "contour"
           }
          ],
          "contourcarpet": [
           {
            "colorbar": {
             "outlinewidth": 0,
             "ticks": ""
            },
            "type": "contourcarpet"
           }
          ],
          "heatmap": [
           {
            "colorbar": {
             "outlinewidth": 0,
             "ticks": ""
            },
            "colorscale": [
             [
              0,
              "#0d0887"
             ],
             [
              0.1111111111111111,
              "#46039f"
             ],
             [
              0.2222222222222222,
              "#7201a8"
             ],
             [
              0.3333333333333333,
              "#9c179e"
             ],
             [
              0.4444444444444444,
              "#bd3786"
             ],
             [
              0.5555555555555556,
              "#d8576b"
             ],
             [
              0.6666666666666666,
              "#ed7953"
             ],
             [
              0.7777777777777778,
              "#fb9f3a"
             ],
             [
              0.8888888888888888,
              "#fdca26"
             ],
             [
              1,
              "#f0f921"
             ]
            ],
            "type": "heatmap"
           }
          ],
          "heatmapgl": [
           {
            "colorbar": {
             "outlinewidth": 0,
             "ticks": ""
            },
            "colorscale": [
             [
              0,
              "#0d0887"
             ],
             [
              0.1111111111111111,
              "#46039f"
             ],
             [
              0.2222222222222222,
              "#7201a8"
             ],
             [
              0.3333333333333333,
              "#9c179e"
             ],
             [
              0.4444444444444444,
              "#bd3786"
             ],
             [
              0.5555555555555556,
              "#d8576b"
             ],
             [
              0.6666666666666666,
              "#ed7953"
             ],
             [
              0.7777777777777778,
              "#fb9f3a"
             ],
             [
              0.8888888888888888,
              "#fdca26"
             ],
             [
              1,
              "#f0f921"
             ]
            ],
            "type": "heatmapgl"
           }
          ],
          "histogram": [
           {
            "marker": {
             "pattern": {
              "fillmode": "overlay",
              "size": 10,
              "solidity": 0.2
             }
            },
            "type": "histogram"
           }
          ],
          "histogram2d": [
           {
            "colorbar": {
             "outlinewidth": 0,
             "ticks": ""
            },
            "colorscale": [
             [
              0,
              "#0d0887"
             ],
             [
              0.1111111111111111,
              "#46039f"
             ],
             [
              0.2222222222222222,
              "#7201a8"
             ],
             [
              0.3333333333333333,
              "#9c179e"
             ],
             [
              0.4444444444444444,
              "#bd3786"
             ],
             [
              0.5555555555555556,
              "#d8576b"
             ],
             [
              0.6666666666666666,
              "#ed7953"
             ],
             [
              0.7777777777777778,
              "#fb9f3a"
             ],
             [
              0.8888888888888888,
              "#fdca26"
             ],
             [
              1,
              "#f0f921"
             ]
            ],
            "type": "histogram2d"
           }
          ],
          "histogram2dcontour": [
           {
            "colorbar": {
             "outlinewidth": 0,
             "ticks": ""
            },
            "colorscale": [
             [
              0,
              "#0d0887"
             ],
             [
              0.1111111111111111,
              "#46039f"
             ],
             [
              0.2222222222222222,
              "#7201a8"
             ],
             [
              0.3333333333333333,
              "#9c179e"
             ],
             [
              0.4444444444444444,
              "#bd3786"
             ],
             [
              0.5555555555555556,
              "#d8576b"
             ],
             [
              0.6666666666666666,
              "#ed7953"
             ],
             [
              0.7777777777777778,
              "#fb9f3a"
             ],
             [
              0.8888888888888888,
              "#fdca26"
             ],
             [
              1,
              "#f0f921"
             ]
            ],
            "type": "histogram2dcontour"
           }
          ],
          "mesh3d": [
           {
            "colorbar": {
             "outlinewidth": 0,
             "ticks": ""
            },
            "type": "mesh3d"
           }
          ],
          "parcoords": [
           {
            "line": {
             "colorbar": {
              "outlinewidth": 0,
              "ticks": ""
             }
            },
            "type": "parcoords"
           }
          ],
          "pie": [
           {
            "automargin": true,
            "type": "pie"
           }
          ],
          "scatter": [
           {
            "fillpattern": {
             "fillmode": "overlay",
             "size": 10,
             "solidity": 0.2
            },
            "type": "scatter"
           }
          ],
          "scatter3d": [
           {
            "line": {
             "colorbar": {
              "outlinewidth": 0,
              "ticks": ""
             }
            },
            "marker": {
             "colorbar": {
              "outlinewidth": 0,
              "ticks": ""
             }
            },
            "type": "scatter3d"
           }
          ],
          "scattercarpet": [
           {
            "marker": {
             "colorbar": {
              "outlinewidth": 0,
              "ticks": ""
             }
            },
            "type": "scattercarpet"
           }
          ],
          "scattergeo": [
           {
            "marker": {
             "colorbar": {
              "outlinewidth": 0,
              "ticks": ""
             }
            },
            "type": "scattergeo"
           }
          ],
          "scattergl": [
           {
            "marker": {
             "colorbar": {
              "outlinewidth": 0,
              "ticks": ""
             }
            },
            "type": "scattergl"
           }
          ],
          "scattermapbox": [
           {
            "marker": {
             "colorbar": {
              "outlinewidth": 0,
              "ticks": ""
             }
            },
            "type": "scattermapbox"
           }
          ],
          "scatterpolar": [
           {
            "marker": {
             "colorbar": {
              "outlinewidth": 0,
              "ticks": ""
             }
            },
            "type": "scatterpolar"
           }
          ],
          "scatterpolargl": [
           {
            "marker": {
             "colorbar": {
              "outlinewidth": 0,
              "ticks": ""
             }
            },
            "type": "scatterpolargl"
           }
          ],
          "scatterternary": [
           {
            "marker": {
             "colorbar": {
              "outlinewidth": 0,
              "ticks": ""
             }
            },
            "type": "scatterternary"
           }
          ],
          "surface": [
           {
            "colorbar": {
             "outlinewidth": 0,
             "ticks": ""
            },
            "colorscale": [
             [
              0,
              "#0d0887"
             ],
             [
              0.1111111111111111,
              "#46039f"
             ],
             [
              0.2222222222222222,
              "#7201a8"
             ],
             [
              0.3333333333333333,
              "#9c179e"
             ],
             [
              0.4444444444444444,
              "#bd3786"
             ],
             [
              0.5555555555555556,
              "#d8576b"
             ],
             [
              0.6666666666666666,
              "#ed7953"
             ],
             [
              0.7777777777777778,
              "#fb9f3a"
             ],
             [
              0.8888888888888888,
              "#fdca26"
             ],
             [
              1,
              "#f0f921"
             ]
            ],
            "type": "surface"
           }
          ],
          "table": [
           {
            "cells": {
             "fill": {
              "color": "#EBF0F8"
             },
             "line": {
              "color": "white"
             }
            },
            "header": {
             "fill": {
              "color": "#C8D4E3"
             },
             "line": {
              "color": "white"
             }
            },
            "type": "table"
           }
          ]
         },
         "layout": {
          "annotationdefaults": {
           "arrowcolor": "#2a3f5f",
           "arrowhead": 0,
           "arrowwidth": 1
          },
          "autotypenumbers": "strict",
          "coloraxis": {
           "colorbar": {
            "outlinewidth": 0,
            "ticks": ""
           }
          },
          "colorscale": {
           "diverging": [
            [
             0,
             "#8e0152"
            ],
            [
             0.1,
             "#c51b7d"
            ],
            [
             0.2,
             "#de77ae"
            ],
            [
             0.3,
             "#f1b6da"
            ],
            [
             0.4,
             "#fde0ef"
            ],
            [
             0.5,
             "#f7f7f7"
            ],
            [
             0.6,
             "#e6f5d0"
            ],
            [
             0.7,
             "#b8e186"
            ],
            [
             0.8,
             "#7fbc41"
            ],
            [
             0.9,
             "#4d9221"
            ],
            [
             1,
             "#276419"
            ]
           ],
           "sequential": [
            [
             0,
             "#0d0887"
            ],
            [
             0.1111111111111111,
             "#46039f"
            ],
            [
             0.2222222222222222,
             "#7201a8"
            ],
            [
             0.3333333333333333,
             "#9c179e"
            ],
            [
             0.4444444444444444,
             "#bd3786"
            ],
            [
             0.5555555555555556,
             "#d8576b"
            ],
            [
             0.6666666666666666,
             "#ed7953"
            ],
            [
             0.7777777777777778,
             "#fb9f3a"
            ],
            [
             0.8888888888888888,
             "#fdca26"
            ],
            [
             1,
             "#f0f921"
            ]
           ],
           "sequentialminus": [
            [
             0,
             "#0d0887"
            ],
            [
             0.1111111111111111,
             "#46039f"
            ],
            [
             0.2222222222222222,
             "#7201a8"
            ],
            [
             0.3333333333333333,
             "#9c179e"
            ],
            [
             0.4444444444444444,
             "#bd3786"
            ],
            [
             0.5555555555555556,
             "#d8576b"
            ],
            [
             0.6666666666666666,
             "#ed7953"
            ],
            [
             0.7777777777777778,
             "#fb9f3a"
            ],
            [
             0.8888888888888888,
             "#fdca26"
            ],
            [
             1,
             "#f0f921"
            ]
           ]
          },
          "colorway": [
           "#636efa",
           "#EF553B",
           "#00cc96",
           "#ab63fa",
           "#FFA15A",
           "#19d3f3",
           "#FF6692",
           "#B6E880",
           "#FF97FF",
           "#FECB52"
          ],
          "font": {
           "color": "#2a3f5f"
          },
          "geo": {
           "bgcolor": "white",
           "lakecolor": "white",
           "landcolor": "#E5ECF6",
           "showlakes": true,
           "showland": true,
           "subunitcolor": "white"
          },
          "hoverlabel": {
           "align": "left"
          },
          "hovermode": "closest",
          "mapbox": {
           "style": "light"
          },
          "paper_bgcolor": "white",
          "plot_bgcolor": "#E5ECF6",
          "polar": {
           "angularaxis": {
            "gridcolor": "white",
            "linecolor": "white",
            "ticks": ""
           },
           "bgcolor": "#E5ECF6",
           "radialaxis": {
            "gridcolor": "white",
            "linecolor": "white",
            "ticks": ""
           }
          },
          "scene": {
           "xaxis": {
            "backgroundcolor": "#E5ECF6",
            "gridcolor": "white",
            "gridwidth": 2,
            "linecolor": "white",
            "showbackground": true,
            "ticks": "",
            "zerolinecolor": "white"
           },
           "yaxis": {
            "backgroundcolor": "#E5ECF6",
            "gridcolor": "white",
            "gridwidth": 2,
            "linecolor": "white",
            "showbackground": true,
            "ticks": "",
            "zerolinecolor": "white"
           },
           "zaxis": {
            "backgroundcolor": "#E5ECF6",
            "gridcolor": "white",
            "gridwidth": 2,
            "linecolor": "white",
            "showbackground": true,
            "ticks": "",
            "zerolinecolor": "white"
           }
          },
          "shapedefaults": {
           "line": {
            "color": "#2a3f5f"
           }
          },
          "ternary": {
           "aaxis": {
            "gridcolor": "white",
            "linecolor": "white",
            "ticks": ""
           },
           "baxis": {
            "gridcolor": "white",
            "linecolor": "white",
            "ticks": ""
           },
           "bgcolor": "#E5ECF6",
           "caxis": {
            "gridcolor": "white",
            "linecolor": "white",
            "ticks": ""
           }
          },
          "title": {
           "x": 0.05
          },
          "xaxis": {
           "automargin": true,
           "gridcolor": "white",
           "linecolor": "white",
           "ticks": "",
           "title": {
            "standoff": 15
           },
           "zerolinecolor": "white",
           "zerolinewidth": 2
          },
          "yaxis": {
           "automargin": true,
           "gridcolor": "white",
           "linecolor": "white",
           "ticks": "",
           "title": {
            "standoff": 15
           },
           "zerolinecolor": "white",
           "zerolinewidth": 2
          }
         }
        },
        "title": {
         "text": "Distribution of Calcification Cancer",
         "x": 0.5
        },
        "xaxis": {
         "anchor": "y",
         "categoryarray": [
          "CLUSTERED",
          "SEGMENTAL",
          "REGIONAL",
          "LINEAR",
          "CLUSTERED-LINEAR",
          "DIFFUSELY_SCATTERED",
          "CLUSTERED-SEGMENTAL",
          "LINEAR-SEGMENTAL",
          "REGIONAL-REGIONAL"
         ],
         "categoryorder": "array",
         "domain": [
          0,
          1
         ],
         "title": {
          "text": "index"
         }
        },
        "yaxis": {
         "anchor": "x",
         "domain": [
          0,
          1
         ],
         "title": {
          "text": "No_Calc Distribution"
         },
         "type": "log"
        }
       }
      }
     },
     "metadata": {},
     "output_type": "display_data"
    }
   ],
   "source": [
    "## plot the distribution types\n",
    "calcdistr_calc_graph= px.bar(data_frame=calcdistr_calc, y='No_Calc Distribution', x='index', color='index', orientation='v')\n",
    "calcdistr_calc_graph.update_layout(title='Distribution of Calcification Cancer', title_x=0.5, yaxis=dict(type='log'))\n",
    "calcdistr_calc_graph"
   ]
  },
  {
   "cell_type": "code",
   "execution_count": 66,
   "metadata": {},
   "outputs": [],
   "source": [
    "pio.write_html(calcdistr_calc_graph, file='plotly_graph3.html', auto_open=True)"
   ]
  },
  {
   "cell_type": "code",
   "execution_count": 67,
   "metadata": {},
   "outputs": [
    {
     "data": {
      "text/html": [
       "<div>\n",
       "<style scoped>\n",
       "    .dataframe tbody tr th:only-of-type {\n",
       "        vertical-align: middle;\n",
       "    }\n",
       "\n",
       "    .dataframe tbody tr th {\n",
       "        vertical-align: top;\n",
       "    }\n",
       "\n",
       "    .dataframe thead th {\n",
       "        text-align: right;\n",
       "    }\n",
       "</style>\n",
       "<table border=\"1\" class=\"dataframe\">\n",
       "  <thead>\n",
       "    <tr style=\"text-align: right;\">\n",
       "      <th></th>\n",
       "      <th>Breast Density Type</th>\n",
       "      <th>No_Breast Density Types</th>\n",
       "    </tr>\n",
       "  </thead>\n",
       "  <tbody>\n",
       "    <tr>\n",
       "      <th>0</th>\n",
       "      <td>3</td>\n",
       "      <td>539</td>\n",
       "    </tr>\n",
       "    <tr>\n",
       "      <th>1</th>\n",
       "      <td>2</td>\n",
       "      <td>501</td>\n",
       "    </tr>\n",
       "    <tr>\n",
       "      <th>2</th>\n",
       "      <td>4</td>\n",
       "      <td>331</td>\n",
       "    </tr>\n",
       "    <tr>\n",
       "      <th>3</th>\n",
       "      <td>1</td>\n",
       "      <td>175</td>\n",
       "    </tr>\n",
       "  </tbody>\n",
       "</table>\n",
       "</div>"
      ],
      "text/plain": [
       "   Breast Density Type  No_Breast Density Types\n",
       "0                    3                      539\n",
       "1                    2                      501\n",
       "2                    4                      331\n",
       "3                    1                      175"
      ]
     },
     "execution_count": 67,
     "metadata": {},
     "output_type": "execute_result"
    }
   ],
   "source": [
    "## check the breast density information\n",
    "## how many types are there?\n",
    "bdensity_calc= pd.DataFrame(patient_calc_train_data['breast density'].value_counts())\n",
    "bdensity_calc= bdensity_calc.reset_index()\n",
    "bdensity_calc= bdensity_calc.rename(columns={'breast density': 'No_Breast Density Types', 'index': 'Breast Density Type'})\n",
    "bdensity_calc"
   ]
  },
  {
   "cell_type": "code",
   "execution_count": 68,
   "metadata": {},
   "outputs": [
    {
     "data": {
      "application/vnd.plotly.v1+json": {
       "config": {
        "plotlyServerURL": "https://plot.ly"
       },
       "data": [
        {
         "alignmentgroup": "True",
         "hovertemplate": "Breast Density Type=%{marker.color}<br>No_Breast Density Types=%{y}<extra></extra>",
         "legendgroup": "",
         "marker": {
          "color": [
           3,
           2,
           4,
           1
          ],
          "coloraxis": "coloraxis",
          "pattern": {
           "shape": ""
          }
         },
         "name": "",
         "offsetgroup": "",
         "orientation": "v",
         "showlegend": false,
         "textposition": "auto",
         "type": "bar",
         "x": [
          3,
          2,
          4,
          1
         ],
         "xaxis": "x",
         "y": [
          539,
          501,
          331,
          175
         ],
         "yaxis": "y"
        }
       ],
       "layout": {
        "barmode": "relative",
        "coloraxis": {
         "colorbar": {
          "title": {
           "text": "Breast Density Type"
          }
         },
         "colorscale": [
          [
           0,
           "#0d0887"
          ],
          [
           0.1111111111111111,
           "#46039f"
          ],
          [
           0.2222222222222222,
           "#7201a8"
          ],
          [
           0.3333333333333333,
           "#9c179e"
          ],
          [
           0.4444444444444444,
           "#bd3786"
          ],
          [
           0.5555555555555556,
           "#d8576b"
          ],
          [
           0.6666666666666666,
           "#ed7953"
          ],
          [
           0.7777777777777778,
           "#fb9f3a"
          ],
          [
           0.8888888888888888,
           "#fdca26"
          ],
          [
           1,
           "#f0f921"
          ]
         ]
        },
        "legend": {
         "tracegroupgap": 0
        },
        "margin": {
         "t": 60
        },
        "template": {
         "data": {
          "bar": [
           {
            "error_x": {
             "color": "#2a3f5f"
            },
            "error_y": {
             "color": "#2a3f5f"
            },
            "marker": {
             "line": {
              "color": "#E5ECF6",
              "width": 0.5
             },
             "pattern": {
              "fillmode": "overlay",
              "size": 10,
              "solidity": 0.2
             }
            },
            "type": "bar"
           }
          ],
          "barpolar": [
           {
            "marker": {
             "line": {
              "color": "#E5ECF6",
              "width": 0.5
             },
             "pattern": {
              "fillmode": "overlay",
              "size": 10,
              "solidity": 0.2
             }
            },
            "type": "barpolar"
           }
          ],
          "carpet": [
           {
            "aaxis": {
             "endlinecolor": "#2a3f5f",
             "gridcolor": "white",
             "linecolor": "white",
             "minorgridcolor": "white",
             "startlinecolor": "#2a3f5f"
            },
            "baxis": {
             "endlinecolor": "#2a3f5f",
             "gridcolor": "white",
             "linecolor": "white",
             "minorgridcolor": "white",
             "startlinecolor": "#2a3f5f"
            },
            "type": "carpet"
           }
          ],
          "choropleth": [
           {
            "colorbar": {
             "outlinewidth": 0,
             "ticks": ""
            },
            "type": "choropleth"
           }
          ],
          "contour": [
           {
            "colorbar": {
             "outlinewidth": 0,
             "ticks": ""
            },
            "colorscale": [
             [
              0,
              "#0d0887"
             ],
             [
              0.1111111111111111,
              "#46039f"
             ],
             [
              0.2222222222222222,
              "#7201a8"
             ],
             [
              0.3333333333333333,
              "#9c179e"
             ],
             [
              0.4444444444444444,
              "#bd3786"
             ],
             [
              0.5555555555555556,
              "#d8576b"
             ],
             [
              0.6666666666666666,
              "#ed7953"
             ],
             [
              0.7777777777777778,
              "#fb9f3a"
             ],
             [
              0.8888888888888888,
              "#fdca26"
             ],
             [
              1,
              "#f0f921"
             ]
            ],
            "type": "contour"
           }
          ],
          "contourcarpet": [
           {
            "colorbar": {
             "outlinewidth": 0,
             "ticks": ""
            },
            "type": "contourcarpet"
           }
          ],
          "heatmap": [
           {
            "colorbar": {
             "outlinewidth": 0,
             "ticks": ""
            },
            "colorscale": [
             [
              0,
              "#0d0887"
             ],
             [
              0.1111111111111111,
              "#46039f"
             ],
             [
              0.2222222222222222,
              "#7201a8"
             ],
             [
              0.3333333333333333,
              "#9c179e"
             ],
             [
              0.4444444444444444,
              "#bd3786"
             ],
             [
              0.5555555555555556,
              "#d8576b"
             ],
             [
              0.6666666666666666,
              "#ed7953"
             ],
             [
              0.7777777777777778,
              "#fb9f3a"
             ],
             [
              0.8888888888888888,
              "#fdca26"
             ],
             [
              1,
              "#f0f921"
             ]
            ],
            "type": "heatmap"
           }
          ],
          "heatmapgl": [
           {
            "colorbar": {
             "outlinewidth": 0,
             "ticks": ""
            },
            "colorscale": [
             [
              0,
              "#0d0887"
             ],
             [
              0.1111111111111111,
              "#46039f"
             ],
             [
              0.2222222222222222,
              "#7201a8"
             ],
             [
              0.3333333333333333,
              "#9c179e"
             ],
             [
              0.4444444444444444,
              "#bd3786"
             ],
             [
              0.5555555555555556,
              "#d8576b"
             ],
             [
              0.6666666666666666,
              "#ed7953"
             ],
             [
              0.7777777777777778,
              "#fb9f3a"
             ],
             [
              0.8888888888888888,
              "#fdca26"
             ],
             [
              1,
              "#f0f921"
             ]
            ],
            "type": "heatmapgl"
           }
          ],
          "histogram": [
           {
            "marker": {
             "pattern": {
              "fillmode": "overlay",
              "size": 10,
              "solidity": 0.2
             }
            },
            "type": "histogram"
           }
          ],
          "histogram2d": [
           {
            "colorbar": {
             "outlinewidth": 0,
             "ticks": ""
            },
            "colorscale": [
             [
              0,
              "#0d0887"
             ],
             [
              0.1111111111111111,
              "#46039f"
             ],
             [
              0.2222222222222222,
              "#7201a8"
             ],
             [
              0.3333333333333333,
              "#9c179e"
             ],
             [
              0.4444444444444444,
              "#bd3786"
             ],
             [
              0.5555555555555556,
              "#d8576b"
             ],
             [
              0.6666666666666666,
              "#ed7953"
             ],
             [
              0.7777777777777778,
              "#fb9f3a"
             ],
             [
              0.8888888888888888,
              "#fdca26"
             ],
             [
              1,
              "#f0f921"
             ]
            ],
            "type": "histogram2d"
           }
          ],
          "histogram2dcontour": [
           {
            "colorbar": {
             "outlinewidth": 0,
             "ticks": ""
            },
            "colorscale": [
             [
              0,
              "#0d0887"
             ],
             [
              0.1111111111111111,
              "#46039f"
             ],
             [
              0.2222222222222222,
              "#7201a8"
             ],
             [
              0.3333333333333333,
              "#9c179e"
             ],
             [
              0.4444444444444444,
              "#bd3786"
             ],
             [
              0.5555555555555556,
              "#d8576b"
             ],
             [
              0.6666666666666666,
              "#ed7953"
             ],
             [
              0.7777777777777778,
              "#fb9f3a"
             ],
             [
              0.8888888888888888,
              "#fdca26"
             ],
             [
              1,
              "#f0f921"
             ]
            ],
            "type": "histogram2dcontour"
           }
          ],
          "mesh3d": [
           {
            "colorbar": {
             "outlinewidth": 0,
             "ticks": ""
            },
            "type": "mesh3d"
           }
          ],
          "parcoords": [
           {
            "line": {
             "colorbar": {
              "outlinewidth": 0,
              "ticks": ""
             }
            },
            "type": "parcoords"
           }
          ],
          "pie": [
           {
            "automargin": true,
            "type": "pie"
           }
          ],
          "scatter": [
           {
            "fillpattern": {
             "fillmode": "overlay",
             "size": 10,
             "solidity": 0.2
            },
            "type": "scatter"
           }
          ],
          "scatter3d": [
           {
            "line": {
             "colorbar": {
              "outlinewidth": 0,
              "ticks": ""
             }
            },
            "marker": {
             "colorbar": {
              "outlinewidth": 0,
              "ticks": ""
             }
            },
            "type": "scatter3d"
           }
          ],
          "scattercarpet": [
           {
            "marker": {
             "colorbar": {
              "outlinewidth": 0,
              "ticks": ""
             }
            },
            "type": "scattercarpet"
           }
          ],
          "scattergeo": [
           {
            "marker": {
             "colorbar": {
              "outlinewidth": 0,
              "ticks": ""
             }
            },
            "type": "scattergeo"
           }
          ],
          "scattergl": [
           {
            "marker": {
             "colorbar": {
              "outlinewidth": 0,
              "ticks": ""
             }
            },
            "type": "scattergl"
           }
          ],
          "scattermapbox": [
           {
            "marker": {
             "colorbar": {
              "outlinewidth": 0,
              "ticks": ""
             }
            },
            "type": "scattermapbox"
           }
          ],
          "scatterpolar": [
           {
            "marker": {
             "colorbar": {
              "outlinewidth": 0,
              "ticks": ""
             }
            },
            "type": "scatterpolar"
           }
          ],
          "scatterpolargl": [
           {
            "marker": {
             "colorbar": {
              "outlinewidth": 0,
              "ticks": ""
             }
            },
            "type": "scatterpolargl"
           }
          ],
          "scatterternary": [
           {
            "marker": {
             "colorbar": {
              "outlinewidth": 0,
              "ticks": ""
             }
            },
            "type": "scatterternary"
           }
          ],
          "surface": [
           {
            "colorbar": {
             "outlinewidth": 0,
             "ticks": ""
            },
            "colorscale": [
             [
              0,
              "#0d0887"
             ],
             [
              0.1111111111111111,
              "#46039f"
             ],
             [
              0.2222222222222222,
              "#7201a8"
             ],
             [
              0.3333333333333333,
              "#9c179e"
             ],
             [
              0.4444444444444444,
              "#bd3786"
             ],
             [
              0.5555555555555556,
              "#d8576b"
             ],
             [
              0.6666666666666666,
              "#ed7953"
             ],
             [
              0.7777777777777778,
              "#fb9f3a"
             ],
             [
              0.8888888888888888,
              "#fdca26"
             ],
             [
              1,
              "#f0f921"
             ]
            ],
            "type": "surface"
           }
          ],
          "table": [
           {
            "cells": {
             "fill": {
              "color": "#EBF0F8"
             },
             "line": {
              "color": "white"
             }
            },
            "header": {
             "fill": {
              "color": "#C8D4E3"
             },
             "line": {
              "color": "white"
             }
            },
            "type": "table"
           }
          ]
         },
         "layout": {
          "annotationdefaults": {
           "arrowcolor": "#2a3f5f",
           "arrowhead": 0,
           "arrowwidth": 1
          },
          "autotypenumbers": "strict",
          "coloraxis": {
           "colorbar": {
            "outlinewidth": 0,
            "ticks": ""
           }
          },
          "colorscale": {
           "diverging": [
            [
             0,
             "#8e0152"
            ],
            [
             0.1,
             "#c51b7d"
            ],
            [
             0.2,
             "#de77ae"
            ],
            [
             0.3,
             "#f1b6da"
            ],
            [
             0.4,
             "#fde0ef"
            ],
            [
             0.5,
             "#f7f7f7"
            ],
            [
             0.6,
             "#e6f5d0"
            ],
            [
             0.7,
             "#b8e186"
            ],
            [
             0.8,
             "#7fbc41"
            ],
            [
             0.9,
             "#4d9221"
            ],
            [
             1,
             "#276419"
            ]
           ],
           "sequential": [
            [
             0,
             "#0d0887"
            ],
            [
             0.1111111111111111,
             "#46039f"
            ],
            [
             0.2222222222222222,
             "#7201a8"
            ],
            [
             0.3333333333333333,
             "#9c179e"
            ],
            [
             0.4444444444444444,
             "#bd3786"
            ],
            [
             0.5555555555555556,
             "#d8576b"
            ],
            [
             0.6666666666666666,
             "#ed7953"
            ],
            [
             0.7777777777777778,
             "#fb9f3a"
            ],
            [
             0.8888888888888888,
             "#fdca26"
            ],
            [
             1,
             "#f0f921"
            ]
           ],
           "sequentialminus": [
            [
             0,
             "#0d0887"
            ],
            [
             0.1111111111111111,
             "#46039f"
            ],
            [
             0.2222222222222222,
             "#7201a8"
            ],
            [
             0.3333333333333333,
             "#9c179e"
            ],
            [
             0.4444444444444444,
             "#bd3786"
            ],
            [
             0.5555555555555556,
             "#d8576b"
            ],
            [
             0.6666666666666666,
             "#ed7953"
            ],
            [
             0.7777777777777778,
             "#fb9f3a"
            ],
            [
             0.8888888888888888,
             "#fdca26"
            ],
            [
             1,
             "#f0f921"
            ]
           ]
          },
          "colorway": [
           "#636efa",
           "#EF553B",
           "#00cc96",
           "#ab63fa",
           "#FFA15A",
           "#19d3f3",
           "#FF6692",
           "#B6E880",
           "#FF97FF",
           "#FECB52"
          ],
          "font": {
           "color": "#2a3f5f"
          },
          "geo": {
           "bgcolor": "white",
           "lakecolor": "white",
           "landcolor": "#E5ECF6",
           "showlakes": true,
           "showland": true,
           "subunitcolor": "white"
          },
          "hoverlabel": {
           "align": "left"
          },
          "hovermode": "closest",
          "mapbox": {
           "style": "light"
          },
          "paper_bgcolor": "white",
          "plot_bgcolor": "#E5ECF6",
          "polar": {
           "angularaxis": {
            "gridcolor": "white",
            "linecolor": "white",
            "ticks": ""
           },
           "bgcolor": "#E5ECF6",
           "radialaxis": {
            "gridcolor": "white",
            "linecolor": "white",
            "ticks": ""
           }
          },
          "scene": {
           "xaxis": {
            "backgroundcolor": "#E5ECF6",
            "gridcolor": "white",
            "gridwidth": 2,
            "linecolor": "white",
            "showbackground": true,
            "ticks": "",
            "zerolinecolor": "white"
           },
           "yaxis": {
            "backgroundcolor": "#E5ECF6",
            "gridcolor": "white",
            "gridwidth": 2,
            "linecolor": "white",
            "showbackground": true,
            "ticks": "",
            "zerolinecolor": "white"
           },
           "zaxis": {
            "backgroundcolor": "#E5ECF6",
            "gridcolor": "white",
            "gridwidth": 2,
            "linecolor": "white",
            "showbackground": true,
            "ticks": "",
            "zerolinecolor": "white"
           }
          },
          "shapedefaults": {
           "line": {
            "color": "#2a3f5f"
           }
          },
          "ternary": {
           "aaxis": {
            "gridcolor": "white",
            "linecolor": "white",
            "ticks": ""
           },
           "baxis": {
            "gridcolor": "white",
            "linecolor": "white",
            "ticks": ""
           },
           "bgcolor": "#E5ECF6",
           "caxis": {
            "gridcolor": "white",
            "linecolor": "white",
            "ticks": ""
           }
          },
          "title": {
           "x": 0.05
          },
          "xaxis": {
           "automargin": true,
           "gridcolor": "white",
           "linecolor": "white",
           "ticks": "",
           "title": {
            "standoff": 15
           },
           "zerolinecolor": "white",
           "zerolinewidth": 2
          },
          "yaxis": {
           "automargin": true,
           "gridcolor": "white",
           "linecolor": "white",
           "ticks": "",
           "title": {
            "standoff": 15
           },
           "zerolinecolor": "white",
           "zerolinewidth": 2
          }
         }
        },
        "title": {
         "text": "Breast Density Types",
         "x": 0.5
        },
        "xaxis": {
         "anchor": "y",
         "domain": [
          0,
          1
         ],
         "title": {
          "text": "Breast Density Type"
         }
        },
        "yaxis": {
         "anchor": "x",
         "domain": [
          0,
          1
         ],
         "title": {
          "text": "No_Breast Density Types"
         },
         "type": "log"
        }
       }
      }
     },
     "metadata": {},
     "output_type": "display_data"
    }
   ],
   "source": [
    "## plot the breast density types\n",
    "bdensity_calc_graph= px.bar(data_frame=bdensity_calc, y='No_Breast Density Types', x='Breast Density Type', color='Breast Density Type')\n",
    "bdensity_calc_graph.update_layout(title='Breast Density Types', title_x=0.5, yaxis=dict(type='log'))\n",
    "bdensity_calc_graph"
   ]
  },
  {
   "cell_type": "code",
   "execution_count": 69,
   "metadata": {},
   "outputs": [],
   "source": [
    "pio.write_html(bdensity_calc_graph, file='plotly_graph4.html', auto_open=True)"
   ]
  },
  {
   "cell_type": "code",
   "execution_count": 70,
   "metadata": {},
   "outputs": [
    {
     "data": {
      "text/html": [
       "<div>\n",
       "<style scoped>\n",
       "    .dataframe tbody tr th:only-of-type {\n",
       "        vertical-align: middle;\n",
       "    }\n",
       "\n",
       "    .dataframe tbody tr th {\n",
       "        vertical-align: top;\n",
       "    }\n",
       "\n",
       "    .dataframe thead th {\n",
       "        text-align: right;\n",
       "    }\n",
       "</style>\n",
       "<table border=\"1\" class=\"dataframe\">\n",
       "  <thead>\n",
       "    <tr style=\"text-align: right;\">\n",
       "      <th></th>\n",
       "      <th>abnormality type</th>\n",
       "    </tr>\n",
       "  </thead>\n",
       "  <tbody>\n",
       "    <tr>\n",
       "      <th>calcification</th>\n",
       "      <td>1546</td>\n",
       "    </tr>\n",
       "  </tbody>\n",
       "</table>\n",
       "</div>"
      ],
      "text/plain": [
       "               abnormality type\n",
       "calcification              1546"
      ]
     },
     "execution_count": 70,
     "metadata": {},
     "output_type": "execute_result"
    }
   ],
   "source": [
    "abnorm_calc= pd.DataFrame(patient_calc_train_data['abnormality type'].value_counts())\n",
    "abnorm_calc"
   ]
  },
  {
   "cell_type": "code",
   "execution_count": 71,
   "metadata": {},
   "outputs": [
    {
     "data": {
      "text/html": [
       "<div>\n",
       "<style scoped>\n",
       "    .dataframe tbody tr th:only-of-type {\n",
       "        vertical-align: middle;\n",
       "    }\n",
       "\n",
       "    .dataframe tbody tr th {\n",
       "        vertical-align: top;\n",
       "    }\n",
       "\n",
       "    .dataframe thead th {\n",
       "        text-align: right;\n",
       "    }\n",
       "</style>\n",
       "<table border=\"1\" class=\"dataframe\">\n",
       "  <thead>\n",
       "    <tr style=\"text-align: right;\">\n",
       "      <th></th>\n",
       "      <th>abnormality id</th>\n",
       "    </tr>\n",
       "  </thead>\n",
       "  <tbody>\n",
       "    <tr>\n",
       "      <th>1</th>\n",
       "      <td>1172</td>\n",
       "    </tr>\n",
       "    <tr>\n",
       "      <th>2</th>\n",
       "      <td>219</td>\n",
       "    </tr>\n",
       "    <tr>\n",
       "      <th>3</th>\n",
       "      <td>88</td>\n",
       "    </tr>\n",
       "    <tr>\n",
       "      <th>4</th>\n",
       "      <td>35</td>\n",
       "    </tr>\n",
       "    <tr>\n",
       "      <th>5</th>\n",
       "      <td>20</td>\n",
       "    </tr>\n",
       "    <tr>\n",
       "      <th>6</th>\n",
       "      <td>10</td>\n",
       "    </tr>\n",
       "    <tr>\n",
       "      <th>7</th>\n",
       "      <td>2</td>\n",
       "    </tr>\n",
       "  </tbody>\n",
       "</table>\n",
       "</div>"
      ],
      "text/plain": [
       "   abnormality id\n",
       "1            1172\n",
       "2             219\n",
       "3              88\n",
       "4              35\n",
       "5              20\n",
       "6              10\n",
       "7               2"
      ]
     },
     "execution_count": 71,
     "metadata": {},
     "output_type": "execute_result"
    }
   ],
   "source": [
    "abnormId_calc=pd.DataFrame(patient_calc_train_data['abnormality id'].value_counts())\n",
    "abnormId_calc"
   ]
  },
  {
   "cell_type": "code",
   "execution_count": 72,
   "metadata": {},
   "outputs": [
    {
     "data": {
      "text/html": [
       "<div>\n",
       "<style scoped>\n",
       "    .dataframe tbody tr th:only-of-type {\n",
       "        vertical-align: middle;\n",
       "    }\n",
       "\n",
       "    .dataframe tbody tr th {\n",
       "        vertical-align: top;\n",
       "    }\n",
       "\n",
       "    .dataframe thead th {\n",
       "        text-align: right;\n",
       "    }\n",
       "</style>\n",
       "<table border=\"1\" class=\"dataframe\">\n",
       "  <thead>\n",
       "    <tr style=\"text-align: right;\">\n",
       "      <th></th>\n",
       "      <th>abnormality type</th>\n",
       "    </tr>\n",
       "  </thead>\n",
       "  <tbody>\n",
       "    <tr>\n",
       "      <th>mass</th>\n",
       "      <td>1318</td>\n",
       "    </tr>\n",
       "  </tbody>\n",
       "</table>\n",
       "</div>"
      ],
      "text/plain": [
       "      abnormality type\n",
       "mass              1318"
      ]
     },
     "execution_count": 72,
     "metadata": {},
     "output_type": "execute_result"
    }
   ],
   "source": [
    "abnorm_mass= pd.DataFrame(patient_mass_train_data['abnormality type'].value_counts())\n",
    "abnorm_mass"
   ]
  },
  {
   "cell_type": "code",
   "execution_count": 73,
   "metadata": {},
   "outputs": [
    {
     "data": {
      "text/html": [
       "<div>\n",
       "<style scoped>\n",
       "    .dataframe tbody tr th:only-of-type {\n",
       "        vertical-align: middle;\n",
       "    }\n",
       "\n",
       "    .dataframe tbody tr th {\n",
       "        vertical-align: top;\n",
       "    }\n",
       "\n",
       "    .dataframe thead th {\n",
       "        text-align: right;\n",
       "    }\n",
       "</style>\n",
       "<table border=\"1\" class=\"dataframe\">\n",
       "  <thead>\n",
       "    <tr style=\"text-align: right;\">\n",
       "      <th></th>\n",
       "      <th>Breast Assessment</th>\n",
       "      <th>No_Assessments</th>\n",
       "    </tr>\n",
       "  </thead>\n",
       "  <tbody>\n",
       "    <tr>\n",
       "      <th>0</th>\n",
       "      <td>4</td>\n",
       "      <td>753</td>\n",
       "    </tr>\n",
       "    <tr>\n",
       "      <th>1</th>\n",
       "      <td>2</td>\n",
       "      <td>482</td>\n",
       "    </tr>\n",
       "    <tr>\n",
       "      <th>2</th>\n",
       "      <td>5</td>\n",
       "      <td>159</td>\n",
       "    </tr>\n",
       "    <tr>\n",
       "      <th>3</th>\n",
       "      <td>3</td>\n",
       "      <td>89</td>\n",
       "    </tr>\n",
       "    <tr>\n",
       "      <th>4</th>\n",
       "      <td>0</td>\n",
       "      <td>63</td>\n",
       "    </tr>\n",
       "  </tbody>\n",
       "</table>\n",
       "</div>"
      ],
      "text/plain": [
       "   Breast Assessment  No_Assessments\n",
       "0                  4             753\n",
       "1                  2             482\n",
       "2                  5             159\n",
       "3                  3              89\n",
       "4                  0              63"
      ]
     },
     "execution_count": 73,
     "metadata": {},
     "output_type": "execute_result"
    }
   ],
   "source": [
    "## check assessment and pathology\n",
    "assessm_calc= pd.DataFrame(patient_calc_train_data['assessment'].value_counts())\n",
    "assessm_calc= assessm_calc.reset_index()\n",
    "assessm_calc= assessm_calc.rename(columns={'assessment': 'No_Assessments', 'index': 'Breast Assessment'})\n",
    "assessm_calc"
   ]
  },
  {
   "cell_type": "markdown",
   "metadata": {},
   "source": [
    "### try modelling for mass cases"
   ]
  },
  {
   "cell_type": "code",
   "execution_count": 74,
   "metadata": {},
   "outputs": [],
   "source": [
    "## upload mass test data\n",
    "\n",
    "patient_mass_test_data= pd.read_csv('/Users/lalebaksi/Desktop/DS_3rd_Phase/archive (2)/csv/mass_case_description_test_set.csv')"
   ]
  },
  {
   "cell_type": "code",
   "execution_count": 75,
   "metadata": {},
   "outputs": [
    {
     "data": {
      "text/plain": [
       "patient_id                  0\n",
       "breast_density              0\n",
       "left or right breast        0\n",
       "image view                  0\n",
       "abnormality id              0\n",
       "abnormality type            0\n",
       "mass shape                  0\n",
       "mass margins               17\n",
       "assessment                  0\n",
       "pathology                   0\n",
       "subtlety                    0\n",
       "image file path             0\n",
       "cropped image file path     0\n",
       "ROI mask file path          0\n",
       "dtype: int64"
      ]
     },
     "execution_count": 75,
     "metadata": {},
     "output_type": "execute_result"
    }
   ],
   "source": [
    "## check the missing values for patient_mass_test data\n",
    "patient_mass_test_data.isnull().sum()"
   ]
  },
  {
   "cell_type": "code",
   "execution_count": 76,
   "metadata": {},
   "outputs": [],
   "source": [
    "## replace missing values for mass margins\n",
    "## use bfill method as previously \n",
    "patient_mass_test_data['mass margins'].fillna(method='bfill', axis=0, inplace=True)"
   ]
  },
  {
   "cell_type": "code",
   "execution_count": 77,
   "metadata": {},
   "outputs": [
    {
     "data": {
      "text/plain": [
       "patient_id                 0\n",
       "breast_density             0\n",
       "left or right breast       0\n",
       "image view                 0\n",
       "abnormality id             0\n",
       "abnormality type           0\n",
       "mass shape                 0\n",
       "mass margins               0\n",
       "assessment                 0\n",
       "pathology                  0\n",
       "subtlety                   0\n",
       "image file path            0\n",
       "cropped image file path    0\n",
       "ROI mask file path         0\n",
       "dtype: int64"
      ]
     },
     "execution_count": 77,
     "metadata": {},
     "output_type": "execute_result"
    }
   ],
   "source": [
    "## check if missing values are filled\n",
    "patient_mass_test_data.isnull().sum()"
   ]
  },
  {
   "cell_type": "code",
   "execution_count": 78,
   "metadata": {},
   "outputs": [
    {
     "name": "stdout",
     "output_type": "stream",
     "text": [
      "<class 'pandas.core.frame.DataFrame'>\n",
      "RangeIndex: 378 entries, 0 to 377\n",
      "Data columns (total 14 columns):\n",
      " #   Column                   Non-Null Count  Dtype \n",
      "---  ------                   --------------  ----- \n",
      " 0   patient_id               378 non-null    object\n",
      " 1   breast_density           378 non-null    int64 \n",
      " 2   left or right breast     378 non-null    object\n",
      " 3   image view               378 non-null    object\n",
      " 4   abnormality id           378 non-null    int64 \n",
      " 5   abnormality type         378 non-null    object\n",
      " 6   mass shape               378 non-null    object\n",
      " 7   mass margins             378 non-null    object\n",
      " 8   assessment               378 non-null    int64 \n",
      " 9   pathology                378 non-null    object\n",
      " 10  subtlety                 378 non-null    int64 \n",
      " 11  image file path          378 non-null    object\n",
      " 12  cropped image file path  378 non-null    object\n",
      " 13  ROI mask file path       378 non-null    object\n",
      "dtypes: int64(4), object(10)\n",
      "memory usage: 41.5+ KB\n"
     ]
    }
   ],
   "source": [
    "## check the info on the data\n",
    "patient_mass_test_data.info()"
   ]
  },
  {
   "cell_type": "code",
   "execution_count": 79,
   "metadata": {},
   "outputs": [],
   "source": [
    "## convert the data types of object to category, as same as calc_train data\n",
    "patient_mass_test_data['left or right breast']= patient_mass_test_data['left or right breast'].astype('category')\n",
    "patient_mass_test_data['image view']= patient_mass_test_data['image view'].astype('category')\n",
    "patient_mass_test_data['abnormality type']= patient_mass_test_data['abnormality type'].astype('category')\n",
    "patient_mass_test_data['mass shape']= patient_mass_test_data['mass shape'].astype('category')\n",
    "patient_mass_test_data['mass margins']= patient_mass_test_data['mass margins'].astype('category')\n",
    "patient_mass_test_data['pathology']= patient_mass_test_data['pathology'].astype('category')\n"
   ]
  },
  {
   "cell_type": "code",
   "execution_count": 80,
   "metadata": {},
   "outputs": [
    {
     "name": "stdout",
     "output_type": "stream",
     "text": [
      "<class 'pandas.core.frame.DataFrame'>\n",
      "RangeIndex: 378 entries, 0 to 377\n",
      "Data columns (total 14 columns):\n",
      " #   Column                   Non-Null Count  Dtype   \n",
      "---  ------                   --------------  -----   \n",
      " 0   patient_id               378 non-null    object  \n",
      " 1   breast_density           378 non-null    int64   \n",
      " 2   left or right breast     378 non-null    category\n",
      " 3   image view               378 non-null    category\n",
      " 4   abnormality id           378 non-null    int64   \n",
      " 5   abnormality type         378 non-null    category\n",
      " 6   mass shape               378 non-null    category\n",
      " 7   mass margins             378 non-null    category\n",
      " 8   assessment               378 non-null    int64   \n",
      " 9   pathology                378 non-null    category\n",
      " 10  subtlety                 378 non-null    int64   \n",
      " 11  image file path          378 non-null    object  \n",
      " 12  cropped image file path  378 non-null    object  \n",
      " 13  ROI mask file path       378 non-null    object  \n",
      "dtypes: category(6), int64(4), object(4)\n",
      "memory usage: 27.8+ KB\n"
     ]
    }
   ],
   "source": [
    "## check again for updated data types\n",
    "patient_mass_test_data.info()"
   ]
  },
  {
   "cell_type": "code",
   "execution_count": 81,
   "metadata": {},
   "outputs": [
    {
     "name": "stdout",
     "output_type": "stream",
     "text": [
      "<class 'pandas.core.frame.DataFrame'>\n",
      "RangeIndex: 1318 entries, 0 to 1317\n",
      "Data columns (total 14 columns):\n",
      " #   Column                   Non-Null Count  Dtype   \n",
      "---  ------                   --------------  -----   \n",
      " 0   patient_id               1318 non-null   object  \n",
      " 1   breast_density           1318 non-null   int64   \n",
      " 2   left or right breast     1318 non-null   category\n",
      " 3   image view               1318 non-null   category\n",
      " 4   abnormality id           1318 non-null   int64   \n",
      " 5   abnormality type         1318 non-null   category\n",
      " 6   mass shape               1318 non-null   category\n",
      " 7   mass margins             1318 non-null   category\n",
      " 8   assessment               1318 non-null   int64   \n",
      " 9   pathology                1318 non-null   category\n",
      " 10  subtlety                 1318 non-null   int64   \n",
      " 11  image file path          1318 non-null   object  \n",
      " 12  cropped image file path  1318 non-null   object  \n",
      " 13  ROI mask file path       1318 non-null   object  \n",
      "dtypes: category(6), int64(4), object(4)\n",
      "memory usage: 92.1+ KB\n"
     ]
    }
   ],
   "source": [
    "patient_mass_train_data.info()"
   ]
  },
  {
   "cell_type": "code",
   "execution_count": 82,
   "metadata": {},
   "outputs": [],
   "source": [
    "## now that we have correct data types in mass_train and mass_test datasets, we can start modelling"
   ]
  },
  {
   "cell_type": "code",
   "execution_count": 83,
   "metadata": {},
   "outputs": [],
   "source": [
    "## first combine the two datasets\n",
    "## define the variables\n",
    "## then split pathology for test/train\n",
    "\n",
    "import pandas as pd\n",
    "mass_full_data= pd.concat((patient_mass_train_data, patient_mass_test_data), axis=0, ignore_index=True)\n"
   ]
  },
  {
   "cell_type": "code",
   "execution_count": 84,
   "metadata": {},
   "outputs": [
    {
     "name": "stdout",
     "output_type": "stream",
     "text": [
      "<class 'pandas.core.frame.DataFrame'>\n",
      "RangeIndex: 1696 entries, 0 to 1695\n",
      "Data columns (total 14 columns):\n",
      " #   Column                   Non-Null Count  Dtype   \n",
      "---  ------                   --------------  -----   \n",
      " 0   patient_id               1696 non-null   object  \n",
      " 1   breast_density           1696 non-null   int64   \n",
      " 2   left or right breast     1696 non-null   category\n",
      " 3   image view               1696 non-null   category\n",
      " 4   abnormality id           1696 non-null   int64   \n",
      " 5   abnormality type         1696 non-null   category\n",
      " 6   mass shape               1696 non-null   object  \n",
      " 7   mass margins             1696 non-null   object  \n",
      " 8   assessment               1696 non-null   int64   \n",
      " 9   pathology                1696 non-null   category\n",
      " 10  subtlety                 1696 non-null   int64   \n",
      " 11  image file path          1696 non-null   object  \n",
      " 12  cropped image file path  1696 non-null   object  \n",
      " 13  ROI mask file path       1696 non-null   object  \n",
      "dtypes: category(4), int64(4), object(6)\n",
      "memory usage: 139.7+ KB\n"
     ]
    }
   ],
   "source": [
    "mass_full_data.info()"
   ]
  },
  {
   "cell_type": "code",
   "execution_count": 85,
   "metadata": {},
   "outputs": [
    {
     "data": {
      "text/html": [
       "<div>\n",
       "<style scoped>\n",
       "    .dataframe tbody tr th:only-of-type {\n",
       "        vertical-align: middle;\n",
       "    }\n",
       "\n",
       "    .dataframe tbody tr th {\n",
       "        vertical-align: top;\n",
       "    }\n",
       "\n",
       "    .dataframe thead th {\n",
       "        text-align: right;\n",
       "    }\n",
       "</style>\n",
       "<table border=\"1\" class=\"dataframe\">\n",
       "  <thead>\n",
       "    <tr style=\"text-align: right;\">\n",
       "      <th></th>\n",
       "      <th>index</th>\n",
       "      <th>mass shape</th>\n",
       "    </tr>\n",
       "  </thead>\n",
       "  <tbody>\n",
       "    <tr>\n",
       "      <th>0</th>\n",
       "      <td>IRREGULAR</td>\n",
       "      <td>464</td>\n",
       "    </tr>\n",
       "    <tr>\n",
       "      <th>1</th>\n",
       "      <td>OVAL</td>\n",
       "      <td>414</td>\n",
       "    </tr>\n",
       "    <tr>\n",
       "      <th>2</th>\n",
       "      <td>LOBULATED</td>\n",
       "      <td>384</td>\n",
       "    </tr>\n",
       "    <tr>\n",
       "      <th>3</th>\n",
       "      <td>ROUND</td>\n",
       "      <td>164</td>\n",
       "    </tr>\n",
       "    <tr>\n",
       "      <th>4</th>\n",
       "      <td>ARCHITECTURAL_DISTORTION</td>\n",
       "      <td>103</td>\n",
       "    </tr>\n",
       "    <tr>\n",
       "      <th>5</th>\n",
       "      <td>IRREGULAR-ARCHITECTURAL_DISTORTION</td>\n",
       "      <td>54</td>\n",
       "    </tr>\n",
       "    <tr>\n",
       "      <th>6</th>\n",
       "      <td>LYMPH_NODE</td>\n",
       "      <td>35</td>\n",
       "    </tr>\n",
       "    <tr>\n",
       "      <th>7</th>\n",
       "      <td>ASYMMETRIC_BREAST_TISSUE</td>\n",
       "      <td>25</td>\n",
       "    </tr>\n",
       "    <tr>\n",
       "      <th>8</th>\n",
       "      <td>FOCAL_ASYMMETRIC_DENSITY</td>\n",
       "      <td>25</td>\n",
       "    </tr>\n",
       "    <tr>\n",
       "      <th>9</th>\n",
       "      <td>LOBULATED-IRREGULAR</td>\n",
       "      <td>6</td>\n",
       "    </tr>\n",
       "    <tr>\n",
       "      <th>10</th>\n",
       "      <td>OVAL-LYMPH_NODE</td>\n",
       "      <td>6</td>\n",
       "    </tr>\n",
       "    <tr>\n",
       "      <th>11</th>\n",
       "      <td>LOBULATED-LYMPH_NODE</td>\n",
       "      <td>4</td>\n",
       "    </tr>\n",
       "    <tr>\n",
       "      <th>12</th>\n",
       "      <td>ROUND-OVAL</td>\n",
       "      <td>3</td>\n",
       "    </tr>\n",
       "    <tr>\n",
       "      <th>13</th>\n",
       "      <td>LOBULATED-ARCHITECTURAL_DISTORTION</td>\n",
       "      <td>2</td>\n",
       "    </tr>\n",
       "    <tr>\n",
       "      <th>14</th>\n",
       "      <td>IRREGULAR-FOCAL_ASYMMETRIC_DENSITY</td>\n",
       "      <td>2</td>\n",
       "    </tr>\n",
       "    <tr>\n",
       "      <th>15</th>\n",
       "      <td>LOBULATED-OVAL</td>\n",
       "      <td>1</td>\n",
       "    </tr>\n",
       "    <tr>\n",
       "      <th>16</th>\n",
       "      <td>ROUND-IRREGULAR-ARCHITECTURAL_DISTORTION</td>\n",
       "      <td>1</td>\n",
       "    </tr>\n",
       "    <tr>\n",
       "      <th>17</th>\n",
       "      <td>ROUND-LOBULATED</td>\n",
       "      <td>1</td>\n",
       "    </tr>\n",
       "    <tr>\n",
       "      <th>18</th>\n",
       "      <td>OVAL-LOBULATED</td>\n",
       "      <td>1</td>\n",
       "    </tr>\n",
       "    <tr>\n",
       "      <th>19</th>\n",
       "      <td>IRREGULAR-ASYMMETRIC_BREAST_TISSUE</td>\n",
       "      <td>1</td>\n",
       "    </tr>\n",
       "  </tbody>\n",
       "</table>\n",
       "</div>"
      ],
      "text/plain": [
       "                                       index  mass shape\n",
       "0                                  IRREGULAR         464\n",
       "1                                       OVAL         414\n",
       "2                                  LOBULATED         384\n",
       "3                                      ROUND         164\n",
       "4                   ARCHITECTURAL_DISTORTION         103\n",
       "5         IRREGULAR-ARCHITECTURAL_DISTORTION          54\n",
       "6                                 LYMPH_NODE          35\n",
       "7                   ASYMMETRIC_BREAST_TISSUE          25\n",
       "8                   FOCAL_ASYMMETRIC_DENSITY          25\n",
       "9                        LOBULATED-IRREGULAR           6\n",
       "10                           OVAL-LYMPH_NODE           6\n",
       "11                      LOBULATED-LYMPH_NODE           4\n",
       "12                                ROUND-OVAL           3\n",
       "13        LOBULATED-ARCHITECTURAL_DISTORTION           2\n",
       "14        IRREGULAR-FOCAL_ASYMMETRIC_DENSITY           2\n",
       "15                            LOBULATED-OVAL           1\n",
       "16  ROUND-IRREGULAR-ARCHITECTURAL_DISTORTION           1\n",
       "17                           ROUND-LOBULATED           1\n",
       "18                            OVAL-LOBULATED           1\n",
       "19        IRREGULAR-ASYMMETRIC_BREAST_TISSUE           1"
      ]
     },
     "execution_count": 85,
     "metadata": {},
     "output_type": "execute_result"
    }
   ],
   "source": [
    "## check the mass shapes \n",
    "shape_mass_full_data= pd.DataFrame(mass_full_data['mass shape'].value_counts())\n",
    "shape_mass_full_data= shape_mass_full_data.reset_index()\n",
    "shape_mass_full_data= shape_mass_full_data.rename(columns={'calc type': 'No_Calc Types'})\n",
    "shape_mass_full_data"
   ]
  },
  {
   "cell_type": "code",
   "execution_count": 86,
   "metadata": {},
   "outputs": [
    {
     "data": {
      "application/vnd.plotly.v1+json": {
       "config": {
        "plotlyServerURL": "https://plot.ly"
       },
       "data": [
        {
         "alignmentgroup": "True",
         "hovertemplate": "index=%{y}<br>mass shape=%{x}<extra></extra>",
         "legendgroup": "IRREGULAR",
         "marker": {
          "color": "#636efa",
          "pattern": {
           "shape": ""
          }
         },
         "name": "IRREGULAR",
         "offsetgroup": "IRREGULAR",
         "orientation": "h",
         "showlegend": true,
         "textposition": "auto",
         "type": "bar",
         "x": [
          464
         ],
         "xaxis": "x",
         "y": [
          "IRREGULAR"
         ],
         "yaxis": "y"
        },
        {
         "alignmentgroup": "True",
         "hovertemplate": "index=%{y}<br>mass shape=%{x}<extra></extra>",
         "legendgroup": "OVAL",
         "marker": {
          "color": "#EF553B",
          "pattern": {
           "shape": ""
          }
         },
         "name": "OVAL",
         "offsetgroup": "OVAL",
         "orientation": "h",
         "showlegend": true,
         "textposition": "auto",
         "type": "bar",
         "x": [
          414
         ],
         "xaxis": "x",
         "y": [
          "OVAL"
         ],
         "yaxis": "y"
        },
        {
         "alignmentgroup": "True",
         "hovertemplate": "index=%{y}<br>mass shape=%{x}<extra></extra>",
         "legendgroup": "LOBULATED",
         "marker": {
          "color": "#00cc96",
          "pattern": {
           "shape": ""
          }
         },
         "name": "LOBULATED",
         "offsetgroup": "LOBULATED",
         "orientation": "h",
         "showlegend": true,
         "textposition": "auto",
         "type": "bar",
         "x": [
          384
         ],
         "xaxis": "x",
         "y": [
          "LOBULATED"
         ],
         "yaxis": "y"
        },
        {
         "alignmentgroup": "True",
         "hovertemplate": "index=%{y}<br>mass shape=%{x}<extra></extra>",
         "legendgroup": "ROUND",
         "marker": {
          "color": "#ab63fa",
          "pattern": {
           "shape": ""
          }
         },
         "name": "ROUND",
         "offsetgroup": "ROUND",
         "orientation": "h",
         "showlegend": true,
         "textposition": "auto",
         "type": "bar",
         "x": [
          164
         ],
         "xaxis": "x",
         "y": [
          "ROUND"
         ],
         "yaxis": "y"
        },
        {
         "alignmentgroup": "True",
         "hovertemplate": "index=%{y}<br>mass shape=%{x}<extra></extra>",
         "legendgroup": "ARCHITECTURAL_DISTORTION",
         "marker": {
          "color": "#FFA15A",
          "pattern": {
           "shape": ""
          }
         },
         "name": "ARCHITECTURAL_DISTORTION",
         "offsetgroup": "ARCHITECTURAL_DISTORTION",
         "orientation": "h",
         "showlegend": true,
         "textposition": "auto",
         "type": "bar",
         "x": [
          103
         ],
         "xaxis": "x",
         "y": [
          "ARCHITECTURAL_DISTORTION"
         ],
         "yaxis": "y"
        },
        {
         "alignmentgroup": "True",
         "hovertemplate": "index=%{y}<br>mass shape=%{x}<extra></extra>",
         "legendgroup": "IRREGULAR-ARCHITECTURAL_DISTORTION",
         "marker": {
          "color": "#19d3f3",
          "pattern": {
           "shape": ""
          }
         },
         "name": "IRREGULAR-ARCHITECTURAL_DISTORTION",
         "offsetgroup": "IRREGULAR-ARCHITECTURAL_DISTORTION",
         "orientation": "h",
         "showlegend": true,
         "textposition": "auto",
         "type": "bar",
         "x": [
          54
         ],
         "xaxis": "x",
         "y": [
          "IRREGULAR-ARCHITECTURAL_DISTORTION"
         ],
         "yaxis": "y"
        },
        {
         "alignmentgroup": "True",
         "hovertemplate": "index=%{y}<br>mass shape=%{x}<extra></extra>",
         "legendgroup": "LYMPH_NODE",
         "marker": {
          "color": "#FF6692",
          "pattern": {
           "shape": ""
          }
         },
         "name": "LYMPH_NODE",
         "offsetgroup": "LYMPH_NODE",
         "orientation": "h",
         "showlegend": true,
         "textposition": "auto",
         "type": "bar",
         "x": [
          35
         ],
         "xaxis": "x",
         "y": [
          "LYMPH_NODE"
         ],
         "yaxis": "y"
        },
        {
         "alignmentgroup": "True",
         "hovertemplate": "index=%{y}<br>mass shape=%{x}<extra></extra>",
         "legendgroup": "ASYMMETRIC_BREAST_TISSUE",
         "marker": {
          "color": "#B6E880",
          "pattern": {
           "shape": ""
          }
         },
         "name": "ASYMMETRIC_BREAST_TISSUE",
         "offsetgroup": "ASYMMETRIC_BREAST_TISSUE",
         "orientation": "h",
         "showlegend": true,
         "textposition": "auto",
         "type": "bar",
         "x": [
          25
         ],
         "xaxis": "x",
         "y": [
          "ASYMMETRIC_BREAST_TISSUE"
         ],
         "yaxis": "y"
        },
        {
         "alignmentgroup": "True",
         "hovertemplate": "index=%{y}<br>mass shape=%{x}<extra></extra>",
         "legendgroup": "FOCAL_ASYMMETRIC_DENSITY",
         "marker": {
          "color": "#FF97FF",
          "pattern": {
           "shape": ""
          }
         },
         "name": "FOCAL_ASYMMETRIC_DENSITY",
         "offsetgroup": "FOCAL_ASYMMETRIC_DENSITY",
         "orientation": "h",
         "showlegend": true,
         "textposition": "auto",
         "type": "bar",
         "x": [
          25
         ],
         "xaxis": "x",
         "y": [
          "FOCAL_ASYMMETRIC_DENSITY"
         ],
         "yaxis": "y"
        },
        {
         "alignmentgroup": "True",
         "hovertemplate": "index=%{y}<br>mass shape=%{x}<extra></extra>",
         "legendgroup": "LOBULATED-IRREGULAR",
         "marker": {
          "color": "#FECB52",
          "pattern": {
           "shape": ""
          }
         },
         "name": "LOBULATED-IRREGULAR",
         "offsetgroup": "LOBULATED-IRREGULAR",
         "orientation": "h",
         "showlegend": true,
         "textposition": "auto",
         "type": "bar",
         "x": [
          6
         ],
         "xaxis": "x",
         "y": [
          "LOBULATED-IRREGULAR"
         ],
         "yaxis": "y"
        },
        {
         "alignmentgroup": "True",
         "hovertemplate": "index=%{y}<br>mass shape=%{x}<extra></extra>",
         "legendgroup": "OVAL-LYMPH_NODE",
         "marker": {
          "color": "#636efa",
          "pattern": {
           "shape": ""
          }
         },
         "name": "OVAL-LYMPH_NODE",
         "offsetgroup": "OVAL-LYMPH_NODE",
         "orientation": "h",
         "showlegend": true,
         "textposition": "auto",
         "type": "bar",
         "x": [
          6
         ],
         "xaxis": "x",
         "y": [
          "OVAL-LYMPH_NODE"
         ],
         "yaxis": "y"
        },
        {
         "alignmentgroup": "True",
         "hovertemplate": "index=%{y}<br>mass shape=%{x}<extra></extra>",
         "legendgroup": "LOBULATED-LYMPH_NODE",
         "marker": {
          "color": "#EF553B",
          "pattern": {
           "shape": ""
          }
         },
         "name": "LOBULATED-LYMPH_NODE",
         "offsetgroup": "LOBULATED-LYMPH_NODE",
         "orientation": "h",
         "showlegend": true,
         "textposition": "auto",
         "type": "bar",
         "x": [
          4
         ],
         "xaxis": "x",
         "y": [
          "LOBULATED-LYMPH_NODE"
         ],
         "yaxis": "y"
        },
        {
         "alignmentgroup": "True",
         "hovertemplate": "index=%{y}<br>mass shape=%{x}<extra></extra>",
         "legendgroup": "ROUND-OVAL",
         "marker": {
          "color": "#00cc96",
          "pattern": {
           "shape": ""
          }
         },
         "name": "ROUND-OVAL",
         "offsetgroup": "ROUND-OVAL",
         "orientation": "h",
         "showlegend": true,
         "textposition": "auto",
         "type": "bar",
         "x": [
          3
         ],
         "xaxis": "x",
         "y": [
          "ROUND-OVAL"
         ],
         "yaxis": "y"
        },
        {
         "alignmentgroup": "True",
         "hovertemplate": "index=%{y}<br>mass shape=%{x}<extra></extra>",
         "legendgroup": "LOBULATED-ARCHITECTURAL_DISTORTION",
         "marker": {
          "color": "#ab63fa",
          "pattern": {
           "shape": ""
          }
         },
         "name": "LOBULATED-ARCHITECTURAL_DISTORTION",
         "offsetgroup": "LOBULATED-ARCHITECTURAL_DISTORTION",
         "orientation": "h",
         "showlegend": true,
         "textposition": "auto",
         "type": "bar",
         "x": [
          2
         ],
         "xaxis": "x",
         "y": [
          "LOBULATED-ARCHITECTURAL_DISTORTION"
         ],
         "yaxis": "y"
        },
        {
         "alignmentgroup": "True",
         "hovertemplate": "index=%{y}<br>mass shape=%{x}<extra></extra>",
         "legendgroup": "IRREGULAR-FOCAL_ASYMMETRIC_DENSITY",
         "marker": {
          "color": "#FFA15A",
          "pattern": {
           "shape": ""
          }
         },
         "name": "IRREGULAR-FOCAL_ASYMMETRIC_DENSITY",
         "offsetgroup": "IRREGULAR-FOCAL_ASYMMETRIC_DENSITY",
         "orientation": "h",
         "showlegend": true,
         "textposition": "auto",
         "type": "bar",
         "x": [
          2
         ],
         "xaxis": "x",
         "y": [
          "IRREGULAR-FOCAL_ASYMMETRIC_DENSITY"
         ],
         "yaxis": "y"
        },
        {
         "alignmentgroup": "True",
         "hovertemplate": "index=%{y}<br>mass shape=%{x}<extra></extra>",
         "legendgroup": "LOBULATED-OVAL",
         "marker": {
          "color": "#19d3f3",
          "pattern": {
           "shape": ""
          }
         },
         "name": "LOBULATED-OVAL",
         "offsetgroup": "LOBULATED-OVAL",
         "orientation": "h",
         "showlegend": true,
         "textposition": "auto",
         "type": "bar",
         "x": [
          1
         ],
         "xaxis": "x",
         "y": [
          "LOBULATED-OVAL"
         ],
         "yaxis": "y"
        },
        {
         "alignmentgroup": "True",
         "hovertemplate": "index=%{y}<br>mass shape=%{x}<extra></extra>",
         "legendgroup": "ROUND-IRREGULAR-ARCHITECTURAL_DISTORTION",
         "marker": {
          "color": "#FF6692",
          "pattern": {
           "shape": ""
          }
         },
         "name": "ROUND-IRREGULAR-ARCHITECTURAL_DISTORTION",
         "offsetgroup": "ROUND-IRREGULAR-ARCHITECTURAL_DISTORTION",
         "orientation": "h",
         "showlegend": true,
         "textposition": "auto",
         "type": "bar",
         "x": [
          1
         ],
         "xaxis": "x",
         "y": [
          "ROUND-IRREGULAR-ARCHITECTURAL_DISTORTION"
         ],
         "yaxis": "y"
        },
        {
         "alignmentgroup": "True",
         "hovertemplate": "index=%{y}<br>mass shape=%{x}<extra></extra>",
         "legendgroup": "ROUND-LOBULATED",
         "marker": {
          "color": "#B6E880",
          "pattern": {
           "shape": ""
          }
         },
         "name": "ROUND-LOBULATED",
         "offsetgroup": "ROUND-LOBULATED",
         "orientation": "h",
         "showlegend": true,
         "textposition": "auto",
         "type": "bar",
         "x": [
          1
         ],
         "xaxis": "x",
         "y": [
          "ROUND-LOBULATED"
         ],
         "yaxis": "y"
        },
        {
         "alignmentgroup": "True",
         "hovertemplate": "index=%{y}<br>mass shape=%{x}<extra></extra>",
         "legendgroup": "OVAL-LOBULATED",
         "marker": {
          "color": "#FF97FF",
          "pattern": {
           "shape": ""
          }
         },
         "name": "OVAL-LOBULATED",
         "offsetgroup": "OVAL-LOBULATED",
         "orientation": "h",
         "showlegend": true,
         "textposition": "auto",
         "type": "bar",
         "x": [
          1
         ],
         "xaxis": "x",
         "y": [
          "OVAL-LOBULATED"
         ],
         "yaxis": "y"
        },
        {
         "alignmentgroup": "True",
         "hovertemplate": "index=%{y}<br>mass shape=%{x}<extra></extra>",
         "legendgroup": "IRREGULAR-ASYMMETRIC_BREAST_TISSUE",
         "marker": {
          "color": "#FECB52",
          "pattern": {
           "shape": ""
          }
         },
         "name": "IRREGULAR-ASYMMETRIC_BREAST_TISSUE",
         "offsetgroup": "IRREGULAR-ASYMMETRIC_BREAST_TISSUE",
         "orientation": "h",
         "showlegend": true,
         "textposition": "auto",
         "type": "bar",
         "x": [
          1
         ],
         "xaxis": "x",
         "y": [
          "IRREGULAR-ASYMMETRIC_BREAST_TISSUE"
         ],
         "yaxis": "y"
        }
       ],
       "layout": {
        "barmode": "relative",
        "legend": {
         "title": {
          "text": "index"
         },
         "tracegroupgap": 0
        },
        "margin": {
         "t": 60
        },
        "template": {
         "data": {
          "bar": [
           {
            "error_x": {
             "color": "#2a3f5f"
            },
            "error_y": {
             "color": "#2a3f5f"
            },
            "marker": {
             "line": {
              "color": "#E5ECF6",
              "width": 0.5
             },
             "pattern": {
              "fillmode": "overlay",
              "size": 10,
              "solidity": 0.2
             }
            },
            "type": "bar"
           }
          ],
          "barpolar": [
           {
            "marker": {
             "line": {
              "color": "#E5ECF6",
              "width": 0.5
             },
             "pattern": {
              "fillmode": "overlay",
              "size": 10,
              "solidity": 0.2
             }
            },
            "type": "barpolar"
           }
          ],
          "carpet": [
           {
            "aaxis": {
             "endlinecolor": "#2a3f5f",
             "gridcolor": "white",
             "linecolor": "white",
             "minorgridcolor": "white",
             "startlinecolor": "#2a3f5f"
            },
            "baxis": {
             "endlinecolor": "#2a3f5f",
             "gridcolor": "white",
             "linecolor": "white",
             "minorgridcolor": "white",
             "startlinecolor": "#2a3f5f"
            },
            "type": "carpet"
           }
          ],
          "choropleth": [
           {
            "colorbar": {
             "outlinewidth": 0,
             "ticks": ""
            },
            "type": "choropleth"
           }
          ],
          "contour": [
           {
            "colorbar": {
             "outlinewidth": 0,
             "ticks": ""
            },
            "colorscale": [
             [
              0,
              "#0d0887"
             ],
             [
              0.1111111111111111,
              "#46039f"
             ],
             [
              0.2222222222222222,
              "#7201a8"
             ],
             [
              0.3333333333333333,
              "#9c179e"
             ],
             [
              0.4444444444444444,
              "#bd3786"
             ],
             [
              0.5555555555555556,
              "#d8576b"
             ],
             [
              0.6666666666666666,
              "#ed7953"
             ],
             [
              0.7777777777777778,
              "#fb9f3a"
             ],
             [
              0.8888888888888888,
              "#fdca26"
             ],
             [
              1,
              "#f0f921"
             ]
            ],
            "type": "contour"
           }
          ],
          "contourcarpet": [
           {
            "colorbar": {
             "outlinewidth": 0,
             "ticks": ""
            },
            "type": "contourcarpet"
           }
          ],
          "heatmap": [
           {
            "colorbar": {
             "outlinewidth": 0,
             "ticks": ""
            },
            "colorscale": [
             [
              0,
              "#0d0887"
             ],
             [
              0.1111111111111111,
              "#46039f"
             ],
             [
              0.2222222222222222,
              "#7201a8"
             ],
             [
              0.3333333333333333,
              "#9c179e"
             ],
             [
              0.4444444444444444,
              "#bd3786"
             ],
             [
              0.5555555555555556,
              "#d8576b"
             ],
             [
              0.6666666666666666,
              "#ed7953"
             ],
             [
              0.7777777777777778,
              "#fb9f3a"
             ],
             [
              0.8888888888888888,
              "#fdca26"
             ],
             [
              1,
              "#f0f921"
             ]
            ],
            "type": "heatmap"
           }
          ],
          "heatmapgl": [
           {
            "colorbar": {
             "outlinewidth": 0,
             "ticks": ""
            },
            "colorscale": [
             [
              0,
              "#0d0887"
             ],
             [
              0.1111111111111111,
              "#46039f"
             ],
             [
              0.2222222222222222,
              "#7201a8"
             ],
             [
              0.3333333333333333,
              "#9c179e"
             ],
             [
              0.4444444444444444,
              "#bd3786"
             ],
             [
              0.5555555555555556,
              "#d8576b"
             ],
             [
              0.6666666666666666,
              "#ed7953"
             ],
             [
              0.7777777777777778,
              "#fb9f3a"
             ],
             [
              0.8888888888888888,
              "#fdca26"
             ],
             [
              1,
              "#f0f921"
             ]
            ],
            "type": "heatmapgl"
           }
          ],
          "histogram": [
           {
            "marker": {
             "pattern": {
              "fillmode": "overlay",
              "size": 10,
              "solidity": 0.2
             }
            },
            "type": "histogram"
           }
          ],
          "histogram2d": [
           {
            "colorbar": {
             "outlinewidth": 0,
             "ticks": ""
            },
            "colorscale": [
             [
              0,
              "#0d0887"
             ],
             [
              0.1111111111111111,
              "#46039f"
             ],
             [
              0.2222222222222222,
              "#7201a8"
             ],
             [
              0.3333333333333333,
              "#9c179e"
             ],
             [
              0.4444444444444444,
              "#bd3786"
             ],
             [
              0.5555555555555556,
              "#d8576b"
             ],
             [
              0.6666666666666666,
              "#ed7953"
             ],
             [
              0.7777777777777778,
              "#fb9f3a"
             ],
             [
              0.8888888888888888,
              "#fdca26"
             ],
             [
              1,
              "#f0f921"
             ]
            ],
            "type": "histogram2d"
           }
          ],
          "histogram2dcontour": [
           {
            "colorbar": {
             "outlinewidth": 0,
             "ticks": ""
            },
            "colorscale": [
             [
              0,
              "#0d0887"
             ],
             [
              0.1111111111111111,
              "#46039f"
             ],
             [
              0.2222222222222222,
              "#7201a8"
             ],
             [
              0.3333333333333333,
              "#9c179e"
             ],
             [
              0.4444444444444444,
              "#bd3786"
             ],
             [
              0.5555555555555556,
              "#d8576b"
             ],
             [
              0.6666666666666666,
              "#ed7953"
             ],
             [
              0.7777777777777778,
              "#fb9f3a"
             ],
             [
              0.8888888888888888,
              "#fdca26"
             ],
             [
              1,
              "#f0f921"
             ]
            ],
            "type": "histogram2dcontour"
           }
          ],
          "mesh3d": [
           {
            "colorbar": {
             "outlinewidth": 0,
             "ticks": ""
            },
            "type": "mesh3d"
           }
          ],
          "parcoords": [
           {
            "line": {
             "colorbar": {
              "outlinewidth": 0,
              "ticks": ""
             }
            },
            "type": "parcoords"
           }
          ],
          "pie": [
           {
            "automargin": true,
            "type": "pie"
           }
          ],
          "scatter": [
           {
            "fillpattern": {
             "fillmode": "overlay",
             "size": 10,
             "solidity": 0.2
            },
            "type": "scatter"
           }
          ],
          "scatter3d": [
           {
            "line": {
             "colorbar": {
              "outlinewidth": 0,
              "ticks": ""
             }
            },
            "marker": {
             "colorbar": {
              "outlinewidth": 0,
              "ticks": ""
             }
            },
            "type": "scatter3d"
           }
          ],
          "scattercarpet": [
           {
            "marker": {
             "colorbar": {
              "outlinewidth": 0,
              "ticks": ""
             }
            },
            "type": "scattercarpet"
           }
          ],
          "scattergeo": [
           {
            "marker": {
             "colorbar": {
              "outlinewidth": 0,
              "ticks": ""
             }
            },
            "type": "scattergeo"
           }
          ],
          "scattergl": [
           {
            "marker": {
             "colorbar": {
              "outlinewidth": 0,
              "ticks": ""
             }
            },
            "type": "scattergl"
           }
          ],
          "scattermapbox": [
           {
            "marker": {
             "colorbar": {
              "outlinewidth": 0,
              "ticks": ""
             }
            },
            "type": "scattermapbox"
           }
          ],
          "scatterpolar": [
           {
            "marker": {
             "colorbar": {
              "outlinewidth": 0,
              "ticks": ""
             }
            },
            "type": "scatterpolar"
           }
          ],
          "scatterpolargl": [
           {
            "marker": {
             "colorbar": {
              "outlinewidth": 0,
              "ticks": ""
             }
            },
            "type": "scatterpolargl"
           }
          ],
          "scatterternary": [
           {
            "marker": {
             "colorbar": {
              "outlinewidth": 0,
              "ticks": ""
             }
            },
            "type": "scatterternary"
           }
          ],
          "surface": [
           {
            "colorbar": {
             "outlinewidth": 0,
             "ticks": ""
            },
            "colorscale": [
             [
              0,
              "#0d0887"
             ],
             [
              0.1111111111111111,
              "#46039f"
             ],
             [
              0.2222222222222222,
              "#7201a8"
             ],
             [
              0.3333333333333333,
              "#9c179e"
             ],
             [
              0.4444444444444444,
              "#bd3786"
             ],
             [
              0.5555555555555556,
              "#d8576b"
             ],
             [
              0.6666666666666666,
              "#ed7953"
             ],
             [
              0.7777777777777778,
              "#fb9f3a"
             ],
             [
              0.8888888888888888,
              "#fdca26"
             ],
             [
              1,
              "#f0f921"
             ]
            ],
            "type": "surface"
           }
          ],
          "table": [
           {
            "cells": {
             "fill": {
              "color": "#EBF0F8"
             },
             "line": {
              "color": "white"
             }
            },
            "header": {
             "fill": {
              "color": "#C8D4E3"
             },
             "line": {
              "color": "white"
             }
            },
            "type": "table"
           }
          ]
         },
         "layout": {
          "annotationdefaults": {
           "arrowcolor": "#2a3f5f",
           "arrowhead": 0,
           "arrowwidth": 1
          },
          "autotypenumbers": "strict",
          "coloraxis": {
           "colorbar": {
            "outlinewidth": 0,
            "ticks": ""
           }
          },
          "colorscale": {
           "diverging": [
            [
             0,
             "#8e0152"
            ],
            [
             0.1,
             "#c51b7d"
            ],
            [
             0.2,
             "#de77ae"
            ],
            [
             0.3,
             "#f1b6da"
            ],
            [
             0.4,
             "#fde0ef"
            ],
            [
             0.5,
             "#f7f7f7"
            ],
            [
             0.6,
             "#e6f5d0"
            ],
            [
             0.7,
             "#b8e186"
            ],
            [
             0.8,
             "#7fbc41"
            ],
            [
             0.9,
             "#4d9221"
            ],
            [
             1,
             "#276419"
            ]
           ],
           "sequential": [
            [
             0,
             "#0d0887"
            ],
            [
             0.1111111111111111,
             "#46039f"
            ],
            [
             0.2222222222222222,
             "#7201a8"
            ],
            [
             0.3333333333333333,
             "#9c179e"
            ],
            [
             0.4444444444444444,
             "#bd3786"
            ],
            [
             0.5555555555555556,
             "#d8576b"
            ],
            [
             0.6666666666666666,
             "#ed7953"
            ],
            [
             0.7777777777777778,
             "#fb9f3a"
            ],
            [
             0.8888888888888888,
             "#fdca26"
            ],
            [
             1,
             "#f0f921"
            ]
           ],
           "sequentialminus": [
            [
             0,
             "#0d0887"
            ],
            [
             0.1111111111111111,
             "#46039f"
            ],
            [
             0.2222222222222222,
             "#7201a8"
            ],
            [
             0.3333333333333333,
             "#9c179e"
            ],
            [
             0.4444444444444444,
             "#bd3786"
            ],
            [
             0.5555555555555556,
             "#d8576b"
            ],
            [
             0.6666666666666666,
             "#ed7953"
            ],
            [
             0.7777777777777778,
             "#fb9f3a"
            ],
            [
             0.8888888888888888,
             "#fdca26"
            ],
            [
             1,
             "#f0f921"
            ]
           ]
          },
          "colorway": [
           "#636efa",
           "#EF553B",
           "#00cc96",
           "#ab63fa",
           "#FFA15A",
           "#19d3f3",
           "#FF6692",
           "#B6E880",
           "#FF97FF",
           "#FECB52"
          ],
          "font": {
           "color": "#2a3f5f"
          },
          "geo": {
           "bgcolor": "white",
           "lakecolor": "white",
           "landcolor": "#E5ECF6",
           "showlakes": true,
           "showland": true,
           "subunitcolor": "white"
          },
          "hoverlabel": {
           "align": "left"
          },
          "hovermode": "closest",
          "mapbox": {
           "style": "light"
          },
          "paper_bgcolor": "white",
          "plot_bgcolor": "#E5ECF6",
          "polar": {
           "angularaxis": {
            "gridcolor": "white",
            "linecolor": "white",
            "ticks": ""
           },
           "bgcolor": "#E5ECF6",
           "radialaxis": {
            "gridcolor": "white",
            "linecolor": "white",
            "ticks": ""
           }
          },
          "scene": {
           "xaxis": {
            "backgroundcolor": "#E5ECF6",
            "gridcolor": "white",
            "gridwidth": 2,
            "linecolor": "white",
            "showbackground": true,
            "ticks": "",
            "zerolinecolor": "white"
           },
           "yaxis": {
            "backgroundcolor": "#E5ECF6",
            "gridcolor": "white",
            "gridwidth": 2,
            "linecolor": "white",
            "showbackground": true,
            "ticks": "",
            "zerolinecolor": "white"
           },
           "zaxis": {
            "backgroundcolor": "#E5ECF6",
            "gridcolor": "white",
            "gridwidth": 2,
            "linecolor": "white",
            "showbackground": true,
            "ticks": "",
            "zerolinecolor": "white"
           }
          },
          "shapedefaults": {
           "line": {
            "color": "#2a3f5f"
           }
          },
          "ternary": {
           "aaxis": {
            "gridcolor": "white",
            "linecolor": "white",
            "ticks": ""
           },
           "baxis": {
            "gridcolor": "white",
            "linecolor": "white",
            "ticks": ""
           },
           "bgcolor": "#E5ECF6",
           "caxis": {
            "gridcolor": "white",
            "linecolor": "white",
            "ticks": ""
           }
          },
          "title": {
           "x": 0.05
          },
          "xaxis": {
           "automargin": true,
           "gridcolor": "white",
           "linecolor": "white",
           "ticks": "",
           "title": {
            "standoff": 15
           },
           "zerolinecolor": "white",
           "zerolinewidth": 2
          },
          "yaxis": {
           "automargin": true,
           "gridcolor": "white",
           "linecolor": "white",
           "ticks": "",
           "title": {
            "standoff": 15
           },
           "zerolinecolor": "white",
           "zerolinewidth": 2
          }
         }
        },
        "xaxis": {
         "anchor": "y",
         "domain": [
          0,
          1
         ],
         "title": {
          "text": "mass shape"
         }
        },
        "yaxis": {
         "anchor": "x",
         "categoryarray": [
          "IRREGULAR-ASYMMETRIC_BREAST_TISSUE",
          "OVAL-LOBULATED",
          "ROUND-LOBULATED",
          "ROUND-IRREGULAR-ARCHITECTURAL_DISTORTION",
          "LOBULATED-OVAL",
          "IRREGULAR-FOCAL_ASYMMETRIC_DENSITY",
          "LOBULATED-ARCHITECTURAL_DISTORTION",
          "ROUND-OVAL",
          "LOBULATED-LYMPH_NODE",
          "OVAL-LYMPH_NODE",
          "LOBULATED-IRREGULAR",
          "FOCAL_ASYMMETRIC_DENSITY",
          "ASYMMETRIC_BREAST_TISSUE",
          "LYMPH_NODE",
          "IRREGULAR-ARCHITECTURAL_DISTORTION",
          "ARCHITECTURAL_DISTORTION",
          "ROUND",
          "LOBULATED",
          "OVAL",
          "IRREGULAR"
         ],
         "categoryorder": "array",
         "domain": [
          0,
          1
         ],
         "title": {
          "text": "index"
         }
        }
       }
      }
     },
     "metadata": {},
     "output_type": "display_data"
    }
   ],
   "source": [
    "## plot the mass shapes\n",
    "shape_mass_full_data_graph= px.bar(data_frame=shape_mass_full_data, x='mass shape', y='index', color='index')\n",
    "shape_mass_full_data_graph"
   ]
  },
  {
   "cell_type": "code",
   "execution_count": 87,
   "metadata": {},
   "outputs": [],
   "source": [
    "pio.write_html(shape_mass_full_data_graph, file='plotly_graph5.html', auto_open=True)"
   ]
  },
  {
   "cell_type": "code",
   "execution_count": 88,
   "metadata": {},
   "outputs": [
    {
     "data": {
      "text/html": [
       "<div>\n",
       "<style scoped>\n",
       "    .dataframe tbody tr th:only-of-type {\n",
       "        vertical-align: middle;\n",
       "    }\n",
       "\n",
       "    .dataframe tbody tr th {\n",
       "        vertical-align: top;\n",
       "    }\n",
       "\n",
       "    .dataframe thead th {\n",
       "        text-align: right;\n",
       "    }\n",
       "</style>\n",
       "<table border=\"1\" class=\"dataframe\">\n",
       "  <thead>\n",
       "    <tr style=\"text-align: right;\">\n",
       "      <th></th>\n",
       "      <th>index</th>\n",
       "      <th>No_of Mass Margins</th>\n",
       "    </tr>\n",
       "  </thead>\n",
       "  <tbody>\n",
       "    <tr>\n",
       "      <th>0</th>\n",
       "      <td>CIRCUMSCRIBED</td>\n",
       "      <td>397</td>\n",
       "    </tr>\n",
       "    <tr>\n",
       "      <th>1</th>\n",
       "      <td>SPICULATED</td>\n",
       "      <td>386</td>\n",
       "    </tr>\n",
       "    <tr>\n",
       "      <th>2</th>\n",
       "      <td>ILL_DEFINED</td>\n",
       "      <td>384</td>\n",
       "    </tr>\n",
       "    <tr>\n",
       "      <th>3</th>\n",
       "      <td>OBSCURED</td>\n",
       "      <td>252</td>\n",
       "    </tr>\n",
       "    <tr>\n",
       "      <th>4</th>\n",
       "      <td>MICROLOBULATED</td>\n",
       "      <td>134</td>\n",
       "    </tr>\n",
       "    <tr>\n",
       "      <th>5</th>\n",
       "      <td>ILL_DEFINED-SPICULATED</td>\n",
       "      <td>31</td>\n",
       "    </tr>\n",
       "    <tr>\n",
       "      <th>6</th>\n",
       "      <td>CIRCUMSCRIBED-ILL_DEFINED</td>\n",
       "      <td>29</td>\n",
       "    </tr>\n",
       "    <tr>\n",
       "      <th>7</th>\n",
       "      <td>OBSCURED-ILL_DEFINED</td>\n",
       "      <td>24</td>\n",
       "    </tr>\n",
       "    <tr>\n",
       "      <th>8</th>\n",
       "      <td>CIRCUMSCRIBED-OBSCURED</td>\n",
       "      <td>22</td>\n",
       "    </tr>\n",
       "    <tr>\n",
       "      <th>9</th>\n",
       "      <td>CIRCUMSCRIBED-SPICULATED</td>\n",
       "      <td>7</td>\n",
       "    </tr>\n",
       "    <tr>\n",
       "      <th>10</th>\n",
       "      <td>MICROLOBULATED-ILL_DEFINED</td>\n",
       "      <td>5</td>\n",
       "    </tr>\n",
       "    <tr>\n",
       "      <th>11</th>\n",
       "      <td>OBSCURED-ILL_DEFINED-SPICULATED</td>\n",
       "      <td>5</td>\n",
       "    </tr>\n",
       "    <tr>\n",
       "      <th>12</th>\n",
       "      <td>OBSCURED-SPICULATED</td>\n",
       "      <td>4</td>\n",
       "    </tr>\n",
       "    <tr>\n",
       "      <th>13</th>\n",
       "      <td>CIRCUMSCRIBED-OBSCURED-ILL_DEFINED</td>\n",
       "      <td>4</td>\n",
       "    </tr>\n",
       "    <tr>\n",
       "      <th>14</th>\n",
       "      <td>CIRCUMSCRIBED-MICROLOBULATED</td>\n",
       "      <td>3</td>\n",
       "    </tr>\n",
       "    <tr>\n",
       "      <th>15</th>\n",
       "      <td>CIRCUMSCRIBED-MICROLOBULATED-ILL_DEFINED</td>\n",
       "      <td>3</td>\n",
       "    </tr>\n",
       "    <tr>\n",
       "      <th>16</th>\n",
       "      <td>MICROLOBULATED-ILL_DEFINED-SPICULATED</td>\n",
       "      <td>2</td>\n",
       "    </tr>\n",
       "    <tr>\n",
       "      <th>17</th>\n",
       "      <td>MICROLOBULATED-SPICULATED</td>\n",
       "      <td>2</td>\n",
       "    </tr>\n",
       "    <tr>\n",
       "      <th>18</th>\n",
       "      <td>OBSCURED-CIRCUMSCRIBED</td>\n",
       "      <td>2</td>\n",
       "    </tr>\n",
       "  </tbody>\n",
       "</table>\n",
       "</div>"
      ],
      "text/plain": [
       "                                       index  No_of Mass Margins\n",
       "0                              CIRCUMSCRIBED                 397\n",
       "1                                 SPICULATED                 386\n",
       "2                                ILL_DEFINED                 384\n",
       "3                                   OBSCURED                 252\n",
       "4                             MICROLOBULATED                 134\n",
       "5                     ILL_DEFINED-SPICULATED                  31\n",
       "6                  CIRCUMSCRIBED-ILL_DEFINED                  29\n",
       "7                       OBSCURED-ILL_DEFINED                  24\n",
       "8                     CIRCUMSCRIBED-OBSCURED                  22\n",
       "9                   CIRCUMSCRIBED-SPICULATED                   7\n",
       "10                MICROLOBULATED-ILL_DEFINED                   5\n",
       "11           OBSCURED-ILL_DEFINED-SPICULATED                   5\n",
       "12                       OBSCURED-SPICULATED                   4\n",
       "13        CIRCUMSCRIBED-OBSCURED-ILL_DEFINED                   4\n",
       "14              CIRCUMSCRIBED-MICROLOBULATED                   3\n",
       "15  CIRCUMSCRIBED-MICROLOBULATED-ILL_DEFINED                   3\n",
       "16     MICROLOBULATED-ILL_DEFINED-SPICULATED                   2\n",
       "17                 MICROLOBULATED-SPICULATED                   2\n",
       "18                    OBSCURED-CIRCUMSCRIBED                   2"
      ]
     },
     "execution_count": 88,
     "metadata": {},
     "output_type": "execute_result"
    }
   ],
   "source": [
    "## how many different types in mass margins?\n",
    "margins_mass_full_data= pd.DataFrame(mass_full_data['mass margins'].value_counts())\n",
    "margins_mass_full_data= margins_mass_full_data.reset_index()\n",
    "margins_mass_full_data= margins_mass_full_data.rename(columns={'mass margins': 'No_of Mass Margins'})\n",
    "margins_mass_full_data"
   ]
  },
  {
   "cell_type": "code",
   "execution_count": 89,
   "metadata": {},
   "outputs": [
    {
     "data": {
      "application/vnd.plotly.v1+json": {
       "config": {
        "plotlyServerURL": "https://plot.ly"
       },
       "data": [
        {
         "alignmentgroup": "True",
         "hovertemplate": "index=%{y}<br>No_of Mass Margins=%{x}<extra></extra>",
         "legendgroup": "CIRCUMSCRIBED",
         "marker": {
          "color": "#636efa",
          "pattern": {
           "shape": ""
          }
         },
         "name": "CIRCUMSCRIBED",
         "offsetgroup": "CIRCUMSCRIBED",
         "orientation": "h",
         "showlegend": true,
         "textposition": "auto",
         "type": "bar",
         "x": [
          397
         ],
         "xaxis": "x",
         "y": [
          "CIRCUMSCRIBED"
         ],
         "yaxis": "y"
        },
        {
         "alignmentgroup": "True",
         "hovertemplate": "index=%{y}<br>No_of Mass Margins=%{x}<extra></extra>",
         "legendgroup": "SPICULATED",
         "marker": {
          "color": "#EF553B",
          "pattern": {
           "shape": ""
          }
         },
         "name": "SPICULATED",
         "offsetgroup": "SPICULATED",
         "orientation": "h",
         "showlegend": true,
         "textposition": "auto",
         "type": "bar",
         "x": [
          386
         ],
         "xaxis": "x",
         "y": [
          "SPICULATED"
         ],
         "yaxis": "y"
        },
        {
         "alignmentgroup": "True",
         "hovertemplate": "index=%{y}<br>No_of Mass Margins=%{x}<extra></extra>",
         "legendgroup": "ILL_DEFINED",
         "marker": {
          "color": "#00cc96",
          "pattern": {
           "shape": ""
          }
         },
         "name": "ILL_DEFINED",
         "offsetgroup": "ILL_DEFINED",
         "orientation": "h",
         "showlegend": true,
         "textposition": "auto",
         "type": "bar",
         "x": [
          384
         ],
         "xaxis": "x",
         "y": [
          "ILL_DEFINED"
         ],
         "yaxis": "y"
        },
        {
         "alignmentgroup": "True",
         "hovertemplate": "index=%{y}<br>No_of Mass Margins=%{x}<extra></extra>",
         "legendgroup": "OBSCURED",
         "marker": {
          "color": "#ab63fa",
          "pattern": {
           "shape": ""
          }
         },
         "name": "OBSCURED",
         "offsetgroup": "OBSCURED",
         "orientation": "h",
         "showlegend": true,
         "textposition": "auto",
         "type": "bar",
         "x": [
          252
         ],
         "xaxis": "x",
         "y": [
          "OBSCURED"
         ],
         "yaxis": "y"
        },
        {
         "alignmentgroup": "True",
         "hovertemplate": "index=%{y}<br>No_of Mass Margins=%{x}<extra></extra>",
         "legendgroup": "MICROLOBULATED",
         "marker": {
          "color": "#FFA15A",
          "pattern": {
           "shape": ""
          }
         },
         "name": "MICROLOBULATED",
         "offsetgroup": "MICROLOBULATED",
         "orientation": "h",
         "showlegend": true,
         "textposition": "auto",
         "type": "bar",
         "x": [
          134
         ],
         "xaxis": "x",
         "y": [
          "MICROLOBULATED"
         ],
         "yaxis": "y"
        },
        {
         "alignmentgroup": "True",
         "hovertemplate": "index=%{y}<br>No_of Mass Margins=%{x}<extra></extra>",
         "legendgroup": "ILL_DEFINED-SPICULATED",
         "marker": {
          "color": "#19d3f3",
          "pattern": {
           "shape": ""
          }
         },
         "name": "ILL_DEFINED-SPICULATED",
         "offsetgroup": "ILL_DEFINED-SPICULATED",
         "orientation": "h",
         "showlegend": true,
         "textposition": "auto",
         "type": "bar",
         "x": [
          31
         ],
         "xaxis": "x",
         "y": [
          "ILL_DEFINED-SPICULATED"
         ],
         "yaxis": "y"
        },
        {
         "alignmentgroup": "True",
         "hovertemplate": "index=%{y}<br>No_of Mass Margins=%{x}<extra></extra>",
         "legendgroup": "CIRCUMSCRIBED-ILL_DEFINED",
         "marker": {
          "color": "#FF6692",
          "pattern": {
           "shape": ""
          }
         },
         "name": "CIRCUMSCRIBED-ILL_DEFINED",
         "offsetgroup": "CIRCUMSCRIBED-ILL_DEFINED",
         "orientation": "h",
         "showlegend": true,
         "textposition": "auto",
         "type": "bar",
         "x": [
          29
         ],
         "xaxis": "x",
         "y": [
          "CIRCUMSCRIBED-ILL_DEFINED"
         ],
         "yaxis": "y"
        },
        {
         "alignmentgroup": "True",
         "hovertemplate": "index=%{y}<br>No_of Mass Margins=%{x}<extra></extra>",
         "legendgroup": "OBSCURED-ILL_DEFINED",
         "marker": {
          "color": "#B6E880",
          "pattern": {
           "shape": ""
          }
         },
         "name": "OBSCURED-ILL_DEFINED",
         "offsetgroup": "OBSCURED-ILL_DEFINED",
         "orientation": "h",
         "showlegend": true,
         "textposition": "auto",
         "type": "bar",
         "x": [
          24
         ],
         "xaxis": "x",
         "y": [
          "OBSCURED-ILL_DEFINED"
         ],
         "yaxis": "y"
        },
        {
         "alignmentgroup": "True",
         "hovertemplate": "index=%{y}<br>No_of Mass Margins=%{x}<extra></extra>",
         "legendgroup": "CIRCUMSCRIBED-OBSCURED",
         "marker": {
          "color": "#FF97FF",
          "pattern": {
           "shape": ""
          }
         },
         "name": "CIRCUMSCRIBED-OBSCURED",
         "offsetgroup": "CIRCUMSCRIBED-OBSCURED",
         "orientation": "h",
         "showlegend": true,
         "textposition": "auto",
         "type": "bar",
         "x": [
          22
         ],
         "xaxis": "x",
         "y": [
          "CIRCUMSCRIBED-OBSCURED"
         ],
         "yaxis": "y"
        },
        {
         "alignmentgroup": "True",
         "hovertemplate": "index=%{y}<br>No_of Mass Margins=%{x}<extra></extra>",
         "legendgroup": "CIRCUMSCRIBED-SPICULATED",
         "marker": {
          "color": "#FECB52",
          "pattern": {
           "shape": ""
          }
         },
         "name": "CIRCUMSCRIBED-SPICULATED",
         "offsetgroup": "CIRCUMSCRIBED-SPICULATED",
         "orientation": "h",
         "showlegend": true,
         "textposition": "auto",
         "type": "bar",
         "x": [
          7
         ],
         "xaxis": "x",
         "y": [
          "CIRCUMSCRIBED-SPICULATED"
         ],
         "yaxis": "y"
        },
        {
         "alignmentgroup": "True",
         "hovertemplate": "index=%{y}<br>No_of Mass Margins=%{x}<extra></extra>",
         "legendgroup": "MICROLOBULATED-ILL_DEFINED",
         "marker": {
          "color": "#636efa",
          "pattern": {
           "shape": ""
          }
         },
         "name": "MICROLOBULATED-ILL_DEFINED",
         "offsetgroup": "MICROLOBULATED-ILL_DEFINED",
         "orientation": "h",
         "showlegend": true,
         "textposition": "auto",
         "type": "bar",
         "x": [
          5
         ],
         "xaxis": "x",
         "y": [
          "MICROLOBULATED-ILL_DEFINED"
         ],
         "yaxis": "y"
        },
        {
         "alignmentgroup": "True",
         "hovertemplate": "index=%{y}<br>No_of Mass Margins=%{x}<extra></extra>",
         "legendgroup": "OBSCURED-ILL_DEFINED-SPICULATED",
         "marker": {
          "color": "#EF553B",
          "pattern": {
           "shape": ""
          }
         },
         "name": "OBSCURED-ILL_DEFINED-SPICULATED",
         "offsetgroup": "OBSCURED-ILL_DEFINED-SPICULATED",
         "orientation": "h",
         "showlegend": true,
         "textposition": "auto",
         "type": "bar",
         "x": [
          5
         ],
         "xaxis": "x",
         "y": [
          "OBSCURED-ILL_DEFINED-SPICULATED"
         ],
         "yaxis": "y"
        },
        {
         "alignmentgroup": "True",
         "hovertemplate": "index=%{y}<br>No_of Mass Margins=%{x}<extra></extra>",
         "legendgroup": "OBSCURED-SPICULATED",
         "marker": {
          "color": "#00cc96",
          "pattern": {
           "shape": ""
          }
         },
         "name": "OBSCURED-SPICULATED",
         "offsetgroup": "OBSCURED-SPICULATED",
         "orientation": "h",
         "showlegend": true,
         "textposition": "auto",
         "type": "bar",
         "x": [
          4
         ],
         "xaxis": "x",
         "y": [
          "OBSCURED-SPICULATED"
         ],
         "yaxis": "y"
        },
        {
         "alignmentgroup": "True",
         "hovertemplate": "index=%{y}<br>No_of Mass Margins=%{x}<extra></extra>",
         "legendgroup": "CIRCUMSCRIBED-OBSCURED-ILL_DEFINED",
         "marker": {
          "color": "#ab63fa",
          "pattern": {
           "shape": ""
          }
         },
         "name": "CIRCUMSCRIBED-OBSCURED-ILL_DEFINED",
         "offsetgroup": "CIRCUMSCRIBED-OBSCURED-ILL_DEFINED",
         "orientation": "h",
         "showlegend": true,
         "textposition": "auto",
         "type": "bar",
         "x": [
          4
         ],
         "xaxis": "x",
         "y": [
          "CIRCUMSCRIBED-OBSCURED-ILL_DEFINED"
         ],
         "yaxis": "y"
        },
        {
         "alignmentgroup": "True",
         "hovertemplate": "index=%{y}<br>No_of Mass Margins=%{x}<extra></extra>",
         "legendgroup": "CIRCUMSCRIBED-MICROLOBULATED",
         "marker": {
          "color": "#FFA15A",
          "pattern": {
           "shape": ""
          }
         },
         "name": "CIRCUMSCRIBED-MICROLOBULATED",
         "offsetgroup": "CIRCUMSCRIBED-MICROLOBULATED",
         "orientation": "h",
         "showlegend": true,
         "textposition": "auto",
         "type": "bar",
         "x": [
          3
         ],
         "xaxis": "x",
         "y": [
          "CIRCUMSCRIBED-MICROLOBULATED"
         ],
         "yaxis": "y"
        },
        {
         "alignmentgroup": "True",
         "hovertemplate": "index=%{y}<br>No_of Mass Margins=%{x}<extra></extra>",
         "legendgroup": "CIRCUMSCRIBED-MICROLOBULATED-ILL_DEFINED",
         "marker": {
          "color": "#19d3f3",
          "pattern": {
           "shape": ""
          }
         },
         "name": "CIRCUMSCRIBED-MICROLOBULATED-ILL_DEFINED",
         "offsetgroup": "CIRCUMSCRIBED-MICROLOBULATED-ILL_DEFINED",
         "orientation": "h",
         "showlegend": true,
         "textposition": "auto",
         "type": "bar",
         "x": [
          3
         ],
         "xaxis": "x",
         "y": [
          "CIRCUMSCRIBED-MICROLOBULATED-ILL_DEFINED"
         ],
         "yaxis": "y"
        },
        {
         "alignmentgroup": "True",
         "hovertemplate": "index=%{y}<br>No_of Mass Margins=%{x}<extra></extra>",
         "legendgroup": "MICROLOBULATED-ILL_DEFINED-SPICULATED",
         "marker": {
          "color": "#FF6692",
          "pattern": {
           "shape": ""
          }
         },
         "name": "MICROLOBULATED-ILL_DEFINED-SPICULATED",
         "offsetgroup": "MICROLOBULATED-ILL_DEFINED-SPICULATED",
         "orientation": "h",
         "showlegend": true,
         "textposition": "auto",
         "type": "bar",
         "x": [
          2
         ],
         "xaxis": "x",
         "y": [
          "MICROLOBULATED-ILL_DEFINED-SPICULATED"
         ],
         "yaxis": "y"
        },
        {
         "alignmentgroup": "True",
         "hovertemplate": "index=%{y}<br>No_of Mass Margins=%{x}<extra></extra>",
         "legendgroup": "MICROLOBULATED-SPICULATED",
         "marker": {
          "color": "#B6E880",
          "pattern": {
           "shape": ""
          }
         },
         "name": "MICROLOBULATED-SPICULATED",
         "offsetgroup": "MICROLOBULATED-SPICULATED",
         "orientation": "h",
         "showlegend": true,
         "textposition": "auto",
         "type": "bar",
         "x": [
          2
         ],
         "xaxis": "x",
         "y": [
          "MICROLOBULATED-SPICULATED"
         ],
         "yaxis": "y"
        },
        {
         "alignmentgroup": "True",
         "hovertemplate": "index=%{y}<br>No_of Mass Margins=%{x}<extra></extra>",
         "legendgroup": "OBSCURED-CIRCUMSCRIBED",
         "marker": {
          "color": "#FF97FF",
          "pattern": {
           "shape": ""
          }
         },
         "name": "OBSCURED-CIRCUMSCRIBED",
         "offsetgroup": "OBSCURED-CIRCUMSCRIBED",
         "orientation": "h",
         "showlegend": true,
         "textposition": "auto",
         "type": "bar",
         "x": [
          2
         ],
         "xaxis": "x",
         "y": [
          "OBSCURED-CIRCUMSCRIBED"
         ],
         "yaxis": "y"
        }
       ],
       "layout": {
        "barmode": "relative",
        "legend": {
         "title": {
          "text": "index"
         },
         "tracegroupgap": 0
        },
        "margin": {
         "t": 60
        },
        "template": {
         "data": {
          "bar": [
           {
            "error_x": {
             "color": "#2a3f5f"
            },
            "error_y": {
             "color": "#2a3f5f"
            },
            "marker": {
             "line": {
              "color": "#E5ECF6",
              "width": 0.5
             },
             "pattern": {
              "fillmode": "overlay",
              "size": 10,
              "solidity": 0.2
             }
            },
            "type": "bar"
           }
          ],
          "barpolar": [
           {
            "marker": {
             "line": {
              "color": "#E5ECF6",
              "width": 0.5
             },
             "pattern": {
              "fillmode": "overlay",
              "size": 10,
              "solidity": 0.2
             }
            },
            "type": "barpolar"
           }
          ],
          "carpet": [
           {
            "aaxis": {
             "endlinecolor": "#2a3f5f",
             "gridcolor": "white",
             "linecolor": "white",
             "minorgridcolor": "white",
             "startlinecolor": "#2a3f5f"
            },
            "baxis": {
             "endlinecolor": "#2a3f5f",
             "gridcolor": "white",
             "linecolor": "white",
             "minorgridcolor": "white",
             "startlinecolor": "#2a3f5f"
            },
            "type": "carpet"
           }
          ],
          "choropleth": [
           {
            "colorbar": {
             "outlinewidth": 0,
             "ticks": ""
            },
            "type": "choropleth"
           }
          ],
          "contour": [
           {
            "colorbar": {
             "outlinewidth": 0,
             "ticks": ""
            },
            "colorscale": [
             [
              0,
              "#0d0887"
             ],
             [
              0.1111111111111111,
              "#46039f"
             ],
             [
              0.2222222222222222,
              "#7201a8"
             ],
             [
              0.3333333333333333,
              "#9c179e"
             ],
             [
              0.4444444444444444,
              "#bd3786"
             ],
             [
              0.5555555555555556,
              "#d8576b"
             ],
             [
              0.6666666666666666,
              "#ed7953"
             ],
             [
              0.7777777777777778,
              "#fb9f3a"
             ],
             [
              0.8888888888888888,
              "#fdca26"
             ],
             [
              1,
              "#f0f921"
             ]
            ],
            "type": "contour"
           }
          ],
          "contourcarpet": [
           {
            "colorbar": {
             "outlinewidth": 0,
             "ticks": ""
            },
            "type": "contourcarpet"
           }
          ],
          "heatmap": [
           {
            "colorbar": {
             "outlinewidth": 0,
             "ticks": ""
            },
            "colorscale": [
             [
              0,
              "#0d0887"
             ],
             [
              0.1111111111111111,
              "#46039f"
             ],
             [
              0.2222222222222222,
              "#7201a8"
             ],
             [
              0.3333333333333333,
              "#9c179e"
             ],
             [
              0.4444444444444444,
              "#bd3786"
             ],
             [
              0.5555555555555556,
              "#d8576b"
             ],
             [
              0.6666666666666666,
              "#ed7953"
             ],
             [
              0.7777777777777778,
              "#fb9f3a"
             ],
             [
              0.8888888888888888,
              "#fdca26"
             ],
             [
              1,
              "#f0f921"
             ]
            ],
            "type": "heatmap"
           }
          ],
          "heatmapgl": [
           {
            "colorbar": {
             "outlinewidth": 0,
             "ticks": ""
            },
            "colorscale": [
             [
              0,
              "#0d0887"
             ],
             [
              0.1111111111111111,
              "#46039f"
             ],
             [
              0.2222222222222222,
              "#7201a8"
             ],
             [
              0.3333333333333333,
              "#9c179e"
             ],
             [
              0.4444444444444444,
              "#bd3786"
             ],
             [
              0.5555555555555556,
              "#d8576b"
             ],
             [
              0.6666666666666666,
              "#ed7953"
             ],
             [
              0.7777777777777778,
              "#fb9f3a"
             ],
             [
              0.8888888888888888,
              "#fdca26"
             ],
             [
              1,
              "#f0f921"
             ]
            ],
            "type": "heatmapgl"
           }
          ],
          "histogram": [
           {
            "marker": {
             "pattern": {
              "fillmode": "overlay",
              "size": 10,
              "solidity": 0.2
             }
            },
            "type": "histogram"
           }
          ],
          "histogram2d": [
           {
            "colorbar": {
             "outlinewidth": 0,
             "ticks": ""
            },
            "colorscale": [
             [
              0,
              "#0d0887"
             ],
             [
              0.1111111111111111,
              "#46039f"
             ],
             [
              0.2222222222222222,
              "#7201a8"
             ],
             [
              0.3333333333333333,
              "#9c179e"
             ],
             [
              0.4444444444444444,
              "#bd3786"
             ],
             [
              0.5555555555555556,
              "#d8576b"
             ],
             [
              0.6666666666666666,
              "#ed7953"
             ],
             [
              0.7777777777777778,
              "#fb9f3a"
             ],
             [
              0.8888888888888888,
              "#fdca26"
             ],
             [
              1,
              "#f0f921"
             ]
            ],
            "type": "histogram2d"
           }
          ],
          "histogram2dcontour": [
           {
            "colorbar": {
             "outlinewidth": 0,
             "ticks": ""
            },
            "colorscale": [
             [
              0,
              "#0d0887"
             ],
             [
              0.1111111111111111,
              "#46039f"
             ],
             [
              0.2222222222222222,
              "#7201a8"
             ],
             [
              0.3333333333333333,
              "#9c179e"
             ],
             [
              0.4444444444444444,
              "#bd3786"
             ],
             [
              0.5555555555555556,
              "#d8576b"
             ],
             [
              0.6666666666666666,
              "#ed7953"
             ],
             [
              0.7777777777777778,
              "#fb9f3a"
             ],
             [
              0.8888888888888888,
              "#fdca26"
             ],
             [
              1,
              "#f0f921"
             ]
            ],
            "type": "histogram2dcontour"
           }
          ],
          "mesh3d": [
           {
            "colorbar": {
             "outlinewidth": 0,
             "ticks": ""
            },
            "type": "mesh3d"
           }
          ],
          "parcoords": [
           {
            "line": {
             "colorbar": {
              "outlinewidth": 0,
              "ticks": ""
             }
            },
            "type": "parcoords"
           }
          ],
          "pie": [
           {
            "automargin": true,
            "type": "pie"
           }
          ],
          "scatter": [
           {
            "fillpattern": {
             "fillmode": "overlay",
             "size": 10,
             "solidity": 0.2
            },
            "type": "scatter"
           }
          ],
          "scatter3d": [
           {
            "line": {
             "colorbar": {
              "outlinewidth": 0,
              "ticks": ""
             }
            },
            "marker": {
             "colorbar": {
              "outlinewidth": 0,
              "ticks": ""
             }
            },
            "type": "scatter3d"
           }
          ],
          "scattercarpet": [
           {
            "marker": {
             "colorbar": {
              "outlinewidth": 0,
              "ticks": ""
             }
            },
            "type": "scattercarpet"
           }
          ],
          "scattergeo": [
           {
            "marker": {
             "colorbar": {
              "outlinewidth": 0,
              "ticks": ""
             }
            },
            "type": "scattergeo"
           }
          ],
          "scattergl": [
           {
            "marker": {
             "colorbar": {
              "outlinewidth": 0,
              "ticks": ""
             }
            },
            "type": "scattergl"
           }
          ],
          "scattermapbox": [
           {
            "marker": {
             "colorbar": {
              "outlinewidth": 0,
              "ticks": ""
             }
            },
            "type": "scattermapbox"
           }
          ],
          "scatterpolar": [
           {
            "marker": {
             "colorbar": {
              "outlinewidth": 0,
              "ticks": ""
             }
            },
            "type": "scatterpolar"
           }
          ],
          "scatterpolargl": [
           {
            "marker": {
             "colorbar": {
              "outlinewidth": 0,
              "ticks": ""
             }
            },
            "type": "scatterpolargl"
           }
          ],
          "scatterternary": [
           {
            "marker": {
             "colorbar": {
              "outlinewidth": 0,
              "ticks": ""
             }
            },
            "type": "scatterternary"
           }
          ],
          "surface": [
           {
            "colorbar": {
             "outlinewidth": 0,
             "ticks": ""
            },
            "colorscale": [
             [
              0,
              "#0d0887"
             ],
             [
              0.1111111111111111,
              "#46039f"
             ],
             [
              0.2222222222222222,
              "#7201a8"
             ],
             [
              0.3333333333333333,
              "#9c179e"
             ],
             [
              0.4444444444444444,
              "#bd3786"
             ],
             [
              0.5555555555555556,
              "#d8576b"
             ],
             [
              0.6666666666666666,
              "#ed7953"
             ],
             [
              0.7777777777777778,
              "#fb9f3a"
             ],
             [
              0.8888888888888888,
              "#fdca26"
             ],
             [
              1,
              "#f0f921"
             ]
            ],
            "type": "surface"
           }
          ],
          "table": [
           {
            "cells": {
             "fill": {
              "color": "#EBF0F8"
             },
             "line": {
              "color": "white"
             }
            },
            "header": {
             "fill": {
              "color": "#C8D4E3"
             },
             "line": {
              "color": "white"
             }
            },
            "type": "table"
           }
          ]
         },
         "layout": {
          "annotationdefaults": {
           "arrowcolor": "#2a3f5f",
           "arrowhead": 0,
           "arrowwidth": 1
          },
          "autotypenumbers": "strict",
          "coloraxis": {
           "colorbar": {
            "outlinewidth": 0,
            "ticks": ""
           }
          },
          "colorscale": {
           "diverging": [
            [
             0,
             "#8e0152"
            ],
            [
             0.1,
             "#c51b7d"
            ],
            [
             0.2,
             "#de77ae"
            ],
            [
             0.3,
             "#f1b6da"
            ],
            [
             0.4,
             "#fde0ef"
            ],
            [
             0.5,
             "#f7f7f7"
            ],
            [
             0.6,
             "#e6f5d0"
            ],
            [
             0.7,
             "#b8e186"
            ],
            [
             0.8,
             "#7fbc41"
            ],
            [
             0.9,
             "#4d9221"
            ],
            [
             1,
             "#276419"
            ]
           ],
           "sequential": [
            [
             0,
             "#0d0887"
            ],
            [
             0.1111111111111111,
             "#46039f"
            ],
            [
             0.2222222222222222,
             "#7201a8"
            ],
            [
             0.3333333333333333,
             "#9c179e"
            ],
            [
             0.4444444444444444,
             "#bd3786"
            ],
            [
             0.5555555555555556,
             "#d8576b"
            ],
            [
             0.6666666666666666,
             "#ed7953"
            ],
            [
             0.7777777777777778,
             "#fb9f3a"
            ],
            [
             0.8888888888888888,
             "#fdca26"
            ],
            [
             1,
             "#f0f921"
            ]
           ],
           "sequentialminus": [
            [
             0,
             "#0d0887"
            ],
            [
             0.1111111111111111,
             "#46039f"
            ],
            [
             0.2222222222222222,
             "#7201a8"
            ],
            [
             0.3333333333333333,
             "#9c179e"
            ],
            [
             0.4444444444444444,
             "#bd3786"
            ],
            [
             0.5555555555555556,
             "#d8576b"
            ],
            [
             0.6666666666666666,
             "#ed7953"
            ],
            [
             0.7777777777777778,
             "#fb9f3a"
            ],
            [
             0.8888888888888888,
             "#fdca26"
            ],
            [
             1,
             "#f0f921"
            ]
           ]
          },
          "colorway": [
           "#636efa",
           "#EF553B",
           "#00cc96",
           "#ab63fa",
           "#FFA15A",
           "#19d3f3",
           "#FF6692",
           "#B6E880",
           "#FF97FF",
           "#FECB52"
          ],
          "font": {
           "color": "#2a3f5f"
          },
          "geo": {
           "bgcolor": "white",
           "lakecolor": "white",
           "landcolor": "#E5ECF6",
           "showlakes": true,
           "showland": true,
           "subunitcolor": "white"
          },
          "hoverlabel": {
           "align": "left"
          },
          "hovermode": "closest",
          "mapbox": {
           "style": "light"
          },
          "paper_bgcolor": "white",
          "plot_bgcolor": "#E5ECF6",
          "polar": {
           "angularaxis": {
            "gridcolor": "white",
            "linecolor": "white",
            "ticks": ""
           },
           "bgcolor": "#E5ECF6",
           "radialaxis": {
            "gridcolor": "white",
            "linecolor": "white",
            "ticks": ""
           }
          },
          "scene": {
           "xaxis": {
            "backgroundcolor": "#E5ECF6",
            "gridcolor": "white",
            "gridwidth": 2,
            "linecolor": "white",
            "showbackground": true,
            "ticks": "",
            "zerolinecolor": "white"
           },
           "yaxis": {
            "backgroundcolor": "#E5ECF6",
            "gridcolor": "white",
            "gridwidth": 2,
            "linecolor": "white",
            "showbackground": true,
            "ticks": "",
            "zerolinecolor": "white"
           },
           "zaxis": {
            "backgroundcolor": "#E5ECF6",
            "gridcolor": "white",
            "gridwidth": 2,
            "linecolor": "white",
            "showbackground": true,
            "ticks": "",
            "zerolinecolor": "white"
           }
          },
          "shapedefaults": {
           "line": {
            "color": "#2a3f5f"
           }
          },
          "ternary": {
           "aaxis": {
            "gridcolor": "white",
            "linecolor": "white",
            "ticks": ""
           },
           "baxis": {
            "gridcolor": "white",
            "linecolor": "white",
            "ticks": ""
           },
           "bgcolor": "#E5ECF6",
           "caxis": {
            "gridcolor": "white",
            "linecolor": "white",
            "ticks": ""
           }
          },
          "title": {
           "x": 0.05
          },
          "xaxis": {
           "automargin": true,
           "gridcolor": "white",
           "linecolor": "white",
           "ticks": "",
           "title": {
            "standoff": 15
           },
           "zerolinecolor": "white",
           "zerolinewidth": 2
          },
          "yaxis": {
           "automargin": true,
           "gridcolor": "white",
           "linecolor": "white",
           "ticks": "",
           "title": {
            "standoff": 15
           },
           "zerolinecolor": "white",
           "zerolinewidth": 2
          }
         }
        },
        "xaxis": {
         "anchor": "y",
         "domain": [
          0,
          1
         ],
         "title": {
          "text": "No_of Mass Margins"
         }
        },
        "yaxis": {
         "anchor": "x",
         "categoryarray": [
          "OBSCURED-CIRCUMSCRIBED",
          "MICROLOBULATED-SPICULATED",
          "MICROLOBULATED-ILL_DEFINED-SPICULATED",
          "CIRCUMSCRIBED-MICROLOBULATED-ILL_DEFINED",
          "CIRCUMSCRIBED-MICROLOBULATED",
          "CIRCUMSCRIBED-OBSCURED-ILL_DEFINED",
          "OBSCURED-SPICULATED",
          "OBSCURED-ILL_DEFINED-SPICULATED",
          "MICROLOBULATED-ILL_DEFINED",
          "CIRCUMSCRIBED-SPICULATED",
          "CIRCUMSCRIBED-OBSCURED",
          "OBSCURED-ILL_DEFINED",
          "CIRCUMSCRIBED-ILL_DEFINED",
          "ILL_DEFINED-SPICULATED",
          "MICROLOBULATED",
          "OBSCURED",
          "ILL_DEFINED",
          "SPICULATED",
          "CIRCUMSCRIBED"
         ],
         "categoryorder": "array",
         "domain": [
          0,
          1
         ],
         "title": {
          "text": "index"
         }
        }
       }
      }
     },
     "metadata": {},
     "output_type": "display_data"
    }
   ],
   "source": [
    "## plot the distribution types\n",
    "margins_mass_full_data_graph= px.bar(data_frame= margins_mass_full_data, x= 'No_of Mass Margins', y= 'index', color='index')\n",
    "##margins_mass_full_data_graph.update_layout(title='Types of Mass Margins', title_x=0.5, yaxis=dict(type='log'))\n",
    "margins_mass_full_data_graph"
   ]
  },
  {
   "cell_type": "code",
   "execution_count": 90,
   "metadata": {},
   "outputs": [],
   "source": [
    "pio.write_html(margins_mass_full_data_graph, file='plotly_graph6.html', auto_open=True)"
   ]
  },
  {
   "cell_type": "code",
   "execution_count": 91,
   "metadata": {},
   "outputs": [],
   "source": [
    "## rename pathology and left or right breast\n",
    "\n",
    "mass_full_data['new_pathology']= np.where(mass_full_data['pathology'] == 'MALIGNANT', 1, 0)\n",
    "mass_full_data['lr_breast']= np.where(mass_full_data['left or right breast'] == 'RIGHT', 1, 0)\n"
   ]
  },
  {
   "cell_type": "code",
   "execution_count": 92,
   "metadata": {},
   "outputs": [],
   "source": [
    "## change mass margins to values\n",
    "\n",
    "margins_conditions = [\n",
    "    mass_full_data['mass margins'] == 'CIRCUMSCRIBED',\n",
    "    mass_full_data['mass margins'] == 'SPICULATED',\n",
    "    mass_full_data['mass margins'] == 'ILL_DEFINED',\n",
    "    mass_full_data['mass margins'] == 'OBSCURED',\n",
    "    mass_full_data['mass margins'] == 'MICROBULATED'\n",
    "]\n",
    "\n",
    "margins_choices= [0, 1, 2, 3, 4]\n",
    "mass_full_data['new_mass_margins']= np.select(margins_conditions, margins_choices, default=5)"
   ]
  },
  {
   "cell_type": "code",
   "execution_count": 93,
   "metadata": {},
   "outputs": [],
   "source": [
    "## change mass shape to values\n",
    "\n",
    "shape_conditions = [\n",
    "    mass_full_data['mass shape'] == 'IRREGULAR',\n",
    "    mass_full_data['mass shape'] == 'OVAL',\n",
    "    mass_full_data['mass shape'] == 'LOBULATED',\n",
    "    mass_full_data['mass shape'] == 'ROUND',\n",
    "]\n",
    "\n",
    "shape_choices= [0, 1, 2, 3]\n",
    "mass_full_data['new_mass_shape']= np.select(shape_conditions, shape_choices, default=4)"
   ]
  },
  {
   "cell_type": "code",
   "execution_count": 94,
   "metadata": {},
   "outputs": [],
   "source": [
    "## change the Patient ID to a value\n",
    "## get unique patient ids from the dataset\n",
    "\n",
    "patient_ids= mass_full_data['patient_id'].unique()\n",
    "value_mapping = {}\n",
    "value= 0\n",
    "\n",
    "for patient_id in patient_ids:\n",
    "    value_mapping[patient_id]= value\n",
    "    value += 1\n",
    "\n",
    "mass_full_data['new_patient_id']= mass_full_data['patient_id'].map(value_mapping)\n"
   ]
  },
  {
   "cell_type": "code",
   "execution_count": 95,
   "metadata": {},
   "outputs": [
    {
     "name": "stdout",
     "output_type": "stream",
     "text": [
      "<class 'pandas.core.frame.DataFrame'>\n",
      "RangeIndex: 1696 entries, 0 to 1695\n",
      "Data columns (total 19 columns):\n",
      " #   Column                   Non-Null Count  Dtype   \n",
      "---  ------                   --------------  -----   \n",
      " 0   patient_id               1696 non-null   object  \n",
      " 1   breast_density           1696 non-null   int64   \n",
      " 2   left or right breast     1696 non-null   category\n",
      " 3   image view               1696 non-null   category\n",
      " 4   abnormality id           1696 non-null   int64   \n",
      " 5   abnormality type         1696 non-null   category\n",
      " 6   mass shape               1696 non-null   object  \n",
      " 7   mass margins             1696 non-null   object  \n",
      " 8   assessment               1696 non-null   int64   \n",
      " 9   pathology                1696 non-null   category\n",
      " 10  subtlety                 1696 non-null   int64   \n",
      " 11  image file path          1696 non-null   object  \n",
      " 12  cropped image file path  1696 non-null   object  \n",
      " 13  ROI mask file path       1696 non-null   object  \n",
      " 14  new_pathology            1696 non-null   int64   \n",
      " 15  lr_breast                1696 non-null   int64   \n",
      " 16  new_mass_margins         1696 non-null   int64   \n",
      " 17  new_mass_shape           1696 non-null   int64   \n",
      " 18  new_patient_id           1696 non-null   int64   \n",
      "dtypes: category(4), int64(9), object(6)\n",
      "memory usage: 206.0+ KB\n"
     ]
    }
   ],
   "source": [
    "mass_full_data.info()"
   ]
  },
  {
   "cell_type": "code",
   "execution_count": 96,
   "metadata": {},
   "outputs": [
    {
     "data": {
      "image/png": "[encoded data removed]",
      "text/plain": [
       "<Figure size 1116.49x500 with 2 Axes>"
      ]
     },
     "metadata": {},
     "output_type": "display_data"
    }
   ],
   "source": [
    "## plot for mass shape vs density vs pathology\n",
    "## create a FacetGrid first\n",
    "mshape_bdensity_path = sns.FacetGrid(data=mass_full_data, col='new_mass_shape', hue='new_pathology', hue_order=[0, 1], col_order=[0, 1], palette=['blue', 'red'], height=5, aspect=1)\n",
    "\n",
    "## then plot the KDE for 'assessment' on each facet\n",
    "mshape_bdensity_path.map_dataframe(sns.kdeplot, x='breast_density', fill=True, alpha=0.5, common_norm=False)\n",
    "\n",
    "mshape_bdensity_path.add_legend()\n",
    "mshape_bdensity_path.fig.suptitle('Cancer Risk acc to Assessment', y=1.02)\n",
    "plt.xlabel('Breast Density')\n",
    "plt.ylabel('Density')\n",
    "plt.show()"
   ]
  },
  {
   "cell_type": "code",
   "execution_count": 97,
   "metadata": {},
   "outputs": [],
   "source": [
    "## save the file to csv to use it on another notebook\n",
    "mass_full_data.to_csv('/Users/lalebaksi/Desktop/DS_3rd_Phase/Mass_Combined Breast Cancer Data.csv', index=False)"
   ]
  },
  {
   "cell_type": "code",
   "execution_count": 98,
   "metadata": {},
   "outputs": [
    {
     "data": {
      "text/html": [
       "<div>\n",
       "<style scoped>\n",
       "    .dataframe tbody tr th:only-of-type {\n",
       "        vertical-align: middle;\n",
       "    }\n",
       "\n",
       "    .dataframe tbody tr th {\n",
       "        vertical-align: top;\n",
       "    }\n",
       "\n",
       "    .dataframe thead th {\n",
       "        text-align: right;\n",
       "    }\n",
       "</style>\n",
       "<table border=\"1\" class=\"dataframe\">\n",
       "  <thead>\n",
       "    <tr style=\"text-align: right;\">\n",
       "      <th></th>\n",
       "      <th>patient_id</th>\n",
       "      <th>breast_density</th>\n",
       "      <th>left or right breast</th>\n",
       "      <th>image view</th>\n",
       "      <th>abnormality id</th>\n",
       "      <th>abnormality type</th>\n",
       "      <th>mass shape</th>\n",
       "      <th>mass margins</th>\n",
       "      <th>assessment</th>\n",
       "      <th>pathology</th>\n",
       "      <th>subtlety</th>\n",
       "      <th>image file path</th>\n",
       "      <th>cropped image file path</th>\n",
       "      <th>ROI mask file path</th>\n",
       "      <th>new_pathology</th>\n",
       "      <th>lr_breast</th>\n",
       "      <th>new_mass_margins</th>\n",
       "      <th>new_mass_shape</th>\n",
       "      <th>new_patient_id</th>\n",
       "    </tr>\n",
       "  </thead>\n",
       "  <tbody>\n",
       "    <tr>\n",
       "      <th>0</th>\n",
       "      <td>P_00001</td>\n",
       "      <td>3</td>\n",
       "      <td>LEFT</td>\n",
       "      <td>CC</td>\n",
       "      <td>1</td>\n",
       "      <td>mass</td>\n",
       "      <td>IRREGULAR-ARCHITECTURAL_DISTORTION</td>\n",
       "      <td>SPICULATED</td>\n",
       "      <td>4</td>\n",
       "      <td>MALIGNANT</td>\n",
       "      <td>4</td>\n",
       "      <td>Mass-Training_P_00001_LEFT_CC/1.3.6.1.4.1.9590...</td>\n",
       "      <td>Mass-Training_P_00001_LEFT_CC_1/1.3.6.1.4.1.95...</td>\n",
       "      <td>Mass-Training_P_00001_LEFT_CC_1/1.3.6.1.4.1.95...</td>\n",
       "      <td>1</td>\n",
       "      <td>0</td>\n",
       "      <td>1</td>\n",
       "      <td>4</td>\n",
       "      <td>0</td>\n",
       "    </tr>\n",
       "    <tr>\n",
       "      <th>1</th>\n",
       "      <td>P_00001</td>\n",
       "      <td>3</td>\n",
       "      <td>LEFT</td>\n",
       "      <td>MLO</td>\n",
       "      <td>1</td>\n",
       "      <td>mass</td>\n",
       "      <td>IRREGULAR-ARCHITECTURAL_DISTORTION</td>\n",
       "      <td>SPICULATED</td>\n",
       "      <td>4</td>\n",
       "      <td>MALIGNANT</td>\n",
       "      <td>4</td>\n",
       "      <td>Mass-Training_P_00001_LEFT_MLO/1.3.6.1.4.1.959...</td>\n",
       "      <td>Mass-Training_P_00001_LEFT_MLO_1/1.3.6.1.4.1.9...</td>\n",
       "      <td>Mass-Training_P_00001_LEFT_MLO_1/1.3.6.1.4.1.9...</td>\n",
       "      <td>1</td>\n",
       "      <td>0</td>\n",
       "      <td>1</td>\n",
       "      <td>4</td>\n",
       "      <td>0</td>\n",
       "    </tr>\n",
       "    <tr>\n",
       "      <th>2</th>\n",
       "      <td>P_00004</td>\n",
       "      <td>3</td>\n",
       "      <td>LEFT</td>\n",
       "      <td>CC</td>\n",
       "      <td>1</td>\n",
       "      <td>mass</td>\n",
       "      <td>ARCHITECTURAL_DISTORTION</td>\n",
       "      <td>ILL_DEFINED</td>\n",
       "      <td>4</td>\n",
       "      <td>BENIGN</td>\n",
       "      <td>3</td>\n",
       "      <td>Mass-Training_P_00004_LEFT_CC/1.3.6.1.4.1.9590...</td>\n",
       "      <td>Mass-Training_P_00004_LEFT_CC_1/1.3.6.1.4.1.95...</td>\n",
       "      <td>Mass-Training_P_00004_LEFT_CC_1/1.3.6.1.4.1.95...</td>\n",
       "      <td>0</td>\n",
       "      <td>0</td>\n",
       "      <td>2</td>\n",
       "      <td>4</td>\n",
       "      <td>1</td>\n",
       "    </tr>\n",
       "    <tr>\n",
       "      <th>3</th>\n",
       "      <td>P_00004</td>\n",
       "      <td>3</td>\n",
       "      <td>LEFT</td>\n",
       "      <td>MLO</td>\n",
       "      <td>1</td>\n",
       "      <td>mass</td>\n",
       "      <td>ARCHITECTURAL_DISTORTION</td>\n",
       "      <td>ILL_DEFINED</td>\n",
       "      <td>4</td>\n",
       "      <td>BENIGN</td>\n",
       "      <td>3</td>\n",
       "      <td>Mass-Training_P_00004_LEFT_MLO/1.3.6.1.4.1.959...</td>\n",
       "      <td>Mass-Training_P_00004_LEFT_MLO_1/1.3.6.1.4.1.9...</td>\n",
       "      <td>Mass-Training_P_00004_LEFT_MLO_1/1.3.6.1.4.1.9...</td>\n",
       "      <td>0</td>\n",
       "      <td>0</td>\n",
       "      <td>2</td>\n",
       "      <td>4</td>\n",
       "      <td>1</td>\n",
       "    </tr>\n",
       "    <tr>\n",
       "      <th>4</th>\n",
       "      <td>P_00004</td>\n",
       "      <td>3</td>\n",
       "      <td>RIGHT</td>\n",
       "      <td>MLO</td>\n",
       "      <td>1</td>\n",
       "      <td>mass</td>\n",
       "      <td>OVAL</td>\n",
       "      <td>CIRCUMSCRIBED</td>\n",
       "      <td>4</td>\n",
       "      <td>BENIGN</td>\n",
       "      <td>5</td>\n",
       "      <td>Mass-Training_P_00004_RIGHT_MLO/1.3.6.1.4.1.95...</td>\n",
       "      <td>Mass-Training_P_00004_RIGHT_MLO_1/1.3.6.1.4.1....</td>\n",
       "      <td>Mass-Training_P_00004_RIGHT_MLO_1/1.3.6.1.4.1....</td>\n",
       "      <td>0</td>\n",
       "      <td>1</td>\n",
       "      <td>0</td>\n",
       "      <td>1</td>\n",
       "      <td>1</td>\n",
       "    </tr>\n",
       "  </tbody>\n",
       "</table>\n",
       "</div>"
      ],
      "text/plain": [
       "  patient_id  breast_density left or right breast image view  abnormality id  \\\n",
       "0    P_00001               3                 LEFT         CC               1   \n",
       "1    P_00001               3                 LEFT        MLO               1   \n",
       "2    P_00004               3                 LEFT         CC               1   \n",
       "3    P_00004               3                 LEFT        MLO               1   \n",
       "4    P_00004               3                RIGHT        MLO               1   \n",
       "\n",
       "  abnormality type                          mass shape   mass margins  \\\n",
       "0             mass  IRREGULAR-ARCHITECTURAL_DISTORTION     SPICULATED   \n",
       "1             mass  IRREGULAR-ARCHITECTURAL_DISTORTION     SPICULATED   \n",
       "2             mass            ARCHITECTURAL_DISTORTION    ILL_DEFINED   \n",
       "3             mass            ARCHITECTURAL_DISTORTION    ILL_DEFINED   \n",
       "4             mass                                OVAL  CIRCUMSCRIBED   \n",
       "\n",
       "   assessment  pathology  subtlety  \\\n",
       "0           4  MALIGNANT         4   \n",
       "1           4  MALIGNANT         4   \n",
       "2           4     BENIGN         3   \n",
       "3           4     BENIGN         3   \n",
       "4           4     BENIGN         5   \n",
       "\n",
       "                                     image file path  \\\n",
       "0  Mass-Training_P_00001_LEFT_CC/1.3.6.1.4.1.9590...   \n",
       "1  Mass-Training_P_00001_LEFT_MLO/1.3.6.1.4.1.959...   \n",
       "2  Mass-Training_P_00004_LEFT_CC/1.3.6.1.4.1.9590...   \n",
       "3  Mass-Training_P_00004_LEFT_MLO/1.3.6.1.4.1.959...   \n",
       "4  Mass-Training_P_00004_RIGHT_MLO/1.3.6.1.4.1.95...   \n",
       "\n",
       "                             cropped image file path  \\\n",
       "0  Mass-Training_P_00001_LEFT_CC_1/1.3.6.1.4.1.95...   \n",
       "1  Mass-Training_P_00001_LEFT_MLO_1/1.3.6.1.4.1.9...   \n",
       "2  Mass-Training_P_00004_LEFT_CC_1/1.3.6.1.4.1.95...   \n",
       "3  Mass-Training_P_00004_LEFT_MLO_1/1.3.6.1.4.1.9...   \n",
       "4  Mass-Training_P_00004_RIGHT_MLO_1/1.3.6.1.4.1....   \n",
       "\n",
       "                                  ROI mask file path  new_pathology  \\\n",
       "0  Mass-Training_P_00001_LEFT_CC_1/1.3.6.1.4.1.95...              1   \n",
       "1  Mass-Training_P_00001_LEFT_MLO_1/1.3.6.1.4.1.9...              1   \n",
       "2  Mass-Training_P_00004_LEFT_CC_1/1.3.6.1.4.1.95...              0   \n",
       "3  Mass-Training_P_00004_LEFT_MLO_1/1.3.6.1.4.1.9...              0   \n",
       "4  Mass-Training_P_00004_RIGHT_MLO_1/1.3.6.1.4.1....              0   \n",
       "\n",
       "   lr_breast  new_mass_margins  new_mass_shape  new_patient_id  \n",
       "0          0                 1               4               0  \n",
       "1          0                 1               4               0  \n",
       "2          0                 2               4               1  \n",
       "3          0                 2               4               1  \n",
       "4          1                 0               1               1  "
      ]
     },
     "execution_count": 98,
     "metadata": {},
     "output_type": "execute_result"
    }
   ],
   "source": [
    "mass_full_data.head()"
   ]
  },
  {
   "cell_type": "code",
   "execution_count": 99,
   "metadata": {},
   "outputs": [],
   "source": [
    "X= mass_full_data.drop(['pathology', 'new_pathology', 'left or right breast', 'mass margins', 'mass shape', 'abnormality type', 'image view', 'patient_id', 'image file path', 'cropped image file path', 'ROI mask file path'], axis=1)\n",
    "Y= mass_full_data['new_pathology']"
   ]
  },
  {
   "cell_type": "code",
   "execution_count": 100,
   "metadata": {},
   "outputs": [
    {
     "name": "stdout",
     "output_type": "stream",
     "text": [
      "<class 'pandas.core.frame.DataFrame'>\n",
      "RangeIndex: 1696 entries, 0 to 1695\n",
      "Data columns (total 8 columns):\n",
      " #   Column            Non-Null Count  Dtype\n",
      "---  ------            --------------  -----\n",
      " 0   breast_density    1696 non-null   int64\n",
      " 1   abnormality id    1696 non-null   int64\n",
      " 2   assessment        1696 non-null   int64\n",
      " 3   subtlety          1696 non-null   int64\n",
      " 4   lr_breast         1696 non-null   int64\n",
      " 5   new_mass_margins  1696 non-null   int64\n",
      " 6   new_mass_shape    1696 non-null   int64\n",
      " 7   new_patient_id    1696 non-null   int64\n",
      "dtypes: int64(8)\n",
      "memory usage: 106.1 KB\n"
     ]
    }
   ],
   "source": [
    "X.info()"
   ]
  },
  {
   "cell_type": "code",
   "execution_count": 101,
   "metadata": {},
   "outputs": [
    {
     "data": {
      "text/html": [
       "<div>\n",
       "<style scoped>\n",
       "    .dataframe tbody tr th:only-of-type {\n",
       "        vertical-align: middle;\n",
       "    }\n",
       "\n",
       "    .dataframe tbody tr th {\n",
       "        vertical-align: top;\n",
       "    }\n",
       "\n",
       "    .dataframe thead th {\n",
       "        text-align: right;\n",
       "    }\n",
       "</style>\n",
       "<table border=\"1\" class=\"dataframe\">\n",
       "  <thead>\n",
       "    <tr style=\"text-align: right;\">\n",
       "      <th></th>\n",
       "      <th>breast_density</th>\n",
       "      <th>abnormality id</th>\n",
       "      <th>assessment</th>\n",
       "      <th>subtlety</th>\n",
       "      <th>lr_breast</th>\n",
       "      <th>new_mass_margins</th>\n",
       "      <th>new_mass_shape</th>\n",
       "      <th>new_patient_id</th>\n",
       "    </tr>\n",
       "  </thead>\n",
       "  <tbody>\n",
       "    <tr>\n",
       "      <th>0</th>\n",
       "      <td>3</td>\n",
       "      <td>1</td>\n",
       "      <td>4</td>\n",
       "      <td>4</td>\n",
       "      <td>0</td>\n",
       "      <td>1</td>\n",
       "      <td>4</td>\n",
       "      <td>0</td>\n",
       "    </tr>\n",
       "    <tr>\n",
       "      <th>1</th>\n",
       "      <td>3</td>\n",
       "      <td>1</td>\n",
       "      <td>4</td>\n",
       "      <td>4</td>\n",
       "      <td>0</td>\n",
       "      <td>1</td>\n",
       "      <td>4</td>\n",
       "      <td>0</td>\n",
       "    </tr>\n",
       "    <tr>\n",
       "      <th>2</th>\n",
       "      <td>3</td>\n",
       "      <td>1</td>\n",
       "      <td>4</td>\n",
       "      <td>3</td>\n",
       "      <td>0</td>\n",
       "      <td>2</td>\n",
       "      <td>4</td>\n",
       "      <td>1</td>\n",
       "    </tr>\n",
       "    <tr>\n",
       "      <th>3</th>\n",
       "      <td>3</td>\n",
       "      <td>1</td>\n",
       "      <td>4</td>\n",
       "      <td>3</td>\n",
       "      <td>0</td>\n",
       "      <td>2</td>\n",
       "      <td>4</td>\n",
       "      <td>1</td>\n",
       "    </tr>\n",
       "    <tr>\n",
       "      <th>4</th>\n",
       "      <td>3</td>\n",
       "      <td>1</td>\n",
       "      <td>4</td>\n",
       "      <td>5</td>\n",
       "      <td>1</td>\n",
       "      <td>0</td>\n",
       "      <td>1</td>\n",
       "      <td>1</td>\n",
       "    </tr>\n",
       "  </tbody>\n",
       "</table>\n",
       "</div>"
      ],
      "text/plain": [
       "   breast_density  abnormality id  assessment  subtlety  lr_breast  \\\n",
       "0               3               1           4         4          0   \n",
       "1               3               1           4         4          0   \n",
       "2               3               1           4         3          0   \n",
       "3               3               1           4         3          0   \n",
       "4               3               1           4         5          1   \n",
       "\n",
       "   new_mass_margins  new_mass_shape  new_patient_id  \n",
       "0                 1               4               0  \n",
       "1                 1               4               0  \n",
       "2                 2               4               1  \n",
       "3                 2               4               1  \n",
       "4                 0               1               1  "
      ]
     },
     "execution_count": 101,
     "metadata": {},
     "output_type": "execute_result"
    }
   ],
   "source": [
    "X.head()"
   ]
  },
  {
   "cell_type": "code",
   "execution_count": 102,
   "metadata": {},
   "outputs": [
    {
     "data": {
      "text/html": [
       "<div>\n",
       "<style scoped>\n",
       "    .dataframe tbody tr th:only-of-type {\n",
       "        vertical-align: middle;\n",
       "    }\n",
       "\n",
       "    .dataframe tbody tr th {\n",
       "        vertical-align: top;\n",
       "    }\n",
       "\n",
       "    .dataframe thead th {\n",
       "        text-align: right;\n",
       "    }\n",
       "</style>\n",
       "<table border=\"1\" class=\"dataframe\">\n",
       "  <thead>\n",
       "    <tr style=\"text-align: right;\">\n",
       "      <th></th>\n",
       "      <th>breast_density</th>\n",
       "      <th>abnormality id</th>\n",
       "      <th>assessment</th>\n",
       "      <th>subtlety</th>\n",
       "      <th>lr_breast</th>\n",
       "      <th>new_mass_margins</th>\n",
       "      <th>new_mass_shape</th>\n",
       "      <th>new_patient_id</th>\n",
       "    </tr>\n",
       "  </thead>\n",
       "  <tbody>\n",
       "    <tr>\n",
       "      <th>1691</th>\n",
       "      <td>2</td>\n",
       "      <td>1</td>\n",
       "      <td>3</td>\n",
       "      <td>3</td>\n",
       "      <td>1</td>\n",
       "      <td>5</td>\n",
       "      <td>2</td>\n",
       "      <td>888</td>\n",
       "    </tr>\n",
       "    <tr>\n",
       "      <th>1692</th>\n",
       "      <td>2</td>\n",
       "      <td>1</td>\n",
       "      <td>5</td>\n",
       "      <td>5</td>\n",
       "      <td>1</td>\n",
       "      <td>2</td>\n",
       "      <td>0</td>\n",
       "      <td>889</td>\n",
       "    </tr>\n",
       "    <tr>\n",
       "      <th>1693</th>\n",
       "      <td>2</td>\n",
       "      <td>1</td>\n",
       "      <td>4</td>\n",
       "      <td>2</td>\n",
       "      <td>0</td>\n",
       "      <td>2</td>\n",
       "      <td>0</td>\n",
       "      <td>890</td>\n",
       "    </tr>\n",
       "    <tr>\n",
       "      <th>1694</th>\n",
       "      <td>3</td>\n",
       "      <td>1</td>\n",
       "      <td>5</td>\n",
       "      <td>4</td>\n",
       "      <td>1</td>\n",
       "      <td>1</td>\n",
       "      <td>0</td>\n",
       "      <td>891</td>\n",
       "    </tr>\n",
       "    <tr>\n",
       "      <th>1695</th>\n",
       "      <td>3</td>\n",
       "      <td>1</td>\n",
       "      <td>5</td>\n",
       "      <td>4</td>\n",
       "      <td>1</td>\n",
       "      <td>1</td>\n",
       "      <td>0</td>\n",
       "      <td>891</td>\n",
       "    </tr>\n",
       "  </tbody>\n",
       "</table>\n",
       "</div>"
      ],
      "text/plain": [
       "      breast_density  abnormality id  assessment  subtlety  lr_breast  \\\n",
       "1691               2               1           3         3          1   \n",
       "1692               2               1           5         5          1   \n",
       "1693               2               1           4         2          0   \n",
       "1694               3               1           5         4          1   \n",
       "1695               3               1           5         4          1   \n",
       "\n",
       "      new_mass_margins  new_mass_shape  new_patient_id  \n",
       "1691                 5               2             888  \n",
       "1692                 2               0             889  \n",
       "1693                 2               0             890  \n",
       "1694                 1               0             891  \n",
       "1695                 1               0             891  "
      ]
     },
     "execution_count": 102,
     "metadata": {},
     "output_type": "execute_result"
    }
   ],
   "source": [
    "X.tail()"
   ]
  },
  {
   "cell_type": "code",
   "execution_count": 103,
   "metadata": {},
   "outputs": [
    {
     "data": {
      "text/plain": [
       "0    1\n",
       "1    1\n",
       "2    0\n",
       "3    0\n",
       "4    0\n",
       "Name: new_pathology, dtype: int64"
      ]
     },
     "execution_count": 103,
     "metadata": {},
     "output_type": "execute_result"
    }
   ],
   "source": [
    "Y.head()"
   ]
  },
  {
   "cell_type": "code",
   "execution_count": 104,
   "metadata": {},
   "outputs": [
    {
     "data": {
      "text/plain": [
       "1691    0\n",
       "1692    1\n",
       "1693    1\n",
       "1694    1\n",
       "1695    1\n",
       "Name: new_pathology, dtype: int64"
      ]
     },
     "execution_count": 104,
     "metadata": {},
     "output_type": "execute_result"
    }
   ],
   "source": [
    "Y.tail()"
   ]
  },
  {
   "cell_type": "code",
   "execution_count": 105,
   "metadata": {},
   "outputs": [
    {
     "name": "stdout",
     "output_type": "stream",
     "text": [
      "X_train size is: (1356, 8)\n",
      "X_test size is: (340, 8)\n",
      "Y_train size is: (1356,)\n",
      "Y_test size is: (340,)\n"
     ]
    }
   ],
   "source": [
    "## split my variables for train and test variables\n",
    "\n",
    "X_train, X_test, Y_train, Y_test = train_test_split(X, Y, test_size=0.20, random_state=32)\n",
    "print('X_train size is:', X_train.shape)\n",
    "print('X_test size is:', X_test.shape)\n",
    "print('Y_train size is:', Y_train.shape)\n",
    "print('Y_test size is:', Y_test.shape)\n",
    "\n"
   ]
  },
  {
   "cell_type": "code",
   "execution_count": 106,
   "metadata": {},
   "outputs": [],
   "source": [
    "scaler_x = StandardScaler()\n",
    "X_train= scaler_x.fit_transform(X_train)\n",
    "X_test = scaler_x.transform(X_test)"
   ]
  },
  {
   "cell_type": "code",
   "execution_count": 107,
   "metadata": {},
   "outputs": [],
   "source": [
    "\n",
    "## apply early stopping\n",
    "## this will prevent to overrun the data for unnecessary epochs\n",
    "\n",
    "early_stopping= callbacks.EarlyStopping(\n",
    "    min_delta=0.01,\n",
    "    patience=10,\n",
    "    restore_best_weights=True)"
   ]
  },
  {
   "cell_type": "code",
   "execution_count": 108,
   "metadata": {},
   "outputs": [],
   "source": [
    "## set up a simple ANN model for cancer detection\n",
    "\n",
    "mass_model= Sequential()\n",
    "mass_model.add(Dense(units=16, kernel_initializer= 'uniform', activation= 'relu', input_dim= 8))\n",
    "mass_model.add(Dense(units=8, kernel_initializer= 'uniform', activation= 'relu', input_dim= 8))\n",
    "mass_model.add(Dropout(0.20))\n",
    "mass_model.add(Dense(units=1,kernel_initializer= 'uniform', activation= 'sigmoid'))\n",
    "mass_model.compile(optimizer='adam', loss= 'binary_crossentropy', metrics= ['accuracy'])\n"
   ]
  },
  {
   "cell_type": "code",
   "execution_count": 109,
   "metadata": {},
   "outputs": [
    {
     "name": "stdout",
     "output_type": "stream",
     "text": [
      "Model: \"sequential\"\n",
      "_________________________________________________________________\n",
      " Layer (type)                Output Shape              Param #   \n",
      "=================================================================\n",
      " dense (Dense)               (None, 16)                144       \n",
      "                                                                 \n",
      " dense_1 (Dense)             (None, 8)                 136       \n",
      "                                                                 \n",
      " dropout (Dropout)           (None, 8)                 0         \n",
      "                                                                 \n",
      " dense_2 (Dense)             (None, 1)                 9         \n",
      "                                                                 \n",
      "=================================================================\n",
      "Total params: 289\n",
      "Trainable params: 289\n",
      "Non-trainable params: 0\n",
      "_________________________________________________________________\n"
     ]
    }
   ],
   "source": [
    "## check the summary\n",
    "mass_model.summary()"
   ]
  },
  {
   "cell_type": "code",
   "execution_count": 110,
   "metadata": {},
   "outputs": [
    {
     "name": "stdout",
     "output_type": "stream",
     "text": [
      "Epoch 1/80\n"
     ]
    },
    {
     "name": "stderr",
     "output_type": "stream",
     "text": [
      "2023-07-21 16:11:29.579325: W tensorflow/core/platform/profile_utils/cpu_utils.cc:128] Failed to get CPU frequency: 0 Hz\n"
     ]
    },
    {
     "name": "stdout",
     "output_type": "stream",
     "text": [
      "32/32 [==============================] - 0s 3ms/step - loss: 0.6924 - accuracy: 0.5408 - val_loss: 0.6913 - val_accuracy: 0.5310\n",
      "Epoch 2/80\n",
      "32/32 [==============================] - 0s 917us/step - loss: 0.6880 - accuracy: 0.5398 - val_loss: 0.6829 - val_accuracy: 0.5310\n",
      "Epoch 3/80\n",
      "32/32 [==============================] - 0s 949us/step - loss: 0.6710 - accuracy: 0.5998 - val_loss: 0.6541 - val_accuracy: 0.6844\n",
      "Epoch 4/80\n",
      "32/32 [==============================] - 0s 911us/step - loss: 0.6329 - accuracy: 0.7060 - val_loss: 0.6085 - val_accuracy: 0.7375\n",
      "Epoch 5/80\n",
      "32/32 [==============================] - 0s 873us/step - loss: 0.5822 - accuracy: 0.7522 - val_loss: 0.5642 - val_accuracy: 0.7493\n",
      "Epoch 6/80\n",
      "32/32 [==============================] - 0s 921us/step - loss: 0.5388 - accuracy: 0.7601 - val_loss: 0.5325 - val_accuracy: 0.7434\n",
      "Epoch 7/80\n",
      "32/32 [==============================] - 0s 876us/step - loss: 0.5133 - accuracy: 0.7738 - val_loss: 0.5157 - val_accuracy: 0.7552\n",
      "Epoch 8/80\n",
      "32/32 [==============================] - 0s 873us/step - loss: 0.4849 - accuracy: 0.7915 - val_loss: 0.5026 - val_accuracy: 0.7552\n",
      "Epoch 9/80\n",
      "32/32 [==============================] - 0s 885us/step - loss: 0.4699 - accuracy: 0.7847 - val_loss: 0.4915 - val_accuracy: 0.7581\n",
      "Epoch 10/80\n",
      "32/32 [==============================] - 0s 912us/step - loss: 0.4662 - accuracy: 0.7886 - val_loss: 0.4806 - val_accuracy: 0.7640\n",
      "Epoch 11/80\n",
      "32/32 [==============================] - 0s 851us/step - loss: 0.4521 - accuracy: 0.7866 - val_loss: 0.4807 - val_accuracy: 0.7729\n",
      "Epoch 12/80\n",
      "32/32 [==============================] - 0s 909us/step - loss: 0.4590 - accuracy: 0.7729 - val_loss: 0.4681 - val_accuracy: 0.7847\n",
      "Epoch 13/80\n",
      "32/32 [==============================] - 0s 900us/step - loss: 0.4423 - accuracy: 0.7866 - val_loss: 0.4625 - val_accuracy: 0.7847\n",
      "Epoch 14/80\n",
      "32/32 [==============================] - 0s 864us/step - loss: 0.4335 - accuracy: 0.7994 - val_loss: 0.4591 - val_accuracy: 0.7876\n",
      "Epoch 15/80\n",
      "32/32 [==============================] - 0s 886us/step - loss: 0.4267 - accuracy: 0.8014 - val_loss: 0.4549 - val_accuracy: 0.8024\n",
      "Epoch 16/80\n",
      "32/32 [==============================] - 0s 867us/step - loss: 0.4169 - accuracy: 0.7955 - val_loss: 0.4494 - val_accuracy: 0.8053\n",
      "Epoch 17/80\n",
      "32/32 [==============================] - 0s 878us/step - loss: 0.4161 - accuracy: 0.8043 - val_loss: 0.4475 - val_accuracy: 0.8024\n",
      "Epoch 18/80\n",
      "32/32 [==============================] - 0s 939us/step - loss: 0.4234 - accuracy: 0.7974 - val_loss: 0.4446 - val_accuracy: 0.8053\n",
      "Epoch 19/80\n",
      "32/32 [==============================] - 0s 869us/step - loss: 0.4205 - accuracy: 0.7974 - val_loss: 0.4431 - val_accuracy: 0.8083\n",
      "Epoch 20/80\n",
      "32/32 [==============================] - 0s 878us/step - loss: 0.4161 - accuracy: 0.8063 - val_loss: 0.4348 - val_accuracy: 0.8024\n",
      "Epoch 21/80\n",
      "32/32 [==============================] - 0s 865us/step - loss: 0.4180 - accuracy: 0.8053 - val_loss: 0.4365 - val_accuracy: 0.7994\n",
      "Epoch 22/80\n",
      "32/32 [==============================] - 0s 869us/step - loss: 0.4126 - accuracy: 0.8083 - val_loss: 0.4311 - val_accuracy: 0.8053\n",
      "Epoch 23/80\n",
      "32/32 [==============================] - 0s 873us/step - loss: 0.4119 - accuracy: 0.8102 - val_loss: 0.4291 - val_accuracy: 0.8024\n",
      "Epoch 24/80\n",
      "32/32 [==============================] - 0s 859us/step - loss: 0.4033 - accuracy: 0.8142 - val_loss: 0.4267 - val_accuracy: 0.7994\n",
      "Epoch 25/80\n",
      "32/32 [==============================] - 0s 1ms/step - loss: 0.3995 - accuracy: 0.8092 - val_loss: 0.4256 - val_accuracy: 0.7994\n",
      "Epoch 26/80\n",
      "32/32 [==============================] - 0s 814us/step - loss: 0.4003 - accuracy: 0.8122 - val_loss: 0.4223 - val_accuracy: 0.8083\n",
      "Epoch 27/80\n",
      "32/32 [==============================] - 0s 841us/step - loss: 0.3947 - accuracy: 0.8092 - val_loss: 0.4229 - val_accuracy: 0.8024\n",
      "Epoch 28/80\n",
      "32/32 [==============================] - 0s 837us/step - loss: 0.4058 - accuracy: 0.8083 - val_loss: 0.4205 - val_accuracy: 0.7935\n",
      "Epoch 29/80\n",
      "32/32 [==============================] - 0s 870us/step - loss: 0.3930 - accuracy: 0.8151 - val_loss: 0.4185 - val_accuracy: 0.8053\n",
      "Epoch 30/80\n",
      "32/32 [==============================] - 0s 855us/step - loss: 0.3992 - accuracy: 0.8083 - val_loss: 0.4209 - val_accuracy: 0.8083\n",
      "Epoch 31/80\n",
      "32/32 [==============================] - 0s 877us/step - loss: 0.3909 - accuracy: 0.8230 - val_loss: 0.4172 - val_accuracy: 0.8053\n",
      "Epoch 32/80\n",
      "32/32 [==============================] - 0s 854us/step - loss: 0.4044 - accuracy: 0.8142 - val_loss: 0.4129 - val_accuracy: 0.8112\n",
      "Epoch 33/80\n",
      "32/32 [==============================] - 0s 866us/step - loss: 0.3926 - accuracy: 0.8181 - val_loss: 0.4127 - val_accuracy: 0.8053\n",
      "Epoch 34/80\n",
      "32/32 [==============================] - 0s 860us/step - loss: 0.3850 - accuracy: 0.8210 - val_loss: 0.4105 - val_accuracy: 0.8053\n",
      "Epoch 35/80\n",
      "32/32 [==============================] - 0s 883us/step - loss: 0.3928 - accuracy: 0.8210 - val_loss: 0.4070 - val_accuracy: 0.8083\n",
      "Epoch 36/80\n",
      "32/32 [==============================] - 0s 861us/step - loss: 0.3772 - accuracy: 0.8250 - val_loss: 0.4110 - val_accuracy: 0.8053\n",
      "Epoch 37/80\n",
      "32/32 [==============================] - 0s 916us/step - loss: 0.3838 - accuracy: 0.8171 - val_loss: 0.4075 - val_accuracy: 0.8083\n",
      "Epoch 38/80\n",
      "32/32 [==============================] - 0s 880us/step - loss: 0.3886 - accuracy: 0.8220 - val_loss: 0.4069 - val_accuracy: 0.8083\n",
      "Epoch 39/80\n",
      "32/32 [==============================] - 0s 861us/step - loss: 0.3911 - accuracy: 0.8210 - val_loss: 0.4061 - val_accuracy: 0.8053\n",
      "Epoch 40/80\n",
      "32/32 [==============================] - 0s 832us/step - loss: 0.3810 - accuracy: 0.8260 - val_loss: 0.4043 - val_accuracy: 0.8112\n",
      "Epoch 41/80\n",
      "32/32 [==============================] - 0s 865us/step - loss: 0.3806 - accuracy: 0.8240 - val_loss: 0.4070 - val_accuracy: 0.8053\n",
      "Epoch 42/80\n",
      "32/32 [==============================] - 0s 865us/step - loss: 0.3742 - accuracy: 0.8309 - val_loss: 0.4027 - val_accuracy: 0.8112\n",
      "Epoch 43/80\n",
      "32/32 [==============================] - 0s 907us/step - loss: 0.3775 - accuracy: 0.8319 - val_loss: 0.4024 - val_accuracy: 0.8112\n",
      "Epoch 44/80\n",
      "32/32 [==============================] - 0s 874us/step - loss: 0.3701 - accuracy: 0.8328 - val_loss: 0.4038 - val_accuracy: 0.8083\n",
      "Epoch 45/80\n",
      "32/32 [==============================] - 0s 1ms/step - loss: 0.3778 - accuracy: 0.8250 - val_loss: 0.4022 - val_accuracy: 0.8112\n"
     ]
    }
   ],
   "source": [
    "mass_history= mass_model.fit(X_train, Y_train, batch_size=32, epochs=80, callbacks=early_stopping, validation_split=0.25)"
   ]
  },
  {
   "cell_type": "code",
   "execution_count": 111,
   "metadata": {},
   "outputs": [
    {
     "data": {
      "image/png": "[encoded data removed]",
      "text/plain": [
       "<Figure size 1000x500 with 1 Axes>"
      ]
     },
     "metadata": {},
     "output_type": "display_data"
    }
   ],
   "source": [
    "mass_history_df= pd.DataFrame(mass_history.history)\n",
    "\n",
    "plt.figure(figsize=(10,5))\n",
    "plt.plot(mass_history_df.loc[:, ['accuracy']], color= 'red', label= 'Training accuracy')\n",
    "plt.plot(mass_history_df.loc[:, ['val_accuracy']], color= 'green', label= 'Validation accuracy')\n",
    "plt.title('Training vs Validation Accuracy')\n",
    "plt.xlabel('Epochs')\n",
    "plt.ylabel('Accuracy')\n",
    "plt.legend()\n",
    "plt.show()"
   ]
  },
  {
   "cell_type": "code",
   "execution_count": 112,
   "metadata": {},
   "outputs": [
    {
     "data": {
      "image/png": "[encoded data removed]",
      "text/plain": [
       "<Figure size 1000x500 with 1 Axes>"
      ]
     },
     "metadata": {},
     "output_type": "display_data"
    }
   ],
   "source": [
    "plt.figure(figsize=(10,5))\n",
    "plt.plot(mass_history_df.loc[:, ['loss']], color= 'red', label= 'Training loss')\n",
    "plt.plot(mass_history_df.loc[:, ['val_loss']], color= 'green', label= 'Validation loss')\n",
    "plt.title('Training vs Validation Loss')\n",
    "plt.xlabel('Epochs')\n",
    "plt.ylabel('Loss')\n",
    "plt.legend()\n",
    "plt.show()"
   ]
  },
  {
   "cell_type": "code",
   "execution_count": 113,
   "metadata": {},
   "outputs": [
    {
     "name": "stdout",
     "output_type": "stream",
     "text": [
      "INFO:tensorflow:Assets written to: Breast_Cancer_Mass_Modelv1/assets\n"
     ]
    }
   ],
   "source": [
    "## save the model\n",
    "mass_model.save('Breast_Cancer_Mass_Modelv1')"
   ]
  },
  {
   "cell_type": "code",
   "execution_count": 114,
   "metadata": {},
   "outputs": [],
   "source": [
    "## load the model\n",
    "mass_model= tf.keras.models.load_model('Breast_Cancer_Mass_Modelv1')"
   ]
  },
  {
   "cell_type": "code",
   "execution_count": 115,
   "metadata": {},
   "outputs": [
    {
     "name": "stdout",
     "output_type": "stream",
     "text": [
      "11/11 [==============================] - 0s 382us/step\n"
     ]
    },
    {
     "data": {
      "text/plain": [
       "array([[0.93920195],\n",
       "       [0.53320974],\n",
       "       [0.63642263],\n",
       "       [0.14785306],\n",
       "       [0.0276155 ],\n",
       "       [0.5354904 ],\n",
       "       [0.97569984],\n",
       "       [0.03878716],\n",
       "       [0.9453313 ],\n",
       "       [0.03865528],\n",
       "       [0.7650553 ],\n",
       "       [0.03382417],\n",
       "       [0.2508776 ],\n",
       "       [0.9684998 ],\n",
       "       [0.22878794],\n",
       "       [0.40088502],\n",
       "       [0.9407205 ],\n",
       "       [0.21875489],\n",
       "       [0.42250142],\n",
       "       [0.00971122],\n",
       "       [0.03006987],\n",
       "       [0.07127725],\n",
       "       [0.20304254],\n",
       "       [0.745744  ],\n",
       "       [0.21310984],\n",
       "       [0.18932399],\n",
       "       [0.978153  ],\n",
       "       [0.28669786],\n",
       "       [0.6219904 ],\n",
       "       [0.3060081 ],\n",
       "       [0.96660674],\n",
       "       [0.02057872],\n",
       "       [0.22789304],\n",
       "       [0.13114397],\n",
       "       [0.98068786],\n",
       "       [0.51979893],\n",
       "       [0.620874  ],\n",
       "       [0.17742236],\n",
       "       [0.5160662 ],\n",
       "       [0.9646603 ],\n",
       "       [0.03984851],\n",
       "       [0.6218229 ],\n",
       "       [0.25363305],\n",
       "       [0.05191099],\n",
       "       [0.15965272],\n",
       "       [0.20624197],\n",
       "       [0.1238298 ],\n",
       "       [0.02615244],\n",
       "       [0.02898314],\n",
       "       [0.56056184],\n",
       "       [0.135215  ],\n",
       "       [0.45237085],\n",
       "       [0.66175044],\n",
       "       [0.0122766 ],\n",
       "       [0.96333295],\n",
       "       [0.17885579],\n",
       "       [0.93911505],\n",
       "       [0.53822225],\n",
       "       [0.2654273 ],\n",
       "       [0.9750465 ],\n",
       "       [0.25722426],\n",
       "       [0.04060054],\n",
       "       [0.971669  ],\n",
       "       [0.737929  ],\n",
       "       [0.28504658],\n",
       "       [0.43693396],\n",
       "       [0.8883189 ],\n",
       "       [0.47454512],\n",
       "       [0.9737792 ],\n",
       "       [0.9527202 ],\n",
       "       [0.10085322],\n",
       "       [0.26023296],\n",
       "       [0.9483454 ],\n",
       "       [0.975576  ],\n",
       "       [0.70556194],\n",
       "       [0.48887458],\n",
       "       [0.7594274 ],\n",
       "       [0.13421923],\n",
       "       [0.9784335 ],\n",
       "       [0.47796324],\n",
       "       [0.96417004],\n",
       "       [0.9558447 ],\n",
       "       [0.6548483 ],\n",
       "       [0.30983528],\n",
       "       [0.3336201 ],\n",
       "       [0.92740524],\n",
       "       [0.30626488],\n",
       "       [0.07029828],\n",
       "       [0.9781256 ],\n",
       "       [0.98114467],\n",
       "       [0.38536945],\n",
       "       [0.5349335 ],\n",
       "       [0.03623813],\n",
       "       [0.10339473],\n",
       "       [0.5066439 ],\n",
       "       [0.04250559],\n",
       "       [0.16194285],\n",
       "       [0.49093542],\n",
       "       [0.9707632 ],\n",
       "       [0.56334007],\n",
       "       [0.11233957],\n",
       "       [0.1494058 ],\n",
       "       [0.07359976],\n",
       "       [0.831714  ],\n",
       "       [0.48446256],\n",
       "       [0.95716286],\n",
       "       [0.04102276],\n",
       "       [0.43731156],\n",
       "       [0.09936822],\n",
       "       [0.02349922],\n",
       "       [0.13871641],\n",
       "       [0.04540034],\n",
       "       [0.46108776],\n",
       "       [0.9235793 ],\n",
       "       [0.3801999 ],\n",
       "       [0.8166759 ],\n",
       "       [0.30727488],\n",
       "       [0.97859603],\n",
       "       [0.27591658],\n",
       "       [0.5269312 ],\n",
       "       [0.94744843],\n",
       "       [0.04815984],\n",
       "       [0.02433973],\n",
       "       [0.03192439],\n",
       "       [0.8164142 ],\n",
       "       [0.02777176],\n",
       "       [0.9735574 ],\n",
       "       [0.48291168],\n",
       "       [0.36366922],\n",
       "       [0.9477817 ],\n",
       "       [0.06100775],\n",
       "       [0.19046645],\n",
       "       [0.5719891 ],\n",
       "       [0.9133243 ],\n",
       "       [0.43785772],\n",
       "       [0.5635076 ],\n",
       "       [0.16355324],\n",
       "       [0.10329708],\n",
       "       [0.20750132],\n",
       "       [0.36872363],\n",
       "       [0.71322596],\n",
       "       [0.08891985],\n",
       "       [0.9208895 ],\n",
       "       [0.67281747],\n",
       "       [0.10704685],\n",
       "       [0.24039418],\n",
       "       [0.41008806],\n",
       "       [0.36986732],\n",
       "       [0.97321635],\n",
       "       [0.11401231],\n",
       "       [0.07902513],\n",
       "       [0.975576  ],\n",
       "       [0.27769116],\n",
       "       [0.08962586],\n",
       "       [0.9479567 ],\n",
       "       [0.05257441],\n",
       "       [0.81594276],\n",
       "       [0.07816591],\n",
       "       [0.21425366],\n",
       "       [0.17673647],\n",
       "       [0.42679408],\n",
       "       [0.9768745 ],\n",
       "       [0.19726974],\n",
       "       [0.6272731 ],\n",
       "       [0.02160266],\n",
       "       [0.9781018 ],\n",
       "       [0.07073152],\n",
       "       [0.4841101 ],\n",
       "       [0.66873586],\n",
       "       [0.04108831],\n",
       "       [0.76139873],\n",
       "       [0.03816641],\n",
       "       [0.97138566],\n",
       "       [0.03334183],\n",
       "       [0.737929  ],\n",
       "       [0.24542981],\n",
       "       [0.6264736 ],\n",
       "       [0.0352859 ],\n",
       "       [0.6228487 ],\n",
       "       [0.67976433],\n",
       "       [0.03290959],\n",
       "       [0.00952463],\n",
       "       [0.02657707],\n",
       "       [0.97637105],\n",
       "       [0.07526758],\n",
       "       [0.89700395],\n",
       "       [0.25880906],\n",
       "       [0.07746038],\n",
       "       [0.11533097],\n",
       "       [0.48803368],\n",
       "       [0.07503624],\n",
       "       [0.6277024 ],\n",
       "       [0.08891985],\n",
       "       [0.5100585 ],\n",
       "       [0.9795146 ],\n",
       "       [0.3740403 ],\n",
       "       [0.23907977],\n",
       "       [0.01135138],\n",
       "       [0.22426395],\n",
       "       [0.30219138],\n",
       "       [0.53355414],\n",
       "       [0.96118   ],\n",
       "       [0.5041886 ],\n",
       "       [0.32829413],\n",
       "       [0.873258  ],\n",
       "       [0.15737835],\n",
       "       [0.10088795],\n",
       "       [0.19479324],\n",
       "       [0.10227863],\n",
       "       [0.7098458 ],\n",
       "       [0.21875489],\n",
       "       [0.70940715],\n",
       "       [0.5992137 ],\n",
       "       [0.28915474],\n",
       "       [0.04158904],\n",
       "       [0.43646735],\n",
       "       [0.07027284],\n",
       "       [0.5267037 ],\n",
       "       [0.5548141 ],\n",
       "       [0.22487313],\n",
       "       [0.16612548],\n",
       "       [0.00657475],\n",
       "       [0.9367404 ],\n",
       "       [0.97110426],\n",
       "       [0.9507778 ],\n",
       "       [0.10740728],\n",
       "       [0.32564676],\n",
       "       [0.69867355],\n",
       "       [0.30906692],\n",
       "       [0.06261723],\n",
       "       [0.9726431 ],\n",
       "       [0.9787514 ],\n",
       "       [0.25205776],\n",
       "       [0.04928789],\n",
       "       [0.26630053],\n",
       "       [0.02768934],\n",
       "       [0.06239276],\n",
       "       [0.3606415 ],\n",
       "       [0.9162057 ],\n",
       "       [0.53355414],\n",
       "       [0.47392523],\n",
       "       [0.5008543 ],\n",
       "       [0.19664173],\n",
       "       [0.95753336],\n",
       "       [0.02765947],\n",
       "       [0.01378361],\n",
       "       [0.17986016],\n",
       "       [0.95507985],\n",
       "       [0.9718682 ],\n",
       "       [0.14932819],\n",
       "       [0.30310708],\n",
       "       [0.01786949],\n",
       "       [0.81734675],\n",
       "       [0.623139  ],\n",
       "       [0.20028315],\n",
       "       [0.94533986],\n",
       "       [0.12644541],\n",
       "       [0.95405835],\n",
       "       [0.5569597 ],\n",
       "       [0.10088795],\n",
       "       [0.9684998 ],\n",
       "       [0.9803955 ],\n",
       "       [0.28161266],\n",
       "       [0.7811566 ],\n",
       "       [0.51803035],\n",
       "       [0.27591658],\n",
       "       [0.51179934],\n",
       "       [0.7791102 ],\n",
       "       [0.06372586],\n",
       "       [0.12972476],\n",
       "       [0.81431824],\n",
       "       [0.6219904 ],\n",
       "       [0.9820069 ],\n",
       "       [0.9351693 ],\n",
       "       [0.81431824],\n",
       "       [0.95725363],\n",
       "       [0.4421746 ],\n",
       "       [0.27769116],\n",
       "       [0.0062173 ],\n",
       "       [0.8152795 ],\n",
       "       [0.6384994 ],\n",
       "       [0.40204647],\n",
       "       [0.6917155 ],\n",
       "       [0.8376155 ],\n",
       "       [0.04255866],\n",
       "       [0.9755605 ],\n",
       "       [0.26361308],\n",
       "       [0.16135247],\n",
       "       [0.23000307],\n",
       "       [0.9674213 ],\n",
       "       [0.9291274 ],\n",
       "       [0.62928927],\n",
       "       [0.2346894 ],\n",
       "       [0.9363879 ],\n",
       "       [0.2676652 ],\n",
       "       [0.12781698],\n",
       "       [0.6692084 ],\n",
       "       [0.2346894 ],\n",
       "       [0.43720013],\n",
       "       [0.6347553 ],\n",
       "       [0.15688477],\n",
       "       [0.94106036],\n",
       "       [0.22878794],\n",
       "       [0.23000307],\n",
       "       [0.96562386],\n",
       "       [0.03360127],\n",
       "       [0.02705797],\n",
       "       [0.10378377],\n",
       "       [0.02466363],\n",
       "       [0.38605908],\n",
       "       [0.2794176 ],\n",
       "       [0.30182967],\n",
       "       [0.67180717],\n",
       "       [0.17673647],\n",
       "       [0.54288316],\n",
       "       [0.6190189 ],\n",
       "       [0.7028121 ],\n",
       "       [0.9834246 ],\n",
       "       [0.41008818],\n",
       "       [0.21105583],\n",
       "       [0.10358126],\n",
       "       [0.13114397],\n",
       "       [0.06703404],\n",
       "       [0.10378377],\n",
       "       [0.58114606],\n",
       "       [0.96473724],\n",
       "       [0.18890017],\n",
       "       [0.51196146],\n",
       "       [0.5252364 ],\n",
       "       [0.98163825],\n",
       "       [0.51625466],\n",
       "       [0.62197644],\n",
       "       [0.13444012],\n",
       "       [0.30173403],\n",
       "       [0.6959477 ],\n",
       "       [0.7797544 ],\n",
       "       [0.04270662],\n",
       "       [0.43382767],\n",
       "       [0.92763335],\n",
       "       [0.965681  ]], dtype=float32)"
      ]
     },
     "execution_count": 115,
     "metadata": {},
     "output_type": "execute_result"
    }
   ],
   "source": [
    "## make a prediction\n",
    "Y_pred_ANN= mass_model.predict(X_test)\n",
    "Y_pred_ANN"
   ]
  },
  {
   "cell_type": "code",
   "execution_count": 116,
   "metadata": {},
   "outputs": [],
   "source": [
    "Y_pred_ANN= np.where(Y_pred_ANN>0.5, 1, 0)"
   ]
  },
  {
   "cell_type": "code",
   "execution_count": 117,
   "metadata": {},
   "outputs": [
    {
     "name": "stdout",
     "output_type": "stream",
     "text": [
      "              precision    recall  f1-score   support\n",
      "\n",
      "           0       0.82      0.86      0.84       183\n",
      "           1       0.83      0.78      0.80       157\n",
      "\n",
      "    accuracy                           0.82       340\n",
      "   macro avg       0.82      0.82      0.82       340\n",
      "weighted avg       0.82      0.82      0.82       340\n",
      "\n"
     ]
    }
   ],
   "source": [
    "print(classification_report(Y_test, Y_pred_ANN))"
   ]
  },
  {
   "cell_type": "code",
   "execution_count": 118,
   "metadata": {},
   "outputs": [
    {
     "data": {
      "text/plain": [
       "array([[158,  25],\n",
       "       [ 35, 122]])"
      ]
     },
     "execution_count": 118,
     "metadata": {},
     "output_type": "execute_result"
    }
   ],
   "source": [
    "## calculate the confusion matrix\n",
    "mass_model_CM= confusion_matrix(Y_test, Y_pred_ANN)\n",
    "mass_model_CM"
   ]
  },
  {
   "cell_type": "code",
   "execution_count": 119,
   "metadata": {},
   "outputs": [
    {
     "data": {
      "image/png": "[encoded data removed]",
      "text/plain": [
       "<Figure size 400x400 with 1 Axes>"
      ]
     },
     "metadata": {},
     "output_type": "display_data"
    }
   ],
   "source": [
    "## plot the confusion matrix plot to see this clearly\n",
    "\n",
    "fig, ax = plot_confusion_matrix(conf_mat=mass_model_CM, figsize=(4,4), cmap=\"Greens\")\n",
    "plt.xlabel('Predictions', fontsize = 12)\n",
    "plt.ylabel('Actuals', fontsize = 12)\n",
    "plt.title('Confusion Matrix', fontsize = 18)\n",
    "plt.show()"
   ]
  },
  {
   "cell_type": "code",
   "execution_count": 120,
   "metadata": {},
   "outputs": [
    {
     "data": {
      "image/png": "[encoded data removed]",
      "text/plain": [
       "<Figure size 400x400 with 1 Axes>"
      ]
     },
     "metadata": {},
     "output_type": "display_data"
    }
   ],
   "source": [
    "## plot the matrix as a percentage model\n",
    "\n",
    "mass_model_CM_perct= mass_model_CM.astype('float')/mass_model_CM.sum(axis=1)[:, np.newaxis]* 100\n",
    "\n",
    "fig, ax = plot_confusion_matrix(conf_mat=mass_model_CM_perct, figsize=(4,4))\n",
    "plt.xlabel('Predictions', fontsize = 12)\n",
    "plt.ylabel('Actuals', fontsize = 12)\n",
    "plt.title('Confusion Matrix', fontsize = 18)\n",
    "plt.show()"
   ]
  },
  {
   "cell_type": "code",
   "execution_count": 121,
   "metadata": {},
   "outputs": [
    {
     "data": {
      "image/png": "[encoded data removed]",
      "text/plain": [
       "<Figure size 800x500 with 2 Axes>"
      ]
     },
     "metadata": {},
     "output_type": "display_data"
    }
   ],
   "source": [
    "## another version of confusion matrix with percentage - seaborn works better \n",
    "\n",
    "f, ax = plt.subplots(figsize=(8, 5))\n",
    "sns.heatmap(mass_model_CM_perct, annot=True, linewidths=0.01, cmap=\"BuPu\", linecolor=\"gray\", fmt='.1f', ax=ax)\n",
    "plt.xlabel('Predictions')\n",
    "plt.ylabel('Actuals')\n",
    "plt.title('Confusion Matrix (%)')\n",
    "plt.show()"
   ]
  },
  {
   "cell_type": "markdown",
   "metadata": {},
   "source": [
    "My true negative = looks very good for predicting 157 correctly out of 183  = 85.8%% correct prediction\n",
    "\n",
    "My false positive - Type 1 error = is predicting falsely for only 26 to have cancer, but in fact they are all healthy = 14.2% incorrect prediction\n",
    "\n",
    "My true positive = looks correct for predicting 124 to have cancer correctly out of 157 = 79% correct prediction\n",
    "\n",
    "My false negative - Type 2 error = is predicting falsely for 33 who actually have cancer as healthy = 21% incorrect prediction"
   ]
  },
  {
   "cell_type": "code",
   "execution_count": 122,
   "metadata": {},
   "outputs": [
    {
     "name": "stdout",
     "output_type": "stream",
     "text": [
      "AUC: 0.820229\n"
     ]
    },
    {
     "data": {
      "image/png": "[encoded data removed]",
      "text/plain": [
       "<Figure size 640x480 with 1 Axes>"
      ]
     },
     "metadata": {},
     "output_type": "display_data"
    }
   ],
   "source": [
    "## plot the Area Under the Curver(AUC)\n",
    "auc_mod_ANN= roc_auc_score(Y_test, Y_pred_ANN)\n",
    "print('AUC: %f' %auc_mod_ANN)\n",
    "\n",
    "\n",
    "fpr, tpr = roc_curve(Y_test, Y_pred_ANN)[0:2]\n",
    "plt.plot(fpr, tpr, color='red', label='ROC')\n",
    "plt.plot([0,1], [0,1], color='darkblue', linestyle='--')\n",
    "plt.xlabel('False Positive Rate')\n",
    "plt.ylabel('True Positive Rate')\n",
    "plt.title('ROC')\n",
    "plt.legend()\n",
    "plt.show()"
   ]
  },
  {
   "cell_type": "markdown",
   "metadata": {},
   "source": [
    "ANN for mass_full_data works very well with an accuracy of 83% and AUC score of 0.828"
   ]
  }
 ],
 "metadata": {
  "kernelspec": {
   "display_name": "base",
   "language": "python",
   "name": "python3"
  },
  "language_info": {
   "codemirror_mode": {
    "name": "ipython",
    "version": 3
   },
   "file_extension": ".py",
   "mimetype": "text/x-python",
   "name": "python",
   "nbconvert_exporter": "python",
   "pygments_lexer": "ipython3",
   "version": "3.10.9"
  },
  "orig_nbformat": 4
 },
 "nbformat": 4,
 "nbformat_minor": 2
}
